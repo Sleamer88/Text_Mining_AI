{
 "cells": [
  {
   "metadata": {},
   "cell_type": "markdown",
   "source": "Source: https://www.nltk.org/book/ch01.html",
   "id": "fc25aa57ce78f19b"
  },
  {
   "metadata": {},
   "cell_type": "markdown",
   "source": "1 -> Computing with Language: Texts and Words",
   "id": "f2a78abea7e411a3"
  },
  {
   "metadata": {},
   "cell_type": "markdown",
   "source": "1.1 -> Getting Started with Python",
   "id": "12ae2cf012a49274"
  },
  {
   "metadata": {
    "ExecuteTime": {
     "end_time": "2025-02-13T11:51:59.860Z",
     "start_time": "2025-02-13T11:51:59.856802Z"
    }
   },
   "cell_type": "code",
   "source": "1 + 5 * 2 - 3",
   "id": "initial_id",
   "outputs": [
    {
     "data": {
      "text/plain": [
       "8"
      ]
     },
     "execution_count": 2,
     "metadata": {},
     "output_type": "execute_result"
    }
   ],
   "execution_count": 2
  },
  {
   "metadata": {
    "ExecuteTime": {
     "end_time": "2025-02-13T11:51:59.986672Z",
     "start_time": "2025-02-13T11:51:59.984313Z"
    }
   },
   "cell_type": "code",
   "source": "1 + ",
   "id": "764d491497a03043",
   "outputs": [
    {
     "ename": "SyntaxError",
     "evalue": "invalid syntax (359974965.py, line 1)",
     "output_type": "error",
     "traceback": [
      "\u001B[0;36m  Cell \u001B[0;32mIn[3], line 1\u001B[0;36m\u001B[0m\n\u001B[0;31m    1 +\u001B[0m\n\u001B[0m        ^\u001B[0m\n\u001B[0;31mSyntaxError\u001B[0m\u001B[0;31m:\u001B[0m invalid syntax\n"
     ]
    }
   ],
   "execution_count": 3
  },
  {
   "metadata": {},
   "cell_type": "markdown",
   "source": "1.2 -> Getting Started with NLTK",
   "id": "8f056f9c009500f1"
  },
  {
   "metadata": {
    "ExecuteTime": {
     "end_time": "2025-02-13T11:52:03.742480Z",
     "start_time": "2025-02-13T11:51:59.998240Z"
    }
   },
   "cell_type": "code",
   "source": [
    "import nltk\n",
    "nltk.download()"
   ],
   "id": "2b5879960161e5b7",
   "outputs": [
    {
     "name": "stdout",
     "output_type": "stream",
     "text": [
      "showing info https://raw.githubusercontent.com/nltk/nltk_data/gh-pages/index.xml\n"
     ]
    },
    {
     "data": {
      "text/plain": [
       "True"
      ]
     },
     "execution_count": 4,
     "metadata": {},
     "output_type": "execute_result"
    }
   ],
   "execution_count": 4
  },
  {
   "metadata": {
    "ExecuteTime": {
     "end_time": "2025-02-13T11:52:05.810071Z",
     "start_time": "2025-02-13T11:52:03.743630Z"
    }
   },
   "cell_type": "code",
   "source": "from nltk.book import *",
   "id": "86bd90c00c9ea73",
   "outputs": [
    {
     "name": "stdout",
     "output_type": "stream",
     "text": [
      "*** Introductory Examples for the NLTK Book ***\n",
      "Loading text1, ..., text9 and sent1, ..., sent9\n",
      "Type the name of the text or sentence to view it.\n",
      "Type: 'texts()' or 'sents()' to list the materials.\n",
      "text1: Moby Dick by Herman Melville 1851\n",
      "text2: Sense and Sensibility by Jane Austen 1811\n",
      "text3: The Book of Genesis\n",
      "text4: Inaugural Address Corpus\n",
      "text5: Chat Corpus\n",
      "text6: Monty Python and the Holy Grail\n",
      "text7: Wall Street Journal\n",
      "text8: Personals Corpus\n",
      "text9: The Man Who Was Thursday by G . K . Chesterton 1908\n"
     ]
    }
   ],
   "execution_count": 5
  },
  {
   "metadata": {
    "ExecuteTime": {
     "end_time": "2025-02-13T11:52:05.812814Z",
     "start_time": "2025-02-13T11:52:05.810714Z"
    }
   },
   "cell_type": "code",
   "source": [
    "print(text1)\n",
    "text2"
   ],
   "id": "acd5109abe240e93",
   "outputs": [
    {
     "name": "stdout",
     "output_type": "stream",
     "text": [
      "<Text: Moby Dick by Herman Melville 1851>\n"
     ]
    },
    {
     "data": {
      "text/plain": [
       "<Text: Sense and Sensibility by Jane Austen 1811>"
      ]
     },
     "execution_count": 6,
     "metadata": {},
     "output_type": "execute_result"
    }
   ],
   "execution_count": 6
  },
  {
   "metadata": {},
   "cell_type": "markdown",
   "source": "1.3 -> Searching Text",
   "id": "31b0a7154b8fc8"
  },
  {
   "metadata": {
    "ExecuteTime": {
     "end_time": "2025-02-13T11:52:05.874441Z",
     "start_time": "2025-02-13T11:52:05.813941Z"
    }
   },
   "cell_type": "code",
   "source": "text1.concordance(\"monstrous\")",
   "id": "7483cecda1752884",
   "outputs": [
    {
     "name": "stdout",
     "output_type": "stream",
     "text": [
      "Displaying 11 of 11 matches:\n",
      "ong the former , one was of a most monstrous size . ... This came towards us , \n",
      "ON OF THE PSALMS . \" Touching that monstrous bulk of the whale or ork we have r\n",
      "ll over with a heathenish array of monstrous clubs and spears . Some were thick\n",
      "d as you gazed , and wondered what monstrous cannibal and savage could ever hav\n",
      "that has survived the flood ; most monstrous and most mountainous ! That Himmal\n",
      "they might scout at Moby Dick as a monstrous fable , or still worse and more de\n",
      "th of Radney .'\" CHAPTER 55 Of the Monstrous Pictures of Whales . I shall ere l\n",
      "ing Scenes . In connexion with the monstrous pictures of whales , I am strongly\n",
      "ere to enter upon those still more monstrous stories of them which are to be fo\n",
      "ght have been rummaged out of this monstrous cabinet there is no telling . But \n",
      "of Whale - Bones ; for Whales of a monstrous size are oftentimes cast up dead u\n"
     ]
    }
   ],
   "execution_count": 7
  },
  {
   "metadata": {
    "ExecuteTime": {
     "end_time": "2025-02-13T11:52:05.895269Z",
     "start_time": "2025-02-13T11:52:05.875012Z"
    }
   },
   "cell_type": "code",
   "source": "text2.concordance(\"affection\")",
   "id": "aee3843e2508ead3",
   "outputs": [
    {
     "name": "stdout",
     "output_type": "stream",
     "text": [
      "Displaying 25 of 79 matches:\n",
      ", however , and , as a mark of his affection for the three girls , he left them\n",
      "t . It was very well known that no affection was ever supposed to exist between\n",
      "deration of politeness or maternal affection on the side of the former , the tw\n",
      "d the suspicion -- the hope of his affection for me may warrant , without impru\n",
      "hich forbade the indulgence of his affection . She knew that his mother neither\n",
      "rd she gave one with still greater affection . Though her late conversation wit\n",
      " can never hope to feel or inspire affection again , and if her home be uncomfo\n",
      "m of the sense , elegance , mutual affection , and domestic comfort of the fami\n",
      ", and which recommended him to her affection beyond every thing else . His soci\n",
      "ween the parties might forward the affection of Mr . Willoughby , an equally st\n",
      " the most pointed assurance of her affection . Elinor could not be surprised at\n",
      "he natural consequence of a strong affection in a young and ardent mind . This \n",
      " opinion . But by an appeal to her affection for her mother , by representing t\n",
      " every alteration of a place which affection had established as perfect with hi\n",
      "e will always have one claim of my affection , which no other can possibly shar\n",
      "f the evening declared at once his affection and happiness . \" Shall we see you\n",
      "ause he took leave of us with less affection than his usual behaviour has shewn\n",
      "ness .\" \" I want no proof of their affection ,\" said Elinor ; \" but of their en\n",
      "onths , without telling her of his affection ;-- that they should part without \n",
      "ould be the natural result of your affection for her . She used to be all unres\n",
      "distinguished Elinor by no mark of affection . Marianne saw and listened with i\n",
      "th no inclination for expense , no affection for strangers , no profession , an\n",
      "till distinguished her by the same affection which once she had felt no doubt o\n",
      "al of her confidence in Edward ' s affection , to the remembrance of every mark\n",
      " was made ? Had he never owned his affection to yourself ?\" \" Oh , no ; but if \n"
     ]
    }
   ],
   "execution_count": 8
  },
  {
   "metadata": {
    "ExecuteTime": {
     "end_time": "2025-02-13T11:52:05.904085Z",
     "start_time": "2025-02-13T11:52:05.895858Z"
    }
   },
   "cell_type": "code",
   "source": [
    "print(text3)\n",
    "print()\n",
    "text3.concordance(\"lived\")"
   ],
   "id": "a40f0780c0710079",
   "outputs": [
    {
     "name": "stdout",
     "output_type": "stream",
     "text": [
      "<Text: The Book of Genesis>\n",
      "\n",
      "Displaying 25 of 38 matches:\n",
      "ay when they were created . And Adam lived an hundred and thirty years , and be\n",
      "ughters : And all the days that Adam lived were nine hundred and thirty yea and\n",
      "nd thirty yea and he died . And Seth lived an hundred and five years , and bega\n",
      "ve years , and begat Enos : And Seth lived after he begat Enos eight hundred an\n",
      "welve years : and he died . And Enos lived ninety years , and begat Cainan : An\n",
      " years , and begat Cainan : And Enos lived after he begat Cainan eight hundred \n",
      "ive years : and he died . And Cainan lived seventy years and begat Mahalaleel :\n",
      "rs and begat Mahalaleel : And Cainan lived after he begat Mahalaleel eight hund\n",
      "years : and he died . And Mahalaleel lived sixty and five years , and begat Jar\n",
      "s , and begat Jared : And Mahalaleel lived after he begat Jared eight hundred a\n",
      "and five yea and he died . And Jared lived an hundred sixty and two years , and\n",
      "o years , and he begat Eno And Jared lived after he begat Enoch eight hundred y\n",
      " and two yea and he died . And Enoch lived sixty and five years , and begat Met\n",
      " ; for God took him . And Methuselah lived an hundred eighty and seven years , \n",
      " , and begat Lamech . And Methuselah lived after he begat Lamech seven hundred \n",
      "nd nine yea and he died . And Lamech lived an hundred eighty and two years , an\n",
      "ch the LORD hath cursed . And Lamech lived after he begat Noah five hundred nin\n",
      "naan shall be his servant . And Noah lived after the flood three hundred and fi\n",
      "xad two years after the flo And Shem lived after he begat Arphaxad five hundred\n",
      "at sons and daughters . And Arphaxad lived five and thirty years , and begat Sa\n",
      "ars , and begat Salah : And Arphaxad lived after he begat Salah four hundred an\n",
      "begat sons and daughters . And Salah lived thirty years , and begat Eber : And \n",
      "y years , and begat Eber : And Salah lived after he begat Eber four hundred and\n",
      " begat sons and daughters . And Eber lived four and thirty years , and begat Pe\n",
      "y years , and begat Peleg : And Eber lived after he begat Peleg four hundred an\n"
     ]
    }
   ],
   "execution_count": 9
  },
  {
   "metadata": {
    "ExecuteTime": {
     "end_time": "2025-02-13T11:52:05.931359Z",
     "start_time": "2025-02-13T11:52:05.904647Z"
    }
   },
   "cell_type": "code",
   "source": [
    "print(text4)\n",
    "print()\n",
    "text4.concordance(\"nation\")"
   ],
   "id": "2b1123bd9ebf9dad",
   "outputs": [
    {
     "name": "stdout",
     "output_type": "stream",
     "text": [
      "<Text: Inaugural Address Corpus>\n",
      "\n",
      "Displaying 25 of 330 matches:\n",
      " to the character of an independent nation seems to have been distinguished by\n",
      "f Heaven can never be expected on a nation that disregards the eternal rules o\n",
      "first , the representatives of this nation , then consisting of little more th\n",
      ", situation , and relations of this nation and country than any which had ever\n",
      ", prosperity , and happiness of the nation I have acquired an habitual attachm\n",
      "an be no spectacle presented by any nation more pleasing , more noble , majest\n",
      "party for its own ends , not of the nation for the national good . If that sol\n",
      "tures and the people throughout the nation . On this subject it might become m\n",
      "if a personal esteem for the French nation , formed in a residence of seven ye\n",
      "f our fellow - citizens by whatever nation , and if success can not be obtaine\n",
      "y , continue His blessing upon this nation and its Government and give it all \n",
      "powers so justly inspire . A rising nation , spread over a wide and fruitful l\n",
      "ing now decided by the voice of the nation , announced according to the rules \n",
      "ars witness to the fact that a just nation is trusted on its word when recours\n",
      "e union of opinion which gives to a nation the blessing of harmony and the ben\n",
      "uil suffrage of a free and virtuous nation , would under any circumstances hav\n",
      "d spirit and united councils of the nation will be safeguards to its honor and\n",
      "iction that the war with a powerful nation , which forms so prominent a featur\n",
      "out breaking down the spirit of the nation , destroying all confidence in itse\n",
      "ed on the military resources of the nation . These resources are amply suffici\n",
      "the war to an honorable issue . Our nation is in number more than half that of\n",
      "ndividually have been happy and the nation prosperous . Under this Constitutio\n",
      "rights , and is able to protect the nation against injustice from foreign powe\n",
      " great agricultural interest of the nation prospers under its protection . Loc\n",
      "ak our Union , and demolish us as a nation . Our distance from Europe and the \n"
     ]
    }
   ],
   "execution_count": 10
  },
  {
   "metadata": {
    "ExecuteTime": {
     "end_time": "2025-02-13T11:52:05.934044Z",
     "start_time": "2025-02-13T11:52:05.932076Z"
    }
   },
   "cell_type": "code",
   "source": "text4.concordance(\"terror\")",
   "id": "83a5a17d1683b7bd",
   "outputs": [
    {
     "name": "stdout",
     "output_type": "stream",
     "text": [
      "Displaying 8 of 8 matches:\n",
      "menaces , by fraud or violence , by terror , intrigue , or venality , the Gove\n",
      "ameless , unreasoning , unjustified terror which paralyzes needed efforts to c\n",
      "ublic seemed frozen by a fatalistic terror , we proved that this is not true .\n",
      " to alter that uncertain balance of terror that stays the hand of mankind ' s \n",
      "eans freeing all Americans from the terror of runaway living costs . All must \n",
      "still . They fuel the fanaticism of terror . And they torment the lives of mil\n",
      "d maintain a strong defense against terror and destruction . Our children will\n",
      "k to advance their aims by inducing terror and slaughtering innocents , we say\n"
     ]
    }
   ],
   "execution_count": 11
  },
  {
   "metadata": {
    "ExecuteTime": {
     "end_time": "2025-02-13T11:52:05.943623Z",
     "start_time": "2025-02-13T11:52:05.934578Z"
    }
   },
   "cell_type": "code",
   "source": [
    "print(text5)\n",
    "print()\n",
    "text5.concordance(\"im\")"
   ],
   "id": "773d8736acb7d6fc",
   "outputs": [
    {
     "name": "stdout",
     "output_type": "stream",
     "text": [
      "<Text: Chat Corpus>\n",
      "\n",
      "Displaying 25 of 149 matches:\n",
      "                                  now im left with this gay name :P PART hey e\n",
      "what did you but on e-bay i feel like im in the wrong room yeee haw U30 im con\n",
      "ike im in the wrong room yeee haw U30 im considering changing my nickname to \"\n",
      " the hell outta my freaking PM box .. Im with my fiance !!!!!!!!!!!!!!!! answe\n",
      "m impressed . PART hiya room lmao !!! im doin alright thanks omg Finger .. Dee\n",
      "th lol JOIN so read it . thanks U7 .. Im happy to have my fiance here !! forwa\n",
      "i didnt me phone you . . . sheesh now im that phone perv guy lets hope not U12\n",
      "to spain ? i need to go this summer . im a HUGE phone perv ok seriously who wa\n",
      "an ... . ACTION video tapes . hey U20 Im blind now . ACTION has left the room \n",
      "T u got that right , i dont do shit , im the supervisor Hello U165 . hey U165 \n",
      " him in the \" untouchable \" list U115 im good U6 lmao U7 how r u U128 hehe how\n",
      "can I ask where ya all are from ..... im here in kentucky as I said ... too wi\n",
      "ic but had to resize and stuff U37 no im an equal oppertunity hater LOL Hi , U\n",
      "he cover weeeeeeeee thanks U19 ! PART im out in cal now U3 looking at some new\n",
      " :) hi U58 lol wb U29 hi U29 U13 .... im down to time now PART Hello U24 , wel\n",
      ", I 'd never kick you outta my box hi im good thanks U16 yerself ?? PART inter\n",
      "ke wth . . who are you even ty U34 yw Im glad he 's back . awwww U16 i like ps\n",
      " ha U23 !!! wow ... are you the U39 ? Im talkin about all yer typin . . It 's \n",
      "... you ??? Apparently , I 'm not U41 im good U23 dear . How are you U23 ~wink\n",
      "~ U35 ... I love that 5 am phone call im good ... me and eric r back together \n",
      " , I am happy . You know i LuverZ YOU im the same busy busy oh ok then U1 nm l\n",
      "))) . ACTION stretches . ty U19 Ugh , Im so sore ! Repeatedly , with a big sti\n",
      "'m a size queen U41 Why U45 ? naw U23 im cheating on you with Jayse hes hawt t\n",
      "oeer is sum1 gonna ghet fuked up ? :) im always hungry yeah U45 .. i believe i\n",
      "without first asking permission . U35 im sorry U35 i tried to refrain me too U\n"
     ]
    }
   ],
   "execution_count": 12
  },
  {
   "metadata": {
    "ExecuteTime": {
     "end_time": "2025-02-13T11:52:05.953590Z",
     "start_time": "2025-02-13T11:52:05.945384Z"
    }
   },
   "cell_type": "code",
   "source": [
    "print(text5)\n",
    "print()\n",
    "text5.concordance(\"lol\")"
   ],
   "id": "72afc4f7ac2d2a25",
   "outputs": [
    {
     "name": "stdout",
     "output_type": "stream",
     "text": [
      "<Text: Chat Corpus>\n",
      "\n",
      "Displaying 25 of 822 matches:\n",
      "ast PART 24 / m boo . 26 / m and sexy lol U115 boo . JOIN PART he drew a girl w\n",
      "ope he didnt draw a penis PART ewwwww lol & a head between her legs JOIN JOIN s\n",
      "a bowl i got a blunt an a bong ...... lol JOIN well , glad it worked out my cha\n",
      "e \" PART Hi U121 in ny . ACTION would lol @ U121 . . . but appearently she does\n",
      "30 make sure u buy a nice ring for U6 lol U7 Hi U115 . ACTION isnt falling for \n",
      " didnt ya hear !!!! PART JOIN geeshhh lol U6 PART hes deaf ppl here dont get it\n",
      "es nobody here i wanna misbeahve with lol JOIN so read it . thanks U7 .. Im hap\n",
      "ies want to chat can i talk to him !! lol U121 !!! forwards too lol JOIN ALL PE\n",
      "k to him !! lol U121 !!! forwards too lol JOIN ALL PErvs ... redirect to U121 '\n",
      " loves ME the most i love myself JOIN lol U44 how do u know that what ? jerkett\n",
      "ng wrong ... i can see it in his eyes lol U20 = fiance Jerketts lmao wtf yah I \n",
      "cooler by the minute what 'd I miss ? lol noo there too much work ! why not ?? \n",
      " that mean I want you ? U6 hello room lol U83 and this .. has been the grammar \n",
      " the rule he 's in PM land now though lol ah ok i wont bug em then someone wann\n",
      "flight to hell :) lmao bbl maybe PART LOL lol U7 it was me , U83 hahah U83 ! 80\n",
      "ht to hell :) lmao bbl maybe PART LOL lol U7 it was me , U83 hahah U83 ! 808265\n",
      "082653953 K-Fed got his ass kicked .. Lol . ACTION laughs . i got a first class\n",
      " . i got a first class ticket to hell lol U7 JOIN any texas girls in here ? any\n",
      " . whats up U155 i was only kidding . lol he 's a douchebag . Poor U121 i 'm bo\n",
      " ??? sits with U30 Cum to my shower . lol U121 . ACTION U1370 watches his nads \n",
      " ur nad with a stick . ca u U23 ewwww lol *sniffs* ewwwwww PART U115 ! owww spl\n",
      "ACTION is resisting . ur female right lol U115 beeeeehave Remember the LAst tim\n",
      "pm's me . charge that is 1.99 / min . lol @ innocent hahah lol .... yeah LOLOLO\n",
      " is 1.99 / min . lol @ innocent hahah lol .... yeah LOLOLOLLL U12 thats not nic\n",
      "s . lmao no U115 Check my record . :) Lol lick em U7 U23 how old r u lol Way to\n"
     ]
    }
   ],
   "execution_count": 13
  },
  {
   "metadata": {
    "ExecuteTime": {
     "end_time": "2025-02-13T11:52:05.955646Z",
     "start_time": "2025-02-13T11:52:05.954023Z"
    }
   },
   "cell_type": "code",
   "source": [
    "print(text5)\n",
    "print()\n",
    "text5.concordance(\"ur\")"
   ],
   "id": "822d25bdd774a128",
   "outputs": [
    {
     "name": "stdout",
     "output_type": "stream",
     "text": [
      "<Text: Chat Corpus>\n",
      "\n",
      "Displaying 21 of 21 matches:\n",
      "k up PART no i dont want daughters !! ur annoying . ACTION Now Playing - Cradl\n",
      "ooo U92 !!!!!! . ACTION U1370 watches ur nad with a stick . ca u U23 ewwww lol\n",
      "er lip . Meep . ACTION is resisting . ur female right lol U115 beeeeehave Reme\n",
      " geeshh ... two kids fighting ! whats ur major i probably sucks in summer too \n",
      "II Men scorpions rock ... lol what is ur job me too U11 hehe went to manhattan\n",
      "e no one i like to say if u have done ur time then that is that U42 Ok U37 , i\n",
      "hat a ride JOIN ty ty cheers babes .. ur the first to follow up with the pseud\n",
      " charger \\ty LoL yeah ;-) well i hope ur doing ok .. i 'm dojn fine babe . . g\n",
      " gonna rock up soojn and rob u of all ur ' candy ' :) as long as you are happy\n",
      "genital warts ? LoL moped U28 ?.. ohh ur a real man i had a moped once yup heh\n",
      "b-day is in 5 days =( PART LOL U35 no ur nawt yup your gay lmao U37 dang come \n",
      " people talk to me anymore oh because ur gay . PART PART . ACTION = U58 . Man \n",
      " om hi U73 heya U7 ! h shit i get all ur money now fawker ok girl lol JOIN ed \n",
      "hat tired huh U66 ? lol U75 ... bring ur pillow get comfy U70 yep , off to bed\n",
      "talked to hi sean . ACTION whispers : ur a douche . who PART . ACTION whispers\n",
      "ew england usa ? U7 .. it adds wax to ur clothes .. u think cottons breathe ?.\n",
      "ver knew what flavor to get specially ur towels lol U31 < whistles > U34 U39 I\n",
      "cks out U7 s pic JOIN PART U41 Hi U41 ur gettin pretty savvy there U39 ahhh ..\n",
      "om ? brb U30 a week .. heck a day and ur problem there , U30 ??? Hi U34 hartfo\n",
      " JOIN U57 Whats really good room JOIN ur telllin me hey any uk girls her ? JOI\n",
      "JOIN PART JOIN JOIN yea guitar rocker ur kool u lil guitar rocker PART whats e\n"
     ]
    }
   ],
   "execution_count": 14
  },
  {
   "metadata": {
    "ExecuteTime": {
     "end_time": "2025-02-13T11:52:06.648580Z",
     "start_time": "2025-02-13T11:52:05.956075Z"
    }
   },
   "cell_type": "code",
   "source": [
    "print(text1)\n",
    "print()\n",
    "text1.similar(\"monstrous\")"
   ],
   "id": "159cfc6d1c39bb43",
   "outputs": [
    {
     "name": "stdout",
     "output_type": "stream",
     "text": [
      "<Text: Moby Dick by Herman Melville 1851>\n",
      "\n",
      "true contemptible christian abundant few part mean careful puzzled\n",
      "mystifying passing curious loving wise doleful gamesome singular\n",
      "delightfully perilous fearless\n"
     ]
    }
   ],
   "execution_count": 15
  },
  {
   "metadata": {
    "ExecuteTime": {
     "end_time": "2025-02-13T11:52:06.991389Z",
     "start_time": "2025-02-13T11:52:06.649270Z"
    }
   },
   "cell_type": "code",
   "source": [
    "print(text2)\n",
    "print()\n",
    "print(text2.similar(\"monstrous\"))\n",
    "print()\n",
    "print(text2.similar(\"very\"))"
   ],
   "id": "11e2bcad74f8582a",
   "outputs": [
    {
     "name": "stdout",
     "output_type": "stream",
     "text": [
      "<Text: Sense and Sensibility by Jane Austen 1811>\n",
      "\n",
      "very so exceedingly heartily a as good great extremely remarkably\n",
      "sweet vast amazingly\n",
      "None\n",
      "\n",
      "so as too a not monstrous the was more most how last exceedingly her\n",
      "it only first will perfectly cottage\n",
      "None\n"
     ]
    }
   ],
   "execution_count": 16
  },
  {
   "metadata": {
    "ExecuteTime": {
     "end_time": "2025-02-13T11:52:06.993805Z",
     "start_time": "2025-02-13T11:52:06.991970Z"
    }
   },
   "cell_type": "code",
   "source": "text2.common_contexts([\"monstrous\", \"very\"])",
   "id": "ee78b879f2a914ca",
   "outputs": [
    {
     "name": "stdout",
     "output_type": "stream",
     "text": [
      "am_glad a_pretty a_lucky is_pretty be_glad\n"
     ]
    }
   ],
   "execution_count": 17
  },
  {
   "metadata": {
    "ExecuteTime": {
     "end_time": "2025-02-13T11:52:06.995791Z",
     "start_time": "2025-02-13T11:52:06.994290Z"
    }
   },
   "cell_type": "code",
   "source": "text2.common_contexts([\"affection\",\"assurance\"])",
   "id": "480707a83ccc07d9",
   "outputs": [
    {
     "name": "stdout",
     "output_type": "stream",
     "text": [
      "the_of\n"
     ]
    }
   ],
   "execution_count": 18
  },
  {
   "metadata": {
    "ExecuteTime": {
     "end_time": "2025-02-13T11:52:06.997706Z",
     "start_time": "2025-02-13T11:52:06.996280Z"
    }
   },
   "cell_type": "code",
   "source": "text2.common_contexts([\"sisters\",\"family\"])",
   "id": "bb6c0961de847352",
   "outputs": [
    {
     "name": "stdout",
     "output_type": "stream",
     "text": [
      "her_had her_were his_for his_and your_in her_in your_i own_she\n",
      "the_were their_and\n"
     ]
    }
   ],
   "execution_count": 19
  },
  {
   "metadata": {
    "ExecuteTime": {
     "end_time": "2025-02-13T11:52:07.002853Z",
     "start_time": "2025-02-13T11:52:06.998096Z"
    }
   },
   "cell_type": "code",
   "source": "text2.tokens",
   "id": "cefd28e0c423f18d",
   "outputs": [
    {
     "data": {
      "text/plain": [
       "['[',\n",
       " 'Sense',\n",
       " 'and',\n",
       " 'Sensibility',\n",
       " 'by',\n",
       " 'Jane',\n",
       " 'Austen',\n",
       " '1811',\n",
       " ']',\n",
       " 'CHAPTER',\n",
       " '1',\n",
       " 'The',\n",
       " 'family',\n",
       " 'of',\n",
       " 'Dashwood',\n",
       " 'had',\n",
       " 'long',\n",
       " 'been',\n",
       " 'settled',\n",
       " 'in',\n",
       " 'Sussex',\n",
       " '.',\n",
       " 'Their',\n",
       " 'estate',\n",
       " 'was',\n",
       " 'large',\n",
       " ',',\n",
       " 'and',\n",
       " 'their',\n",
       " 'residence',\n",
       " 'was',\n",
       " 'at',\n",
       " 'Norland',\n",
       " 'Park',\n",
       " ',',\n",
       " 'in',\n",
       " 'the',\n",
       " 'centre',\n",
       " 'of',\n",
       " 'their',\n",
       " 'property',\n",
       " ',',\n",
       " 'where',\n",
       " ',',\n",
       " 'for',\n",
       " 'many',\n",
       " 'generations',\n",
       " ',',\n",
       " 'they',\n",
       " 'had',\n",
       " 'lived',\n",
       " 'in',\n",
       " 'so',\n",
       " 'respectable',\n",
       " 'a',\n",
       " 'manner',\n",
       " 'as',\n",
       " 'to',\n",
       " 'engage',\n",
       " 'the',\n",
       " 'general',\n",
       " 'good',\n",
       " 'opinion',\n",
       " 'of',\n",
       " 'their',\n",
       " 'surrounding',\n",
       " 'acquaintance',\n",
       " '.',\n",
       " 'The',\n",
       " 'late',\n",
       " 'owner',\n",
       " 'of',\n",
       " 'this',\n",
       " 'estate',\n",
       " 'was',\n",
       " 'a',\n",
       " 'single',\n",
       " 'man',\n",
       " ',',\n",
       " 'who',\n",
       " 'lived',\n",
       " 'to',\n",
       " 'a',\n",
       " 'very',\n",
       " 'advanced',\n",
       " 'age',\n",
       " ',',\n",
       " 'and',\n",
       " 'who',\n",
       " 'for',\n",
       " 'many',\n",
       " 'years',\n",
       " 'of',\n",
       " 'his',\n",
       " 'life',\n",
       " ',',\n",
       " 'had',\n",
       " 'a',\n",
       " 'constant',\n",
       " 'companion',\n",
       " 'and',\n",
       " 'housekeeper',\n",
       " 'in',\n",
       " 'his',\n",
       " 'sister',\n",
       " '.',\n",
       " 'But',\n",
       " 'her',\n",
       " 'death',\n",
       " ',',\n",
       " 'which',\n",
       " 'happened',\n",
       " 'ten',\n",
       " 'years',\n",
       " 'before',\n",
       " 'his',\n",
       " 'own',\n",
       " ',',\n",
       " 'produced',\n",
       " 'a',\n",
       " 'great',\n",
       " 'alteration',\n",
       " 'in',\n",
       " 'his',\n",
       " 'home',\n",
       " ';',\n",
       " 'for',\n",
       " 'to',\n",
       " 'supply',\n",
       " 'her',\n",
       " 'loss',\n",
       " ',',\n",
       " 'he',\n",
       " 'invited',\n",
       " 'and',\n",
       " 'received',\n",
       " 'into',\n",
       " 'his',\n",
       " 'house',\n",
       " 'the',\n",
       " 'family',\n",
       " 'of',\n",
       " 'his',\n",
       " 'nephew',\n",
       " 'Mr',\n",
       " '.',\n",
       " 'Henry',\n",
       " 'Dashwood',\n",
       " ',',\n",
       " 'the',\n",
       " 'legal',\n",
       " 'inheritor',\n",
       " 'of',\n",
       " 'the',\n",
       " 'Norland',\n",
       " 'estate',\n",
       " ',',\n",
       " 'and',\n",
       " 'the',\n",
       " 'person',\n",
       " 'to',\n",
       " 'whom',\n",
       " 'he',\n",
       " 'intended',\n",
       " 'to',\n",
       " 'bequeath',\n",
       " 'it',\n",
       " '.',\n",
       " 'In',\n",
       " 'the',\n",
       " 'society',\n",
       " 'of',\n",
       " 'his',\n",
       " 'nephew',\n",
       " 'and',\n",
       " 'niece',\n",
       " ',',\n",
       " 'and',\n",
       " 'their',\n",
       " 'children',\n",
       " ',',\n",
       " 'the',\n",
       " 'old',\n",
       " 'Gentleman',\n",
       " \"'\",\n",
       " 's',\n",
       " 'days',\n",
       " 'were',\n",
       " 'comfortably',\n",
       " 'spent',\n",
       " '.',\n",
       " 'His',\n",
       " 'attachment',\n",
       " 'to',\n",
       " 'them',\n",
       " 'all',\n",
       " 'increased',\n",
       " '.',\n",
       " 'The',\n",
       " 'constant',\n",
       " 'attention',\n",
       " 'of',\n",
       " 'Mr',\n",
       " '.',\n",
       " 'and',\n",
       " 'Mrs',\n",
       " '.',\n",
       " 'Henry',\n",
       " 'Dashwood',\n",
       " 'to',\n",
       " 'his',\n",
       " 'wishes',\n",
       " ',',\n",
       " 'which',\n",
       " 'proceeded',\n",
       " 'not',\n",
       " 'merely',\n",
       " 'from',\n",
       " 'interest',\n",
       " ',',\n",
       " 'but',\n",
       " 'from',\n",
       " 'goodness',\n",
       " 'of',\n",
       " 'heart',\n",
       " ',',\n",
       " 'gave',\n",
       " 'him',\n",
       " 'every',\n",
       " 'degree',\n",
       " 'of',\n",
       " 'solid',\n",
       " 'comfort',\n",
       " 'which',\n",
       " 'his',\n",
       " 'age',\n",
       " 'could',\n",
       " 'receive',\n",
       " ';',\n",
       " 'and',\n",
       " 'the',\n",
       " 'cheerfulness',\n",
       " 'of',\n",
       " 'the',\n",
       " 'children',\n",
       " 'added',\n",
       " 'a',\n",
       " 'relish',\n",
       " 'to',\n",
       " 'his',\n",
       " 'existence',\n",
       " '.',\n",
       " 'By',\n",
       " 'a',\n",
       " 'former',\n",
       " 'marriage',\n",
       " ',',\n",
       " 'Mr',\n",
       " '.',\n",
       " 'Henry',\n",
       " 'Dashwood',\n",
       " 'had',\n",
       " 'one',\n",
       " 'son',\n",
       " ':',\n",
       " 'by',\n",
       " 'his',\n",
       " 'present',\n",
       " 'lady',\n",
       " ',',\n",
       " 'three',\n",
       " 'daughters',\n",
       " '.',\n",
       " 'The',\n",
       " 'son',\n",
       " ',',\n",
       " 'a',\n",
       " 'steady',\n",
       " 'respectable',\n",
       " 'young',\n",
       " 'man',\n",
       " ',',\n",
       " 'was',\n",
       " 'amply',\n",
       " 'provided',\n",
       " 'for',\n",
       " 'by',\n",
       " 'the',\n",
       " 'fortune',\n",
       " 'of',\n",
       " 'his',\n",
       " 'mother',\n",
       " ',',\n",
       " 'which',\n",
       " 'had',\n",
       " 'been',\n",
       " 'large',\n",
       " ',',\n",
       " 'and',\n",
       " 'half',\n",
       " 'of',\n",
       " 'which',\n",
       " 'devolved',\n",
       " 'on',\n",
       " 'him',\n",
       " 'on',\n",
       " 'his',\n",
       " 'coming',\n",
       " 'of',\n",
       " 'age',\n",
       " '.',\n",
       " 'By',\n",
       " 'his',\n",
       " 'own',\n",
       " 'marriage',\n",
       " ',',\n",
       " 'likewise',\n",
       " ',',\n",
       " 'which',\n",
       " 'happened',\n",
       " 'soon',\n",
       " 'afterwards',\n",
       " ',',\n",
       " 'he',\n",
       " 'added',\n",
       " 'to',\n",
       " 'his',\n",
       " 'wealth',\n",
       " '.',\n",
       " 'To',\n",
       " 'him',\n",
       " 'therefore',\n",
       " 'the',\n",
       " 'succession',\n",
       " 'to',\n",
       " 'the',\n",
       " 'Norland',\n",
       " 'estate',\n",
       " 'was',\n",
       " 'not',\n",
       " 'so',\n",
       " 'really',\n",
       " 'important',\n",
       " 'as',\n",
       " 'to',\n",
       " 'his',\n",
       " 'sisters',\n",
       " ';',\n",
       " 'for',\n",
       " 'their',\n",
       " 'fortune',\n",
       " ',',\n",
       " 'independent',\n",
       " 'of',\n",
       " 'what',\n",
       " 'might',\n",
       " 'arise',\n",
       " 'to',\n",
       " 'them',\n",
       " 'from',\n",
       " 'their',\n",
       " 'father',\n",
       " \"'\",\n",
       " 's',\n",
       " 'inheriting',\n",
       " 'that',\n",
       " 'property',\n",
       " ',',\n",
       " 'could',\n",
       " 'be',\n",
       " 'but',\n",
       " 'small',\n",
       " '.',\n",
       " 'Their',\n",
       " 'mother',\n",
       " 'had',\n",
       " 'nothing',\n",
       " ',',\n",
       " 'and',\n",
       " 'their',\n",
       " 'father',\n",
       " 'only',\n",
       " 'seven',\n",
       " 'thousand',\n",
       " 'pounds',\n",
       " 'in',\n",
       " 'his',\n",
       " 'own',\n",
       " 'disposal',\n",
       " ';',\n",
       " 'for',\n",
       " 'the',\n",
       " 'remaining',\n",
       " 'moiety',\n",
       " 'of',\n",
       " 'his',\n",
       " 'first',\n",
       " 'wife',\n",
       " \"'\",\n",
       " 's',\n",
       " 'fortune',\n",
       " 'was',\n",
       " 'also',\n",
       " 'secured',\n",
       " 'to',\n",
       " 'her',\n",
       " 'child',\n",
       " ',',\n",
       " 'and',\n",
       " 'he',\n",
       " 'had',\n",
       " 'only',\n",
       " 'a',\n",
       " 'life',\n",
       " '-',\n",
       " 'interest',\n",
       " 'in',\n",
       " 'it',\n",
       " '.',\n",
       " 'The',\n",
       " 'old',\n",
       " 'gentleman',\n",
       " 'died',\n",
       " ':',\n",
       " 'his',\n",
       " 'will',\n",
       " 'was',\n",
       " 'read',\n",
       " ',',\n",
       " 'and',\n",
       " 'like',\n",
       " 'almost',\n",
       " 'every',\n",
       " 'other',\n",
       " 'will',\n",
       " ',',\n",
       " 'gave',\n",
       " 'as',\n",
       " 'much',\n",
       " 'disappointment',\n",
       " 'as',\n",
       " 'pleasure',\n",
       " '.',\n",
       " 'He',\n",
       " 'was',\n",
       " 'neither',\n",
       " 'so',\n",
       " 'unjust',\n",
       " ',',\n",
       " 'nor',\n",
       " 'so',\n",
       " 'ungrateful',\n",
       " ',',\n",
       " 'as',\n",
       " 'to',\n",
       " 'leave',\n",
       " 'his',\n",
       " 'estate',\n",
       " 'from',\n",
       " 'his',\n",
       " 'nephew',\n",
       " ';--',\n",
       " 'but',\n",
       " 'he',\n",
       " 'left',\n",
       " 'it',\n",
       " 'to',\n",
       " 'him',\n",
       " 'on',\n",
       " 'such',\n",
       " 'terms',\n",
       " 'as',\n",
       " 'destroyed',\n",
       " 'half',\n",
       " 'the',\n",
       " 'value',\n",
       " 'of',\n",
       " 'the',\n",
       " 'bequest',\n",
       " '.',\n",
       " 'Mr',\n",
       " '.',\n",
       " 'Dashwood',\n",
       " 'had',\n",
       " 'wished',\n",
       " 'for',\n",
       " 'it',\n",
       " 'more',\n",
       " 'for',\n",
       " 'the',\n",
       " 'sake',\n",
       " 'of',\n",
       " 'his',\n",
       " 'wife',\n",
       " 'and',\n",
       " 'daughters',\n",
       " 'than',\n",
       " 'for',\n",
       " 'himself',\n",
       " 'or',\n",
       " 'his',\n",
       " 'son',\n",
       " ';--',\n",
       " 'but',\n",
       " 'to',\n",
       " 'his',\n",
       " 'son',\n",
       " ',',\n",
       " 'and',\n",
       " 'his',\n",
       " 'son',\n",
       " \"'\",\n",
       " 's',\n",
       " 'son',\n",
       " ',',\n",
       " 'a',\n",
       " 'child',\n",
       " 'of',\n",
       " 'four',\n",
       " 'years',\n",
       " 'old',\n",
       " ',',\n",
       " 'it',\n",
       " 'was',\n",
       " 'secured',\n",
       " ',',\n",
       " 'in',\n",
       " 'such',\n",
       " 'a',\n",
       " 'way',\n",
       " ',',\n",
       " 'as',\n",
       " 'to',\n",
       " 'leave',\n",
       " 'to',\n",
       " 'himself',\n",
       " 'no',\n",
       " 'power',\n",
       " 'of',\n",
       " 'providing',\n",
       " 'for',\n",
       " 'those',\n",
       " 'who',\n",
       " 'were',\n",
       " 'most',\n",
       " 'dear',\n",
       " 'to',\n",
       " 'him',\n",
       " ',',\n",
       " 'and',\n",
       " 'who',\n",
       " 'most',\n",
       " 'needed',\n",
       " 'a',\n",
       " 'provision',\n",
       " 'by',\n",
       " 'any',\n",
       " 'charge',\n",
       " 'on',\n",
       " 'the',\n",
       " 'estate',\n",
       " ',',\n",
       " 'or',\n",
       " 'by',\n",
       " 'any',\n",
       " 'sale',\n",
       " 'of',\n",
       " 'its',\n",
       " 'valuable',\n",
       " 'woods',\n",
       " '.',\n",
       " 'The',\n",
       " 'whole',\n",
       " 'was',\n",
       " 'tied',\n",
       " 'up',\n",
       " 'for',\n",
       " 'the',\n",
       " 'benefit',\n",
       " 'of',\n",
       " 'this',\n",
       " 'child',\n",
       " ',',\n",
       " 'who',\n",
       " ',',\n",
       " 'in',\n",
       " 'occasional',\n",
       " 'visits',\n",
       " 'with',\n",
       " 'his',\n",
       " 'father',\n",
       " 'and',\n",
       " 'mother',\n",
       " 'at',\n",
       " 'Norland',\n",
       " ',',\n",
       " 'had',\n",
       " 'so',\n",
       " 'far',\n",
       " 'gained',\n",
       " 'on',\n",
       " 'the',\n",
       " 'affections',\n",
       " 'of',\n",
       " 'his',\n",
       " 'uncle',\n",
       " ',',\n",
       " 'by',\n",
       " 'such',\n",
       " 'attractions',\n",
       " 'as',\n",
       " 'are',\n",
       " 'by',\n",
       " 'no',\n",
       " 'means',\n",
       " 'unusual',\n",
       " 'in',\n",
       " 'children',\n",
       " 'of',\n",
       " 'two',\n",
       " 'or',\n",
       " 'three',\n",
       " 'years',\n",
       " 'old',\n",
       " ';',\n",
       " 'an',\n",
       " 'imperfect',\n",
       " 'articulation',\n",
       " ',',\n",
       " 'an',\n",
       " 'earnest',\n",
       " 'desire',\n",
       " 'of',\n",
       " 'having',\n",
       " 'his',\n",
       " 'own',\n",
       " 'way',\n",
       " ',',\n",
       " 'many',\n",
       " 'cunning',\n",
       " 'tricks',\n",
       " ',',\n",
       " 'and',\n",
       " 'a',\n",
       " 'great',\n",
       " 'deal',\n",
       " 'of',\n",
       " 'noise',\n",
       " ',',\n",
       " 'as',\n",
       " 'to',\n",
       " 'outweigh',\n",
       " 'all',\n",
       " 'the',\n",
       " 'value',\n",
       " 'of',\n",
       " 'all',\n",
       " 'the',\n",
       " 'attention',\n",
       " 'which',\n",
       " ',',\n",
       " 'for',\n",
       " 'years',\n",
       " ',',\n",
       " 'he',\n",
       " 'had',\n",
       " 'received',\n",
       " 'from',\n",
       " 'his',\n",
       " 'niece',\n",
       " 'and',\n",
       " 'her',\n",
       " 'daughters',\n",
       " '.',\n",
       " 'He',\n",
       " 'meant',\n",
       " 'not',\n",
       " 'to',\n",
       " 'be',\n",
       " 'unkind',\n",
       " ',',\n",
       " 'however',\n",
       " ',',\n",
       " 'and',\n",
       " ',',\n",
       " 'as',\n",
       " 'a',\n",
       " 'mark',\n",
       " 'of',\n",
       " 'his',\n",
       " 'affection',\n",
       " 'for',\n",
       " 'the',\n",
       " 'three',\n",
       " 'girls',\n",
       " ',',\n",
       " 'he',\n",
       " 'left',\n",
       " 'them',\n",
       " 'a',\n",
       " 'thousand',\n",
       " 'pounds',\n",
       " 'a',\n",
       " '-',\n",
       " 'piece',\n",
       " '.',\n",
       " 'Mr',\n",
       " '.',\n",
       " 'Dashwood',\n",
       " \"'\",\n",
       " 's',\n",
       " 'disappointment',\n",
       " 'was',\n",
       " ',',\n",
       " 'at',\n",
       " 'first',\n",
       " ',',\n",
       " 'severe',\n",
       " ';',\n",
       " 'but',\n",
       " 'his',\n",
       " 'temper',\n",
       " 'was',\n",
       " 'cheerful',\n",
       " 'and',\n",
       " 'sanguine',\n",
       " ';',\n",
       " 'and',\n",
       " 'he',\n",
       " 'might',\n",
       " 'reasonably',\n",
       " 'hope',\n",
       " 'to',\n",
       " 'live',\n",
       " 'many',\n",
       " 'years',\n",
       " ',',\n",
       " 'and',\n",
       " 'by',\n",
       " 'living',\n",
       " 'economically',\n",
       " ',',\n",
       " 'lay',\n",
       " 'by',\n",
       " 'a',\n",
       " 'considerable',\n",
       " 'sum',\n",
       " 'from',\n",
       " 'the',\n",
       " 'produce',\n",
       " 'of',\n",
       " 'an',\n",
       " 'estate',\n",
       " 'already',\n",
       " 'large',\n",
       " ',',\n",
       " 'and',\n",
       " 'capable',\n",
       " 'of',\n",
       " 'almost',\n",
       " 'immediate',\n",
       " 'improvement',\n",
       " '.',\n",
       " 'But',\n",
       " 'the',\n",
       " 'fortune',\n",
       " ',',\n",
       " 'which',\n",
       " 'had',\n",
       " 'been',\n",
       " 'so',\n",
       " 'tardy',\n",
       " 'in',\n",
       " 'coming',\n",
       " ',',\n",
       " 'was',\n",
       " 'his',\n",
       " 'only',\n",
       " 'one',\n",
       " 'twelvemonth',\n",
       " '.',\n",
       " 'He',\n",
       " 'survived',\n",
       " 'his',\n",
       " 'uncle',\n",
       " 'no',\n",
       " 'longer',\n",
       " ';',\n",
       " 'and',\n",
       " 'ten',\n",
       " 'thousand',\n",
       " 'pounds',\n",
       " ',',\n",
       " 'including',\n",
       " 'the',\n",
       " 'late',\n",
       " 'legacies',\n",
       " ',',\n",
       " 'was',\n",
       " 'all',\n",
       " 'that',\n",
       " 'remained',\n",
       " 'for',\n",
       " 'his',\n",
       " 'widow',\n",
       " 'and',\n",
       " 'daughters',\n",
       " '.',\n",
       " 'His',\n",
       " 'son',\n",
       " 'was',\n",
       " 'sent',\n",
       " 'for',\n",
       " 'as',\n",
       " 'soon',\n",
       " 'as',\n",
       " 'his',\n",
       " 'danger',\n",
       " 'was',\n",
       " 'known',\n",
       " ',',\n",
       " 'and',\n",
       " 'to',\n",
       " 'him',\n",
       " 'Mr',\n",
       " '.',\n",
       " 'Dashwood',\n",
       " 'recommended',\n",
       " ',',\n",
       " 'with',\n",
       " 'all',\n",
       " 'the',\n",
       " 'strength',\n",
       " 'and',\n",
       " 'urgency',\n",
       " 'which',\n",
       " 'illness',\n",
       " 'could',\n",
       " 'command',\n",
       " ',',\n",
       " 'the',\n",
       " 'interest',\n",
       " 'of',\n",
       " 'his',\n",
       " 'mother',\n",
       " '-',\n",
       " 'in',\n",
       " '-',\n",
       " 'law',\n",
       " 'and',\n",
       " 'sisters',\n",
       " '.',\n",
       " 'Mr',\n",
       " '.',\n",
       " 'John',\n",
       " 'Dashwood',\n",
       " 'had',\n",
       " 'not',\n",
       " 'the',\n",
       " 'strong',\n",
       " 'feelings',\n",
       " 'of',\n",
       " 'the',\n",
       " 'rest',\n",
       " 'of',\n",
       " 'the',\n",
       " 'family',\n",
       " ';',\n",
       " 'but',\n",
       " 'he',\n",
       " 'was',\n",
       " 'affected',\n",
       " 'by',\n",
       " 'a',\n",
       " 'recommendation',\n",
       " 'of',\n",
       " 'such',\n",
       " 'a',\n",
       " 'nature',\n",
       " 'at',\n",
       " 'such',\n",
       " 'a',\n",
       " 'time',\n",
       " ',',\n",
       " 'and',\n",
       " 'he',\n",
       " 'promised',\n",
       " 'to',\n",
       " 'do',\n",
       " 'every',\n",
       " 'thing',\n",
       " 'in',\n",
       " 'his',\n",
       " 'power',\n",
       " 'to',\n",
       " 'make',\n",
       " 'them',\n",
       " 'comfortable',\n",
       " '.',\n",
       " 'His',\n",
       " 'father',\n",
       " 'was',\n",
       " 'rendered',\n",
       " 'easy',\n",
       " 'by',\n",
       " 'such',\n",
       " 'an',\n",
       " 'assurance',\n",
       " ',',\n",
       " 'and',\n",
       " 'Mr',\n",
       " '.',\n",
       " 'John',\n",
       " 'Dashwood',\n",
       " 'had',\n",
       " 'then',\n",
       " 'leisure',\n",
       " 'to',\n",
       " 'consider',\n",
       " 'how',\n",
       " 'much',\n",
       " 'there',\n",
       " 'might',\n",
       " 'prudently',\n",
       " 'be',\n",
       " 'in',\n",
       " 'his',\n",
       " 'power',\n",
       " 'to',\n",
       " 'do',\n",
       " 'for',\n",
       " 'them',\n",
       " '.',\n",
       " 'He',\n",
       " 'was',\n",
       " 'not',\n",
       " 'an',\n",
       " 'ill',\n",
       " '-',\n",
       " 'disposed',\n",
       " 'young',\n",
       " 'man',\n",
       " ',',\n",
       " 'unless',\n",
       " 'to',\n",
       " 'be',\n",
       " 'rather',\n",
       " 'cold',\n",
       " 'hearted',\n",
       " 'and',\n",
       " 'rather',\n",
       " 'selfish',\n",
       " 'is',\n",
       " 'to',\n",
       " 'be',\n",
       " 'ill',\n",
       " '-',\n",
       " 'disposed',\n",
       " ':',\n",
       " 'but',\n",
       " 'he',\n",
       " 'was',\n",
       " ',',\n",
       " 'in',\n",
       " 'general',\n",
       " ',',\n",
       " 'well',\n",
       " 'respected',\n",
       " ';',\n",
       " 'for',\n",
       " 'he',\n",
       " 'conducted',\n",
       " 'himself',\n",
       " 'with',\n",
       " 'propriety',\n",
       " 'in',\n",
       " 'the',\n",
       " 'discharge',\n",
       " 'of',\n",
       " 'his',\n",
       " 'ordinary',\n",
       " 'duties',\n",
       " '.',\n",
       " 'Had',\n",
       " 'he',\n",
       " 'married',\n",
       " 'a',\n",
       " 'more',\n",
       " 'amiable',\n",
       " 'woman',\n",
       " ',',\n",
       " 'he',\n",
       " 'might',\n",
       " 'have',\n",
       " 'been',\n",
       " 'made',\n",
       " 'still',\n",
       " 'more',\n",
       " 'respectable',\n",
       " 'than',\n",
       " ...]"
      ]
     },
     "execution_count": 20,
     "metadata": {},
     "output_type": "execute_result"
    }
   ],
   "execution_count": 20
  },
  {
   "metadata": {
    "ExecuteTime": {
     "end_time": "2025-02-13T11:52:07.306182Z",
     "start_time": "2025-02-13T11:52:07.003387Z"
    }
   },
   "cell_type": "code",
   "source": [
    "print(text4)\n",
    "print()\n",
    "text4.dispersion_plot([\"citizens\", \"democracy\", \"freedom\", \"duties\", \"America\"])"
   ],
   "id": "25f889fa618fda46",
   "outputs": [
    {
     "name": "stdout",
     "output_type": "stream",
     "text": [
      "<Text: Inaugural Address Corpus>\n",
      "\n"
     ]
    },
    {
     "data": {
      "text/plain": [
       "<Figure size 640x480 with 1 Axes>"
      ],
      "image/png": "[encoded data removed]"
     },
     "metadata": {},
     "output_type": "display_data"
    }
   ],
   "execution_count": 21
  },
  {
   "metadata": {
    "ExecuteTime": {
     "end_time": "2025-02-13T11:52:07.363995Z",
     "start_time": "2025-02-13T11:52:07.306860Z"
    }
   },
   "cell_type": "code",
   "source": [
    "print(text2)\n",
    "print()\n",
    "text2.dispersion_plot([\"family\", \"love\", \"desire\"])"
   ],
   "id": "17f455c1e2b86f89",
   "outputs": [
    {
     "name": "stdout",
     "output_type": "stream",
     "text": [
      "<Text: Sense and Sensibility by Jane Austen 1811>\n",
      "\n"
     ]
    },
    {
     "data": {
      "text/plain": [
       "<Figure size 640x480 with 1 Axes>"
      ],
      "image/png": "[encoded data removed]"
     },
     "metadata": {},
     "output_type": "display_data"
    }
   ],
   "execution_count": 22
  },
  {
   "metadata": {
    "ExecuteTime": {
     "end_time": "2025-02-13T11:52:07.732726Z",
     "start_time": "2025-02-13T11:52:07.364798Z"
    }
   },
   "cell_type": "code",
   "source": "text3.generate()",
   "id": "66f8dcfb45aeedc7",
   "outputs": [
    {
     "name": "stderr",
     "output_type": "stream",
     "text": [
      "Building ngram index...\n"
     ]
    },
    {
     "name": "stdout",
     "output_type": "stream",
     "text": [
      "laid by her , and said unto Cain , Where art thou , and said , Go to ,\n",
      "I will not do it for ten ' s sons ; we dreamed each man according to\n",
      "their generatio the firstborn said unto Laban , Because I said , Nay ,\n",
      "but Sarah shall her name be . , duke Elah , duke Shobal , and Akan .\n",
      "and looked upon my affliction . Bashemath Ishmael ' s blood , but Isra\n",
      "for as a prince hast thou found of all the cattle in the valley , and\n",
      "the wo The\n"
     ]
    },
    {
     "data": {
      "text/plain": [
       "\"laid by her , and said unto Cain , Where art thou , and said , Go to ,\\nI will not do it for ten ' s sons ; we dreamed each man according to\\ntheir generatio the firstborn said unto Laban , Because I said , Nay ,\\nbut Sarah shall her name be . , duke Elah , duke Shobal , and Akan .\\nand looked upon my affliction . Bashemath Ishmael ' s blood , but Isra\\nfor as a prince hast thou found of all the cattle in the valley , and\\nthe wo The\""
      ]
     },
     "execution_count": 23,
     "metadata": {},
     "output_type": "execute_result"
    }
   ],
   "execution_count": 23
  },
  {
   "metadata": {},
   "cell_type": "markdown",
   "source": "1.4 -> Counting Vocabulary",
   "id": "8954e01ab33a4a82"
  },
  {
   "metadata": {
    "ExecuteTime": {
     "end_time": "2025-02-13T11:52:07.735110Z",
     "start_time": "2025-02-13T11:52:07.733409Z"
    }
   },
   "cell_type": "code",
   "source": [
    "print(text3)\n",
    "print(f\"The length of the text above is: {len(text3):,d} characters\")"
   ],
   "id": "294c500f154cf6f2",
   "outputs": [
    {
     "name": "stdout",
     "output_type": "stream",
     "text": [
      "<Text: The Book of Genesis>\n",
      "The length of the text above is: 44,764 characters\n"
     ]
    }
   ],
   "execution_count": 24
  },
  {
   "metadata": {
    "ExecuteTime": {
     "end_time": "2025-02-13T11:52:07.746252Z",
     "start_time": "2025-02-13T11:52:07.735608Z"
    }
   },
   "cell_type": "code",
   "source": [
    "print(sorted(set(text3)))\n",
    "print()\n",
    "len(set(text3))"
   ],
   "id": "e0387a8e539ad08e",
   "outputs": [
    {
     "name": "stdout",
     "output_type": "stream",
     "text": [
      "['!', \"'\", '(', ')', ',', ',)', '.', '.)', ':', ';', ';)', '?', '?)', 'A', 'Abel', 'Abelmizraim', 'Abidah', 'Abide', 'Abimael', 'Abimelech', 'Abr', 'Abrah', 'Abraham', 'Abram', 'Accad', 'Achbor', 'Adah', 'Adam', 'Adbeel', 'Admah', 'Adullamite', 'After', 'Aholibamah', 'Ahuzzath', 'Ajah', 'Akan', 'All', 'Allonbachuth', 'Almighty', 'Almodad', 'Also', 'Alvah', 'Alvan', 'Am', 'Amal', 'Amalek', 'Amalekites', 'Ammon', 'Amorite', 'Amorites', 'Amraphel', 'An', 'Anah', 'Anamim', 'And', 'Aner', 'Angel', 'Appoint', 'Aram', 'Aran', 'Ararat', 'Arbah', 'Ard', 'Are', 'Areli', 'Arioch', 'Arise', 'Arkite', 'Arodi', 'Arphaxad', 'Art', 'Arvadite', 'As', 'Asenath', 'Ashbel', 'Asher', 'Ashkenaz', 'Ashteroth', 'Ask', 'Asshur', 'Asshurim', 'Assyr', 'Assyria', 'At', 'Atad', 'Avith', 'Baalhanan', 'Babel', 'Bashemath', 'Be', 'Because', 'Becher', 'Bedad', 'Beeri', 'Beerlahairoi', 'Beersheba', 'Behold', 'Bela', 'Belah', 'Benam', 'Benjamin', 'Beno', 'Beor', 'Bera', 'Bered', 'Beriah', 'Bethel', 'Bethlehem', 'Bethuel', 'Beware', 'Bilhah', 'Bilhan', 'Binding', 'Birsha', 'Bless', 'Blessed', 'Both', 'Bow', 'Bozrah', 'Bring', 'But', 'Buz', 'By', 'Cain', 'Cainan', 'Calah', 'Calneh', 'Can', 'Cana', 'Canaan', 'Canaanite', 'Canaanites', 'Canaanitish', 'Caphtorim', 'Carmi', 'Casluhim', 'Cast', 'Cause', 'Chaldees', 'Chedorlaomer', 'Cheran', 'Cherubims', 'Chesed', 'Chezib', 'Come', 'Cursed', 'Cush', 'Damascus', 'Dan', 'Day', 'Deborah', 'Dedan', 'Deliver', 'Diklah', 'Din', 'Dinah', 'Dinhabah', 'Discern', 'Dishan', 'Dishon', 'Do', 'Dodanim', 'Dothan', 'Drink', 'Duke', 'Dumah', 'Earth', 'Ebal', 'Eber', 'Edar', 'Eden', 'Edom', 'Edomites', 'Egy', 'Egypt', 'Egyptia', 'Egyptian', 'Egyptians', 'Ehi', 'Elah', 'Elam', 'Elbethel', 'Eldaah', 'EleloheIsrael', 'Eliezer', 'Eliphaz', 'Elishah', 'Ellasar', 'Elon', 'Elparan', 'Emins', 'En', 'Enmishpat', 'Eno', 'Enoch', 'Enos', 'Ephah', 'Epher', 'Ephra', 'Ephraim', 'Ephrath', 'Ephron', 'Er', 'Erech', 'Eri', 'Es', 'Esau', 'Escape', 'Esek', 'Eshban', 'Eshcol', 'Ethiopia', 'Euphrat', 'Euphrates', 'Eve', 'Even', 'Every', 'Except', 'Ezbon', 'Ezer', 'Fear', 'Feed', 'Fifteen', 'Fill', 'For', 'Forasmuch', 'Forgive', 'From', 'Fulfil', 'G', 'Gad', 'Gaham', 'Galeed', 'Gatam', 'Gather', 'Gaza', 'Gentiles', 'Gera', 'Gerar', 'Gershon', 'Get', 'Gether', 'Gihon', 'Gilead', 'Girgashites', 'Girgasite', 'Give', 'Go', 'God', 'Gomer', 'Gomorrah', 'Goshen', 'Guni', 'Hadad', 'Hadar', 'Hadoram', 'Hagar', 'Haggi', 'Hai', 'Ham', 'Hamathite', 'Hamor', 'Hamul', 'Hanoch', 'Happy', 'Haran', 'Hast', 'Haste', 'Have', 'Havilah', 'Hazarmaveth', 'Hazezontamar', 'Hazo', 'He', 'Hear', 'Heaven', 'Heber', 'Hebrew', 'Hebrews', 'Hebron', 'Hemam', 'Hemdan', 'Here', 'Hereby', 'Heth', 'Hezron', 'Hiddekel', 'Hinder', 'Hirah', 'His', 'Hitti', 'Hittite', 'Hittites', 'Hivite', 'Hobah', 'Hori', 'Horite', 'Horites', 'How', 'Hul', 'Huppim', 'Husham', 'Hushim', 'Huz', 'I', 'If', 'In', 'Irad', 'Iram', 'Is', 'Isa', 'Isaac', 'Iscah', 'Ishbak', 'Ishmael', 'Ishmeelites', 'Ishuah', 'Isra', 'Israel', 'Issachar', 'Isui', 'It', 'Ithran', 'Jaalam', 'Jabal', 'Jabbok', 'Jac', 'Jachin', 'Jacob', 'Jahleel', 'Jahzeel', 'Jamin', 'Japhe', 'Japheth', 'Jared', 'Javan', 'Jebusite', 'Jebusites', 'Jegarsahadutha', 'Jehovahjireh', 'Jemuel', 'Jerah', 'Jetheth', 'Jetur', 'Jeush', 'Jezer', 'Jidlaph', 'Jimnah', 'Job', 'Jobab', 'Jokshan', 'Joktan', 'Jordan', 'Joseph', 'Jubal', 'Judah', 'Judge', 'Judith', 'Kadesh', 'Kadmonites', 'Karnaim', 'Kedar', 'Kedemah', 'Kemuel', 'Kenaz', 'Kenites', 'Kenizzites', 'Keturah', 'Kiriathaim', 'Kirjatharba', 'Kittim', 'Know', 'Kohath', 'Kor', 'Korah', 'LO', 'LORD', 'Laban', 'Lahairoi', 'Lamech', 'Lasha', 'Lay', 'Leah', 'Lehabim', 'Lest', 'Let', 'Letushim', 'Leummim', 'Levi', 'Lie', 'Lift', 'Lo', 'Look', 'Lot', 'Lotan', 'Lud', 'Ludim', 'Luz', 'Maachah', 'Machir', 'Machpelah', 'Madai', 'Magdiel', 'Magog', 'Mahalaleel', 'Mahalath', 'Mahanaim', 'Make', 'Malchiel', 'Male', 'Mam', 'Mamre', 'Man', 'Manahath', 'Manass', 'Manasseh', 'Mash', 'Masrekah', 'Massa', 'Matred', 'Me', 'Medan', 'Mehetabel', 'Mehujael', 'Melchizedek', 'Merari', 'Mesha', 'Meshech', 'Mesopotamia', 'Methusa', 'Methusael', 'Methuselah', 'Mezahab', 'Mibsam', 'Mibzar', 'Midian', 'Midianites', 'Milcah', 'Mishma', 'Mizpah', 'Mizraim', 'Mizz', 'Moab', 'Moabites', 'Moreh', 'Moreover', 'Moriah', 'Muppim', 'My', 'Naamah', 'Naaman', 'Nahath', 'Nahor', 'Naphish', 'Naphtali', 'Naphtuhim', 'Nay', 'Nebajoth', 'Neither', 'Night', 'Nimrod', 'Nineveh', 'Noah', 'Nod', 'Not', 'Now', 'O', 'Obal', 'Of', 'Oh', 'Ohad', 'Omar', 'On', 'Onam', 'Onan', 'Only', 'Ophir', 'Our', 'Out', 'Padan', 'Padanaram', 'Paran', 'Pass', 'Pathrusim', 'Pau', 'Peace', 'Peleg', 'Peniel', 'Penuel', 'Peradventure', 'Perizzit', 'Perizzite', 'Perizzites', 'Phallu', 'Phara', 'Pharaoh', 'Pharez', 'Phichol', 'Philistim', 'Philistines', 'Phut', 'Phuvah', 'Pildash', 'Pinon', 'Pison', 'Potiphar', 'Potipherah', 'Put', 'Raamah', 'Rachel', 'Rameses', 'Rebek', 'Rebekah', 'Rehoboth', 'Remain', 'Rephaims', 'Resen', 'Return', 'Reu', 'Reub', 'Reuben', 'Reuel', 'Reumah', 'Riphath', 'Rosh', 'Sabtah', 'Sabtech', 'Said', 'Salah', 'Salem', 'Samlah', 'Sarah', 'Sarai', 'Saul', 'Save', 'Say', 'Se', 'Seba', 'See', 'Seeing', 'Seir', 'Sell', 'Send', 'Sephar', 'Serah', 'Sered', 'Serug', 'Set', 'Seth', 'Shalem', 'Shall', 'Shalt', 'Shammah', 'Shaul', 'Shaveh', 'She', 'Sheba', 'Shebah', 'Shechem', 'Shed', 'Shel', 'Shelah', 'Sheleph', 'Shem', 'Shemeber', 'Shepho', 'Shillem', 'Shiloh', 'Shimron', 'Shinab', 'Shinar', 'Shobal', 'Should', 'Shuah', 'Shuni', 'Shur', 'Sichem', 'Siddim', 'Sidon', 'Simeon', 'Sinite', 'Sitnah', 'Slay', 'So', 'Sod', 'Sodom', 'Sojourn', 'Some', 'Spake', 'Speak', 'Spirit', 'Stand', 'Succoth', 'Surely', 'Swear', 'Syrian', 'Take', 'Tamar', 'Tarshish', 'Tebah', 'Tell', 'Tema', 'Teman', 'Temani', 'Terah', 'Thahash', 'That', 'The', 'Then', 'There', 'Therefore', 'These', 'They', 'Thirty', 'This', 'Thorns', 'Thou', 'Thus', 'Thy', 'Tidal', 'Timna', 'Timnah', 'Timnath', 'Tiras', 'To', 'Togarmah', 'Tola', 'Tubal', 'Tubalcain', 'Twelve', 'Two', 'Unstable', 'Until', 'Unto', 'Up', 'Upon', 'Ur', 'Uz', 'Uzal', 'We', 'What', 'When', 'Whence', 'Where', 'Whereas', 'Wherefore', 'Which', 'While', 'Who', 'Whose', 'Whoso', 'Why', 'Wilt', 'With', 'Woman', 'Ye', 'Yea', 'Yet', 'Zaavan', 'Zaphnathpaaneah', 'Zar', 'Zarah', 'Zeboiim', 'Zeboim', 'Zebul', 'Zebulun', 'Zemarite', 'Zepho', 'Zerah', 'Zibeon', 'Zidon', 'Zillah', 'Zilpah', 'Zimran', 'Ziphion', 'Zo', 'Zoar', 'Zohar', 'Zuzims', 'a', 'abated', 'abide', 'able', 'abode', 'abomination', 'about', 'above', 'abroad', 'absent', 'abundantly', 'accept', 'accepted', 'according', 'acknowledged', 'activity', 'add', 'adder', 'afar', 'afflict', 'affliction', 'afraid', 'after', 'afterward', 'afterwards', 'aga', 'again', 'against', 'age', 'aileth', 'air', 'al', 'alive', 'all', 'almon', 'alo', 'alone', 'aloud', 'also', 'altar', 'altogether', 'always', 'am', 'among', 'amongst', 'an', 'and', 'angel', 'angels', 'anger', 'angry', 'anguish', 'anointedst', 'anoth', 'another', 'answer', 'answered', 'any', 'anything', 'appe', 'appear', 'appeared', 'appease', 'appoint', 'appointed', 'aprons', 'archer', 'archers', 'are', 'arise', 'ark', 'armed', 'arms', 'army', 'arose', 'arrayed', 'art', 'artificer', 'as', 'ascending', 'ash', 'ashamed', 'ask', 'asked', 'asketh', 'ass', 'assembly', 'asses', 'assigned', 'asswaged', 'at', 'attained', 'audience', 'avenged', 'aw', 'awaked', 'away', 'awoke', 'back', 'backward', 'bad', 'bade', 'badest', 'badne', 'bak', 'bake', 'bakemeats', 'baker', 'bakers', 'balm', 'bands', 'bank', 'bare', 'barr', 'barren', 'basket', 'baskets', 'battle', 'bdellium', 'be', 'bear', 'beari', 'bearing', 'beast', 'beasts', 'beautiful', 'became', 'because', 'become', 'bed', 'been', 'befall', 'befell', 'before', 'began', 'begat', 'beget', 'begettest', 'begin', 'beginning', 'begotten', 'beguiled', 'beheld', 'behind', 'behold', 'being', 'believed', 'belly', 'belong', 'beneath', 'bereaved', 'beside', 'besides', 'besought', 'best', 'betimes', 'better', 'between', 'betwixt', 'beyond', 'binding', 'bird', 'birds', 'birthday', 'birthright', 'biteth', 'bitter', 'blame', 'blameless', 'blasted', 'bless', 'blessed', 'blesseth', 'blessi', 'blessing', 'blessings', 'blindness', 'blood', 'blossoms', 'bodies', 'boldly', 'bondman', 'bondmen', 'bondwoman', 'bone', 'bones', 'book', 'booths', 'border', 'borders', 'born', 'bosom', 'both', 'bottle', 'bou', 'boug', 'bough', 'bought', 'bound', 'bow', 'bowed', 'bowels', 'bowing', 'boys', 'bracelets', 'branches', 'brass', 'bre', 'breach', 'bread', 'breadth', 'break', 'breaketh', 'breaking', 'breasts', 'breath', 'breathed', 'breed', 'brethren', 'brick', 'brimstone', 'bring', 'brink', 'broken', 'brook', 'broth', 'brother', 'brought', 'brown', 'bruise', 'budded', 'build', 'builded', 'built', 'bulls', 'bundle', 'bundles', 'burdens', 'buried', 'burn', 'burning', 'burnt', 'bury', 'buryingplace', 'business', 'but', 'butler', 'butlers', 'butlership', 'butter', 'buy', 'by', 'cakes', 'calf', 'call', 'called', 'came', 'camel', 'camels', 'camest', 'can', 'cannot', 'canst', 'captain', 'captive', 'captives', 'carcases', 'carried', 'carry', 'cast', 'castles', 'catt', 'cattle', 'caught', 'cause', 'caused', 'cave', 'cease', 'ceased', 'certain', 'certainly', 'chain', 'chamber', 'change', 'changed', 'changes', 'charge', 'charged', 'chariot', 'chariots', 'chesnut', 'chi', 'chief', 'child', 'childless', 'childr', 'children', 'chode', 'choice', 'chose', 'circumcis', 'circumcise', 'circumcised', 'citi', 'cities', 'city', 'clave', 'clean', 'clear', 'cleave', 'clo', 'closed', 'clothed', 'clothes', 'cloud', 'clusters', 'co', 'coat', 'coats', 'coffin', 'cold', 'colours', 'colt', 'colts', 'come', 'comest', 'cometh', 'comfort', 'comforted', 'comi', 'coming', 'command', 'commanded', 'commanding', 'commandment', 'commandments', 'commended', 'committed', 'commune', 'communed', 'communing', 'company', 'compassed', 'compasseth', 'conceal', 'conceive', 'conceived', 'conception', 'concerning', 'concubi', 'concubine', 'concubines', 'confederate', 'confound', 'consent', 'conspired', 'consume', 'consumed', 'content', 'continually', 'continued', 'cool', 'corn', 'corrupt', 'corrupted', 'couch', 'couched', 'couching', 'could', 'counted', 'countenance', 'countries', 'country', 'covenant', 'covered', 'covering', 'created', 'creature', 'creepeth', 'creeping', 'cried', 'crieth', 'crown', 'cru', 'cruelty', 'cry', 'cubit', 'cubits', 'cunning', 'cup', 'current', 'curse', 'cursed', 'curseth', 'custom', 'cut', 'd', 'da', 'dainties', 'dale', 'damsel', 'damsels', 'dark', 'darkne', 'darkness', 'daughers', 'daught', 'daughte', 'daughter', 'daughters', 'day', 'days', 'dea', 'dead', 'deal', 'dealt', 'dearth', 'death', 'deceitfully', 'deceived', 'deceiver', 'declare', 'decreased', 'deed', 'deeds', 'deep', 'deferred', 'defiled', 'defiledst', 'delight', 'deliver', 'deliverance', 'delivered', 'denied', 'depart', 'departed', 'departing', 'deprived', 'descending', 'desire', 'desired', 'desolate', 'despised', 'destitute', 'destroy', 'destroyed', 'devour', 'devoured', 'dew', 'did', 'didst', 'die', 'died', 'digged', 'dignity', 'dim', 'dine', 'dipped', 'direct', 'discern', 'discerned', 'discreet', 'displease', 'displeased', 'distress', 'distressed', 'divide', 'divided', 'divine', 'divineth', 'do', 'doe', 'doer', 'doest', 'doeth', 'doing', 'dominion', 'done', 'door', 'dost', 'doth', 'double', 'doubled', 'doubt', 'dove', 'down', 'dowry', 'drank', 'draw', 'dread', 'dreadful', 'dream', 'dreamed', 'dreamer', 'dreams', 'dress', 'dressed', 'drew', 'dried', 'drink', 'drinketh', 'drinking', 'driven', 'drought', 'drove', 'droves', 'drunken', 'dry', 'duke', 'dukes', 'dunge', 'dungeon', 'dust', 'dwe', 'dwell', 'dwelled', 'dwelling', 'dwelt', 'e', 'ea', 'each', 'ear', 'earing', 'early', 'earring', 'earrings', 'ears', 'earth', 'east', 'eastward', 'eat', 'eaten', 'eatest', 'edge', 'eight', 'eighteen', 'eighty', 'either', 'elder', 'elders', 'eldest', 'eleven', 'else', 'embalm', 'embalmed', 'embraced', 'emptied', 'empty', 'end', 'ended', 'endued', 'endure', 'enemies', 'enlarge', 'enmity', 'enough', 'enquire', 'enter', 'entered', 'entreated', 'envied', 'erected', 'errand', 'escape', 'escaped', 'espied', 'establish', 'established', 'ev', 'even', 'evening', 'eventide', 'ever', 'everlasting', 'every', 'evil', 'ewe', 'ewes', 'exceeding', 'exceedingly', 'excel', 'excellency', 'except', 'exchange', 'experience', 'ey', 'eyed', 'eyes', 'fa', 'face', 'faces', 'fai', 'fail', 'failed', 'faileth', 'fainted', 'fair', 'fall', 'fallen', 'falsely', 'fame', 'families', 'famine', 'famished', 'far', 'fashion', 'fast', 'fat', 'fatfleshed', 'fath', 'fathe', 'father', 'fathers', 'fatness', 'faults', 'favour', 'favoured', 'fear', 'feared', 'fearest', 'feast', 'fed', 'feeble', 'feebler', 'feed', 'feeding', 'feel', 'feet', 'fell', 'fellow', 'felt', 'fema', 'female', 'fetch', 'fetched', 'fetcht', 'few', 'fie', 'field', 'fierce', 'fifteen', 'fifth', 'fifty', 'fig', 'fill', 'filled', 'find', 'findest', 'findeth', 'finding', 'fine', 'finish', 'finished', 'fir', 'fire', 'firmame', 'firmament', 'first', 'firstborn', 'firstlings', 'fish', 'fishes', 'five', 'flaming', 'fle', 'fled', 'fleddest', 'flee', 'flesh', 'flo', 'floc', 'flock', 'flocks', 'flood', 'floor', 'fly', 'fo', 'foal', 'foals', 'folk', 'follow', 'followed', 'following', 'folly', 'food', 'foolishly', 'foot', 'for', 'forbid', 'force', 'ford', 'foremost', 'foreskin', 'forgat', 'forget', 'forgive', 'forgotten', 'form', 'formed', 'former', 'forth', 'forty', 'forward', 'fou', 'found', 'fountain', 'fountains', 'four', 'fourscore', 'fourteen', 'fourteenth', 'fourth', 'fowl', 'fowls', 'freely', 'friend', 'friends', 'fro', 'from', 'frost', 'fruit', 'fruitful', 'fruits', 'fugitive', 'fulfilled', 'full', 'furnace', 'furniture', 'fury', 'gard', 'garden', 'garmen', 'garment', 'garments', 'gat', 'gate', 'gather', 'gathered', 'gathering', 'gave', 'gavest', 'generatio', 'generation', 'generations', 'get', 'getting', 'ghost', 'giants', 'gift', 'gifts', 'give', 'given', 'giveth', 'giving', 'glory', 'go', 'goa', 'goat', 'goats', 'gods', 'goest', 'goeth', 'going', 'gold', 'golden', 'gone', 'good', 'goodly', 'goods', 'gopher', 'got', 'gotten', 'governor', 'gr', 'grace', 'gracious', 'graciously', 'grap', 'grapes', 'grass', 'grave', 'gray', 'gre', 'great', 'greater', 'greatly', 'green', 'grew', 'grief', 'grieved', 'grievous', 'grisl', 'grisled', 'gro', 'ground', 'grove', 'grow', 'grown', 'guard', 'guiding', 'guiltiness', 'guilty', 'gutters', 'h', 'ha', 'habitations', 'had', 'hadst', 'hairs', 'hairy', 'half', 'halted', 'han', 'hand', 'handfuls', 'handle', 'handmaid', 'handmaidens', 'handmaids', 'hands', 'hang', 'hanged', 'hard', 'hardly', 'harlot', 'harm', 'harp', 'harvest', 'hast', 'haste', 'hasted', 'hastened', 'hastily', 'hate', 'hated', 'hath', 'have', 'haven', 'having', 'hazel', 'he', 'head', 'heads', 'healed', 'health', 'heap', 'hear', 'heard', 'hearken', 'hearkened', 'heart', 'hearth', 'hearts', 'heat', 'heav', 'heaven', 'heavens', 'heed', 'heel', 'heels', 'heifer', 'height', 'heir', 'held', 'help', 'hence', 'henceforth', 'her', 'herb', 'herd', 'herdmen', 'herds', 'here', 'herein', 'herself', 'hid', 'hide', 'high', 'hil', 'hills', 'him', 'himself', 'hind', 'hindermost', 'hire', 'hired', 'his', 'hith', 'hither', 'hold', 'hollow', 'home', 'honey', 'honour', 'honourable', 'hor', 'horror', 'horse', 'horsemen', 'horses', 'host', 'hotly', 'hou', 'hous', 'house', 'household', 'households', 'how', 'hundred', 'hundredfo', 'hundredth', 'hunt', 'hunter', 'hunting', 'hurt', 'husba', 'husband', 'husbandman', 'if', 'ill', 'image', 'images', 'imagination', 'imagined', 'in', 'increase', 'increased', 'indeed', 'inhabitants', 'inhabited', 'inherit', 'inheritance', 'iniquity', 'inn', 'innocency', 'instead', 'instructor', 'instruments', 'integrity', 'interpret', 'interpretation', 'interpretations', 'interpreted', 'interpreter', 'into', 'intreat', 'intreated', 'ir', 'is', 'isles', 'issue', 'it', 'itself', 'jewels', 'joined', 'joint', 'journey', 'journeyed', 'journeys', 'jud', 'judge', 'judged', 'judgment', 'just', 'justice', 'keep', 'keeper', 'kept', 'ki', 'kid', 'kids', 'kill', 'killed', 'kind', 'kindled', 'kindly', 'kindness', 'kindred', 'kinds', 'kine', 'king', 'kingdom', 'kings', 'kiss', 'kissed', 'kn', 'knead', 'kneel', 'knees', 'knew', 'knife', 'know', 'knowest', 'knoweth', 'knowing', 'knowledge', 'known', 'la', 'labour', 'lack', 'lad', 'ladder', 'lade', 'laded', 'laden', 'lads', 'laid', 'lamb', 'lambs', 'lamentati', 'lamp', 'lan', 'land', 'lands', 'language', 'large', 'last', 'laugh', 'laughed', 'law', 'lawgiver', 'laws', 'lay', 'lead', 'leaf', 'lean', 'leanfleshed', 'leap', 'leaped', 'learned', 'least', 'leave', 'leaves', 'led', 'left', 'length', 'lentiles', 'lesser', 'lest', 'let', 'li', 'lie', 'lien', 'liest', 'lieth', 'life', 'lift', 'lifted', 'light', 'lighted', 'lightly', 'lights', 'like', 'likene', 'likeness', 'linen', 'lingered', 'lion', 'little', 'live', 'lived', 'lives', 'liveth', 'living', 'lo', 'lodge', 'lodged', 'loins', 'long', 'longedst', 'longeth', 'look', 'looked', 'loose', 'lord', 'lords', 'loss', 'loud', 'love', 'loved', 'lovest', 'loveth', 'lower', 'lying', 'm', 'ma', 'made', 'magicians', 'magnified', 'maid', 'maiden', 'maidservants', 'make', 'male', 'males', 'man', 'mandrakes', 'manner', 'many', 'mark', 'marriages', 'married', 'marry', 'marvelled', 'mast', 'master', 'matter', 'may', 'mayest', 'me', 'mead', 'meadow', 'meal', 'mean', 'meanest', 'meant', 'measures', 'meat', 'meditate', 'meet', 'meeteth', 'men', 'menservants', 'mention', 'merchant', 'merchantmen', 'mercies', 'merciful', 'mercy', 'merry', 'mess', 'messenger', 'messengers', 'messes', 'met', 'mi', 'midst', 'midwife', 'might', 'mightier', 'mighty', 'milch', 'milk', 'millions', 'mind', 'mine', 'mirth', 'mischief', 'mist', 'mistress', 'mock', 'mocked', 'mocking', 'money', 'month', 'months', 'moon', 'more', 'moreover', 'morever', 'morning', 'morrow', 'morsel', 'morter', 'most', 'mother', 'mou', 'mount', 'mountain', 'mountains', 'mourn', 'mourned', 'mourning', 'mouth', 'mouths', 'moved', 'moveth', 'moving', 'much', 'mules', 'multiplied', 'multiply', 'multiplying', 'multitude', 'must', 'my', 'myrrh', 'myself', 'n', 'na', 'naked', 'nakedness', 'name', 'named', 'names', 'nati', 'natio', 'nation', 'nations', 'nativity', 'ne', 'near', 'neck', 'needeth', 'needs', 'neither', 'never', 'next', 'nig', 'nigh', 'night', 'nights', 'nine', 'nineteen', 'ninety', 'no', 'none', 'noon', 'nor', 'north', 'northward', 'nostrils', 'not', 'nothing', 'nought', 'nourish', 'nourished', 'now', 'number', 'numbered', 'numbering', 'nurse', 'nuts', 'o', 'oa', 'oak', 'oath', 'obeisance', 'obey', 'obeyed', 'observed', 'obtain', 'occasion', 'occupation', 'of', 'off', 'offended', 'offer', 'offered', 'offeri', 'offering', 'offerings', 'office', 'officer', 'officers', 'oil', 'old', 'olive', 'on', 'one', 'ones', 'only', 'onyx', 'open', 'opened', 'openly', 'or', 'order', 'organ', 'oth', 'other', 'ou', 'ought', 'our', 'ours', 'ourselves', 'out', 'over', 'overcome', 'overdrive', 'overseer', 'oversig', 'overspread', 'overtake', 'overthrew', 'overthrow', 'overtook', 'own', 'oxen', 'parcel', 'part', 'parted', 'parts', 'pass', 'passed', 'past', 'pasture', 'path', 'pea', 'peace', 'peaceable', 'peaceably', 'peop', 'people', 'peradventure', 'perceived', 'perfect', 'perform', 'perish', 'perpetual', 'person', 'persons', 'physicians', 'piece', 'pieces', 'pigeon', 'pilgrimage', 'pillar', 'pilled', 'pillows', 'pit', 'pitch', 'pitched', 'pitcher', 'pla', 'place', 'placed', 'places', 'plagued', 'plagues', 'plain', 'plains', 'plant', 'planted', 'played', 'pleasant', 'pleased', 'pleaseth', 'pleasure', 'pledge', 'plenteous', 'plenteousness', 'plenty', 'pluckt', 'point', 'poor', 'poplar', 'portion', 'possess', 'possessi', 'possession', 'possessions', 'possessor', 'posterity', 'pottage', 'poured', 'poverty', 'pow', 'power', 'praise', 'pray', 'prayed', 'precious', 'prepared', 'presence', 'present', 'presented', 'preserve', 'preserved', 'pressed', 'prevail', 'prevailed', 'prey', 'priest', 'priests', 'prince', 'princes', 'pris', 'prison', 'prisoners', 'proceedeth', 'process', 'profit', 'progenitors', 'prophet', 'prosper', 'prospered', 'prosperous', 'protest', 'proved', 'provender', 'provide', 'provision', 'pulled', 'punishment', 'purchase', 'purchased', 'purposing', 'pursue', 'pursued', 'put', 'putting', 'quart', 'quickly', 'quite', 'quiver', 'raiment', 'rain', 'rained', 'raise', 'ram', 'rams', 'ran', 'rank', 'raven', 'ravin', 'reach', 'reached', 'ready', 'reason', 'rebelled', 'rebuked', 'receive', 'received', 'red', 'redeemed', 'refrain', 'refrained', 'refused', 'regard', 'reign', 'reigned', 'remained', 'remaineth', 'remember', 'remembered', 'remove', 'removed', 'removing', 'renown', 'rent', 'repented', 'repenteth', 'replenish', 'report', 'reproa', 'reproach', 'reproved', 'require', 'required', 'requite', 'reserved', 'respect', 'rest', 'rested', 'restore', 'restored', 'restrained', 'return', 'returned', 'reviv', 'reward', 'rewarded', 'ri', 'rib', 'ribs', 'rich', 'riches', 'rid', 'ride', 'rider', 'right', 'righteous', 'righteousness', 'rightly', 'ring', 'ringstraked', 'ripe', 'rise', 'risen', 'riv', 'river', 'rode', 'rods', 'roll', 'rolled', 'roof', 'room', 'rooms', 'rose', 'roughly', 'round', 'rouse', 'royal', 'rul', 'rule', 'ruled', 'ruler', 'rulers', 'run', 's', 'sa', 'sac', 'sack', 'sackcloth', 'sacks', 'sacrifice', 'sacrifices', 'sad', 'saddled', 'sadly', 'said', 'saidst', 'saith', 'sake', 'sakes', 'salt', 'salvation', 'same', 'sanctified', 'sand', 'sat', 'save', 'saved', 'saving', 'savour', 'savoury', 'saw', 'sawest', 'say', 'saying', 'scarce', 'scarlet', 'scatter', 'scattered', 'sceptre', 'sea', 'searched', 'seas', 'season', 'seasons', 'second', 'secret', 'secretly', 'see', 'seed', 'seedtime', 'seeing', 'seek', 'seekest', 'seem', 'seemed', 'seen', 'seest', 'seeth', 'selfsame', 'selfwill', 'sell', 'send', 'sent', 'separate', 'separated', 'sepulchre', 'sepulchres', 'serpent', 'serva', 'servan', 'servant', 'servants', 'serve', 'served', 'service', 'set', 'seven', 'sevenfold', 'sevens', 'seventeen', 'seventeenth', 'seventh', 'seventy', 'sewed', 'sh', 'shadow', 'shall', 'shalt', 'shamed', 'shaved', 'she', 'sheaf', 'shear', 'sheaves', 'shed', 'sheddeth', 'sheep', 'sheepshearers', 'shekel', 'shekels', 'shepherd', 'shepherds', 'shew', 'shewed', 'sheweth', 'shield', 'ships', 'shoelatchet', 'shore', 'shortly', 'shot', 'should', 'shoulder', 'shoulders', 'shouldest', 'shrank', 'shrubs', 'shut', 'si', 'side', 'sight', 'signet', 'signs', 'silv', 'silver', 'sin', 'since', 'sinew', 'sinners', 'sinning', 'sir', 'sist', 'sister', 'sit', 'six', 'sixteen', 'sixth', 'sixty', 'skins', 'slain', 'slaughter', 'slay', 'slayeth', 'sle', 'sleep', 'slept', 'slew', 'slime', 'slimepits', 'small', 'smell', 'smelled', 'smite', 'smoke', 'smoking', 'smooth', 'smote', 'so', 'sod', 'softly', 'sojourn', 'sojourned', 'sojourner', 'sold', 'sole', 'solemnly', 'some', 'son', 'songs', 'sons', 'soon', 'sore', 'sorely', 'sorrow', 'sort', 'sou', 'sought', 'soul', 'souls', 'south', 'southward', 'sow', 'sowed', 'space', 'spake', 'spare', 'spe', 'speak', 'speaketh', 'speaking', 'speckl', 'speckled', 'spee', 'speech', 'speed', 'speedily', 'spent', 'spi', 'spicery', 'spices', 'spies', 'spilled', 'spirit', 'spoil', 'spoiled', 'spoken', 'sporting', 'spotted', 'spread', 'springing', 'sprung', 'staff', 'stalk', 'stand', 'standest', 'stars', 'state', 'statutes', 'stay', 'stayed', 'ste', 'stead', 'steal', 'steward', 'still', 'stink', 'sto', 'stole', 'stolen', 'stone', 'stones', 'stood', 'stooped', 'stopped', 'store', 'storehouses', 'stories', 'straitly', 'strakes', 'strange', 'stranger', 'strangers', 'straw', 'street', 'strength', 'strengthened', 'stretched', 'stricken', 'strife', 'stript', 'strive', 'strong', 'stronger', 'strove', 'struggled', 'stuff', 'subdue', 'submit', 'substance', 'subtil', 'subtilty', 'such', 'suck', 'suffered', 'summer', 'sun', 'supplanted', 'sure', 'surely', 'surety', 'sustained', 'sware', 'swear', 'sweat', 'sweet', 'sword', 'sworn', 'tabret', 'tak', 'take', 'taken', 'talked', 'talking', 'tar', 'tarried', 'tarry', 'teeth', 'tell', 'tempt', 'ten', 'tender', 'tenor', 'tent', 'tenth', 'tents', 'terror', 'th', 'than', 'that', 'the', 'thee', 'their', 'them', 'themselv', 'themselves', 'then', 'thence', 'there', 'thereby', 'therefore', 'therein', 'thereof', 'thereon', 'these', 'they', 'thi', 'thicket', 'thigh', 'thin', 'thine', 'thing', 'things', 'think', 'third', 'thirteen', 'thirteenth', 'thirty', 'this', 'thistles', 'thither', 'thoroughly', 'those', 'thou', 'though', 'thought', 'thoughts', 'thousand', 'thousands', 'thread', 'three', 'threescore', 'threshingfloor', 'throne', 'through', 'throughout', 'thus', 'thy', 'thyself', 'tidings', 'till', 'tiller', 'tillest', 'tim', 'time', 'times', 'tithes', 'to', 'togeth', 'together', 'toil', 'token', 'told', 'tongue', 'tongues', 'too', 'took', 'top', 'tops', 'torn', 'touch', 'touched', 'toucheth', 'touching', 'toward', 'tower', 'towns', 'tr', 'trade', 'traffick', 'trained', 'travail', 'travailed', 'treasure', 'tree', 'trees', 'trembled', 'trespass', 'tribes', 'tribute', 'troop', 'troubled', 'trough', 'troughs', 'tru', 'true', 'truly', 'truth', 'turn', 'turned', 'turtledove', 'twel', 'twelve', 'twentieth', 'twenty', 'twice', 'twins', 'two', 'unawares', 'uncircumcised', 'uncovered', 'under', 'understand', 'understood', 'ungirded', 'unit', 'unleavened', 'until', 'unto', 'up', 'upon', 'uppermost', 'upright', 'upward', 'urged', 'us', 'utmost', 'vagabond', 'vail', 'vale', 'valley', 'vengeance', 'venison', 'verified', 'verily', 'very', 'vessels', 'vestures', 'victuals', 'vine', 'vineyard', 'violence', 'violently', 'virgin', 'vision', 'visions', 'visit', 'visited', 'voi', 'voice', 'void', 'vow', 'vowed', 'vowedst', 'w', 'wa', 'wages', 'wagons', 'waited', 'walk', 'walked', 'walketh', 'walking', 'wall', 'wander', 'wandered', 'wandering', 'war', 'ward', 'was', 'wash', 'washed', 'wast', 'wat', 'watch', 'water', 'watered', 'watering', 'waters', 'waxed', 'waxen', 'way', 'ways', 'we', 'wealth', 'weaned', 'weapons', 'wearied', 'weary', 'week', 'weep', 'weig', 'weighed', 'weight', 'welfare', 'well', 'wells', 'went', 'wentest', 'wept', 'were', 'west', 'westwa', 'whales', 'what', 'whatsoever', 'wheat', 'whelp', 'when', 'whence', 'whensoever', 'where', 'whereby', 'wherefore', 'wherein', 'whereof', 'whereon', 'wherewith', 'whether', 'which', 'while', 'white', 'whither', 'who', 'whole', 'whom', 'whomsoever', 'whoredom', 'whose', 'whosoever', 'why', 'wi', 'wick', 'wicked', 'wickedly', 'wickedness', 'widow', 'widowhood', 'wife', 'wild', 'wilderness', 'will', 'willing', 'wilt', 'wind', 'window', 'windows', 'wine', 'winged', 'winter', 'wise', 'wit', 'with', 'withered', 'withheld', 'withhold', 'within', 'without', 'witness', 'wittingly', 'wiv', 'wives', 'wo', 'wolf', 'woman', 'womb', 'wombs', 'women', 'womenservan', 'womenservants', 'wondering', 'wood', 'wor', 'word', 'words', 'work', 'worse', 'worship', 'worshipped', 'worth', 'worthy', 'wot', 'wotteth', 'would', 'wouldest', 'wounding', 'wrapped', 'wrath', 'wrestled', 'wrestlings', 'wrong', 'wroth', 'wrought', 'y', 'ye', 'yea', 'year', 'yearn', 'years', 'yesternight', 'yet', 'yield', 'yielded', 'yielding', 'yoke', 'yonder', 'you', 'young', 'younge', 'younger', 'youngest', 'your', 'yourselves', 'youth']\n",
      "\n"
     ]
    },
    {
     "data": {
      "text/plain": [
       "2789"
      ]
     },
     "execution_count": 25,
     "metadata": {},
     "output_type": "execute_result"
    }
   ],
   "execution_count": 25
  },
  {
   "metadata": {
    "ExecuteTime": {
     "end_time": "2025-02-13T11:52:07.752335Z",
     "start_time": "2025-02-13T11:52:07.746807Z"
    }
   },
   "cell_type": "code",
   "source": [
    "perc: float = len(set(text3)) / len(text3)\n",
    "print(perc)\n",
    "print(f\"About {(perc * 100):.2f}% of the words in the text are unique\")"
   ],
   "id": "1818bad2fc7d5e61",
   "outputs": [
    {
     "name": "stdout",
     "output_type": "stream",
     "text": [
      "0.06230453042623537\n",
      "About 6.23% of the words in the text are unique\n"
     ]
    }
   ],
   "execution_count": 26
  },
  {
   "metadata": {
    "ExecuteTime": {
     "end_time": "2025-02-13T11:52:07.756046Z",
     "start_time": "2025-02-13T11:52:07.752828Z"
    }
   },
   "cell_type": "code",
   "source": [
    "print(text3.count(\"smote\"))\n",
    "print(100 * text4.count(\"a\") / len(text4))"
   ],
   "id": "87b82ef33222d6ac",
   "outputs": [
    {
     "name": "stdout",
     "output_type": "stream",
     "text": [
      "5\n",
      "1.457806031353621\n"
     ]
    }
   ],
   "execution_count": 27
  },
  {
   "metadata": {
    "ExecuteTime": {
     "end_time": "2025-02-13T11:52:07.759005Z",
     "start_time": "2025-02-13T11:52:07.756518Z"
    }
   },
   "cell_type": "code",
   "source": [
    "print(text5.count(\"lol\"))\n",
    "print(100 * text5.count(\"lol\") / len(text5))"
   ],
   "id": "3898ebe4014f1449",
   "outputs": [
    {
     "name": "stdout",
     "output_type": "stream",
     "text": [
      "704\n",
      "1.5640968673628082\n"
     ]
    }
   ],
   "execution_count": 28
  },
  {
   "metadata": {
    "ExecuteTime": {
     "end_time": "2025-02-13T11:52:07.760820Z",
     "start_time": "2025-02-13T11:52:07.759415Z"
    }
   },
   "cell_type": "code",
   "source": [
    "def lexical_diversity(text):\n",
    "    return len(set(text)) / len(text)\n",
    "\n",
    "def percentage(count, total):\n",
    "    return 100 * count / total"
   ],
   "id": "7fc617510596da0e",
   "outputs": [],
   "execution_count": 29
  },
  {
   "metadata": {
    "ExecuteTime": {
     "end_time": "2025-02-13T11:52:07.772380Z",
     "start_time": "2025-02-13T11:52:07.761237Z"
    }
   },
   "cell_type": "code",
   "source": [
    "print(lexical_diversity(text3))\n",
    "print(lexical_diversity(text5))\n",
    "print(percentage(4, 5))\n",
    "print(percentage(text4.count(\"a\"), len(text4)))"
   ],
   "id": "84997d9014ce52e7",
   "outputs": [
    {
     "name": "stdout",
     "output_type": "stream",
     "text": [
      "0.06230453042623537\n",
      "0.13477005109975562\n",
      "80.0\n",
      "1.457806031353621\n"
     ]
    }
   ],
   "execution_count": 30
  },
  {
   "metadata": {},
   "cell_type": "markdown",
   "source": "2 -> A Closer Look at Python: Texts as Lists of Words",
   "id": "c91db2d5dfaaf9e9"
  },
  {
   "metadata": {},
   "cell_type": "markdown",
   "source": "2.1 -> Lists",
   "id": "55afb9447e27ba3b"
  },
  {
   "metadata": {
    "ExecuteTime": {
     "end_time": "2025-02-13T11:52:07.776949Z",
     "start_time": "2025-02-13T11:52:07.775483Z"
    }
   },
   "cell_type": "code",
   "source": [
    "sent1 = ['Call', 'me', 'Ishmael', '.']\n",
    "print(sent1)\n",
    "print(len(sent1))\n",
    "print(lexical_diversity(sent1))"
   ],
   "id": "cb751f5749485e39",
   "outputs": [
    {
     "name": "stdout",
     "output_type": "stream",
     "text": [
      "['Call', 'me', 'Ishmael', '.']\n",
      "4\n",
      "1.0\n"
     ]
    }
   ],
   "execution_count": 31
  },
  {
   "metadata": {
    "ExecuteTime": {
     "end_time": "2025-02-13T11:52:07.778802Z",
     "start_time": "2025-02-13T11:52:07.777338Z"
    }
   },
   "cell_type": "code",
   "source": [
    "print(sent2)\n",
    "print(\"----------------------------------------------------------------------------------------\")\n",
    "print(sent3)"
   ],
   "id": "f524c1f9dc00bd2f",
   "outputs": [
    {
     "name": "stdout",
     "output_type": "stream",
     "text": [
      "['The', 'family', 'of', 'Dashwood', 'had', 'long', 'been', 'settled', 'in', 'Sussex', '.']\n",
      "----------------------------------------------------------------------------------------\n",
      "['In', 'the', 'beginning', 'God', 'created', 'the', 'heaven', 'and', 'the', 'earth', '.']\n"
     ]
    }
   ],
   "execution_count": 32
  },
  {
   "metadata": {
    "ExecuteTime": {
     "end_time": "2025-02-13T11:52:07.780762Z",
     "start_time": "2025-02-13T11:52:07.779307Z"
    }
   },
   "cell_type": "code",
   "source": [
    "ex1 = [\"Monty\", \"Python\", \"and\", \"the\", \"Holy\", \"Grail\"]\n",
    "print(ex1)\n",
    "print(sorted(ex1)) # First sorts the capitalized words in order then the lower-case words\n",
    "print(len(set(ex1))) # Counts unique words (tokens)\n",
    "print(ex1.count(\"the\"))"
   ],
   "id": "1779a7c196b30644",
   "outputs": [
    {
     "name": "stdout",
     "output_type": "stream",
     "text": [
      "['Monty', 'Python', 'and', 'the', 'Holy', 'Grail']\n",
      "['Grail', 'Holy', 'Monty', 'Python', 'and', 'the']\n",
      "6\n",
      "1\n"
     ]
    }
   ],
   "execution_count": 33
  },
  {
   "metadata": {
    "ExecuteTime": {
     "end_time": "2025-02-13T11:52:07.783087Z",
     "start_time": "2025-02-13T11:52:07.781340Z"
    }
   },
   "cell_type": "code",
   "source": "[\"Monty\", \"Python\"] + [\"and\", \"the\", \"Holy\", \"Grail\"]",
   "id": "d6bfc7c1cc5427c1",
   "outputs": [
    {
     "data": {
      "text/plain": [
       "['Monty', 'Python', 'and', 'the', 'Holy', 'Grail']"
      ]
     },
     "execution_count": 34,
     "metadata": {},
     "output_type": "execute_result"
    }
   ],
   "execution_count": 34
  },
  {
   "metadata": {
    "ExecuteTime": {
     "end_time": "2025-02-13T11:52:07.784877Z",
     "start_time": "2025-02-13T11:52:07.783442Z"
    }
   },
   "cell_type": "code",
   "source": "print(sent4 + sent1)",
   "id": "b598ff9b511d5ac1",
   "outputs": [
    {
     "name": "stdout",
     "output_type": "stream",
     "text": [
      "['Fellow', '-', 'Citizens', 'of', 'the', 'Senate', 'and', 'of', 'the', 'House', 'of', 'Representatives', ':', 'Call', 'me', 'Ishmael', '.']\n"
     ]
    }
   ],
   "execution_count": 35
  },
  {
   "metadata": {
    "ExecuteTime": {
     "end_time": "2025-02-13T11:52:07.786688Z",
     "start_time": "2025-02-13T11:52:07.785374Z"
    }
   },
   "cell_type": "code",
   "source": [
    "sent1.append(\"Some\")\n",
    "print(sent1)"
   ],
   "id": "2e42a2b83b62d9ba",
   "outputs": [
    {
     "name": "stdout",
     "output_type": "stream",
     "text": [
      "['Call', 'me', 'Ishmael', '.', 'Some']\n"
     ]
    }
   ],
   "execution_count": 36
  },
  {
   "metadata": {},
   "cell_type": "markdown",
   "source": "2.2 -> Indexing Lists",
   "id": "57390418abb2450d"
  },
  {
   "metadata": {
    "ExecuteTime": {
     "end_time": "2025-02-13T11:52:07.788777Z",
     "start_time": "2025-02-13T11:52:07.787147Z"
    }
   },
   "cell_type": "code",
   "source": "text4[173]",
   "id": "a3bcb584e4a509a1",
   "outputs": [
    {
     "data": {
      "text/plain": [
       "'awaken'"
      ]
     },
     "execution_count": 37,
     "metadata": {},
     "output_type": "execute_result"
    }
   ],
   "execution_count": 37
  },
  {
   "metadata": {
    "ExecuteTime": {
     "end_time": "2025-02-13T11:52:07.791131Z",
     "start_time": "2025-02-13T11:52:07.789398Z"
    }
   },
   "cell_type": "code",
   "source": "text4.index(\"awaken\")",
   "id": "d07469f5e3658441",
   "outputs": [
    {
     "data": {
      "text/plain": [
       "173"
      ]
     },
     "execution_count": 38,
     "metadata": {},
     "output_type": "execute_result"
    }
   ],
   "execution_count": 38
  },
  {
   "metadata": {
    "ExecuteTime": {
     "end_time": "2025-02-13T11:52:07.792858Z",
     "start_time": "2025-02-13T11:52:07.791566Z"
    }
   },
   "cell_type": "code",
   "source": "print(text5[16715:16735])",
   "id": "fc1d01e6f668f9b3",
   "outputs": [
    {
     "name": "stdout",
     "output_type": "stream",
     "text": [
      "['U86', 'thats', 'why', 'something', 'like', 'gamefly', 'is', 'so', 'good', 'because', 'you', 'can', 'actually', 'play', 'a', 'full', 'game', 'without', 'buying', 'it']\n"
     ]
    }
   ],
   "execution_count": 39
  },
  {
   "metadata": {
    "ExecuteTime": {
     "end_time": "2025-02-13T11:52:07.794685Z",
     "start_time": "2025-02-13T11:52:07.793325Z"
    }
   },
   "cell_type": "code",
   "source": "print(text6[1600:1625])",
   "id": "f54513ddfe13bbea",
   "outputs": [
    {
     "name": "stdout",
     "output_type": "stream",
     "text": [
      "['We', \"'\", 're', 'an', 'anarcho', '-', 'syndicalist', 'commune', '.', 'We', 'take', 'it', 'in', 'turns', 'to', 'act', 'as', 'a', 'sort', 'of', 'executive', 'officer', 'for', 'the', 'week']\n"
     ]
    }
   ],
   "execution_count": 40
  },
  {
   "metadata": {
    "ExecuteTime": {
     "end_time": "2025-02-13T11:52:07.796676Z",
     "start_time": "2025-02-13T11:52:07.795242Z"
    }
   },
   "cell_type": "code",
   "source": [
    "sent = [\"word1\", \"word2\", \"word3\", \"word4\", \"word5\", \"word6\", \"word7\", \"word8\", \"word9\", \"word10\"]\n",
    "print(sent[0])\n",
    "print(sent[9])"
   ],
   "id": "68ed3314e10d3018",
   "outputs": [
    {
     "name": "stdout",
     "output_type": "stream",
     "text": [
      "word1\n",
      "word10\n"
     ]
    }
   ],
   "execution_count": 41
  },
  {
   "metadata": {
    "ExecuteTime": {
     "end_time": "2025-02-13T11:52:08.056361Z",
     "start_time": "2025-02-13T11:52:07.797090Z"
    }
   },
   "cell_type": "code",
   "source": "print(sent[10])",
   "id": "c3787e3aac253756",
   "outputs": [
    {
     "ename": "IndexError",
     "evalue": "list index out of range",
     "output_type": "error",
     "traceback": [
      "\u001B[0;31m---------------------------------------------------------------------------\u001B[0m",
      "\u001B[0;31mIndexError\u001B[0m                                Traceback (most recent call last)",
      "Cell \u001B[0;32mIn[42], line 1\u001B[0m\n\u001B[0;32m----> 1\u001B[0m \u001B[38;5;28mprint\u001B[39m(sent[\u001B[38;5;241m10\u001B[39m])\n",
      "\u001B[0;31mIndexError\u001B[0m: list index out of range"
     ]
    }
   ],
   "execution_count": 42
  },
  {
   "metadata": {
    "ExecuteTime": {
     "end_time": "2025-02-13T11:52:18.293776Z",
     "start_time": "2025-02-13T11:52:18.290953Z"
    }
   },
   "cell_type": "code",
   "source": [
    "print(sent[5:8]) # list[inclusive:exclusive]\n",
    "print(sent[5])\n",
    "print(sent[6])\n",
    "print(sent[7])"
   ],
   "id": "ed16433ff5dc2d65",
   "outputs": [
    {
     "name": "stdout",
     "output_type": "stream",
     "text": [
      "['word6', 'word7', 'word8']\n",
      "word6\n",
      "word7\n",
      "word8\n"
     ]
    }
   ],
   "execution_count": 43
  },
  {
   "metadata": {
    "ExecuteTime": {
     "end_time": "2025-02-13T11:52:20.176506Z",
     "start_time": "2025-02-13T11:52:20.173853Z"
    }
   },
   "cell_type": "code",
   "source": [
    "print(sent[:3])\n",
    "print()\n",
    "print(text2[141525:])"
   ],
   "id": "82a70aa41d49228",
   "outputs": [
    {
     "name": "stdout",
     "output_type": "stream",
     "text": [
      "['word1', 'word2', 'word3']\n",
      "\n",
      "['among', 'the', 'merits', 'and', 'the', 'happiness', 'of', 'Elinor', 'and', 'Marianne', ',', 'let', 'it', 'not', 'be', 'ranked', 'as', 'the', 'least', 'considerable', ',', 'that', 'though', 'sisters', ',', 'and', 'living', 'almost', 'within', 'sight', 'of', 'each', 'other', ',', 'they', 'could', 'live', 'without', 'disagreement', 'between', 'themselves', ',', 'or', 'producing', 'coolness', 'between', 'their', 'husbands', '.', 'THE', 'END']\n"
     ]
    }
   ],
   "execution_count": 44
  },
  {
   "metadata": {
    "ExecuteTime": {
     "end_time": "2025-02-13T11:52:22.554906Z",
     "start_time": "2025-02-13T11:52:22.552008Z"
    }
   },
   "cell_type": "code",
   "source": [
    "sent[0] = \"First\"\n",
    "sent[9] = \"Last\"\n",
    "print(len(sent))\n",
    "print()\n",
    "sent[1:9] = [\"Second\", \"Third\"]\n",
    "print(sent)"
   ],
   "id": "1de99c607fc66281",
   "outputs": [
    {
     "name": "stdout",
     "output_type": "stream",
     "text": [
      "10\n",
      "\n",
      "['First', 'Second', 'Third', 'Last']\n"
     ]
    }
   ],
   "execution_count": 45
  },
  {
   "metadata": {
    "ExecuteTime": {
     "end_time": "2025-02-13T11:52:23.951774Z",
     "start_time": "2025-02-13T11:52:23.940590Z"
    }
   },
   "cell_type": "code",
   "source": "print(sent[9])",
   "id": "2f1eb3483a352cee",
   "outputs": [
    {
     "ename": "IndexError",
     "evalue": "list index out of range",
     "output_type": "error",
     "traceback": [
      "\u001B[0;31m---------------------------------------------------------------------------\u001B[0m",
      "\u001B[0;31mIndexError\u001B[0m                                Traceback (most recent call last)",
      "Cell \u001B[0;32mIn[46], line 1\u001B[0m\n\u001B[0;32m----> 1\u001B[0m \u001B[38;5;28mprint\u001B[39m(sent[\u001B[38;5;241m9\u001B[39m])\n",
      "\u001B[0;31mIndexError\u001B[0m: list index out of range"
     ]
    }
   ],
   "execution_count": 46
  },
  {
   "metadata": {},
   "cell_type": "markdown",
   "source": "2.3 -> Variables",
   "id": "8025487f9e056e7"
  },
  {
   "metadata": {
    "ExecuteTime": {
     "end_time": "2025-02-13T11:52:25.660661Z",
     "start_time": "2025-02-13T11:52:25.657635Z"
    }
   },
   "cell_type": "code",
   "source": [
    "my_sent = [\"Bravely\", \"bold\", \"Sir\", \"Robin\", \",\" \"rode\", \"forth\", \"from\", \"Camelot\", \".\"]\n",
    "noun_phrase = my_sent[1:4]\n",
    "print(noun_phrase)\n",
    "print()\n",
    "wOrDs = sorted(noun_phrase)\n",
    "print(wOrDs)"
   ],
   "id": "5eb37e4b49adb4ba",
   "outputs": [
    {
     "name": "stdout",
     "output_type": "stream",
     "text": [
      "['bold', 'Sir', 'Robin']\n",
      "\n",
      "['Robin', 'Sir', 'bold']\n"
     ]
    }
   ],
   "execution_count": 47
  },
  {
   "metadata": {
    "ExecuteTime": {
     "end_time": "2025-02-13T11:52:27.191467Z",
     "start_time": "2025-02-13T11:52:27.188055Z"
    }
   },
   "cell_type": "code",
   "source": "not = \"Camelot\"",
   "id": "d33539ff8e1a60cb",
   "outputs": [
    {
     "ename": "SyntaxError",
     "evalue": "invalid syntax (78270747.py, line 1)",
     "output_type": "error",
     "traceback": [
      "\u001B[0;36m  Cell \u001B[0;32mIn[48], line 1\u001B[0;36m\u001B[0m\n\u001B[0;31m    not = \"Camelot\"\u001B[0m\n\u001B[0m        ^\u001B[0m\n\u001B[0;31mSyntaxError\u001B[0m\u001B[0;31m:\u001B[0m invalid syntax\n"
     ]
    }
   ],
   "execution_count": 48
  },
  {
   "metadata": {
    "ExecuteTime": {
     "end_time": "2025-02-13T11:52:27.917560Z",
     "start_time": "2025-02-13T11:52:27.888880Z"
    }
   },
   "cell_type": "code",
   "source": [
    "vocab = set(text1)\n",
    "vocab_size = len(vocab)\n",
    "print(vocab_size)"
   ],
   "id": "ffb8f248323f50b9",
   "outputs": [
    {
     "name": "stdout",
     "output_type": "stream",
     "text": [
      "19317\n"
     ]
    }
   ],
   "execution_count": 49
  },
  {
   "metadata": {},
   "cell_type": "markdown",
   "source": "2.4 -> Strings",
   "id": "5f4a8090d11400b"
  },
  {
   "metadata": {
    "ExecuteTime": {
     "end_time": "2025-02-13T11:52:29.381248Z",
     "start_time": "2025-02-13T11:52:29.379094Z"
    }
   },
   "cell_type": "code",
   "source": [
    "name = \"Monty\"\n",
    "print(name[0])\n",
    "print(name[:4])"
   ],
   "id": "9d589105cada7238",
   "outputs": [
    {
     "name": "stdout",
     "output_type": "stream",
     "text": [
      "M\n",
      "Mont\n"
     ]
    }
   ],
   "execution_count": 50
  },
  {
   "metadata": {
    "ExecuteTime": {
     "end_time": "2025-02-13T11:52:29.991102Z",
     "start_time": "2025-02-13T11:52:29.989251Z"
    }
   },
   "cell_type": "code",
   "source": [
    "print(name*2)\n",
    "print()\n",
    "print(name + \"!\")"
   ],
   "id": "305ef58429b22bc6",
   "outputs": [
    {
     "name": "stdout",
     "output_type": "stream",
     "text": [
      "MontyMonty\n",
      "\n",
      "Monty!\n"
     ]
    }
   ],
   "execution_count": 51
  },
  {
   "metadata": {
    "ExecuteTime": {
     "end_time": "2025-02-13T11:52:34.022522Z",
     "start_time": "2025-02-13T11:52:34.019201Z"
    }
   },
   "cell_type": "code",
   "source": [
    "print(\" \".join([\"Monty\", \"Python\"]))\n",
    "print()\n",
    "print(\"Monty Python\".split())"
   ],
   "id": "62c8e0f2e532a075",
   "outputs": [
    {
     "name": "stdout",
     "output_type": "stream",
     "text": [
      "Monty Python\n",
      "\n",
      "['Monty', 'Python']\n"
     ]
    }
   ],
   "execution_count": 52
  },
  {
   "metadata": {},
   "cell_type": "markdown",
   "source": "3 -> Computing with Language: Simple Statistics",
   "id": "5165d954188eaee8"
  },
  {
   "metadata": {
    "ExecuteTime": {
     "end_time": "2025-02-13T12:00:15.034251Z",
     "start_time": "2025-02-13T12:00:15.031742Z"
    }
   },
   "cell_type": "code",
   "source": [
    "saying = [\"After\", \"all\", \"is\", \"said\", \"and\", \"done\", \"more\", \"is\", \"said\", \"than\", \"done\"]\n",
    "unique_tokens = set(saying)\n",
    "tokens = sorted(unique_tokens) # [\"After\", \"all\", \"and\", \"done, \"is\", \"more\", \"said\", \"than\"]\n",
    "print(tokens[-2:]) # Starts from index -2 which is from the last element and continues until\n",
    "                   # the end of the list"
   ],
   "id": "c33584a4aca9c780",
   "outputs": [
    {
     "name": "stdout",
     "output_type": "stream",
     "text": [
      "['said', 'than']\n"
     ]
    }
   ],
   "execution_count": 61
  },
  {
   "metadata": {},
   "cell_type": "markdown",
   "source": "3.1 -> Frequency Distributions",
   "id": "5d65012d5ceae8a4"
  },
  {
   "metadata": {
    "ExecuteTime": {
     "end_time": "2025-02-13T12:04:03.830589Z",
     "start_time": "2025-02-13T12:04:03.731898Z"
    }
   },
   "cell_type": "code",
   "source": [
    "fdist1 = FreqDist(text1)\n",
    "print(fdist1)\n",
    "print()\n",
    "print(fdist1.most_common(50))\n",
    "print()\n",
    "print(fdist1[\"whale\"])"
   ],
   "id": "4222bcdec8981e5b",
   "outputs": [
    {
     "name": "stdout",
     "output_type": "stream",
     "text": [
      "<FreqDist with 19317 samples and 260819 outcomes>\n",
      "\n",
      "[(',', 18713), ('the', 13721), ('.', 6862), ('of', 6536), ('and', 6024), ('a', 4569), ('to', 4542), (';', 4072), ('in', 3916), ('that', 2982), (\"'\", 2684), ('-', 2552), ('his', 2459), ('it', 2209), ('I', 2124), ('s', 1739), ('is', 1695), ('he', 1661), ('with', 1659), ('was', 1632), ('as', 1620), ('\"', 1478), ('all', 1462), ('for', 1414), ('this', 1280), ('!', 1269), ('at', 1231), ('by', 1137), ('but', 1113), ('not', 1103), ('--', 1070), ('him', 1058), ('from', 1052), ('be', 1030), ('on', 1005), ('so', 918), ('whale', 906), ('one', 889), ('you', 841), ('had', 767), ('have', 760), ('there', 715), ('But', 705), ('or', 697), ('were', 680), ('now', 646), ('which', 640), ('?', 637), ('me', 627), ('like', 624)]\n",
      "\n",
      "906\n"
     ]
    }
   ],
   "execution_count": 66
  },
  {
   "metadata": {
    "ExecuteTime": {
     "end_time": "2025-02-13T12:10:26.024188Z",
     "start_time": "2025-02-13T12:10:25.964938Z"
    }
   },
   "cell_type": "code",
   "source": [
    "fdist2 = FreqDist(text2)\n",
    "print(fdist2)\n",
    "print()\n",
    "print(fdist2.most_common(50))\n",
    "print()\n",
    "print(fdist2[\"mother\"])"
   ],
   "id": "1455d783e998a444",
   "outputs": [
    {
     "name": "stdout",
     "output_type": "stream",
     "text": [
      "<FreqDist with 6833 samples and 141576 outcomes>\n",
      "\n",
      "[(',', 9397), ('to', 4063), ('.', 3975), ('the', 3861), ('of', 3565), ('and', 3350), ('her', 2436), ('a', 2043), ('I', 2004), ('in', 1904), ('was', 1846), ('it', 1568), ('\"', 1506), (';', 1419), ('she', 1333), ('be', 1305), ('that', 1297), ('for', 1234), ('not', 1212), ('as', 1179), ('you', 1037), ('with', 971), ('had', 969), ('his', 941), ('he', 895), (\"'\", 883), ('have', 807), ('at', 806), ('by', 737), ('is', 728), ('.\"', 721), ('s', 700), ('Elinor', 684), ('on', 676), ('all', 642), ('him', 633), ('so', 617), ('but', 597), ('which', 592), ('could', 568), ('Marianne', 566), ('my', 551), ('Mrs', 530), ('from', 527), ('would', 507), ('very', 492), ('no', 488), ('their', 463), ('them', 462), ('--', 461)]\n",
      "\n",
      "258\n"
     ]
    }
   ],
   "execution_count": 80
  },
  {
   "metadata": {
    "ExecuteTime": {
     "end_time": "2025-02-13T12:14:02.699269Z",
     "start_time": "2025-02-13T12:14:02.592408Z"
    }
   },
   "cell_type": "code",
   "source": [
    "c_plot = fdist1.plot(50, title=\"Cumulative frequency of words in text1\" ,cumulative=True)\n",
    "print(c_plot)\n",
    "# Cumulative plot on the proportion of text taken up by words, from the plot it can be seen that\n",
    "# the 'filler' words make up a lot of the text"
   ],
   "id": "44571882d130f9ec",
   "outputs": [
    {
     "name": "stdout",
     "output_type": "stream",
     "text": [
      "Axes(0.125,0.11;0.775x0.77)\n"
     ]
    },
    {
     "data": {
      "text/plain": [
       "<Figure size 640x480 with 1 Axes>"
      ],
      "image/png": "[encoded data removed]"
     },
     "metadata": {},
     "output_type": "display_data"
    }
   ],
   "execution_count": 89
  },
  {
   "metadata": {
    "ExecuteTime": {
     "end_time": "2025-02-13T12:17:15.178235Z",
     "start_time": "2025-02-13T12:17:15.169003Z"
    }
   },
   "cell_type": "code",
   "source": [
    "# Hapaxes are words that only occur once in the text; it looks like there are too many rare words which are not commonly used, therefore without context this will not provide sufficient analysis of the text and other methods of analysis are needed (neither frequent nor infrequent words give much insight)\n",
    "print(fdist1.hapaxes())"
   ],
   "id": "196c9ffa8d625b59",
   "outputs": [
    {
     "name": "stdout",
     "output_type": "stream",
     "text": [
      "['Herman', 'Melville', ']', 'ETYMOLOGY', 'Late', 'Consumptive', 'School', 'threadbare', 'lexicons', 'mockingly', 'flags', 'mortality', 'signification', 'HACKLUYT', 'Sw', 'HVAL', 'roundness', 'Dut', 'Ger', 'WALLEN', 'WALW', 'IAN', 'RICHARDSON', 'KETOS', 'GREEK', 'CETUS', 'LATIN', 'WHOEL', 'ANGLO', 'SAXON', 'WAL', 'HWAL', 'SWEDISH', 'ICELANDIC', 'BALEINE', 'BALLENA', 'FEGEE', 'ERROMANGOAN', 'Librarian', 'painstaking', 'burrower', 'grub', 'Vaticans', 'stalls', 'higgledy', 'piggledy', 'gospel', 'promiscuously', 'commentator', 'belongest', 'sallow', 'Pale', 'Sherry', 'loves', 'bluntly', 'Subs', 'thankless', 'Hampton', 'Court', 'hie', 'refugees', 'pampered', 'Michael', 'Raphael', 'unsplinterable', 'GENESIS', 'JOB', 'JONAH', 'punish', 'ISAIAH', 'soever', 'cometh', 'incontinently', 'perisheth', 'PLUTARCH', 'MORALS', 'breedeth', 'Whirlpooles', 'Balaene', 'arpens', 'PLINY', 'Scarcely', 'TOOKE', 'LUCIAN', 'TRUE', 'catched', 'OCTHER', 'VERBAL', 'TAKEN', 'MOUTH', 'ALFRED', '890', 'gudgeon', 'retires', 'MONTAIGNE', 'APOLOGY', 'RAIMOND', 'SEBOND', 'Nick', 'RABELAIS', 'cartloads', 'STOWE', 'ANNALS', 'LORD', 'BACON', 'Touching', 'ork', 'DEATH', 'sovereignest', 'bruise', 'HAMLET', 'leach', 'Mote', 'availle', 'returne', 'againe', 'worker', 'Dinting', 'paine', 'thro', 'maine', 'FAERIE', 'Immense', 'til', 'DAVENANT', 'PREFACE', 'GONDIBERT', 'spermacetti', 'Hosmannus', 'Nescio', 'VIDE', 'Spencer', 'Talus', 'flail', 'threatens', 'jav', 'lins', 'WALLER', 'SUMMER', 'ISLANDS', 'Commonwealth', 'Civitas', 'OPENING', 'SENTENCE', 'HOBBES', 'LEVIATHAN', 'Silly', 'Mansoul', 'chewing', 'sprat', 'PILGRIM', 'PROGRESS', 'Created', 'PARADISE', 'LOST', '---\"', 'Hugest', 'Stretched', 'Draws', 'FULLLER', 'PROFANE', 'HOLY', 'STATE', 'DRYDEN', 'ANNUS', 'MIRABILIS', 'aground', 'EDGE', 'TEN', 'SPITZBERGEN', 'PURCHAS', 'wantonness', 'fuzzing', 'vents', 'HERBERT', 'INTO', 'ASIA', 'AFRICA', 'SCHOUTEN', 'SIXTH', 'CIRCUMNAVIGATION', 'Elbe', 'ducat', 'herrings', 'GREENLAND', 'Several', 'Fife', 'Anno', '1652', 'Pitferren', 'SIBBALD', 'FIFE', 'KINROSS', 'Myself', 'Sperma', 'ceti', 'fierceness', 'RICHARD', 'STRAFFORD', 'LETTER', 'BERMUDAS', 'PHIL', 'TRANS', '1668', 'PRIMER', 'COWLEY', '1729', '\"...', 'frequendy', 'insupportable', 'disorder', 'ULLOA', 'SOUTH', 'AMERICA', 'sylphs', 'petticoat', 'Oft', 'Tho', 'RAPE', 'LOCK', 'NAT', 'wales', 'JOHNSON', 'COOK', 'dung', 'lime', 'juniper', 'UNO', 'VON', 'TROIL', 'LETTERS', 'BANKS', 'SOLANDER', '1772', 'Nantuckois', 'JEFFERSON', 'MEMORIAL', 'MINISTER', 'REFERENCE', 'PARLIAMENT', 'SOMEWHERE', 'guarding', 'protecting', 'robbers', 'BLACKSTONE', 'Rodmond', 'suspends', 'attends', 'FALCONER', 'Bright', 'roofs', 'domes', 'rockets', 'Around', 'unwieldy', 'COWPER', 'VISIT', 'LONDON', 'HUNTER', 'DISSECTION', 'SMALL', 'SIZED', 'aorta', 'gushing', 'PALEY', 'THEOLOGY', 'mammiferous', 'hind', 'BARON', 'CUVIER', 'COLNETT', 'PURPOSE', 'EXTENDING', 'SPERMACETI', 'Floundered', 'chace', 'peopling', 'Gather', 'Led', 'instincts', 'trackless', 'Assaulted', 'voracious', 'spiral', 'MONTGOMERY', 'WORLD', 'FLOOD', 'Paean', 'fatter', 'Flounders', 'CHARLES', 'LAMB', 'TRIUMPH', '1690', 'OBED', 'Susan', 'HAWTHORNE', 'TWICE', 'bespeak', 'raal', 'COOPER', 'PILOT', 'Berlin', 'Gazette', 'ECKERMANN', 'CONVERSATIONS', 'GOETHE', 'ESSEX', 'WAS', 'ATTACKED', 'FINALLY', 'DESTROYED', 'OWEN', 'CHACE', 'FIRST', 'SAID', 'VESSEL', 'YORK', '1821', 'piping', 'dimmed', 'phospher', 'ELIZABETH', 'OAKES', 'SMITH', 'amounted', '440', 'SCORESBY', 'Mad', 'agonies', 'endures', 'infuriated', 'rears', 'snaps', 'propelled', 'observers', 'opportunities', 'habitudes', 'BEALE', 'offensively', 'artful', 'mischievous', 'FREDERICK', 'DEBELL', '1840', 'October', 'Raise', 'ay', 'THAR', 'bowes', 'os', 'ROSS', 'ETCHINGS', 'CRUIZE', '1846', 'Globe', 'transactions', 'relate', 'HUSSEY', 'SURVIVORS', 'parried', 'MISSIONARY', 'JOURNAL', 'TYERMAN', 'boldest', 'persevering', 'REPORT', 'DANIEL', 'SPEECH', 'SENATE', 'APPLICATION', 'ERECTION', 'BREAKWATER', 'CAPTORS', 'WHALEMAN', 'ADVENTURES', 'BIOGRAPHY', 'GATHERED', 'HOMEWARD', 'COMMODORE', 'PREBLE', 'REV', 'CHEEVER', 'MUTINEER', 'BROTHER', 'ANOTHER', 'MCCULLOCH', 'COMMERCIAL', 'reciprocal', 'clews', 'SOMETHING', 'UNPUBLISHED', 'CURRENTS', 'Pedestrians', 'recollect', 'gateways', 'VOYAGER', 'ARCTIC', 'NEWSPAPER', 'TAKING', 'RETAKING', 'HOBOMACK', 'MIRIAM', 'FISHERMAN', 'appliance', 'RIBS', 'TRUCKS', 'Terra', 'Del', 'Fuego', 'DARWIN', 'NATURALIST', \";--'\", '!\\'\"', 'WHARTON', 'Loomings', 'spleen', 'regulating', 'circulation', 'Whenever', 'drizzly', 'hypos', 'philosophical', 'Cato', 'Manhattoes', 'reefs', 'downtown', 'gazers', 'Circumambulate', 'Corlears', 'Coenties', 'Slip', 'Whitehall', 'Posted', 'sentinels', 'spiles', 'pier', 'lath', 'counters', 'desks', 'loitering', 'shady', 'Inlanders', 'lanes', 'alleys', 'attract', 'dale', 'dreamiest', 'shadiest', 'quietest', 'enchanting', 'Saco', 'crucifix', 'Deep', 'mazy', 'Tiger', 'Tennessee', 'Rockaway', 'Persians', 'deity', 'Narcissus', 'ungraspable', 'hazy', 'quarrelsome', 'offices', 'abominate', 'toils', 'trials', 'barques', 'schooners', 'broiling', 'buttered', 'judgmatically', 'peppered', 'reverentially', 'idolatrous', 'dotings', 'ibis', 'roasted', 'bake', 'plumb', 'Van', 'Rensselaers', 'Randolphs', 'Hardicanutes', 'lording', 'tallest', 'decoction', 'Seneca', 'Stoics', 'Testament', 'promptly', 'rub', 'infliction', 'BEING', 'PAID', 'urbane', 'ills', 'monied', 'consign', 'prevalent', 'violate', 'Pythagorean', 'commonalty', 'police', 'surveillance', 'programme', 'solo', 'CONTESTED', 'ELECTION', 'PRESIDENCY', 'UNITED', 'STATES', 'ISHMAEL', 'BLOODY', 'AFFGHANISTAN', 'managers', 'genteel', 'comedies', 'farces', 'cunningly', 'disguises', 'cajoling', 'unbiased', 'freewill', 'discriminating', 'overwhelming', 'undeliverable', 'itch', 'forbidden', 'ignoring', 'lodges', 'Carpet', 'Bag', 'Manhatto', 'candidates', 'penalties', 'Tyre', 'Carthage', 'imported', 'cobblestones', 'bitingly', 'shouldering', 'price', 'fervent', 'asphaltic', 'pavement', 'flinty', 'projections', 'soles', 'Too', 'cheapest', 'cheeriest', 'invitingly', 'particles', 'peer', 'Angel', 'Doom', 'wailing', 'gnashing', 'Wretched', 'entertainment', 'Moving', 'emigrant', 'poverty', 'creak', 'lodgings', 'zephyr', 'hob', 'toasting', 'observest', 'sashless', 'glazier', 'reasonest', 'chinks', 'crannies', 'lint', 'chattering', 'shiverings', 'cob', 'redder', 'Orion', 'glitters', 'conservatories', 'president', 'temperance', 'blubbering', 'straggling', 'wainscots', 'reminding', 'oilpainting', 'besmoked', 'defaced', 'unequal', 'crosslights', 'hags', 'delineate', 'bewitched', 'ponderings', 'boggy', 'soggy', 'squitchy', 'froze', 'heath', 'icebound', 'represents', 'Horner', 'foundered', 'clubs', 'harvesting', 'hacking', 'horrifying', 'Mixed', 'Nathan', 'Swain', 'corkscrew', 'Blanco', 'sojourning', 'fireplaces', 'duskier', 'cockpits', 'rarities', 'Projecting', 'Within', 'shelves', 'flasks', 'bustles', 'deliriums', 'Abominable', 'tumblers', 'cylinders', 'goggling', 'deceitfully', 'tapered', 'Parallel', 'pecked', 'footpads', 'Fill', 'shilling', 'examining', 'SKRIMSHANDER', 'accommodated', 'unoccupied', 'haint', 'pose', 'whalin', 'decidedly', 'objectionable', 'wander', 'Battery', 'ruminating', 'adorning', 'potatoes', 'sartainty', 'diabolically', 'steaks', 'undress', 'looker', 'rioting', 'Grampus', 'seed', 'Feegees', 'tramping', 'Enveloped', 'bedarned', 'eruption', 'officiating', 'brimmers', 'complained', 'potion', 'colds', 'catarrhs', 'liquor', 'arrantest', 'topers', 'obstreperously', 'aloof', 'desirous', 'hilarity', 'coffer', 'Southerner', 'mountaineers', 'Alleghanian', 'missed', 'supernaturally', 'congratulate', 'multiply', 'bachelor', 'abominated', 'tidiest', 'bedwards', 'shan', 'tablecloth', 'Skrimshander', 'bump', 'spraining', 'eider', 'yoking', 'rickety', 'whirlwinds', 'knockings', 'dismissed', 'popped', 'cherishing', 'chuckled', 'chuckle', 'mightily', 'catches', 'bamboozingly', 'overstocked', 'toothpick', 'rayther', 'BROWN', 'slanderin', 'farrago', 'BROKE', 'Sartain', 'Mt', 'Hecla', 'persist', 'mystifying', 'unsay', 'criminal', 'Wall', 'purty', 'sarmon', 'rips', 'tellin', 'bought', 'balmed', 'curios', 'sellin', 'inions', 'fooling', 'idolators', 'Depend', 'reg', 'lar', 'spliced', 'Johnny', 'sprawling', 'Arter', 'glim', 'jiffy', 'irresolute', 'vum', 'WON', 'Folding', 'scrutiny', 'porcupine', 'moccasin', 'ponchos', 'parade', 'rainy', 'remembering', 'commended', 'cobs', 'Nod', 'footfall', 'unlacing', 'blackish', 'plasters', 'inkling', 'Placing', 'crammed', 'scalp', 'mildewed', 'Ignorance', 'parent', 'nonplussed', 'undressing', 'checkered', 'Thirty', 'frogs', 'quaked', 'wrapall', 'dreadnaught', 'fumbled', 'Remembering', 'manikin', 'tenpin', 'andirons', 'jambs', 'bricks', 'appropriate', 'applying', 'hastier', 'withdrawals', 'antics', 'devotee', 'extinguishing', 'unceremoniously', 'bagged', 'sportsman', 'woodcock', 'uncomfortableness', 'deliberating', 'puffed', 'sang', 'Stammering', 'conjured', 'responses', 'debel', 'flourishing', 'Angels', 'flourishings', 'peddlin', 'sleepe', 'grunted', 'gettee', 'motioning', 'comely', 'insured', 'Counterpane', 'parti', 'triangles', 'interminable', 'caper', 'supperless', '21st', 'hemisphere', 'sigh', 'Sixteen', 'ached', 'coaches', 'stockinged', 'slippering', 'misbehaviour', 'unendurable', 'stepmothers', 'misfortunes', 'steeped', 'shudderingly', 'confounding', 'soberly', 'recurred', 'predicament', 'unlock', 'bridegroom', 'clasp', 'hugged', 'rouse', 'snore', 'scratch', 'Throwing', 'expostulations', 'unbecomingness', 'matrimonial', 'dawning', 'overture', 'innate', 'compliment', 'civility', 'rudeness', 'toilette', 'dressing', 'donning', 'gaspings', 'booting', 'caterpillar', 'outlandishness', 'manners', 'education', 'undergraduate', 'dreamt', 'cowhide', 'pinched', 'curtains', 'indecorous', 'contented', 'restricting', 'donned', 'lathering', 'unsheathes', 'whets', 'Rogers', 'cutlery', 'Afterwards', 'baton', 'Breakfast', 'pleasantly', 'bountifully', 'laughable', 'bosky', 'unshorn', 'gowns', 'toasted', 'lingers', 'tarried', 'barred', 'Grub', 'Park', 'assurance', 'polish', 'occasioned', 'embarrassed', 'bashfulness', 'duelled', 'winking', 'tastes', 'sheepishly', 'bashful', 'icicle', 'admirer', 'cordially', 'grappling', 'genteelly', 'eschewed', 'undivided', '6', 'circulating', 'nondescripts', 'Chestnut', 'jostle', 'Regent', 'Lascars', 'Bombay', 'Apollo', 'Feegeeans', 'Tongatobooarrs', 'Erromanggoans', 'Pannangians', 'Brighggians', 'weekly', 'Vermonters', 'stalwart', 'frames', 'felled', 'strutting', 'wester', 'bombazine', 'cloak', 'mow', 'gloves', 'joins', 'outfit', 'waistcoats', 'Hay', 'Seed', 'tract', 'dearest', 'pave', 'eggs', 'patrician', 'parks', 'scraggy', 'scoria', 'Herr', 'dowers', 'nieces', 'reservoirs', 'maples', 'bountiful', 'proffer', 'passer', 'cones', 'blossoms', 'superinduced', 'carnation', 'Salem', 'sweethearts', 'Puritanic', 'Whaleman', 'Wrapping', 'Each', 'quote', 'TALBOT', 'Near', 'Desolation', '1st', 'SISTER', 'ROBERT', 'WILLIS', 'ELLERY', 'NATHAN', 'COLEMAN', 'WALTER', 'CANNY', 'SETH', 'GLEIG', 'Forming', 'ELIZA', '31st', 'MARBLE', 'SHIPMATES', 'EZEKIEL', 'HARDY', 'AUGUST', '3d', '1833', 'WIDOW', 'Shaking', 'glazed', 'Affected', 'relatives', 'unhealing', 'sympathetically', 'wounds', 'bleed', 'blanks', 'bordered', 'infidelities', 'gnaw', 'resurrections', 'placelessly', 'Goodwin', 'Sands', 'prefix', 'entitle', 'embarks', 'Companies', 'forfeitures', 'immortals', 'unstirring', 'paralysis', 'comforted', 'strive', 'rumor', 'tombs', 'Delightful', 'brevet', 'speechlessly', 'chaotic', 'bundling', 'hugely', '8', 'Pulpit', 'pelted', 'regardful', 'dedicated', 'ministry', 'merging', 'flowering', 'fissures', 'developing', 'peeping', 'February', 'engrafted', 'clerical', 'overshoes', 'arrayed', 'Halting', 'ornamental', 'knobs', 'reverential', 'deposited', 'enjoyed', 'courting', 'notoriety', 'withdrawal', 'worldly', 'ties', 'connexions', 'stronghold', 'Ehrenbreitstein', 'farings', 'cenotaphs', 'adorned', 'beamed', 'Victory', 'serenest', 'scroll', 'brunt', 'favourable', '9', 'Sermon', 'unassuming', 'Starboard', 'Midships', 'midships', 'tolling', 'stanzas', 'pealing', 'exultation', 'Arched', 'deepening', 'sorrows', 'complaints', 'confine', 'radiant', 'Awful', 'Deliverer', 'Nearly', 'Beloved', 'verse', 'sealine', 'canticle', 'boisterously', 'floods', 'kelpy', 'weed', 'heartedness', 'Amittai', 'disobeying', 'hardness', 'flouts', 'skulks', 'easterly', 'Miserable', 'skulking', 'prowling', 'hastening', 'policemen', 'valise', 'adieux', 'goods', 'tries', 'Joe', 'bigamist', 'adulterer', 'Sodom', 'parricide', 'Frighted', 'advertised', 'Customs', 'mangles', 'rallies', 'scrutinizing', \"?'--'\", 'scent', 'detects', 'penniless', 'passport', 'pauper', 'frontiers', 'prepares', 'charges', 'paves', 'molest', 'counterfeit', 'forger', 'convicts', 'heralding', 'stifling', 'Screwed', 'oscillates', 'heeling', 'obliquity', 'contradiction', 'awry', 'groans', 'crookedness', 'hies', 'plungings', 'giddy', 'stupor', 'staunch', 'wrestlings', 'uncheered', 'careening', 'smugglers', 'contraband', 'rebels', 'boatswain', 'lighten', 'jars', 'Startled', 'lethargy', 'stumbling', 'grasps', 'panther', 'Wave', 'gullies', 'lots', 'comest', 'behavior', 'unsolicited', 'Fear', 'confession', 'supplicating', 'howls', 'louder', 'invokingly', 'unreluctantly', 'contenting', 'clamorous', 'pleasing', 'eventual', 'Sin', 'repent', 'describing', 'swarthy', 'lull', 'communing', 'manliest', 'sinner', 'speaker', 'unwelcome', 'truths', 'hostility', 'mission', 'gulfs', 'slantings', 'plummet', 'engulphed', 'breeching', 'bruised', 'murmuring', 'Almighty', 'Falsehood', 'slights', 'Gospel', 'courts', 'enthusiasm', 'commodores', 'support', 'kills', 'destroys', 'Senators', 'Judges', 'acknowledges', 'patriot', 'Keel', 'Ages', 'striven', 'Thine', 'Thee', 'Bosom', 'Friend', 'lap', 'regularity', 'whistle', 'fifties', 'Savage', 'hideously', 'uncouthness', 'maim', 'creditor', 'busts', 'graded', 'promontories', 'wooded', 'cannibalistically', 'Whilst', 'casement', 'overawing', 'simplicity', 'Socratic', 'digester', 'warmed', 'glows', 'hypocrisies', 'mysteriously', 'repelled', 'hospitalities', 'whereat', 'printing', 'exchanging', 'thawed', 'unbiddenly', 'clasped', 'countryman', 'apply', 'remonstrate', 'silenced', 'deliberated', 'comply', 'Consequently', 'prop', 'salamed', 'kissed', 'consciences', 'couples', 'honeymoon', '11', 'Nightgown', 'napping', 'affectionately', 'confabulations', 'nappishness', 'wearisome', 'kneepans', 'chilly', 'flatter', 'chilled', 'unmistakably', 'discomforts', 'spark', 'concentrate', 'essences', 'clayey', 'imposed', 'coarse', 'unilluminated', 'revulsion', 'comfortableness', 'phraseology', '12', 'Biographical', 'hatched', 'nibbling', 'goats', 'aunts', 'vitiated', 'mangrove', 'Hiding', 'climbed', 'grappled', 'hacked', 'cutlass', 'budged', 'dauntlessness', 'relented', 'Wales', 'shipyards', 'ignominy', 'enlightening', 'countrymen', 'actuated', 'practices', 'heathens', 'Thought', 'unfitted', 'undefiled', 'oats', 'sceptre', 'Potluck', 'usefulness', 'Wheelbarrow', 'barber', 'companied', 'embarking', 'sack', 'stared', 'adjust', 'troublesome', 'reapers', 'farmers', 'preferred', 'Shifting', 'lent', 'lashes', 'ornament', 'princess', 'bamboo', 'platters', 'copying', 'ducks', 'Giver', 'consecrated', 'consecrating', 'beverage', 'circulates', 'precedence', 'luggage', 'Hoisting', 'Acushnet', 'Huge', 'forges', 'melt', 'betokening', 'endlessness', 'intolerableness', 'Gaining', 'waxed', 'snortings', 'turnpike', 'magnanimity', 'records', 'ducked', 'Sultan', 'ropeyarn', 'buckling', 'jeering', 'assembly', 'companionable', 'dignified', 'whitewashed', 'boobies', 'saplings', 'mimicking', 'Hallo', 'stalking', 'bevy', 'roughly', 'ticking', 'whipped', 'lasso', 'Shooting', 'voted', 'clove', 'barnacle', 'unconsciousness', 'medal', 'Humane', 'Magnanimous', 'Societies', 'wipe', '14', 'occupies', 'lighthouse', 'hillock', 'elbow', 'blotting', 'wights', 'import', 'thistles', 'toadstools', 'oasis', 'quicksand', 'Laplander', 'turtles', 'extravaganzas', 'traditional', 'olden', 'infant', 'talons', 'lament', 'parents', 'quohogs', 'bolder', 'waded', 'nets', 'mackerel', 'circumnavigations', 'Himmalehan', 'Mastodon', 'panics', 'overrun', 'Alexanders', 'parcelling', 'overswarm', 'banner', 'terraqueous', 'owns', 'empires', 'extension', 'forts', 'privateers', 'highwaymen', 'interrupt', 'chamois', 'Earthsman', 'furls', 'walruses', '15', 'cousin', 'hotels', 'Cousin', 'asses', 'sawed', 'sensitive', 'misgiving', 'crick', 'Innkeeper', 'tombstones', 'freckled', 'gown', 'postponing', 'Cods', 'politeness', 'clammy', 'reception', 'Shirt', 'pounded', 'plentifully', 'sharpened', 'surpassingly', 'despatched', 'expedition', 'Stepping', 'savoury', 'stultifying', 'Fishiest', 'codfish', 'brindled', 'cow', 'shod', 'nt', 'v', 'ge', 'ILE', 'sich', 'weepons', '16', 'plans', 'consulting', 'everyway', 'enjoined', 'purposed', 'befriending', 'forecast', 'relied', 'sagacity', 'remonstrances', 'acquiesce', 'vigor', 'trifling', 'bedroom', 'Lent', 'humiliation', 'HOW', 'liturgies', 'XXXIX', 'Articles', 'inquiries', 'learnt', 'DEVIL', 'DAM', 'TIT', 'BIT', 'PEQUOD', 'celebrated', 'Medes', 'pryed', 'hopped', 'luggers', 'galliots', 'typhoons', 'spines', 'Canterbury', 'Becket', 'mateship', 'grotesqueness', 'quaintness', 'unmatched', 'Thorkill', 'Hake', 'pendants', 'tricking', 'unpanelled', 'Scorning', 'turnstile', 'sported', 'erection', 'conical', 'Planted', 'laced', 'sloped', 'Pottowottamie', 'Sachem', 'insider', 'tenement', 'elderly', 'sailings', 'pursed', 'effectual', 'Supposing', 'talkest', 'Marchant', 'Didst', 'rob', 'protested', 'innuendoes', 'Quakerish', 'aliens', 'Want', 'Clap', 'monstrousest', 'chipped', 'SURE', 'aggravate', 'positively', 'unlimited', 'monotonous', 'willingness', 'mayest', 'Seated', 'annuitants', 'fatherless', 'chancery', 'approved', 'heterogeneous', 'sanguinary', 'Scripture', 'imbibing', 'idiom', 'unoutgrown', 'constellations', 'untraditionally', 'independently', 'voluntary', 'confiding', 'accidental', 'advantages', 'pageant', 'detract', 'dramatically', 'overruling', 'tragically', 'disease', 'results', 'phase', 'educated', 'Quakerism', 'immutableness', 'consistency', 'refusing', 'scruples', 'invaders', 'illimitably', 'invaded', 'bloodshed', 'bodied', 'dividends', 'drabbest', 'bellied', 'dedicating', 'incorrigible', 'Categut', 'unmitigated', 'Indolence', 'habituated', 'noticing', 'irreverence', 'inquiringly', 'spelling', 'audible', 'blusterer', 'ink', 'proportioned', 'stiver', 'accumulate', 'Cloud', '200th', 'Ashore', 'crony', 'stingy', \"?--'\", '--\\'\"', 'LAYS', 'deceive', 'TEENTH', 'farthing', 'swindle', 'Seven', 'owest', 'lug', 'Fiery', 'Flukes', 'canting', 'thundered', 'Alarmed', 'outburst', 'responsible', 'questionably', 'vanish', 'lamb', 'Whew', 'whistled', 'whaled', 'Turning', 'isn', 'lt', 'forewarned', 'colleges', 'surest', 'prophetic', 'humanities', 'thoughtfulness', 'vagueness', 'painfulness', 'disincline', 'imperfectly', '17', 'Fasting', 'Humiliation', 'disturb', 'undervalue', 'ants', 'toad', 'footmanism', 'torso', 'deceased', 'possessions', 'rented', 'vastly', 'arguing', 'Presbyterians', 'Pagans', 'rituals', 'apoplectic', 'Apoplexy', 'resisted', 'Mistress', 'doctor', 'nate', 'Betty', 'Snarles', 'Painter', 'suicides', ';\"--', 'merciful', 'locksmith', 'unwithdrawn', 'vowing', 'knob', 'slamming', 'squatting', 'hain', 'sittin', 'unnaturally', 'ALIVE', 'Closing', 'creed', 'punctual', 'puddingers', 'termination', 'senseless', 'starve', 'Despairing', 'bedside', 'squatted', 'torment', 'labored', 'Lents', 'ham', 'squattings', 'opposed', 'Hygiene', 'deplorably', 'caves', 'starved', 'religionists', 'hereafters', 'digressively', 'undigested', 'dumpling', 'perpetuated', 'dyspepsias', 'inferences', 'barbecue', 'trenchers', 'pilau', 'breadfruit', 'parsley', 'turkeys', 'couch', 'condescending', 'compassion', 'prodigiously', 'halibut', '18', 'gruff', 'communion', 'Coleman', 'bandana', 'Philistine', 'deacon', 'sternly', 'Hittite', 'Finding', 'Congregation', 'crotchets', 'Splice', 'SPLICE', 'reckoned', 'Cap', 'spos', 'dad', 'Hedgehog', 'ceremonies', 'abashed', 'X', 'tracts', 'Latter', 'Lose', 'clingest', 'beseech', 'Belial', 'bondsman', 'Spurn', 'heterogeneously', 'Scriptural', 'phrases', 'spoiling', 'Pious', 'voyagers', 'Nat', 'Swaine', 'shrinked', 'sheered', 'prate', 'beliest', 'typhoon', 'jury', 'sailmakers', 'patch', '19', 'forefinger', 'shabbily', 'pox', 'shoving', 'wagon', 'deficiencies', 'derisive', 'Step', 'skrimmage', 'hows', 'damaged', 'Pretty', ':--\"', 'Names', 'Anyhow', 'arranged', 'bamboozle', 'commenting', 'bugbear', 'Somehow', 'wonderments', 'prediction', 'shadowy', 'retraced', 'Astir', 'purchasing', 'resolving', 'equipped', 'shovels', 'crackers', 'grocers', 'costermongers', 'bakers', 'bankers', 'impossibility', 'everythings', 'storage', 'kindhearted', 'pickles', 'flannel', 'consolation', 'committed', '21', 'Aboard', 'insinuating', 'Lookee', 'wonderingly', 'detained', 'Find', 'Shan', 'Jury', 'impudence', 'lumbered', 'tattered', 'dubiously', 'optically', 'jocularly', 'Gracious', 'Face', 'grinding', 'settees', 'chiefs', 'fattening', 'ottomans', 'piers', 'excursion', 'convertible', 'desiring', 'settee', 'Perry', 'brained', 'muffledness', 'smokers', 'Shipped', 'enshrined', '22', 'dismissal', 'thoughtful', 'Aft', 'bachelors', 'marquee', 'licensed', 'fee', 'piloted', 'Booble', 'Alley', 'songs', 'Watts', 'ripped', 'comforting', 'horrified', 'Lank', 'rang', 'Jews', 'Jordan', 'fruition', 'wetter', 'untrodden', 'unwilted', 'midsummer', 'unpleasing', 'Capes', 'brimful', 'bounded', 'Continents', 'heroically', 'twinkling', 'Luck', 'incoherently', 'needlessly', 'cent', 'miss', 'gifts', 'fornication', 'palavering', '23', 'Lee', 'newlanded', 'Wonderfullest', 'unmentionable', 'epitaphs', 'stoneless', 'fared', 'hearthstone', 'blankets', 'mortalities', 'forlornly', 'Know', 'Glimpses', 'independence', 'conspire', 'ingloriously', 'apotheosis', '24', 'Advocate', 'unpoetical', 'disreputable', 'convince', 'merits', 'emulation', 'append', 'initials', 'W', 'eminently', 'presuming', 'Doubtless', 'honouring', 'amounts', 'butchering', 'Butchers', 'bloodiest', 'Martial', 'Commanders', 'uncleanliness', 'initiated', 'cleanliest', 'comparable', 'plaudits', 'soldier', 'interlinked', 'scouts', 'shrines', 'Witt', 'XVI', 'Dunkirk', 'invite', 'Britain', '1750', '1788', 'bounties', 'L1', 'outnumber', 'banded', 'yearly', 'importing', 'puissant', 'cosmopolite', 'potentially', 'begotten', 'sequential', 'issues', 'offspring', 'womb', 'catalogue', 'ferreting', 'peacefully', 'salutes', 'interpreted', 'Exploring', 'Expeditions', 'Cooks', 'Krusensterns', 'succourless', 'handedness', 'sharked', 'battled', 'dedicates', 'intercourse', 'provinces', 'eventuated', 'liberation', 'establishment', 'Dutchman', 'pestiferously', 'colony', 'Australian', 'settlement', 'luckily', 'Polynesia', 'missionaries', 'destinations', 'aesthetically', 'unhorse', 'chronicler', 'AUTHOR', 'CHRONICLER', 'Alfred', 'Norwegian', 'eulogy', 'Edmund', 'Burke', 'GOOD', 'BLOOD', 'grandmother', 'Franklin', 'Morrel', 'Folger', 'settlers', 'ancestress', 'Folgers', 'NOT', 'RESPECTABLE', 'statutory', '.\"*', 'NEVER', 'FIGURED', 'ANY', 'IMPOSING', 'WAY', 'triumphs', 'cymballed', 'Grant', 'cite', 'DIGNITY', 'attest', 'repute', 'creditors', 'MSS', 'prospectively', 'Postscript', 'behalf', 'embattling', 'suppress', 'eloquently', 'blameworthy', 'seasoning', 'saltcellar', 'oiled', 'salad', 'machinery', 'meanly', 'contemptibly', 'anoints', 'palpably', 'mature', 'medicinally', 'quoggy', 'totality', 'coronations', 'macassar', 'unpolluted', 'oils', 'loyal', 'Britons', '26', 'Transported', 'superfluousness', 'thinness', 'anxieties', 'blight', 'condensation', 'revivified', 'chronometer', 'warranted', 'confronted', 'pantomime', 'sobriety', 'overbalance', 'Uncommonly', 'endued', 'loneliness', 'organizations', 'Outward', 'presentiments', 'ruggedness', 'arises', 'crusader', 'organized', 'remembrances', 'latently', 'suitable', 'conflict', 'irrational', 'menace', 'abasement', 'sorrowful', 'valour', 'knaves', 'ignominious', 'manliness', 'undraped', 'ruined', 'stifle', 'upbraidings', 'robed', 'wields', 'radiates', 'Himself', 'omnipresence', 'graces', 'mournful', 'ethereal', 'critics', 'Equality', 'convict', 'Bunyan', 'clothe', 'doubly', 'paupered', 'Cervantes', 'Andrew', 'Jackson', 'pebbles', 'hurl', 'marchings', 'cullest', 'selectest', 'champions', 'kingly', 'commons', '27', 'journeyman', 'joiner', 'humored', 'handedly', 'rigadig', 'tunes', 'trudging', 'pedlars', 'packs', 'bunk', 'terribly', 'infected', 'exhaling', 'camphorated', 'disinfecting', 'Tisbury', 'affronted', 'circumvention', 'concussions', 'prescription', 'trio', 'lancers', 'flingers', 'Knight', 'conjunctures', 'subsists', 'intimacy', 'friendliness', 'unmixed', 'westerly', 'remnant', 'Headers', 'largeness', 'proclaimed', 'inheritor', 'woodland', 'Puritans', 'Powers', 'voluntarily', 'giraffe', 'pomp', 'truce', 'Curious', 'Squire', 'chess', 'residue', 'Herein', 'engineering', 'construction', 'Canals', 'Railroads', 'liberally', 'generously', 'peasants', 'ISOLATOES', 'acknowledging', 'ISOLATO', 'federated', 'Isolatoes', 'Anacharsis', 'Clootz', 'deputation', 'grievances', 'prelusive', '28', 'vicariously', 'disquietude', 'perturbation', 'incoherences', 'uninvitedly', 'poorly', 'whimsicalities', 'warrantry', 'motley', 'uniqueness', 'abandonedly', 'allay', 'cheerfulness', 'presentment', 'southward', 'merciless', 'mornings', 'rapidity', 'shivers', 'Reality', 'outran', 'illness', 'overrunningly', 'Cellini', 'Threading', 'lividly', 'tearingly', 'greenly', 'consent', 'fray', 'elemental', 'inferentially', 'negatived', 'insinuated', 'credulities', 'contradicted', 'powerfully', 'steadied', 'infinity', 'firmest', 'unsurrenderable', 'wilfulness', 'dedication', 'crucifixion', 'recluse', 'bleakness', 'preparatives', 'needing', 'supervision', 'warbling', 'persuasiveness', 'barest', 'ruggedest', 'sprouts', 'visitants', 'respond', 'allurings', 'girlish', 'blossom', 'flowered', '29', 'Enter', 'perpetually', 'Tropic', 'warmly', 'perfumed', 'sherbet', 'flaked', 'starred', 'conquering', 'Earls', 'twas', 'seducing', 'witcheries', 'lend', 'spells', 'potencies', 'Inward', 'twilights', 'texture', 'greybeards', 'oftenest', 'berths', 'cloaked', 'sentinelled', 'habitually', 'gripping', 'banister', 'abstained', 'patrolling', 'reverberating', 'crunching', 'regardings', 'unassured', 'deprecating', 'muffling', 'indistinctly', 'hesitatingly', 'nightly', 'kennel', 'unforseen', 'excitedly', 'temptation', 'emboldened', 'begone', 'Anyway', 'coverlid', 'Tic', 'Dolly', 'appointments', 'snooze', 'eleventh', 'commandment', 'twelfth', 'blazes', 'jackasses', 'Maybe', 'afoul', 'plaguey', 'Pipe', 'Lighting', 'Norse', 'thrones', 'fabricated', 'tradition', 'tripod', 'symbolized', 'Khan', 'soothes', 'pleasuring', 'whiffs', 'sereneness', 'lurchingly', '31', 'Mab', 'stubbing', 'confoundedly', 'cudgelling', 'whaleboning', 'farmer', 'whittled', 'badger', 'slews', 'bout', 'Slid', 'phiz', 'Humpback', 'seaweed', 'marlinspikes', 'Wise', 'hag', 'complain', 'slapped', 'garter', 'YOUR', 'BE', 'snored', 'tho', 'mum', '32', 'unshored', 'harbourless', 'appreciative', 'systematized', 'genera', 'constituents', 'essayed', 'Zoology', 'groups', 'Utter', 'historians', 'Unfitness', 'Impenetrable', 'incomplete', 'torture', 'Lesson', 'zoology', 'Authors', 'Aldrovandi', 'Thomas', 'Gesner', 'Ray', 'Rondeletius', 'Willoughby', 'Artedi', 'Brisson', 'Marten', 'Bonneterre', 'Author', 'Olmstead', 'Rev', 'Cheever', 'generalizing', 'usurper', 'claims', 'monarch', 'proclamation', 'Charing', 'deposed', 'reigneth', 'literature', 'faulty', 'systematization', 'builder', 'sorter', 'Office', 'pelvis', 'essay', 'tauntings', 'libraries', 'unsettled', 'vestibule', '1776', '1850', 'alewives', 'edict', 'states', 'bilocular', 'eyelids', 'penem', 'intrantem', 'feminam', 'mammis', 'lactantem', 'ex', 'lege', 'naturae', 'jure', 'meritoque', 'submitted', 'Simeon', 'messmates', 'insufficient', 'waiving', 'fundamental', 'conspicuously', 'label', 'SPOUTING', 'HORIZONTAL', 'TAIL', 'amphibious', 'assumes', 'exclude', 'identified', 'authoritatively', 'divisions', 'Lamatins', 'Dugongs', 'Pig', 'Sow', 'passports', 'Kingdom', 'BOOKS', 'subdivisible', 'CHAPTERS', 'type', 'FOLIOS', 'BACKED', 'Trumpa', 'Anvil', 'Pottsfich', 'Macrocephalus', 'Words', 'Philologically', 'expresses', 'ointment', 'medicament', 'druggists', 'rhubarb', 'enhance', 'scarcity', 'titles', 'obscurity', 'baptised', 'Folios', 'Baliene', 'Ordinaire', 'Growlands', 'Walfish', 'Swedes', 'Cruising', 'Grounds', 'radical', 'subdivisions', 'inconclusive', 'differences', 'repellingly', 'elucidating', 'reckon', 'tracks', 'attains', 'intertwisting', 'distinguishing', 'derives', 'hinder', 'spherical', 'gnomon', 'wavy', 'graved', 'Ahaz', 'hater', 'haters', 'shy', 'unexpectedly', 'WHALEBONE', 'nosed', 'bunched', 'jawed', 'rostrated', 'connection', 'nomenclature', 'facilitating', 'obviously', 'methodization', 'classify', 'systematizer', 'enumerated', 'Bibliographical', 'Tartarian', 'divings', 'Prodigies', 'Sulphur', 'Bottom', 'OCTAVOES', '.*--', 'middling', 'numbered', 'bookbinder', 'dimensioned', 'sonorous', 'denizen', 'classed', 'octavo', 'premonitory', 'inexpressive', 'suggest', 'Mephistophelean', 'dorsal', 'profitably', 'employment', 'frugal', 'housekeepers', 'NOSTRIL', 'lengthened', 'depressed', 'piercer', 'folder', 'pamphlets', 'Tusked', 'Horned', 'Unicorn', 'Unicornism', 'kingdom', 'cloistered', 'antidote', 'distilled', 'volatile', 'salts', 'Originally', 'Frobisher', 'Bess', 'gallantly', 'Greenwich', 'Palace', 'Irish', 'avers', 'Earl', 'Leicester', 'leopard', 'circumpolar', 'professed', 'grampus', 'Feegee', 'worried', 'Exception', 'indistinctness', 'killers', 'Bonapartes', 'Sharks', 'thrashing', 'schoolmasters', 'Thrasher', 'DUODECIMOES', 'Algerine', 'Mealy', 'hugeness', 'Duodecimoes', 'HUZZA', 'bestowal', 'breezy', 'watchmakers', 'Sailors', 'hones', 'ALGERINE', 'Provoke', 'MEALY', 'MOUTHED', 'rotund', 'spoils', 'boundary', 'streaks', 'felonious', 'Beyond', 'rabble', 'enumerate', 'appellations', 'investigators', 'Duodecimo', 'Nose', 'Junk', 'Leading', 'Cannon', 'Scragg', 'Coppered', 'Iceberg', 'Quog', 'lists', 'uncouth', 'suspecting', 'Leviathanism', 'signifying', 'perfected', 'cetological', 'unfinished', 'uncompleted', 'completing', 'Strength', 'Cash', 'Patience', '33', 'marine', 'Literally', 'Cutter', 'equivalent', 'navigation', 'concerns', 'corrupted', 'Specksioneer', 'subalterns', 'demands', 'community', 'prevailing', 'intrepidity', 'rigorous', 'discipline', 'Mesopotamian', 'parading', 'surpassed', 'extorting', 'shabbiest', 'shallowest', 'assumption', 'exacted', 'implicit', 'TERROREM', 'unobservant', 'legitimately', 'subserve', 'unmanifested', 'dictatorship', 'aid', 'entrenchments', 'hustings', 'Inert', 'imbecility', 'Nicholas', 'geographical', 'encircles', 'plebeian', 'crouch', 'centralization', 'dramatist', 'depict', 'shagginess', 'episode', 'majestical', 'featured', 'unbodied', '34', 'loaf', 'announces', 'medallion', 'tablet', 'inattention', 'menial', 'unexhilarated', 'sultan', 'rouses', 'pleasantness', 'lounges', 'predecessors', 'restraint', 'tipping', 'winks', 'hornpipe', 'sleight', 'mizentop', 'reversing', 'Abjectus', 'artificialness', 'provocation', 'inoffensive', 'deprecatory', 'Babylon', 'haughtily', 'courteously', 'presides', 'unchallenged', 'transcends', 'witchery', 'czarship', 'withstanding', 'superadd', 'warlike', 'deferential', 'waited', 'arrogance', 'profaned', 'topic', 'slice', 'noiselessly', 'circumspection', 'Coronation', 'Frankfort', 'dines', 'Imperial', 'Electors', 'youngest', 'saline', 'drumsticks', 'larceny', 'Least', 'clotting', 'marketless', 'butterless', 'hunger', 'fruits', 'dumfoundered', 'residuary', 'legatees', 'servants', 'constraint', 'domineerings', 'baron', 'skip', 'ungentlemanly', 'trencher', 'scalping', 'baker', 'visitations', 'Commonly', 'clutches', 'carlines', 'framework', 'abstemious', 'witted', 'whetstones', 'indiscretions', 'fares', 'waiter', 'napkin', 'mongering', 'Moorish', 'scimetars', 'scabbards', 'sedentary', 'mealtimes', 'exception', 'residing', 'Grisly', 'Bears', 'Summer', 'Logan', 'caved', '35', 'skysail', 'capturing', 'progenitors', 'archaeologists', 'astronomical', 'stair', 'edifices', 'upliftings', 'astronomers', 'Saint', 'Stylites', 'pillar', 'dauntless', 'stander', 'fogs', 'discovering', 'Vendome', 'Philippe', 'Blanc', 'Baltimore', 'pillars', 'Trafalgar', 'Square', 'counsels', 'descry', 'Macy', 'accountable', 'cleats', 'upstairs', 'relieving', 'delightful', 'stilts', 'Colossus', 'Rhodes', 'ruffled', 'languor', 'uneventfulness', 'gazettes', 'extras', 'delude', 'excitements', 'afflictions', 'immutable', 'whalesmen', 'devote', 'inhabitiveness', 'localness', 'pertains', 'isolate', 'beginner', 'tabernacle', 'encasing', 'enviable', 'NESTS', 'protected', 'Icebergs', 'Colonies', 'charmingly', 'SLEET', 'inventor', 'patentee', 'inventors', 'patentees', 'denominate', 'apparatus', 'screen', 'ascend', 'umbrellas', 'popping', 'vagrant', 'unicorns', 'infesting', 'labor', 'enlarges', 'experiments', 'counteracting', 'attraction', 'ascribable', 'discreet', 'deviations', 'azimuth', 'approximate', 'meditations', 'ignore', 'comforter', 'mittened', 'housed', 'Greenlandmen', 'disadvantage', 'lounge', 'movingly', 'admonish', 'enlisting', 'meditativeness', 'Phaedon', 'Platonist', 'monitions', 'unneeded', 'asylum', 'disgusted', 'carking', 'Childe', 'Harold', 'ejaculates', 'Roll', 'upbraiding', 'Platonists', 'nerve', 'opera', 'lulled', 'opium', 'listlessness', 'ebbs', 'Crammer', 'Descartian', 'vortices', 'fairest', 'throttled', 'Pantheists', '36', 'Quarter', 'ENTER', 'stride', 'unsleeping', 'chick', 'bigotry', 'halt', 'unapprehensive', 'standpoint', 'Vehemently', 'approval', 'animation', 'magnetically', 'approving', 'marvelling', 'purposeless', 'headers', 'inarticulate', 'Whosoever', 'punctured', 'topmaul', 'Skin', 'bushy', 'disjointedly', 'twiske', 'tee', 'twisk', 'uncorking', 'Corkscrew', 'shearing', 'razeed', 'pegging', 'imprecations', 'Norway', 'Maelstrom', 'Hoot', 'requirest', 'measurer', 'accountants', 'computed', 'guineas', 'smites', 'Vengeance', 'blindest', 'Madness', 'blasphemous', 'pasteboard', 'masks', 'tasks', 'sinewing', 'wreak', 'jealousy', 'creations', 'confines', 'glarings', 'doltish', 'reddenest', 'palest', 'unsays', 'incense', 'leopards', 'unrecking', 'unworshipping', 'snorts', 'tost', 'Reckon', 'constrainings', 'acquiescence', 'invocation', 'presaging', 'vibrations', 'stubbornness', 'admonitions', 'verifications', 'constrain', 'searchingly', 'snare', 'flagon', 'Short', 'excellently', 'spiralizes', 'drained', 'gulped', 'Attend', 'braves', 'mustered', 'pennies', 'Vitus', 'imp', 'ague', 'Advance', 'shocked', 'quailed', 'electric', 'appoint', 'cupbearers', 'kinsmen', 'noblemen', 'Disdain', 'tiara', 'ewer', 'cardinals', 'Silently', 'Stab', 'Cant', 'Forthwith', 'Commend', 'chalices', 'Bestow', 'indissoluble', 'Yon', 'ratifying', 'deathful', 'whaleboat', 'quaffed', 'paled', '37', 'Sunset', 'STERN', 'WINDOWS', 'SITTING', 'GAZING', 'paler', 'envious', 'whelm', 'blush', 'plumbs', 'wearies', 'Crown', 'gem', 'wearer', 'flashings', 'confounds', 'galls', 'Dry', 'spurred', 'loveliness', 'Gifted', 'perception', 'subtly', 'malignantly', 'WAVING', 'MOVES', 'WINDOW', 'cogged', 'dismembered', 'dismember', 'dismemberer', 'fulfiller', 'hoot', 'pugilists', 'Burkes', 'Bendigoes', 'bullies', 'pommel', 'bags', 'rails', 'grooved', 'rifled', 'Naught', 'obstacle', '38', 'Dusk', 'MAINMAST', 'AGAINST', 'matched', 'overmanned', 'Insufferable', 'drilled', 'nill', 'Horrible', 'democrat', 'rebelling', 'shrivel', 'controlling', 'BURST', 'REVELRY', 'FORECASTLE', 'Whelped', 'demigorgon', 'Foremost', 'sternward', 'thrills', 'revellers', 'futures', '39', 'Fore', 'SOLUS', 'MENDING', 'BRACE', 'unfailing', 'twigged', 'prophesied', 'WISE', 'horribles', 'Fa', 'Crying', 'pennant', 'fa', 'beaker', 'HARPOONEERS', 'SAILORS', 'FORESAIL', 'DISCOVERS', 'WATCH', 'LOUNGING', 'ATTITUDES', 'SINGING', 'CHORUS', '1ST', 'tonic', 'viewing', 'harpooner', '2ND', 'blackling', 'THRUSTS', 'HEAD', ',)', 'Star', 'l', 'h', 'Tumble', 'snoozing', 'deadening', 'filliping', 'lasses', 'SULKY', 'SLEEPY', 'Beat', 'Jig', 'gallop', 'shuffle', 'Throw', 'Legs', 'springy', 'excuse', 'Partners', 'partners', 'ISLAND', 'sulkies', 'Hoe', 'ASCENDING', 'PITCHING', 'UP', 'HALF', 'DANCE', 'BELOW', 'SLEEP', 'LIE', 'AMONG', 'COILS', 'RIGGING', 'OATHS', 'PLENTY', 'Bang', 'stig', 'quig', 'jinglers', 'Jinglers', 'CHINA', 'Rattle', 'hoop', 'Split', 'jibs', 'QUIETLY', 'SMOKING', 'humph', 'Christ', 'skulled', 'ballroom', 'Dance', '3D', 'Spell', 'whiff', 'CEASE', 'GATHER', 'CLUSTERS', 'MEANTIME', 'SKY', 'DARKENS', 'LASCAR', 'douse', 'Ganges', 'showest', 'Seeva', 'SHAKING', 'CAP', 'tassels', 'chassee', 'arboring', 'interlacings', 'swayings', 'coyings', 'satiety', 'Eh', 'NUDGING', 'TAHITAN', 'MAT', 'Hail', 'veiled', 'wilted', 'Pirohitee', 'crags', 'LEAPS', 'FEET', 'PORTUGUESE', 'reefing', 'crackest', 'holdest', 'fort', 'Cattegat', '4TH', 'waterspout', 'cove', 'Pines', 'hardest', 'birthmark', 'bully', 'touchy', 'offence', 'GRIMLY', 'None', 'ST', 'JAGO', '5TH', 'SPRINGING', 'Swallow', 'mannikin', 'WHIFF', 'brawlers', 'BELFAST', 'arrah', 'Plunge', 'Snatch', 'Abel', 'SCATTER', 'SHRINKING', 'UNDER', 'WINDLASS', 'Jollies', 'Crish', 'Blang', 'cursing', 'Jimmini', 'jingle', '41', 'sympathetical', 'quenchless', 'feud', 'greedy', 'disorderly', 'adventurously', 'irregularity', 'obstructed', 'individualizing', 'unfair', 'calamities', 'amputations', 'repulses', 'accumulating', 'exaggerate', 'horrify', 'fungi', 'firma', 'wonderfulness', 'circulate', 'unexempt', 'appallingly', 'chiseled', 'transit', 'outblown', 'morbid', 'foetal', 'unborrowed', 'inexperience', 'incompetency', 'hostilely', 'primitively', 'childish', 'eminent', 'tremendousness', 'tested', 'Olassen', 'incredibly', 'affirms', 'amend', 'reports', 'terribleness', 'overawed', 'warfare', 'protesting', 'consulted', 'originated', 'transports', 'authoritative', 'Strello', 'Portugal', 'Arethusa', 'Syracuse', 'underground', 'narrations', 'realities', 'Forced', 'familiarity', 'ubiquity', 'unensanguined', 'unsullied', 'incontestable', 'prominent', 'limitless', 'uncharted', 'marbled', 'gleamings', 'unexampled', 'fatalities', 'dismembering', 'inflamed', 'smiled', 'Arkansas', 'duellist', 'hired', 'Malay', 'identify', 'woes', 'exasperations', 'intangible', 'Ophites', 'reverenced', 'transferring', 'pitted', 'mutilated', 'maddens', 'demonisms', 'assailable', 'dismemberment', 'corporal', 'animosity', 'laceration', 'collision', 'gashed', 'interfusing', 'lunatic', 'unlimbed', 'rockings', 'thanked', 'raved', 'feline', 'transfigured', 'subtler', 'deepeningly', 'Northman', 'trope', 'stormed', 'concentred', 'unhinted', 'popularize', 'Winding', 'spiked', 'Hotel', 'Cluny', 'Thermes', 'throned', 'torsoes', 'mock', 'Caryatid', 'upholding', 'entablatures', 'Wind', 'royalties', 'dissemble', 'perceptibility', 'overtaken', 'moodiness', 'unlikely', 'fitness', 'Gnawed', 'infixed', 'unrelenting', 'incurable', 'brutes', 'incapacitated', 'underlings', 'keyed', 'engrossing', 'fiendish', 'profitable', 'mint', 'immitigable', 'mongrel', 'morally', 'enfeebled', 'incompetence', 'unaided', 'mindedness', 'invunerable', 'mediocrity', 'officered', 'aboundingly', 'ire', 'understandings', 'miner', '42', 'Whiteness', 'unsaid', 'Aside', 'awaken', 'overpowered', 'refiningly', 'imparting', 'japonicas', 'pearls', 'preeminence', 'Pegu', 'Elephants', 'magniloquent', 'ascriptions', 'unfurling', 'Hanoverian', 'Austrian', 'Caesarian', 'heir', 'overlording', 'eminence', 'symbolizings', 'brides', 'benignity', 'wampum', 'typifies', 'ermine', 'steeds', 'spotlessness', 'midwinter', 'festival', 'theology', 'envoy', 'alb', 'tunic', 'cassock', 'pomps', 'celebration', 'Vision', 'elders', 'sitteth', 'divorced', 'flaky', 'transcendent', 'abhorrent', 'loathsome', 'gloating', 'fanged', 'heraldic', 'analysed', 'irresponsible', 'ferociousness', 'fleece', 'tallies', 'vividly', 'bestow', 'Requiem', 'eternam', 'REQUIEM', 'denominating', 'deadliness', 'REQUIN', 'imaginations', 'unflattering', 'laureate', 'overclouded', 'feathery', 'unspotted', 'Wondrous', 'throbbings', 'methought', 'warping', 'burnish', 'solecism', 'albatrosses', 'Whisper', 'postman', 'lettered', 'adoring', 'cherubim', 'Western', 'chested', 'overscorning', 'elected', 'fenced', 'Rocky', 'Alleghanies', 'trooped', 'comet', 'beaters', 'archangelical', 'unfallen', 'primeval', 'aides', 'marshals', 'cohorts', 'endlessly', 'circumambient', 'browsing', 'gallopingly', 'reviewed', 'milkiness', 'enforced', 'accessory', 'repels', 'loathed', 'substantive', 'deformity', 'ugliest', 'abortion', 'attribute', 'gauntleted', 'historic', 'Froissart', 'faction', 'Hoods', 'Ghent', 'bailiff', 'supernaturalism', 'borrow', 'wrap', 'idealized', 'dissent', 'analyse', 'citation', 'sorcery', 'ideality', 'loosely', 'Whitsuntide', 'pilgrims', 'unread', 'Protestant', 'Friar', 'Nun', 'evoke', 'eyeless', 'dungeoned', 'structures', 'Byward', 'Bloody', 'sublimer', 'dewy', 'spectralness', 'Yellow', 'lulls', 'afternoons', 'gaudiest', 'sleepiest', 'sunsets', 'unsubstantial', 'Central', 'Hartz', 'changeless', 'unrustlingly', 'whooping', 'imps', 'Blocksburg', 'cathedral', 'toppling', 'stampedoes', 'tearlessness', 'cope', 'suburban', 'Pizarro', 'spreads', 'ramparts', 'fixes', 'distortions', 'confessed', 'exaggerating', 'unimaginative', 'universality', 'faculties', 'combed', 'snowhowdahed', 'desolateness', 'reigning', 'oneself', 'legerdemain', 'monuments', 'surrenderest', 'hypo', 'foaled', 'Vermont', 'sunniest', 'snort', 'gorings', 'associated', 'bisons', 'beholdest', 'demonism', 'rending', 'goring', 'foal', 'rollings', 'rustlings', 'festooned', 'shiftings', 'windrowed', 'spheres', 'intensifying', 'indefiniteness', 'stabs', 'atheism', 'emblazoning', 'tinges', 'butterflies', 'harlot', 'allurements', 'charnel', 'produces', 'operating', 'tulips', 'leper', 'Lapland', 'colouring', 'gazes', 'monumental', '43', 'hallowed', 'precincts', 'rustle', 'neighbor', 'Cholo', 'Cough', 'Caramba', 'Grin', 'Tish', '44', 'Chart', 'succeeding', 'ratification', 'shadings', 'piles', 'substituted', 'threading', 'accomplishment', 'absurdly', 'unhooped', 'driftings', 'ascertained', 'certainties', 'timeliest', 'periodicalness', 'resorting', 'collated', 'migrations', 'invariability', 'construct', 'migratory', 'Lieutenant', 'Maury', 'Observatory', '16th', 'divides', 'exactitude', 'tithe', 'surveyor', 'arbitrary', 'VEIN', 'vein', 'exceeds', 'circumspectly', 'migrating', 'expanses', 'entangle', 'methodical', 'identically', 'matured', 'Seychelle', 'Volcano', 'accomplishing', 'antecedent', 'probabilities', 'fondly', 'loiters', 'predicted', 'unloitering', 'sleeplessness', 'unquiet', 'postpone', 'southwards', 'vacation', 'Monsoons', 'Pampas', 'Westers', 'Harmattans', 'Levanter', 'Simoon', 'zig', 'zag', 'discreetly', 'Mufti', 'thronged', 'scalloped', 'faintness', 'trances', 'unachieved', 'revengeful', 'clashing', 'chasm', 'beckoned', 'unsuppressable', 'scheming', 'unappeasedly', 'dissociated', 'characterizing', 'vehicle', 'spontaneously', 'contiguity', 'inveteracy', 'unfathered', 'vacated', 'somnambulistic', 'creates', 'Affidavit', 'verity', 'aimed', 'cypher', 'intervened', 'miasmas', 'circumnavigated', 'vanquished', 'veracity', 'impeach', 'cognisable', 'perilousness', 'Rinaldo', 'Rinaldini', 'cultivate', 'irascible', 'unobtrusive', 'celebrity', 'renown', 'Cambyses', 'scarred', 'Ombay', 'Tattoo', 'Morquan', 'tortoise', 'prose', 'students', 'Marius', 'Sylla', 'classic', 'creating', 'Narragansett', 'Woods', 'Butler', 'Annawon', 'headmost', 'Philip', 'establishing', 'reasonableness', 'disheartening', 'bolstering', 'scout', 'allegory', 'frequency', 'recur', 'deaths', 'newspaper', 'obituary', 'mails', 'facetiousness', 'plagues', 'fortunately', 'HAS', 'Dashing', 'forswearing', 'resident', 'manoeuvres', 'sufferings', 'HORRID', 'ASPECT', 'REVENGE', 'engrossed', 'p', 'MYSTERIOUS', 'MORTAL', 'ATTACK', 'ANIMAL', 'Union', 'Thirdly', '---,', 'Oahu', 'Conversation', 'thimbleful', 'Valparaiso', 'thwack', 'providential', 'Saul', 'Tarsus', 'unbelief', 'hereof', 'Discovery', 'Expedition', 'seventeenth', 'thirteenth', 'Ochotsh', 'fur', 'northwest', 'damage', 'Englander', 'Dorchester', 'nephew', 'substantiates', 'Siberian', 'bartering', 'manly', 'Wafer', 'Dampier', 'chums', 'corroborative', 'Ferdinando', 'Juan', 'Fernandes', 'suddenness', 'hammocks', 'substantiate', 'bumping', 'assailing', 'Pusie', 'Hall', 'cart', 'eloquent', 'corroborated', 'repetitions', 'millionth', 'amen', 'Verily', 'sixth', 'magistrate', 'Belisarius', 'unexaggerating', 'affecting', 'mentions', 'prefecture', 'Marmora', 'habitual', 'BRIT', 'aliment', '46', 'Surmises', 'habituation', 'influential', 'refining', 'exceptionable', 'ruling', 'involves', 'coerced', 'disintegrate', 'frustrate', 'relapses', 'leadership', 'noways', 'shrewdness', 'impiousness', 'obscure', 'unreliable', 'fickleness', 'promissory', 'intervene', 'healthily', 'evanescent', 'sordidness', 'incites', 'savageness', 'errantism', 'chivalric', 'Crusaders', 'traverse', 'burglaries', 'perspective', 'mutinying', 'cashier', 'precautionary', 'impulsively', 'unanswerable', 'impunity', 'suppressed', 'predominating', 'analytic', 'admonishing', '47', 'Mat', 'Maker', 'cloudy', 'repassing', 'marline', 'intermitting', 'Loom', 'crookedly', 'weakly', 'interweavingly', 'swerved', 'restrained', 'prescribed', 'featuring', 'musically', 'ticks', 'uniformity', 'genus', 'mills', 'shipkeepers', 'samphire', 'baskets', 'Outside', '48', 'Lowering', 'evilly', 'protruding', 'funereally', 'ebonness', 'Manillas', 'subtilty', 'spies', '?--\"', 'Spread', 'stowaways', 'drawlingly', 'soothingly', 'Tut', 'merrier', 'stakes', 'Easy', 'rascals', 'Bite', 'ragamuffin', 'rapscallions', 'snoring', 'gudgeons', 'exordium', 'sermonizings', 'compounded', 'spice', 'invocations', 'loungingly', 'managed', 'humorists', 'inferiors', 'whisperingly', 'urging', 'Smuggled', '!)\"', 'hogsheads', 'clapt', 'advent', 'accounting', 'conjectures', 'hintings', 'fencer', 'counterbalance', 'managing', 'Nimbly', 'triangularly', 'platformed', 'adroitly', 'breathlessly', 'platform', 'volunteered', 'pedestal', 'taller', 'breastband', 'habitude', 'riotously', 'perverse', 'giddily', 'unthought', 'harmoniously', 'flake', 'Vanity', 'stamping', 'solicitudes', 'languishing', 'hatband', 'sandpaper', 'suffusingly', 'tingled', 'heated', 'forerunning', 'couriers', 'outstrip', 'intensest', 'startlingly', 'harsh', 'Roar', 'philosophically', 'drawled', 'unlighted', 'Fits', 'Merrily', 'merrily', 'babes', 'sucklings', 'Softly', 'tornado', 'fictitious', 'bowling', 'spurrings', 'goadings', 'sled', 'raw', 'recruit', 'dun', 'exploded', 'suffocated', 'curdling', 'swamped', 'Swimming', 'bucklers', 'crackled', 'unconsumed', 'propellers', 'preservers', 'waterproof', 'keg', 'ignite', 'imbecile', 'forlornness', 'hollowing', 'Affrighted', 'haply', '49', 'discerns', 'dispirits', 'creeds', 'persuasions', 'knobby', 'ostrich', 'gobbles', 'bullets', 'flints', 'worryings', 'sly', 'hits', 'punches', 'wayward', 'tribulation', 'foggy', 'witnesses', 'capsizings', 'bivouacks', 'resign', 'impetuousness', 'scuttling', 'stampings', 'implicated', 'draft', 'executor', 'legatee', 'tinkering', 'wills', 'testaments', 'contentedly', 'hindmost', '50', 'Crew', 'disable', 'jeopardize', 'Tamerlane', 'apportioned', 'solicited', 'foreseen', 'fitting', 'bestirring', 'thole', 'solicitously', 'skewers', 'pinned', 'groove', 'sheathing', 'gouged', 'preparative', 'create', 'unsubduable', 'mannerly', 'tie', 'communities', 'aboriginalness', 'descendants', 'unknowing', 'Genesis', 'uncanonical', 'Rabbins', '51', 'Verdes', 'Plate', 'Carrol', 'unstaked', 'locality', 'Helena', 'scrolls', 'Lit', 'quivered', 'Walking', 'upheaving', 'antagonistic', 'yawingly', 'echoes', 'Mysteriously', 'preternaturalness', 'rend', 'blandness', 'voyaged', 'lonesomely', 'vacating', 'urn', 'gored', 'vacuity', 'ravens', 'hootings', 'obstinately', 'roosting', 'homeless', 'selves', 'remorse', 'Tormentoto', 'silences', 'transformed', 'everlastingly', 'gloomiest', 'reserve', 'passively', 'await', 'fatalists', 'congeal', 'eyelashes', 'burstingly', 'bowline', 'wordless', 'barometer', 'unremoved', 'unrolled', 'Terrible', 'eyest', '52', 'Whalemen', 'fullers', 'spectral', 'reddened', 'furred', 'hoar', 'clad', 'skins', 'bepatched', 'fathomless', 'amain', 'evincing', 'observance', 'placidly', 'capriciously', 'Swim', 'whereto', 'Cyclades', '53', 'Gam', 'ostensible', 'absorbingly', 'inadequately', 'Plain', 'inhospitable', 'wilds', 'illimitable', 'Plains', 'Fanning', 'Mills', 'hails', 'bounder', 'date', 'exchange', 'agreeable', 'congenialities', 'privations', 'shyness', 'Yankee', 'nondescript', 'provincialisms', 'foible', 'foibles', 'dandies', 'indulging', 'finical', 'criticism', 'bowings', 'scrapings', 'overmuch', 'likenesses', 'unostentatious', 'spouters', 'elevation', 'boasting', 'dictionaries', 'erudition', 'Lexicon', 'NOUN', 'SOCIAL', 'WHALESHIPS', 'GENERALLY', 'CRUISING', 'GROUND', 'WHEN', 'AFTER', 'EXCHANGING', 'HAILS', 'EXCHANGE', 'VISITS', 'BOATS', 'CREWS', 'CAPTAINS', 'REMAINING', 'TIME', 'BOARD', 'CHIEF', 'MATES', 'Gamming', 'rowed', 'cushioned', 'milliner', 'decorated', 'ribbons', 'gouty', 'aldermen', 'gamming', 'rapping', 'topple', 'Merely', 'straddling', 'steadying', 'ballast', 'authenticated', '54', 'AS', 'GOLDEN', 'INN', 'Polynesians', 'visitation', 'judgments', 'confederate', 'communicated', 'injunctions', 'rambled', 'governed', 'transpired', 'Interweaving', 'publicly', 'lasting', 'sighting', 'terrapin', 'tiled', 'cavaliers', 'interluding', 'eaves', 'stabbed', 'believing', 'averse', 'sensibly', 'repaired', 'commonest', 'favoured', 'prosperous', 'brutal', 'provoked', 'Lake', 'crave', 'masted', 'Callao', 'agrarian', 'freebooting', 'interflowing', 'Huron', 'Superior', 'expansiveness', 'rimmed', 'races', 'shored', 'approaches', 'territorial', 'frowned', 'batteries', 'craggy', 'thunderings', 'victories', 'peltry', 'wigwams', 'flanked', 'unentered', 'serried', 'harboring', 'exported', 'furs', 'Cleveland', 'Winnebago', 'cruiser', 'Borean', 'dismasting', 'blasts', 'shipwrecks', 'inlander', 'austere', 'quarrel', 'backwoods', 'bowie', 'decency', 'skippers', 'clanging', 'accessible', 'unthinking', 'conveniently', 'overflowed', 'scupper', 'conventional', 'conceives', 'dislike', 'bitterness', 'tasseled', 'viceroy', 'Espying', 'unawed', 'banterings', 'cannikin', 'bottling', 'investment', 'gang', 'estate', 'Boys', 'Lively', 'denotes', 'energies', 'wiping', 'profuse', 'Intolerably', 'offensive', 'inflexibility', 'instinctive', 'neatness', 'prescriptive', 'athletic', 'trivial', 'unwillingness', 'passionateness', 'ireful', 'aggrieved', 'sweepers', 'billeted', 'unconditionally', 'reiterating', 'Heated', 'smothering', 'conflagration', 'doggedly', 'intimation', 'forborne', 'comported', 'repeating', 'Retreating', 'poniard', 'clenching', 'creepingly', 'persecutor', 'slaughter', 'mastheads', 'harbours', 'boatmen', 'thriving', 'affluent', 'cultivated', 'fertility', 'holies', 'Mohawk', 'counties', 'chapels', 'milestones', 'Venetianly', 'Ashantee', 'patronising', 'freebooters', 'encamp', 'vicinities', 'friar', 'plazza', 'Dame', 'Isabella', 'Inquisition', 'wanes', 'Proceed', 'Limeese', 'plentiful', 'purge', 'Thanks', 'Freely', 'picturesquely', 'Antony', 'turfed', 'toying', 'ripening', 'apricot', 'sports', 'ribboned', 'betoken', 'visage', 'swagger', 'unshunned', 'redeeming', 'emphatically', 'graduates', 'Sydney', 'curiousness', 'rural', 'probationary', 'reaping', 'ruffles', 'backstay', 'baleful', 'comets', 'uproar', 'turmoil', 'atrocious', 'scoundrel', 'hastily', 'slewing', 'Parisians', 'entrenched', 'throats', 'defied', 'Fearing', 'patrolled', 'promises', 'discharge', 'growlingly', 'padlock', 'companionway', 'clinking', 'resounded', 'prisoners', 'pocketing', 'wrangling', 'scuffling', 'summons', 'fetid', 'closeness', 'famishing', 'Emboldened', 'reiterated', 'babbling', 'mutineers', 'jeer', 'Shut', 'defection', 'associates', 'entombment', 'garrison', 'amuck', 'devilishness', 'desperation', 'opposition', 'objected', 'reserving', 'miscreants', 'treachery', 'determination', 'chemistry', 'villany', 'treacheries', 'gagged', 'collared', 'rebelled', 'reprimand', 'administered', 'vernacular', 'rogues', 'mince', 'crucified', 'bantam', 'execute', 'crept', 'clamor', 'besieged', 'Entreaties', 'cuffs', 'instigation', 'peacefulness', 'speediest', 'adopt', 'passiveness', 'ventricles', 'unseamanlike', 'dozed', 'braiding', 'oddish', 'Shipmate', 'netted', 'tucking', 'Twenty', 'ordaining', 'planned', 'avenger', 'damning', 'stupid', 'Jesu', 'christenings', 'Whom', 'rehearse', 'Sirs', 'forgetful', 'undeterred', 'rumours', 'dogged', 'askance', 'spangling', 'opal', 'Gentlemen', 'pervades', 'mapped', 'slacken', 'whitenesses', 'keeling', 'resided', 'foremastmen', 'underwent', 'poop', 'reinforcement', 'corals', 'assuring', 'Adios', 'Watching', 'beached', 'befriended', 'providentially', 'Tahitians', 'Chartering', 'refuses', 'convictions', 'advised', 'Auto', 'da', 'Fe', 'archiepiscopacy', 'withdraw', 'Excuse', 'procuring', '55', 'Monstrous', 'advert', 'portraits', 'challenge', 'proving', 'pictorial', 'delusions', 'inventive', 'unscrupulous', 'panellings', 'pedestals', 'statues', 'shields', 'medallions', 'Saladin', 'cavern', 'Brahmins', 'prefigured', 'occurs', 'Vishnu', 'Matse', 'Avatar', 'section', 'Galleries', 'succeeds', 'rescuing', 'Hogarth', 'Descending', 'Hogarthian', 'howdah', 'Traitors', 'Gate', 'Prodromus', 'primers', 'imitated', 'vases', 'publisher', 'Revival', 'vignettes', 'embellishments', 'eau', 'unexhausted', 'Advancement', 'unprofessional', 'Peterson', 'rafts', 'Fisheries', 'Picture', '1793', 'veracious', 'compilations', 'heinousness', 'Goldsmith', 'Animated', 'unsightly', 'amputated', 'amaze', 'hippogriff', 'Germain', 'Count', 'systemized', 'incorrect', 'sheaf', 'squash', 'predecessor', 'abortions', 'saucers', 'painters', 'shops', 'Richard', 'humps', 'breakfasting', 'tarts', 'deformities', 'undashed', 'presumable', 'limbered', 'accurate', 'Bentham', 'library', 'chrysalis', 'roundingly', 'strikingly', 'mittens', 'unpainted', 'exactness', '56', 'Erroneous', 'Scenes', 'capping', 'frontispiece', 'wretchedly', 'convey', 'truthful', 'Respectively', 'incomputable', 'precipice', 'bob', 'Serious', 'mossy', 'candies', 'maccaroni', 'foreground', 'unstarched', 'conversant', 'marvellously', 'Versailles', 'beholder', 'battles', 'Lights', 'aptitude', 'draughtsmen', 'sketching', 'renowned', 'miniatures', 'classical', 'diligence', 'Leuwenhoeck', 'submits', 'inspection', 'fac', 'similes', 'disparagement', 'oversight', 'affidavit', 'subscribes', 'Durand', 'breezeless', 'quay', 'smithies', 'rains', 'quicken', '57', 'Paint', 'Sheet', 'Stone', 'Stars', 'KEDGER', 'integrity', 'justification', 'clearings', 'contemplating', 'amputation', 'Throughout', 'graven', 'skrimshander', 'elaborately', 'dentistical', 'skrimshandering', 'tool', 'exile', 'civilization', 'restores', 'savagery', 'allegiance', 'rebel', 'elaboration', 'perseverance', 'intricacy', 'cost', 'maziness', 'Achilles', 'shield', 'suggestiveness', 'Albert', 'Durer', 'Wooden', 'forecastles', 'roofed', 'knockers', 'porter', 'intents', 'labelled', 'HANDS', 'OFF', 'ribby', 'groupings', 'petrified', 'windy', 'surges', 'amphitheatrical', 'heights', 'profiles', 'intersecting', 'Soloma', 'ruffed', 'Mendanna', 'Figuera', 'expandingly', 'revolutions', 'Argo', 'Navis', 'Hydrus', 'Flying', 'fasces', 'encamped', '58', 'Brit', 'sluggishly', 'fringing', 'seethingly', 'shallows', 'drifts', 'blackened', 'elevations', 'beholds', 'overgrowth', 'specialties', 'unsocial', 'repelling', 'stateliest', 'aboriginally', 'Wherein', 'Preternatural', 'Hebrews', 'Korah', 'spawned', 'tigress', 'jungle', 'overlays', 'Panting', 'overruns', 'subtleness', 'unapparent', 'loveliest', 'brilliance', 'cannibalism', 'encompassed', 'Push', '59', 'languid', 'stagnant', 'burnished', 'glade', 'enjoining', 'slippered', 'spectre', 'disentangling', 'stiletto', 'Bare', 'connect', 'forgetting', 'pulpy', 'anacondas', 'perceptible', 'obtains', 'disgorge', 'clings', 'Kraken', 'Pontoppodan', 'ultimately', 'describes', 'narrates', 'abatement', 'assigns', 'Anak', 'vapoured', 'impregnated', 'pliable', 'stiffen', 'adds', 'durability', 'compactness', 'gloss', 'superseded', 'durable', 'aesthetics', 'Circassian', 'spirally', 'densely', 'spiralizations', 'tangle', 'precaution', 'stowing', 'reeving', 'twists', 'freight', 'loop', 'facilitate', 'mug', 'jogs', 'leaded', 'prevents', 'continues', 'mystifications', 'jugglers', 'snakes', 'sportively', 'festooning', 'circumstanced', 'marrow', 'jelly', 'Gayer', 'sallies', 'jokes', 'repartees', 'hangman', 'nooses', 'burghers', 'Calais', 'Edward', 'halter', 'whizzings', 'engine', 'grazing', 'cradle', 'adjusting', 'Mazeppa', 'precedes', 'prophesies', 'explosion', 'serpentines', 'halters', 'realize', 'poker', '61', 'Kills', 'honing', 'parm', 'resist', 'voyaging', 'fewer', 'denizens', 'pendulum', 'forgetfulness', 'trough', 'burgher', 'enchanter', 'wakefulness', 'majestically', 'tranquillity', 'flitted', 'smoker', 'Paddles', 'cheered', 'elevates', 'transform', 'sharppointed', 'spluttering', 'cucumbers', 'graves', 'Woo', 'hoo', 'Wa', 'screamed', 'whoop', 'bounced', 'screams', 'Ka', 'Koo', 'loo', 'Grenadier', 'retaining', 'encouraged', 'tugged', 'fumes', 'blisteringly', 'cloths', 'quilted', 'Partly', 'indispensableness', 'mop', 'piggin', 'bailer', 'harpstring', 'Whole', 'Atlantics', 'bubbled', 'seethed', 'glowed', 'vehement', 'wallowed', 'overwrapped', 'phrensied', 'dilating', 'respirations', 'thoughtfully', '62', 'Dart', 'pushes', 'killer', 'fastener', 'superhuman', 'bawl', 'disrated', 'boatheader', 'efficiency', '63', 'Crotch', 'twigs', 'productive', 'notched', 'slopingly', 'hurler', 'doubling', 'convulsive', 'Tumbled', 'prudently', 'thenceforth', 'skittishly', 'curvetting', 'entangling', 'engaging', 'concurring', 'ineffectually', 'elucidate', 'passages', '64', 'thumbs', 'Hang', 'Darkness', 'Vacantly', 'dissatisfaction', 'bullocks', 'reclines', 'relatively', 'flexibility', 'ingeniously', 'overcome', 'adroit', 'quiescence', 'flushed', 'conquest', 'manifest', 'intemperately', 'flavorish', 'palate', 'defray', 'expenses', 'realizing', 'banqueter', 'Mingling', 'mastications', 'smackingly', 'feasted', 'fatness', 'bunks', 'slapping', 'Peering', 'scooped', 'unassailable', 'contrive', 'countersinking', 'cannibally', 'hilted', 'quarrelsomely', 'upside', 'trotting', 'congregate', 'gayer', 'jovial', 'whaleship', 'expediency', 'conciliating', 'epicurean', 'widening', 'glee', 'shambling', 'galley', 'assisting', 'Ebony', 'inclining', 'reddish', 'overdone', 'shindy', 'civilly', 'moderation', 'Sullenly', 'Fellow', 'se', 'smackin', 'hatchings', 'mustn', 'Den', 'Belubed', ':\"-', 'approvingly', 'coax', 'wery', 'woracious', 'zay', 'bitin', 'collaring', 'sartin', 'ing', 'goberned', 'ren', 'wonst', 'cibil', 'yourselbs', 'tearin', 'neighbour', 'toder', 'brigger', 'oders', 'mouts', 'brigness', 'swaller', 'scrouge', 'demselves', 'willains', 'scougin', 'oder', 'g', 'uttons', 'shrill', 'Cussed', 'Kick', 'damndest', 'testily', 'Bout', 'bolting', 'continuation', 'Hind', 'ober', 'Bress', 'noder', 'angrily', 'Faintly', 'Passed', 'mumbled', 'dis', 'brack', 'demeanor', 'fetched', 'colder', 'sulks', 'Drop', 'gizzard', 'overdoing', 'tips', 'soused', 'cutlets', 'Wish', 'gor', 'stead', 'ejaculation', '65', 'Dish', 'Henry', 'VIIIth', 'court', 'inventing', 'barbacued', 'Porpoises', 'turtle', 'veal', 'monks', 'Dunfermline', 'unprejudiced', 'partake', 'Zogranda', 'recommends', 'nourishing', 'housewives', 'dough', 'oly', 'cooks', 'eatable', 'depreciates', 'delicately', 'jellied', 'cocoanut', 'puddings', 'flour', 'delectable', 'bucks', 'discrimination', 'reproachfully', 'Et', 'tu', 'Brute', 'excessively', 'abhorrence', 'bipeds', 'quadrupeds', 'provident', 'nailest', 'geese', 'feastest', 'bloated', 'pate', 'foie', 'gras', 'goose', 'Secretary', 'Cruelty', 'Ganders', 'formally', 'indite', 'circulars', 'patronise', '66', 'Massacre', 'reservation', 'tickle', 'unaccustomed', 'maggots', 'foamy', 'marksmen', 'disembowelments', 'entrails', 'oppositely', 'voided', 'corpses', 'narrower', 'honed', 'wedder', 'wat', 'Ingin', '67', 'Ex', 'officio', 'professors', 'shamble', 'butcher', 'leans', 'swash', 'spiralizing', 'uniformly', 'scarf', 'grazes', 'sways', 'swordsman', 'slicings', 'severs', 'peeling', 'unfurnished', 'scarfing', 'assuaging', 'friction', '68', 'unvexed', 'controversies', 'unchanged', 'tougher', 'ranges', 'unmarred', 'contracts', 'thickens', 'exerted', 'thinner', 'Assuming', 'integument', 'observant', 'hieroglyphical', 'cyphers', 'retentive', 'characters', 'palisades', 'Upper', 'undecipherable', 'phenomena', 'Agassiz', 'imagines', 'remarked', 'poncho', 'slipt', 'skirting', 'blanketing', 'weathers', 'refrigerators', 'bask', 'Freeze', 'explanation', 'warmer', 'Borneo', 'spaciousness', 'domed', '69', 'Funeral', 'splashed', 'poniards', 'headless', 'unclouded', 'wafted', 'perspectives', 'punctiliously', 'speckled', 'ween', 'piously', 'pounce', 'vultureism', 'Desecrated', 'survives', 'Espied', 'obscuring', 'SHOALS', 'ROCKS', 'BREAKERS', 'HEREABOUTS', 'BEWARE', 'vacuum', 'precedents', 'utility', 'survival', 'bottomed', 'orthodoxy', 'Cock', 'Lane', 'Doctor', '70', 'beheading', 'interdicted', 'behead', 'Holofernes', 'Judith', 'lotus', 'unfolding', 'noiselessness', 'Decapitation', 'ungarnished', 'untold', 'breezelessness', 'analogies', 'atom', '71', 'Fleet', 'facility', 'Squaring', 'abeam', 'infecting', 'untainted', 'incorruptible', 'conscientiously', 'quarantine', 'Preserving', 'bearings', 'Subject', 'notabilities', 'totalities', 'youngish', 'freckles', 'cabalistically', 'walnut', 'togged', 'laudanum', 'craziness', 'manifesto', 'deliverer', 'vicar', 'Oceanica', 'sacredness', 'devoting', 'maltreated', 'fawned', 'instructions', 'fanatics', 'deceiving', 'bedevilling', 'bilious', 'caprices', 'jogged', 'Greedily', 'gibbering', 'Shaker', 'incarnated', 'unwilling', 'despite', 'denunciations', 'forewarnings', 'persuading', 'unsuccessful', 'onsets', 'hurling', 'prophecies', 'sacrilegious', 'divinity', 'venting', 'essaying', 'harmed', 'parenthesize', 'accompanies', 'Raising', 'specifically', 'stolidly', 'scrawl', 'Har', 'pinny', 'Curses', 'throttle', 'missive', 'Monkey', 'staying', 'retrace', 'tensing', 'flounders', 'revolves', 'costume', 'scrabble', 'scramble', 'elongated', 'ligature', 'liabilities', 'metaphysically', 'misfortune', 'unmerited', 'interregnum', 'equity', 'gross', 'plurality', 'banker', 'sends', 'improvement', 'guarantee', 'Unappalled', 'massacre', 'carcass', 'rabid', 'swarmed', 'beehive', 'miscellaneously', 'carnivorous', 'ravenous', 'wherewith', 'disinterested', 'muddled', 'indiscreet', 'amputating', 'consolatory', 'Cognac', 'suspiciously', 'untasted', 'kindle', 'firewood', 'lucifer', 'matches', 'tinder', 'sneaking', 'Temperance', 'kannakin', 'calomel', 'jalap', 'bitters', 'drug', 'insurances', 'gingerly', 'weazel', 'caddy', '73', 'patches', 'tightened', 'plied', 'contending', 'tremor', 'drippings', 'performed', 'circuit', 'flanking', 'multitudes', 'swum', 'thirstily', 'Israelites', 'Wants', 'capsize', 'gamboge', 'disguise', 'tucks', 'Striking', 'bargain', 'Bargain', 'Pooh', 'Adventures', 'soladoes', 'Doesn', 'latch', 'anyhow', 'duck', 'sneaks', 'daresn', 'darbies', 'lets', 'kidnapped', 'kidnap', 'nape', 'grab', 'docked', 'sneak', 'Sell', 'Mean', 'necessaries', 'counterpoise', 'regained', 'Locke', 'Kant', 'trimming', 'carcases', 'overburdening', 'panniers', 'lengthen', 'Laplandish', 'bandied', '74', 'extremes', 'symmetry', 'lacks', 'lashless', 'sideway', 'dagger', '):', 'imperceptibly', 'nothingness', 'impairing', 'undiscriminating', 'excluded', 'demonstrations', 'Euclid', 'investigated', 'incongruity', 'vacillations', 'liability', 'frights', 'diametrically', 'imperceptible', 'lens', 'Herschel', 'porches', 'Subtilize', 'levers', 'Kentucky', 'Mammoth', 'Cave', 'chaste', 'satins', 'snuff', 'dispirited', 'hypochondriac', 'supine', 'ungainly', 'reproach', 'dentists', 'undecayed', 'sawn', '75', 'shoemaker', 'spoutholes', 'bass', 'viol', 'spiracles', 'apertures', 'fix', 'incrustation', 'Greenlanders', 'fixing', 'nestle', 'diademed', 'diadem', 'Probably', 'gape', 'scimetar', 'slats', 'depending', 'cursorily', 'fringed', 'strains', 'retains', 'openmouthed', 'criterion', 'demonstrable', 'analogical', ';*', 'CHOP', 'tufts', 'stiffening', 'farthingale', 'thoughtlessness', 'Haarlem', 'rug', 'softest', 'Turkey', 'barreler', 'mandible', 'speculative', 'Stoic', 'Spinoza', '76', 'Battering', 'physiologist', 'investigate', 'unexaggerated', 'satisfactorily', 'vestige', 'impregnably', 'toughness', 'sharpest', 'Indiamen', 'toughest', 'illustrates', 'bladder', 'unique', 'celled', 'honeycombs', 'susceptible', 'irresistibleness', 'impalpable', 'destructive', 'Unerringly', 'uninjurable', 'specialities', 'concentrations', 'braining', 'feats', 'renounced', 'Isthmus', 'Darien', 'elevate', 'provincial', 'sentimentalist', 'salamander', 'provincials', 'weakling', 'goddess', 'Lais', '77', 'Baling', 'Regarding', 'quoins', 'cranium', 'subdivide', 'Quoin', 'Euclidean', 'inclination', 'subdivided', 'honeycomb', 'recrossing', 'mystically', 'adornment', 'wines', 'Rhenish', 'prized', 'limpid', 'odoriferous', 'unalloyed', 'crystalline', 'dribbles', 'coated', 'coating', 'lining', 'pelisse', 'decapitating', 'operator', 'sanctuary', 'wastingly', '78', 'Cistern', 'Buckets', 'Nimble', 'travelling', 'Securing', 'Muezzin', 'searches', 'Inserting', 'guides', 'pail', 'Carefully', 'remounting', 'cabled', 'Evil', 'eightieth', 'suckingly', 'Swing', 'hoisters', 'struggles', 'ramming', 'cartridge', 'rocket', 'sinker', 'Drawn', 'lunges', 'impediments', 'Midwifery', 'fencing', 'boxing', 'slipperiness', 'curb', 'tissued', 'lightest', 'corky', 'sinks', 'counteracted', 'undetached', 'agile', 'whitest', 'coffined', 'sanctum', 'sanctorum', 'sweeter', '79', 'Prairie', 'Physiognomist', 'Phrenologist', 'scrutinized', 'Dome', 'Pantheon', 'studies', 'dwells', 'modifications', 'disciple', 'Spurzheim', 'achieve', 'Physiognomically', 'anomalous', 'modifies', 'appendage', 'gardening', 'cupola', 'Phidias', 'conceptions', 'obtruding', 'Pushing', 'defiles', 'affixed', 'decrees', 'alpine', 'Shakespeare', 'Melancthon', 'tideless', 'antlered', 'domineer', 'Genius', 'Orient', 'magian', 'tongueless', 'protrusion', 'cultured', 'lure', 'enthrone', 'unhaunted', 'deciphered', 'decipher', 'Physiognomy', 'languages', 'simplest', 'unlettered', 'Read', '80', 'Nut', 'Sphinx', 'phrenologist', 'geometrical', 'Unhinge', 'angularly', 'superincumbent', 'reposes', 'outworks', 'citadel', 'fortifications', 'secreted', 'convolutions', 'unload', 'spermy', 'scaled', 'confound', 'remarking', 'veneration', 'negations', 'affirmative', 'dwarfed', 'inlaying', 'basso', 'relievo', 'joist', 'Apply', 'phrenology', 'fibrous', 'undecreasing', 'smallness', 'compensated', 'indomitable', '81', 'wavingly', 'borrowing', 'invertedly', 'contradict', 'Newcastle', 'indubitably', 'CLEAN', 'deserving', 'Aware', 'harness', 'unrolling', 'incrustations', 'overgrowing', 'afflicted', 'jaundice', 'infirmity', 'questionable', 'retarded', 'muzzle', 'commotions', 'upbubble', 'paregoric', 'Adverse', 'Indiaman', 'Hindostan', 'buries', 'wallows', 'cumbrous', 'deriding', 'gesture', 'ungracious', 'mocks', 'dares', 'greyhounds', 'villainous', 'Halloo', 'budding', 'suds', 'quahogs', 'muffins', 'barreller', 'DON', 'duff', 'sog', 'sogger', 'retarding', 'economically', 'dogger', 'Fiercely', 'incited', 'taunts', 'momentarily', 'chivalrous', 'crab', 'midship', 'diagonically', 'maddening', 'yawed', 'clipped', 'plaintive', 'pitied', 'chose', 'diagonal', 'Blinding', 'bumped', 'sunbeam', 'cougar', 'tilbury', 'mail', 'loggerheads', 'ceasing', 'expending', 'hooking', '2000', 'atmospheres', 'groan', 'credible', 'layeth', 'habergeon', 'esteemeth', 'stubble', 'laugheth', 'unfulfilments', 'thighs', 'conducting', 'throbs', 'icefield', 'valves', 'valvular', 'drain', 'arterial', 'misgrown', 'prostrate', 'protruded', 'bulbs', 'bridals', 'makings', 'inoffensiveness', 'protuberance', 'bushel', 'ulcerous', 'goaded', 'bespattering', 'glorying', 'marring', 'flapped', 'stifled', 'unrifled', 'artificially', 'healed', 'ulceration', 'rummaged', 'cabinet', 'discoveries', 'unprecedentedly', 'ordering', 'gabled', 'gasped', 'inlayings', 'cabins', 'dislocation', 'timberheads', 'ponderosity', 'Usually', 'pads', 'aspirations', 'flush', 'incumbrance', 'Gases', 'generated', 'balloon', 'Bays', 'uncapturable', 'unskilful', 'Backs', 'Dericks', '82', 'Honour', 'Glory', 'enterprises', 'disorderliness', 'honourableness', 'demi', 'subordinately', 'emblazoned', 'sordid', 'knightly', 'intrepidly', 'Arkite', 'legends', 'Italy', 'suggestively', 'Akin', 'Dragon', 'chronicles', 'dragons', 'jumbled', 'Ezekiel', 'versions', 'subtract', 'mislead', 'griffin', 'horseback', 'artists', 'ancientest', 'Dagon', 'Israel', 'tutelary', 'guardian', 'patron', 'decoration', 'Crockett', 'Kit', 'Carson', 'doer', 'mooted', 'clan', 'versa', 'saints', 'demigods', 'godhead', 'Hindoos', 'incarnations', 'recreate', 'dissolutions', 'preside', 'perusal', '83', 'Historically', 'Regarded', 'distrust', 'orthodox', 'Arion', 'unscientific', 'choke', 'Jebb', 'anticipative', 'whist', 'Possibly', 'ensconced', 'toothless', 'incarcerated', 'gastric', 'juices', 'exegetist', 'supposes', 'DEAD', 'campaign', 'divined', 'christened', 'Gull', 'Eagle', 'exegetists', 'opined', 'inflated', 'weathering', 'Bartholomew', 'Diaz', 'reputed', 'liar', 'reprehensible', 'via', 'magnification', '84', 'Pitchpoling', 'axles', 'crop', 'barges', 'Actium', 'extract', 'imperative', 'dexterities', 'sleights', 'subtleties', 'manoeuvre', 'exercises', 'boasts', 'inveterate', 'Steel', 'pitchpoled', 'drawbacks', 'equanimity', 'excel', 'Handling', 'whistlingly', 'waistband', 'Instead', 'spigot', 'today', 'Orleans', 'whiskey', 'Monongahela', 'canakin', 'brew', 'quaff', 'greyhound', 'leash', 'pitchpoler', '85', 'Fountain', 'sprinklings', 'P', 'M', 'sixteenth', 'contingent', 'function', 'withdraws', 'vivifying', 'err', 'Assume', 'aerated', 'Anomalous', 'vermicelli', 'quits', 'oxygenated', 'camel', 'waterless', 'stomachs', 'indisputable', 'obstinacy', 'HAVING', 'SPOUTINGS', 'risings', 'respires', 'fetches', 'Remark', 'rates', 'replenish', 'hazards', 'victory', 'pulsations', 'truthfully', 'obliterated', 'clogged', 'Sure', 'retention', 'exclusion', 'rumbles', 'talks', 'Seldom', 'stammer', 'listener', 'conveyance', 'discharging', 'rhyme', 'pester', 'knottiest', 'undecided', 'cascading', 'superficially', 'countersunk', 'basin', 'pitcher', 'feverishly', 'acridness', 'investigator', 'hypothesize', 'Pyrrho', 'Dante', 'worming', 'undulation', 'shingled', 'attic', 'overhung', 'engendered', 'contemplations', 'irradiate', 'enkindling', 'denials', 'Doubts', 'combination', '86', 'Tail', 'warbled', 'praises', 'antelope', 'alights', 'shoaling', 'overlap', 'recede', 'exquisitely', 'webbed', 'compose', 'triune', 'undoubtedly', 'knit', 'muscular', 'filaments', 'loins', 'Could', 'flexion', 'infantileness', 'Titanism', 'Real', 'impairs', 'harmony', 'bestows', 'imposingly', 'Eckerman', 'Goethe', 'Angelo', 'hermaphroditical', 'embodied', 'brawniness', 'submission', 'endurance', 'conceded', 'flexions', 'Therein', 'transcend', 'Five', 'mace', 'lobtailing', 'wriggles', 'propulsion', 'Scroll', 'conflicts', 'contemptuously', 'eluding', 'stitch', 'demonstrate', 'daintiness', 'maidenly', 'gentleness', 'slowness', 'tenderness', 'Darmonodes', 'nosegays', 'damsels', 'caressed', 'Stealing', 'unawares', 'unbent', 'kitten', 'thunderous', 'concussion', 'wreath', 'Excepting', 'BREACH', 'grandest', 'Dantean', 'Isaiah', 'archangels', 'crimsoned', 'Persia', 'Ptolemy', 'Philopater', 'Juba', 'terrier', 'lily', 'tosses', 'deplore', 'inability', 'Free', 'Mason', 'symbols', 'methods', 'intelligently', 'Dissect', '87', 'Armada', 'Birmah', 'Bally', 'buttressed', 'inexhaustible', 'silks', 'ineffectual', 'guarded', 'Orientals', 'obsequious', 'cargoes', 'waive', 'ceremonial', 'proas', 'coves', 'chastisements', 'corsairs', 'repressed', 'pillaged', 'northwards', 'Philippine', 'haunting', 'zoned', 'raced', 'sustenance', 'utilities', 'unusable', 'kentledge', 'brackish', 'rafted', 'cinnamon', 'renouncing', 'magnificence', 'premised', 'assistance', 'aggregation', 'cleft', 'willow', 'bush', 'individually', 'metropolis', 'balmy', 'autumnal', 'unfriendly', 'Crowding', 'deploy', 'Corresponding', 'crescent', 'Levelling', 'rascally', 'philanthropists', 'speeding', 'rowels', 'atheistical', 'gnawing', 'Cockatoo', 'grieve', 'victoriously', 'notified', 'bayonets', 'Stripped', 'animating', 'irresolution', 'rout', 'expanding', 'aimlessly', 'distraction', 'paralysed', 'logged', 'flock', 'herding', 'banding', 'herded', 'theatre', 'outdone', 'circumspect', 'menaced', 'mobbed', 'daunted', 'manfully', 'sheering', 'edging', 'dispensed', 'swamp', 'cooling', 'druggs', 'looped', 'requisition', 'staggeringly', 'fettered', 'malefactors', 'disorders', 'tumults', 'Titanic', 'embayed', 'hemmed', 'Keeping', 'inexperienced', 'snuffling', 'domesticated', 'patted', 'scratched', 'spiritually', 'feasting', 'Gulfweed', 'fourteen', 'frisky', 'irksome', 'lately', 'reticule', 'unborn', 'crumpled', 'ails', 'buoyantly', 'umbilical', 'Madame', 'tethered', 'indifferently', 'gestation', 'Esau', 'Jacob', 'teats', 'situated', 'anus', 'breasts', 'extend', 'rivallingly', 'discolour', 'strawberries', 'salute', 'HOMINUM', 'consternations', 'indulge', 'concernments', 'revelled', 'dalliance', 'tornadoed', 'disport', 'entranced', 'drugging', 'frontier', 'hamstring', 'maiming', 'tendon', 'Arnold', 'flailing', 'wounding', 'submarine', 'nurseries', 'orbits', 'thickening', 'clusters', 'departing', 'Shove', 'bulks', 'outlet', 'escapes', 'cheaply', 'Riotous', 'clumped', 'renewed', 'onward', 'augmented', 'waifed', 'pennoned', '88', 'Schools', 'Schoolmasters', 'inducing', 'aggregations', 'cavalier', 'evinces', 'surroundingly', 'solaces', 'endearments', 'dozen', 'EMBONPOINT', 'ramblings', 'fashionables', 'promenade', 'journeys', 'wary', 'pert', 'confidentially', 'assails', 'chases', 'rakes', 'duels', 'admirers', 'elks', 'warringly', 'interweave', 'antlers', 'scars', 'furrowed', 'scolloped', 'dislocated', 'invader', 'diverting', 'Gently', 'insinuates', 'revels', 'lavish', 'omnivorous', 'exotic', 'dumps', 'lends', 'lassitude', 'overtakes', 'sated', 'supplants', 'maidens', 'impotent', 'repentant', 'admonitory', 'forswears', 'disbands', 'exemplary', 'parallels', 'amorous', 'satirical', 'Vidocq', 'occult', 'lessons', 'inculcated', 'secludedness', 'betakes', 'Daniel', 'Boone', 'characteristically', 'proverbially', 'penal', 'gout', 'collegians', 'wickedness', 'underwriter', 'turbulence', 'settlements', 'harems', 'sexes', '89', 'regulations', 'minor', 'contingencies', 'retaken', 'vexatious', 'disputes', 'authorized', 'legislative', 'enactment', '1695', 'legislators', 'terse', 'Pandects', 'Meddling', 'Business', 'engraven', 'forthing', 'soonest', 'masterly', 'brevity', 'expound', 'Alive', 'controllable', 'occupant', 'occupants', 'telegraph', 'cobweb', 'ability', 'knocks', 'Coke', 'Littleton', 'allowances', 'scrupulous', 'trover', 'litigated', 'forsake', 'Ultimately', 'appropriated', 'remonstrated', 'seizure', 'sued', 'defence', 'illustrate', 'crim', 'con', 'instituted', 'stress', 'contended', 'reciprocally', 'awarded', 'controverted', 'aforesaid', 'ploughed', 'fundamentals', 'jurisprudence', 'tracery', 'Law', 'props', 'regardless', 'serfs', 'Republican', 'mite', 'undetected', 'villain', 'Mordecai', 'loan', 'Archbishop', 'scant', 'Dunder', 'hamlets', 'redoubted', 'Ireland', 'lancer', 'Brother', 'Jonathan', 'internationally', '1492', 'mistress', 'Rights', 'Liberties', 'smuggling', 'verbalists', 'thinkers', '90', 'Heads', 'Tails', 'balena', 'vero', 'sufficit', 'si', 'rex', 'habeat', 'caput', 'et', 'regina', 'caudam', 'BRACTON', 'L', 'C', 'Laws', 'Honourary', 'division', 'halving', 'courteous', 'prompts', 'railways', 'car', 'accommodation', 'Dover', 'beaching', 'jurisdiction', 'policeman', 'emoluments', 'Port', 'assignment', 'sinecure', 'eely', 'L150', 'fantasy', 'sipping', 'soften', 'Please', 'duke', 'blisters', 'Won', 'Wellington', 'clergyman', 'meddling', 'militant', 'kingdoms', 'coercing', 'delegated', 'Gold', 'pinmoney', 'Bench', 'discourseth', 'bodices', 'mermaid', 'allegorical', 'limitations', 'symbolically', 'congeniality', '91', 'Bud', 'Ambergriese', 'fetor', 'discoverers', 'bet', 'circled', 'unappropriated', 'Assyrian', 'moor', 'attar', 'problematical', 'indigestion', 'defunct', 'banteringly', 'Crappoes', 'Frenchmen', 'snuffers', 'wick', 'Crappo', 'leavings', 'cell', 'breezing', 'Issuing', 'Drawing', 'fanciful', 'bulb', 'boards', 'BOUTON', 'inscription', 'ROSE', 'bulbous', 'communication', 'bawled', 'Roses', 'WHITE', 'Blanche', 'slung', 'YOURS', 'gardenny', 'posies', 'Guernseyman', 'joking', 'gill', 'manufacturer', 'upwardly', 'stems', 'outcries', 'anathemas', 'ajar', 'remonstrating', 'betaken', 'CABINET', 'pest', 'entreaties', 'indignations', 'Marking', 'conceited', 'ignoramus', 'unprofitable', 'Sounding', 'frank', 'circumventing', 'satirizing', 'interpreting', 'babyish', 'Jago', 'baboon', 'vows', 'conjures', 'confining', 'inviting', 'Bordeaux', 'drift', 'benevolently', 'slacking', 'feigned', 'intentions', 'reap', 'unrighteous', 'excavation', 'digging', 'pottery', 'loam', 'guinea', 'druggist', 'unavoidably', '92', 'Ambergris', '1791', 'House', 'Commons', 'compound', 'soils', 'odorless', 'ornaments', 'waxy', 'spicy', 'perfumery', 'pastiles', 'powders', 'pomatum', 'Mecca', 'frankincense', 'merchants', 'grains', 'claret', 'regale', 'administering', 'Brandreth', 'blasting', 'Corinthians', 'corruption', 'sown', 'Paracelsus', 'manufacturing', 'appeal', 'repel', 'biased', 'slanderous', 'aspersion', 'disproved', 'slatternly', 'untidy', 'rebut', 'odious', 'stigma', 'originate', 'traceable', 'bung', 'shortness', 'unloading', 'dock', 'Hospital', 'Schmerenburgh', 'Smeerenberg', 'Fogo', 'Von', 'Slack', 'Smells', 'smeer', 'sheds', 'scentless', 'Jew', 'enjoys', 'dispenses', 'scented', 'rustles', 'liken', 'fragrance', 'Must', 'redolent', 'myrrh', '93', 'Castaway', 'lamentable', 'timorous', 'keeper', 'Pippin', 'nick', 'abbreviation', 'pony', 'developments', 'eccentric', 'span', 'torpid', 'intellects', 'festivities', 'finer', 'Julys', 'Year', 'lustrous', 'cabinets', 'luridly', 'illumined', 'fictitiously', 'County', 'Connecticut', 'fiddler', 'melodious', 'belled', 'veined', 'watered', 'healthful', 'jeweller', 'gases', 'divinest', 'sprain', 'discreditably', 'exhort', 'courageousness', 'needful', 'breasted', 'plumping', 'Snatching', 'interrogatively', 'assailed', 'execrations', 'Tranquilly', 'cursings', 'officially', 'unofficially', 'STICK', 'motto', 'undiluted', 'Stick', 'interferes', 'benevolence', 'performance', 'bounteous', 'flatly', 'beater', 'Bobbing', 'ebon', 'cloves', 'brightest', 'lonesomeness', 'concentration', 'immensity', 'merest', 'jeeringly', 'finite', 'unwarped', 'passive', 'Wisdom', 'hoarded', 'juvenile', 'omnipresent', 'insects', 'treadle', '94', 'crystallized', 'Constantine', 'clearer', 'sweetener', 'softener', 'molifier', 'eels', 'serpentine', 'spiralise', 'tissues', 'richly', 'opulence', 'uncontaminated', 'aroma', 'Paracelsan', 'allaying', 'bathing', 'co', 'sentimentally', 'acerbities', 'envy', 'attainable', 'saddle', 'paradise', 'thicker', 'oblongs', 'Berkshire', 'Plum', 'participating', 'refreshing', 'tint', 'bestreaked', 'plums', 'rubies', 'citron', 'cutlet', 'le', 'Gros', 'vintage', 'vineyards', 'Champagne', 'slobgollion', 'ineffably', 'stringy', 'ruptured', 'membranes', 'coalescing', 'Gurry', 'designates', 'glutinous', 'Nippers', 'indigenous', 'vocabulary', 'nipper', 'Edgewise', 'operates', 'squilgee', 'impurities', 'receptacle', 'arrives', 'tyros', 'workmen', 'lurches', 'hone', 'spademan', 'shoeless', 'assistants', 'Toes', '95', 'Cassock', 'mortemizing', 'strolled', 'scanned', 'scuppers', 'cone', 'Maachah', 'Judea', 'Asa', 'depose', 'abomination', 'Kedron', 'grandissimus', 'Extending', 'cylindrically', 'boa', 'pantaloon', 'slits', 'canonicals', 'Immemorial', 'minced', 'orator', 'Arrayed', 'occupying', 'bible', 'archbishopric', '!*', 'enjoins', 'accelerated', 'improving', '96', 'Works', 'outwardly', 'joining', 'constituting', 'kiln', 'roomy', 'battened', 'remarkably', 'cynical', 'polishing', 'geometry', 'cycloid', 'tunnel', 'evaporates', 'oversee', 'ignition', 'properties', 'plethoric', 'martyr', 'misanthrope', 'funereal', 'pyres', 'freshening', 'licked', 'flues', 'sulphur', 'Hydriote', 'Canaris', 'conflagrations', 'Tartarean', 'stokers', 'Opposite', 'emblazonings', 'laughter', 'gesticulated', 'dippers', 'scornfully', 'champed', 'Wrapped', 'ghastliness', 'drowsiness', 'illuminating', 'Uppermost', 'havens', 'bewildered', 'Convulsively', 'fronting', 'hallucination', 'accept', 'hitching', 'forking', 'gentler', 'liars', 'Dismal', 'Swamp', 'Campagna', 'Sahara', 'Sorrows', 'Ecclesiastes', 'unchristian', 'dodges', 'jails', 'graveyards', 'operas', 'Cowper', 'Pascal', 'Rousseau', 'Rabelais', 'wandereth', 'invert', 'deaden', 'Catskill', 'blackest', 'swoop', '97', 'Lamp', 'canonized', 'counsellors', 'pallet', 'Aladdin', 'pitchiest', 'illumination', 'cooler', 'replenishes', 'mugs', 'vat', 'lunar', 'astral', 'freshness', 'genuineness', '98', 'Stowing', 'Clearing', 'moors', 'garments', 'executioner', 'Shadrach', 'Meshach', 'Abednego', 'unscathed', 'scoot', 'OFFICIO', 'unsealed', 'hermetically', 'incidents', 'besooted', 'suffused', 'deafening', 'scrupulously', 'cleansing', 'adhesiveness', 'exterminates', 'restore', 'tidiness', 'scrubbed', 'simultaneous', 'bridegrooms', 'discourse', 'parlors', 'carpets', 'cambrics', 'musked', 'slash', 'cleanse', 'tabernacles', 'BLOWS', 'routine', 'metempsychosis', 'Pythagoras', '99', 'halted', 'hopefulness', 'interpret', 'cipher', 'cartload', 'Milky', 'Way', 'raked', 'Pactolus', 'amidst', 'rustiness', 'verdigris', 'untouchable', 'foulness', 'amongst', 'pilfering', 'wanton', 'revered', 'talisman', 'medals', 'alpacas', 'disks', 'ecliptics', 'luxuriant', 'profusion', 'preciousness', 'enhancing', 'mints', 'Spanishly', 'REPUBLICA', 'DEL', 'ECUADOR', 'QUITO', 'clime', 'autumn', 'Zoned', 'summits', 'crowing', 'arching', 'partitioned', 'cabalistics', 'keystone', 'equinoctial', 'Lucifer', 'volcano', 'victorious', 'rounder', 'magician', 'mirrors', 'gains', 'coined', 'claws', 'inspectingly', 'Trinity', 'girds', 'Righteousness', 'shines', 'fixture', 'wisely', 'falsely', 'twigging', 'Negro', 'Hill', 'Corlaer', 'Popayan', 'moidores', 'pistoles', 'Golconda', 'Epitome', 'ditto', 'curvicues', 'Jimimi', 'navigator', 'Pity', 'Almanack', 'lecherous', 'begets', 'Vice', 'Cancer', 'Crab', 'Lion', 'surly', 'dabs', 'Virgo', 'pop', 'Scales', 'Scorpio', 'Scorpion', 'stings', 'amusing', 'shafts', 'Capricornus', 'Goat', 'tilt', 'deluge', 'drowns', 'Pisces', 'Jollily', 'cigar', 'wiseish', 'luffs', 'halloa', 'Prick', 'witch', 'Copenhagen', 'Dodge', 'Cannibal', 'Astronomy', 'interpreters', 'Murray', 'Improving', 'bats', 'Caw', 'poked', 'complimentary', 'wits', 'county', 'darkey', 'hoard', 'Hish', 'hish', 'blackberrying', '100', 'Arm', 'Trumpet', 'tanned', 'thereabouts', 'festoons', 'broidered', 'hussar', 'surcoat', 'clamber', 'deprived', 'invention', 'abjectly', 'changeful', 'cleets', 'tastefully', 'bannisters', 'Jump', 'curve', 'rueful', 'Spin', 'cruised', 'trim', 'bouncing', 'exultingly', 'afoam', 'fluking', 'tangled', ');--', 'jiff', 'bat', 'befogged', 'bedeadened', 'looming', 'steeple', 'midday', 'flailings', 'ript', 'pill', 'introduction', 'Stood', 'chimed', 'Drinking', 'toddies', 'bandages', 'watcher', 'dietetically', 'respected', 'spins', 'clever', 'passant', 'abstinence', 'hydrophobia', 'exposing', 'scarry', 'rogue', 'bait', 'mathematically', 'digestive', 'inscrutably', 'feints', 'formerly', 'Ceylon', 'emetic', 'tacks', 'pawn', 'Bless', 'stoopingly', 'thermometer', 'lancet', '101', 'Decanter', 'fades', 'Tudors', 'Bourbons', '1726', 'Maceys', 'Enderbys', 'auspices', 'government', 'Commanded', '1819', 'tasting', 'experimental', 'Enderbies', 'sailer', 'trumps', 'Saxon', 'Flip', 'flipped', 'squally', 'tars', 'scrambled', 'diluted', 'pickled', 'risked', 'anti', 'scorbutic', 'Hollanders', 'Zealanders', 'scrimps', 'normal', 'incidental', 'stumbled', 'musty', 'reinforced', 'production', 'Fitz', 'Swackhammer', 'college', 'Claus', 'Pott', 'translation', 'spied', 'Cooper', 'Smeer', 'larders', 'translated', 'transcribe', '150', 'firkins', '144', 'Geneva', 'statistical', 'parchingly', 'quarts', 'studious', 'transcendental', 'Platonic', 'compiled', 'rendered', 'bumpers', 'prosecuted', 'climate', 'exclusive', 'fuddled', 'improbable', 'agrees', 'boozy', 'grievous', 'empties', 'decanter', '102', 'Bower', 'Hitherto', 'descriptively', 'treating', 'dwelt', 'structural', 'unbutton', 'untagging', 'unbuckling', 'garters', 'ultimatum', 'lectures', 'Cetacea', 'Explain', 'examination', 'dishes', 'rafters', 'pinnings', 'vats', 'butteries', 'cheeseries', 'dissect', 'sheaths', 'indebted', 'Dey', 'Algiers', 'villa', 'Bamboo', 'invent', 'droopings', 'enfoldings', 'sheltered', 'unextinguished', 'bough', 'devotees', 'Damocles', 'Glen', 'industrious', 'tendrils', 'shrubs', 'ferns', 'grasses', 'lacings', 'weaves', 'factories', 'spindles', 'villainies', 'detected', 'intermixed', 'greener', 'fresher', 'trellised', 'wived', 'curly', 'wandered', 'eddied', 'arbours', 'Dar', 'sconces', 'Museum', 'museum', 'Manchester', 'River', 'Yorkshire', 'seignories', 'cavities', 'shutters', 'footman', 'charging', 'twopence', 'threepence', 'sixpence', 'verbatim', 'wanderings', 'statistics', 'wished', 'untattooed', 'admeasurement', '103', 'Measurement', 'Skeleton', 'briefly', 'exhibit', 'outweigh', 'Feet', 'Attached', 'enclosed', 'vitals', 'disconnected', 'successively', 'climax', 'spanned', 'seemly', 'correspondence', 'footpath', 'attenuated', 'eddyings', 'angry', 'Pompey', 'Pillar', 'knobbed', 'urchins', '104', 'amplify', 'compress', 'intestines', 'approve', 'omnisciently', 'exhaustive', 'seminal', 'germs', 'habitatory', 'magnify', 'archaeological', 'Applied', 'grandiloquent', 'Fain', 'emprise', 'weightiest', 'consult', 'dissertations', 'expressly', 'lexicographer', 'compile', 'chirography', 'placard', 'condor', 'inkstand', 'Friends', 'penning', 'outreaching', 'mastodons', 'panoramas', 'excluding', 'suburbs', 'geologist', 'mason', 'ditches', 'canals', 'wells', 'cisterns', 'remind', 'justify', 'Detached', 'Scotland', 'Louisiana', '1779', 'Rue', 'Dauphine', 'Paris', 'Antwerp', '1842', 'Creagh', 'Basilosaurus', 'Anatomist', 'rechristened', 'Zeuglodon', 'Geological', 'mutations', 'blotted', 'characterized', 'partial', 'resemblances', 'affinities', 'seniors', 'bastions', 'Tropics', 'inhabitable', 'pedigree', 'Methuselah', 'Shem', 'antemosaic', 'unsourced', 'stereotype', 'limestone', 'marl', 'bequeathed', 'print', 'Denderah', 'griffins', 'moderns', 'Gliding', 'cradled', 'attestation', 'osseous', 'diluvian', 'Rafters', 'Beams', 'Bones', 'Common', 'Power', 'Matter', 'Rocks', 'Miles', 'Miracle', 'Camel', 'layn', 'Historians', 'affirm', 'Mahomet', 'Base', '105', 'Magnitude', 'Diminish', 'Perish', 'Inasmuch', 'Eternities', 'inquired', 'investigation', 'fossil', 'exhumed', 'tape', 'Assuredly', 'Aldrovandus', 'Walks', 'Tunnels', 'Solander', 'Cooke', 'Academy', 'Sciences', 'reydan', 'siskur', 'Wrinkled', 'Bellies', 'metres', 'ancestors', 'stall', 'Smithfield', 'fattest', 'kine', 'whaleships', 'penetrating', 'exterminated', 'Comparing', 'overspread', 'manes', 'scowled', 'sites', 'extermination', 'forbids', 'Canadian', 'moccasined', 'statistically', 'remunerative', 'influenced', 'yokes', 'fallacious', 'haunt', 'declining', 'unfamiliar', 'invasion', 'Swiss', 'savannas', 'citadels', 'barriers', 'floes', 'cachalot', 'annually', 'populousness', 'Harto', 'Goa', 'droves', 'Semiramis', 'Hannibal', 'Americas', 'longevity', 'imagining', 'perishable', 'Kremlin', 'despised', 'Netherlands', 'rats', 'frothed', '106', 'precipitating', 'thwart', 'splintering', 'urgent', 'inflexibly', 'lusty', 'prone', 'insensible', 'displaced', 'groin', 'cured', 'marsh', 'perpetuates', 'songster', 'Grief', 'Joy', 'canonic', 'enjoyments', 'childlessness', 'fertilely', 'progressive', 'inequality', 'analysis', 'felicities', 'unsignifying', 'pettiness', 'heartwoes', 'tracings', 'deduction', 'sourceless', 'primogenitures', 'cymballing', 'ineffaceable', 'signers', 'Unwittingly', 'Lama', 'senate', 'partook', 'explanatory', 'recluseness', 'banned', 'unaccounted', 'underived', 'conspired', 'muffle', 'transpire', 'synod', 'potentates', 'procedures', 'functionary', 'studs', 'clearest', 'fittings', '107', 'Seat', 'sultanically', 'abstracted', 'duplicates', 'abstraction', 'callings', 'outbranching', 'handicrafts', 'efficient', 'reforming', 'bladed', 'unhesitatingly', 'expert', 'conflicting', 'aptitudes', 'enacted', 'athwartships', 'belaying', 'strays', 'sprains', 'concocts', 'lotion', 'longed', 'vermillion', 'drills', 'pincers', 'bids', 'unmanageably', 'winces', 'unconcluded', 'capstans', 'expertness', 'vivacity', 'pauselessly', 'ignores', 'involving', 'ramifying', 'heartlessness', 'oddly', 'wheezing', 'unstreaked', 'wittiness', 'wanderer', 'clingings', 'pertained', 'abstract', 'unfractioned', 'babe', 'premeditated', 'uncompromisedness', 'unintelligence', 'intermixture', 'uneven', 'spontaneous', 'literal', 'manipulator', 'oozed', 'MULTUM', 'PARVO', 'Sheffield', 'drivers', 'awls', 'rulers', 'filers', 'countersinkers', 'superiors', 'omnitooled', 'machine', 'automaton', 'quicksilver', 'abided', 'soliloquizing', 'hummingly', 'soliloquizes', 'soliloquizer', '108', 'LIGHT', 'LANTERNS', 'BUSILY', 'FILING', 'LEG', 'FIRMLY', 'FIXED', 'SLABS', 'LEATHER', 'STRAPS', 'PADS', 'SCREWS', 'TOOLS', 'SORTS', 'ABOUT', 'RED', 'FLAME', 'FORGE', 'SEEN', 'WHERE', 'BLACKSMITH', 'Drat', 'drat', 'Saw', 'amputate', 'Lucky', 'shinbone', 'soak', 'doctored', 'lotions', 'Mogulship', 'DURING', 'ENSUING', 'SCENE', 'CONTINUES', 'SNEEZING', 'TIMES', 'manmaker', 'pleases', 'Measured', 'pinch', 'partnership', 'Africans', 'pedlar', 'crushing', 'pattern', 'Imprimis', 'modelled', 'Tunnel', 'outwards', 'architecture', 'thief', 'catcher', 'Thrusted', 'Clay', 'mud', 'ditchers', 'sneezing', 'Bone', 'feelest', 'poser', 'uninterpenetratingly', 'standest', 'eavesdroppers', 'dissolved', 'mayst', 'Hah', 'Bungle', 'TURNS', 'debtor', 'blockhead', 'Cursed', 'inter', 'indebtedness', 'ledgers', 'wealthiest', 'Praetorians', 'auction', 'owe', 'dissolve', 'compendious', 'RESUMING', 'dinning', 'thoughted', 'haphazard', 'undertake', 'chucks', 'slim', 'lasts', 'roly', 'poly', 'spavined', 'collecting', 'core', 'oval', 'smoothed', '109', 'unfavourable', 'semiweekly', 'drench', 'damply', 'leakage', 'Formosa', 'Niphon', 'Matsmai', 'Sikoke', 'pruning', 'wrinkling', 'footstep', 'Either', 'saving', 'aleak', 'outyell', 'Owners', 'prating', 'miserly', 'manifestation', 'resent', 'Devils', 'forbearing', 'mastering', 'outraged', 'waxes', 'obeys', 'plaits', 'Furl', 'honesty', 'imperiously', 'disaffection', '110', 'puncheons', 'copies', 'placards', 'Tierce', 'shooks', 'treading', 'catacombs', 'demijohn', 'dinnerless', 'companion', 'sinecures', 'clumsiest', 'stowage', 'holders', 'disembowelled', 'dampness', 'lizard', 'chill', 'lapsed', 'thinned', 'softness', 'bystanders', 'Zoroaster', 'impresses', 'holier', 'embalming', 'horizons', 'uncontinented', 'interflow', 'adown', 'Lackaday', 'promptitude', 'chalking', 'ejaculated', 'transferringly', 'tyrannical', 'Leaning', 'woody', 'entreated', 'comforts', 'Rarmai', 'sobbings', 'Seek', 'probed', 'vouchers', 'homes', 'runaway', 'convalescence', 'ungovernable', 'destroyer', 'convalescing', 'whimsiness', 'emptying', 'unfold', 'moulder', 'inscribed', 'unsolved', 'surveying', 'tantalization', '111', 'thanks', 'supplication', 'eastwards', 'stirrings', 'Ephesian', 'sod', 'Evangelist', 'Potters', 'Fields', 'somnambulisms', 'slumberers', 'restlessness', 'Magian', 'adoption', 'midmost', 'Californian', 'recentest', 'lave', 'Archipelagoes', 'Japans', 'Lifted', 'nostril', 'sugary', 'consciously', 'Launched', 'Delta', '112', 'Blacksmith', 'Availing', 'contributory', 'bowsmen', 'jealously', 'murmur', 'Silent', 'chronically', 'yawing', 'importunity', 'questionings', 'Belated', 'innocently', 'stupidly', 'numbness', 'uncatastrophied', 'postponedly', 'technicals', 'artisan', 'blithe', 'disguisement', 'Conjuror', 'economic', 'listened', 'unhappy', 'reverberations', 'unsweetly', 'Labor', 'lullaby', 'Hadst', 'competency', 'virtuous', 'elder', 'responsibilities', 'glitteringly', 'bellows', 'cinders', 'houseless', 'familyless', 'crape', 'unreverenced', 'curls', 'Untried', 'Remote', 'Watery', 'Unshored', 'compunctions', 'suicide', 'contributed', 'receptive', 'alluringly', 'abhorring', 'THY', 'gravestone', 'Hearkening', '113', 'Forge', 'swathed', 'apron', 'Mother', 'Carey', 'chickens', 'liv', 'shrunk', 'Welding', 'passionately', 'Said', 'unsmoothable', 'gaffs', 'racing', 'Horse', 'stubbornest', 'flaw', 'Work', 'welding', 'hems', 'blessing', 'fusee', 'wincing', 'branding', 'shave', 'sup', 'Fashioned', 'arrowy', 'tempering', 'punctures', 'Ego', 'baptizo', 'te', 'patris', 'sed', 'diaboli', 'scorchingly', 'baptismal', 'unwound', 'Pressing', 'strandings', 'unstranded', 'intertwistings', 'mummeries', 'unmeaningly', 'mocked', '114', 'Gilder', 'Penetrating', 'paddling', 'birch', 'mixing', 'cats', 'purr', 'forgets', 'conceals', 'filial', 'vales', 'mixes', 'interpenetrate', 'seamless', 'treasuries', 'tarnishing', 'landscapes', 'clover', 'mingling', 'unretracing', 'gradations', 'boyhood', 'thoughtless', 'adolescence', 'disbelief', 'Ifs', 'unmoor', 'ether', 'weariest', 'unwedded', 'paternity', 'Loveliness', 'lover', 'tiered', '115', 'apparel', 'gloriously', 'streamers', 'bunting', 'Signals', 'brazen', 'bartered', 'centrepiece', 'caulked', 'plugged', 'complacent', 'barbarian', 'drums', 'POKE', 'eloped', 'negroes', 'Bastille', 'jubilations', 'impersonated', 'islanders', 'sayst', 'homewardbound', '116', 'Dying', 'favourites', 'spearings', 'plaintiveness', 'inwreathing', 'orisons', 'convent', 'wantonly', 'vesper', 'hymns', 'Soothed', 'sterned', 'wanings', 'placid', 'wondrousness', 'vassal', 'candid', 'unspoken', 'Niger', 'whirls', 'unverdured', 'slaughtering', 'trebly', 'aspiring', 'strivest', 'jettest', 'intercedings', 'unnamable', 'imminglings', 'suckled', 'mothered', 'foster', '117', 'flickering', 'chafed', 'spectrally', 'moaning', 'squadrons', 'Asphaltites', 'unforgiven', 'Started', 'couldst', 'plumes', 'pledges', 'derision', ';--\"', 'Immortal', '118', 'Quadrant', 'determine', 'unblinkingly', 'focus', 'splendors', 'astrological', 'passionlessness', 'revery', 'cabalistical', 'Foolish', 'plaything', 'Admirals', 'Commodores', 'brags', 'happenest', 'impotence', 'insultest', 'Science', 'vividness', 'scorches', 'Level', 'guide', 'deadreckoning', 'THESE', 'trample', 'feebly', 'pointest', 'trampled', 'sneering', 'fatalistic', 'Unobserved', 'awestruck', 'troubledly', 'erectly', 'Horatii', 'pirouetting', 'lurching', 'dumbest', 'charcoal', 'actest', '119', 'Candles', 'Warmest', 'crouches', 'Skies', 'cloudless', 'exploding', 'bomb', 'dazed', 'poled', 'blazed', 'firmer', 'teetering', ';\"--(', 'flourishin', 'flyin', 'foamin', \"';\", 'spicin', \"',--\", 'splits', 'smacks', 'tastin', 'Madman', 'markest', 'shortest', 'lightens', 'volley', 'peals', 'conductor', 'mishaps', 'interfering', 'impeding', 'flambeaux', 'weaker', 'sulphurous', 'teeter', 'Tekel', 'Upharsin', 'gleaming', 'phosphorescence', 'Relieved', 'Satanic', 'tableau', 'thinkest', 'chock', 'supernaturalness', 'cohered', 'numbed', 'wasps', 'Herculaneum', 'upcast', 'trinity', 'sacramental', 'dispute', 'unintegral', 'mastery', 'whencesoe', 'wheresoe', 'queenly', 'supernal', 'launchest', 'madest', 'SUDDEN', 'REPEATED', 'FLASHES', 'LIGHTNING', 'NINE', 'FLAMES', 'LENGTHWISE', 'THRICE', 'PREVIOUS', 'HEIGHT', 'REST', 'CLOSES', 'EYES', 'PRESSED', 'HARD', 'wrung', 'shutter', 'stunning', 'blindfold', 'Light', 'leapest', 'genealogy', 'unbegotten', 'unbegun', 'unsuffusing', 'creativeness', 'unparticipated', 'Leap', 'torch', 'transfix', 'Petrified', 'shrinking', 'binding', 'sweeps', 'neighborhood', 'elm', '120', 'End', 'HELM', 'APPROACHING', 'coasting', 'gluepots', 'Loftiest', 'hooroosh', 'colic', '121', 'Bulwarks', 'FLASK', 'MOUNTED', 'ADDITIONAL', 'OVER', 'ANCHORS', 'HANGING', 'ARE', 'drenching', 'Shake', 'pitchers', 'risks', 'Marine', 'guarantees', 'hydrants', 'militia', 'skewered', 'sash', 'Tying', 'fists', 'wring', 'togs', 'Same', 'cocked', 'eave', 'troughs', 'nasty', '122', 'Lightning', 'MAIN', 'TOP', 'SAIL', 'YARD', 'AROUND', 'Plenty', '123', 'Musket', 'reelingly', 'preventer', 'shuttlecock', 'anyone', 'strenuous', 'exertions', 'trysail', 'FAIR', 'OH', 'CHEERLY', 'MEN', 'falsified', 'compliance', 'trimmed', 'reluctantly', 'apprise', 'fitfully', 'panels', 'subterraneousness', 'shiningly', 'evolved', 'Loaded', 'spill', 'gropes', 'suffered', 'remonstrance', 'scornest', 'Flat', 'breathest', 'Ahabs', 'forbid', 'lawful', 'caged', 'howlings', 'tindering', 'stealthily', 'drunkard', 'panel', 'wrestling', '124', 'Needle', 'outspread', 'unstaggering', 'abounded', 'outbellying', 'boomed', 'Muffled', 'Emblazonings', 'Babylonian', 'molten', 'tetering', 'loweringly', 'rearward', 'Yoke', 'hallo', 'reined', 'huskily', 'liest', 'Heading', 'palpableness', 'Thrusting', 'electricity', 'Instances', 'recovers', 'reaches', 'Deliberately', 'unmurmuringly', 'acquiesced', 'rumbled', 'unimpressed', 'magnetism', 'tubes', 'Accessory', 'clumsily', 'Abashed', 'servile', 'blunted', 'magnetizing', 'slunk', '125', 'Log', 'fated', 'reliance', 'determining', 'neglect', 'railing', 'Rains', 'damped', 'plungingly', 'Heave', 'grizzly', 'spindle', 'unwinding', 'mistrust', 'truer', 'subservient', 'Excellent', 'unmanned', 'jerkingly', 'reelman', 'Snap', 'overstrained', 'sagged', 'tugging', 'loosening', 'fished', 'loon', 'scolds', 'lesser', 'holiness', 'Astern', 'creative', 'libertines', 'touchest', 'strings', 'weak', 'rivet', 'believers', 'idiotic', 'gratitude', 'rotten', 'Mend', '126', 'Buoy', 'Making', 'unfrequented', 'monotonously', 'plaintively', 'wailings', 'Herod', 'Innocents', 'transfixedly', 'unappalled', 'peeringly', 'plausible', 'confirmation', 'waked', 'shrunken', 'pore', 'sooth', 'portent', 'fulfilment', 'presaged', 'lightness', 'feverish', 'inuendoes', 'arrange', 'Bring', 'huff', 'baulks', 'bandbox', 'undignified', 'brats', 'tinkerings', 'betters', 'cobbler', 'heigh', 'Nail', 'batten', 'knotty', 'Aroostook', 'hemlock', 'Cruppered', 'Sailing', 'tray', 'workers', 'bedsteads', '127', 'LAID', 'LINE', 'TUBS', 'BETWEEN', 'OPEN', 'HATCHWAY', 'CAULKING', 'ITS', 'SEAMS', 'STRING', 'TWISTED', 'OAKUM', 'UNWINDING', 'ROLL', 'PLACED', 'BOSOM', 'FROCK', 'COMES', 'GANGWAY', 'HEARS', 'FOLLOWING', 'complies', 'genially', 'aisle', 'undertaker', 'arrant', 'intermeddling', 'scamp', 'Titans', 'chipping', 'craters', 'sings', 'bier', 'Despatch', 'Albemarle', 'HIMSELF', 'woodpecker', 'Blind', 'envied', 'Rat', 'tat', 'seconds', 'tick', 'immaterial', 'imponderable', 'suck', 'philosophies', 'conduits', '128', 'clustering', 'boastful', 'bladders', 'Throttling', 'negatively', 'pulls', 'swiftest', 'gleam', 'conjure', 'icily', 'petition', 'charter', 'roundly', 'Manx', 'adopting', 'iciness', 'unmisgiving', 'hardihood', 'initiate', 'unenervated', 'display', 'partiality', 'undue', 'boon', 'nestling', 'relent', 'prolongingly', 'forgive', 'Hurriedly', 'transfixed', 'rejection', 'enchantment', 'cherrying', 'wept', '129', 'MOVING', 'CATCHES', 'Lad', 'bigot', 'fadeless', 'grows', 'Weep', 'Met', 'GOES', 'STEPS', 'STEP', 'fours', 'lieutenants', 'monsieurs', 'Monsieurs', 'Jumped', 'Put', 'bulge', '130', 'Hat', 'contrastingly', 'concurred', 'sinning', 'sinned', 'unsetting', 'sustains', 'domineered', 'check', 'Alike', 'powdered', 'clamped', 'machines', 'despot', 'wan', 'watchmen', 'limits', 'sunshine', 'unearthed', 'intermission', 'unmomentous', 'asunder', 'verbal', 'forethrown', 'commandingly', 'subordinates', 'tyrant', 'siding', 'glimmering', 'slided', 'reeved', 'attaching', 'shunning', 'relying', 'arranging', 'foothold', 'relations', 'fastenings', 'carelessness', 'select', 'billed', 'incommodiously', 'untrackably', 'spiralized', 'Sicilian', 'scream', 'replace', 'Tanaquil', '131', 'misnamed', 'unrigged', 'bleaching', 'sewing', 'Tempered', 'triply', 'Brace', 'baptism', 'dejected', '132', 'Symphony', 'firmaments', 'separable', 'pensive', 'transparently', 'Samson', 'Hither', 'unspeckled', 'masculine', 'sex', 'czar', 'groom', 'haggardly', 'unyielding', 'untottering', 'clearness', 'innocency', 'Invisible', 'elves', 'heedlessly', 'gambol', 'singed', 'marge', 'aromas', 'dispel', 'cankerous', 'caress', 'erring', 'wee', 'privation', 'forsaken', 'heaviness', 'slavery', 'poorest', 'crusts', 'frenzy', 'foamingly', 'brush', 'Wife', 'sisterly', 'blighted', 'cindered', 'lovings', 'longings', 'Albicore', 'Sleep', 'blanched', 'Mate', 'motionlessly', '133', 'inspecting', 'ascertaining', 'acute', 'vindicated', 'bordering', 'metallic', 'rip', 'Thundering', 'flattening', 'Fired', 'jetting', 'moonlit', 'attuned', 'prolongings', 'luff', 'Shiver', 'Boats', 'gnawed', 'nautilus', 'unsuspecting', 'rugged', 'playfully', 'interchangeably', 'feathering', 'alternate', 'skimming', 'pennons', 'joyousness', 'ravished', 'Europa', 'bewitching', 'nuptial', 'Crete', 'Supreme', 'surpass', 'coincident', 'enticings', 'namelessly', 'assail', 'enticing', 'glidest', 'bejuggled', 'tranquillities', 'clappings', 'rapture', 'withholding', 'marbleized', 'warningly', 'bannered', 'Hoveringly', 'apeak', 'wooing', 'freshened', 'herons', 'keener', 'weasel', 'undiscoverable', 'doored', 'stratagem', 'sidelingly', 'thrilled', 'unastonished', 'dallied', 'frenzied', 'frail', 'crafty', 'upraising', 'loosed', 'Ripplingly', 'spindled', 'vindictively', 'Channel', 'overleap', 'designation', 'comprehensively', 'madden', 'mulberries', 'Antiochus', 'Maccabees', 'insolent', 'incuriously', 'revolvingly', 'planetarily', '!--\"', 'Dragged', 'caking', 'trodden', 'ravines', 'prostration', 'abbreviate', 'pang', 'feebler', 'decree', 'intensities', 'pointless', 'centres', 'circumferences', 'draggingly', 'Help', 'treble', 'vicissitude', 'overtaking', 'stacking', 'outstretching', 'jointed', 'allotted', '.--\"', 'Whose', 'clouded', 'thistle', 'pricked', 'soulless', 'Groan', 'Omen', 'honourably', 'darkling', 'peopled', 'Cold', 'rustling', 'unset', 'slower', '.\"--', 'rousing', '134', 'punctually', 'pertinacious', 'prescience', 'invincible', 'geniuses', 'foretell', 'trending', 'obscures', 'proverbial', 'evanescence', 'railway', 'acuteness', 'windbound', 'Inferable', 'furrow', 'missent', 'plough', 'creeps', 'tingles', 'launch', 'blister', 'miller', 'shuts', 'watergate', 'frenzies', 'hares', 'bounding', 'enslaved', 'maple', 'individualities', 'guiltiness', 'oneness', 'outspreadingly', 'Clinging', 'wavings', 'shading', 'blueness', 'Sway', 'belayed', 'orchestra', 'vibrate', 'discharges', 'rifles', 'halloo', 'bravadoes', 'salmon', 'bluer', 'glittered', 'glacier', 'mistiness', 'Unmindful', 'ladders', 'dartingly', 'excludes', 'annihilating', 'manoeuvred', 'trained', 'chargers', 'slogan', 'untraceable', 'evolutions', 'recrossed', 'foreshortened', 'hoping', 'disencumber', 'snarls', 'Caught', 'corkscrewed', 'fagot', 'husks', 'grated', 'nutmeg', 'aslope', 'bobbed', 'twitching', 'lustily', 'unstricken', 'struggled', 'modifying', 'crumb', 'intertangled', 'contusions', 'inextricable', 'leaner', 'Dead', 'muster', 'gores', 'Accursed', 'Gone', 'knell', 'collect', 'unmeasured', 'Jesus', 'mobbing', 'Impiety', 'lipless', 'unfeatured', 'immutably', 'billion', 'lieutenant', 'underling', 'obeyest', 'propped', 'centipede', 'encore', 'tomorrow', 'baffle', 'judges', 'dusk', 'hid', 'heliotrope', '135', 'dawned', 'fairer', 'clefts', 'lava', 'corridors', 'ventilated', 'fleeces', 'tainted', 'slink', 'braver', 'exasperate', 'Trade', 'Winds', 'veer', 'baser', 'Mississippies', 'Poles', 'unchangeable', 'oversailed', 'reverse', 'rechurned', 'Against', 'misdoubt', 'voiced', 'Forehead', 'wink', 'leewardings', 'Leeward', 'bitterer', 'tiny', 'shallop', 'weeps', 'persuasion', 'maliciously', 'prescient', 'regiments', 'molesting', 'Heart', 'ravening', 'Future', 'fadest', 'Strangest', 'Feel', 'Stir', 'Crazed', 'soars', 'upheaved', 'bedraggled', 'Shrouded', 'swamping', 'Crushed', 'brokenly', 'creamed', 'combinedly', 'tiers', 'knitted', 'flailed', 'Lashed', 'frayed', 'Befooled', 'befooled', 'seekest', 'judicious', 'staved', 'busying', 'abate', 'pertinaciously', 'rowlocks', 'Monadnock', 'fiercer', 'writhed', 'foreknew', 'unprepared', 'ungraduated', 'tug', 'sinew', 'Burst', 'crashing', 'evolution', 'persecutions', 'Slope', 'splashing', 'gap', 'wrapping', 'plaid', 'fidelities', 'unappeasable', 'unwinking', 'mattrass', 'brushwood', 'assassins', 'gulping', 'Cherries', 'coppers', 'inactive', 'predestinating', 'Retribution', 'buttress', 'dislodged', 'flume', 'Diving', 'unsurrendered', 'uncracked', 'bullied', 'foregone', 'comber', 'unconquering', 'grapple', 'THUS', 'voicelessly', 'mutes', 'bowstring', 'bewildering', 'mediums', 'gaseous', 'Fata', 'Morgana', 'infatuation', 'lookouts', 'animate', 'inanimate', 'whelmings', 'intermixingly', 'ironical', 'coincidings', 'backwardly', 'tauntingly', 'incommoding', 'intercept', 'etherial', 'thrill', 'Epilogue', 'ONLY', 'ESCAPED', 'THEE', 'halfspent', 'suction', 'closing', 'Ixion', 'Till', 'liberated', 'Buoyed', 'dirgelike', 'padlocks', 'sheathed', 'retracing', 'orphan']\n"
     ]
    }
   ],
   "execution_count": 93
  },
  {
   "metadata": {},
   "cell_type": "markdown",
   "source": "3.2 -> Fine-grained Selection of Words",
   "id": "d1fb1296e757cc92"
  },
  {
   "metadata": {
    "ExecuteTime": {
     "end_time": "2025-02-13T12:24:00.841444Z",
     "start_time": "2025-02-13T12:24:00.806583Z"
    }
   },
   "cell_type": "code",
   "source": [
    "V = set(text1)\n",
    "long_words = [w for w in V if len(w) > 15]\n",
    "sorted_long_words = sorted(long_words)\n",
    "print(sorted_long_words)\n",
    "print(len(sorted_long_words))"
   ],
   "id": "63557f5961c878b6",
   "outputs": [
    {
     "name": "stdout",
     "output_type": "stream",
     "text": [
      "['CIRCUMNAVIGATION', 'Physiognomically', 'apprehensiveness', 'cannibalistically', 'characteristically', 'circumnavigating', 'circumnavigation', 'circumnavigations', 'comprehensiveness', 'hermaphroditical', 'indiscriminately', 'indispensableness', 'irresistibleness', 'physiognomically', 'preternaturalness', 'responsibilities', 'simultaneousness', 'subterraneousness', 'supernaturalness', 'superstitiousness', 'uncomfortableness', 'uncompromisedness', 'undiscriminating', 'uninterpenetratingly']\n",
      "24\n"
     ]
    }
   ],
   "execution_count": 99
  },
  {
   "metadata": {
    "ExecuteTime": {
     "end_time": "2025-02-13T12:23:49.191808Z",
     "start_time": "2025-02-13T12:23:49.170267Z"
    }
   },
   "cell_type": "code",
   "source": [
    "vocab = set(text2)\n",
    "long_vocab = [word for word in vocab if len(word) > 10]\n",
    "sorted_long_vocab = sorted(long_vocab)\n",
    "print(sorted_long_vocab)\n",
    "print(len(sorted_long_vocab))\n",
    "set_vocab = set(sorted_long_vocab)"
   ],
   "id": "6730c5af6976b216",
   "outputs": [
    {
     "name": "stdout",
     "output_type": "stream",
     "text": [
      "['Astonishment', 'Beautifully', 'Comparisons', 'Considering', 'Conversation', 'Disappointed', 'Disappointment', 'Dorsetshire', 'Extravagance', 'Fortunately', 'INconvenience', 'Marlborough', 'Opportunity', 'Preparation', 'Prescriptions', 'Recollecting', 'Richardsons', 'Sensibility', 'Shakespeare', 'Somersetshire', 'Thunderbolts', 'Unaccountable', 'Undoubtedly', 'Westminster', 'Willoughbys', 'abridgement', 'abstraction', 'accidentally', 'accommodate', 'accommodating', 'accommodation', 'accommodations', 'accompanied', 'accomplished', 'accomplishment', 'accordingly', 'accustomary', 'acknowledge', 'acknowledged', 'acknowledging', 'acknowledgment', 'acknowledgments', 'acquaintance', 'acquaintances', 'acquiescence', 'acquisition', 'administering', 'advancement', 'advantageous', 'affectation', 'affectionate', 'affectionately', 'affirmative', 'afflictions', 'aggrandizement', 'aggravation', 'alleviation', 'alterations', 'alternately', 'alternative', 'annihilation', 'anticipated', 'anticipating', 'anticipation', 'anticipations', 'apologising', 'appearances', 'application', 'appointment', 'apprehended', 'apprehension', 'apprehensions', 'apprehensive', 'approaching', 'approbation', 'appropriate', 'arrangement', 'arrangements', 'articulation', 'artlessness', 'ascertained', 'assiduities', 'associating', 'astonishing', 'astonishment', 'attachments', 'attentively', 'attractions', 'attributing', 'auspiciously', 'awkwardness', 'backwardness', 'barbarously', 'beautifully', 'benefactress', 'benevolence', 'booksellers', 'breakfasting', 'calculation', 'candlelight', 'captivating', 'carefulness', 'carelessness', 'cautiousness', 'celebration', 'certainties', 'cheerfuller', 'cheerfulness', 'circumspection', 'circumstance', 'circumstanced', 'circumstances', 'comfortable', 'comfortably', 'commendation', 'commiseration', 'commissioned', 'communicate', 'communicated', 'communicating', 'communication', 'communicative', 'companionableness', 'comparative', 'comparatively', 'comparisons', 'compassionate', 'complacency', 'complaining', 'complaisance', 'complicated', 'compliments', 'composition', 'comprehended', 'comprehension', 'compunction', 'concealment', 'concessions', 'conciliation', 'conclusions', 'concurrence', 'condemnation', 'conditioned', 'confederacy', 'confessedly', 'confidential', 'confinement', 'confirmation', 'congratulate', 'congratulated', 'congratulating', 'congratulations', 'conjectural', 'conjectured', 'conjectures', 'conjecturing', 'connections', 'connoisseur', 'connoisseurship', 'conscientious', 'conscientiously', 'consciousness', 'consequence', 'consequences', 'consequently', 'considerable', 'considerably', 'considerate', 'considerately', 'consideration', 'considerations', 'considering', 'consistency', 'consolation', 'conspicuous', 'consternation', 'constitution', 'constitutional', 'constrained', 'construction', 'consultation', 'consumption', 'contemptible', 'contemptuous', 'contemptuously', 'contentment', 'continually', 'continuance', 'continuation', 'contraction', 'contradicted', 'contradictory', 'contributed', 'contributing', 'contribution', 'contrivance', 'convenience', 'conveniences', 'conveniently', 'conversation', 'conversations', 'correctness', 'correspondence', 'countenance', 'counteracted', 'declaration', 'deficiencies', 'deliberating', 'deliberation', 'delightfully', 'deliverance', 'demonstrations', 'description', 'despatching', 'desperately', 'desperation', 'despondence', 'destination', 'destruction', 'determinate', 'determination', 'determining', 'differently', 'difficulties', 'dilatoriness', 'disadvantage', 'disagreeable', 'disagreement', 'disagreements', 'disappeared', 'disappointed', 'disappointing', 'disappointment', 'disappointments', 'disapprobation', 'disapproved', 'disapproves', 'disapproving', 'discernment', 'discharging', 'disclaiming', 'discomposed', 'discontented', 'discontents', 'discovering', 'discrimination', 'discussions', 'disengagement', 'disgraceful', 'dishonorable', 'disinclination', 'disinherited', 'disinterested', 'disinterestedness', 'disobedient', 'displeasure', 'disposition', 'disproportion', 'disqualifications', 'disregarded', 'disrespectfully', 'dissatisfaction', 'dissatisfied', 'dissembling', 'dissipation', 'distinction', 'distinguish', 'distinguished', 'distinguishing', 'distractedly', 'distressing', 'earnestness', 'economically', 'effectually', 'ejaculation', 'eligibility', 'elucidation', 'embarrassed', 'embarrassment', 'embellishment', 'embellishments', 'employments', 'encouragement', 'encouragements', 'encouraging', 'encroachments', 'endeavoring', 'endeavoured', 'endeavouring', 'enforcement', 'enfranchisement', 'engagements', 'enlargement', 'enlightened', 'entanglement', 'entertained', 'entertainment', 'enthusiastic', 'enumeration', 'established', 'establishing', 'establishment', 'everlasting', 'examination', 'exceedingly', 'excellencies', 'excessively', 'exclamation', 'exclamations', 'exclusively', 'exhilarated', 'exhilaration', 'expectation', 'expectations', 'expeditiously', 'expensiveness', 'experienced', 'experiencing', 'explanation', 'explanations', 'explanatory', 'expressions', 'expressively', 'extinguished', 'extraordinary', 'extravagance', 'extravagant', 'familiarity', 'familiarized', 'fascinating', 'fashionable', 'felicitations', 'flourishing', 'fluctuating', 'forbearance', 'forebodings', 'foreplanned', 'forgiveness', 'fortunately', 'foundations', 'friendliest', 'friendliness', 'generations', 'gentlemanlike', 'gracefulness', 'graciousness', 'grandmothers', 'gratification', 'guardianship', 'handkerchief', 'heightening', 'henceforward', 'hesitatingly', 'honeysuckles', 'hospitality', 'housekeeper', 'housekeeping', 'humiliating', 'humiliations', 'illustration', 'imagination', 'imaginations', 'immediately', 'immoderately', 'impartiality', 'impatiently', 'impenetrable', 'imperfection', 'imperfections', 'imperfectly', 'impertinence', 'impertinent', 'impertinently', 'importunate', 'importunity', 'impossibility', 'impoverished', 'impoverishing', 'impracticable', 'impropriety', 'improvement', 'improvements', 'improvident', 'imprudently', 'inadvertence', 'inarticulate', 'inattention', 'inattentive', 'incautiousness', 'incessantly', 'inclination', 'inclinations', 'incoherently', 'incompatible', 'incomprehensible', 'inconsiderable', 'inconsiderately', 'inconsistency', 'inconsolable', 'inconstancy', 'inconvenience', 'inconveniences', 'inconvenient', 'incredulity', 'indefatigable', 'independence', 'independent', 'independently', 'indifference', 'indifferent', 'indignantly', 'indignation', 'indispensable', 'indispensably', 'indisposition', 'indisputable', 'indubitable', 'ineffectual', 'inexcusable', 'inexperience', 'inexperienced', 'infatuation', 'inferiority', 'information', 'ingratiating', 'ingratitude', 'inhabitants', 'innumerable', 'inquisitive', 'inquisitiveness', 'insensibility', 'insignificance', 'insincerity', 'insinuations', 'instantaneous', 'instantaneously', 'instigation', 'instruction', 'instructions', 'insufferably', 'insufficiency', 'insufficient', 'insurmountable', 'intelligence', 'intelligent', 'intelligible', 'intentionally', 'intercourse', 'interesting', 'interference', 'interfering', 'intermission', 'interrupted', 'interrupting', 'interruption', 'interspersed', 'intoxication', 'intrinsically', 'introducing', 'introduction', 'intuitively', 'investigation', 'invitations', 'involuntarily', 'involuntary', 'irreconcilable', 'irremediable', 'irreparable', 'irrepressible', 'irreproachable', 'irresistible', 'irritability', 'judiciously', 'justification', 'lamentation', 'lamentations', 'magnanimity', 'magnificent', 'maintenance', 'malevolence', 'mantelpiece', 'mechanically', 'meditations', 'meritorious', 'misapprehension', 'mischievous', 'misconstruction', 'misinformed', 'misunderstood', 'mortification', 'mysteriously', 'necessarily', 'necessitous', 'negotiation', 'neighbourhood', 'neighbouring', 'neighbourly', 'nonsensical', 'nourishment', 'obligations', 'observation', 'observations', 'occasionally', 'occupations', 'officiously', 'opportunities', 'opportunity', 'outstretched', 'outstripped', 'overpowered', 'overpowering', 'overspreading', 'overstrained', 'particularity', 'particularly', 'particulars', 'passionately', 'penetration', 'perceptible', 'perfections', 'performance', 'performances', 'persecution', 'persecutions', 'perseverance', 'persevering', 'perturbation', 'perverseness', 'philanthropic', 'philosophic', 'picturesque', 'plantations', 'playfellows', 'playfulness', 'pleasantest', 'pleasantness', 'possessions', 'possibility', 'practicable', 'premeditated', 'preparation', 'preparations', 'prepossessed', 'prepossessing', 'prepossession', 'presentation', 'pretensions', 'principally', 'probabilities', 'probability', 'proclaiming', 'prodigiously', 'professedly', 'professions', 'promontories', 'promptitude', 'pronouncing', 'propensities', 'proportionately', 'proportioned', 'proposition', 'prosecution', 'prosperously', 'protestations', 'provocation', 'publication', 'punctuality', 'qualification', 'qualifications', 'quarrelling', 'rapturously', 'reasonableness', 'recognition', 'recollected', 'recollecting', 'recollection', 'recommendation', 'recommended', 'recommending', 'reconciliation', 'refinements', 'reflections', 'refreshment', 'refreshments', 'relationship', 'relinquished', 'reluctantly', 'remembering', 'remembrance', 'remembrances', 'representation', 'representations', 'represented', 'representing', 'reproachfully', 'reproaching', 'resemblance', 'reservedness', 'respectability', 'respectable', 'respectably', 'respectfully', 'restorative', 'restriction', 'resuscitation', 'rheumatisms', 'sacrificing', 'sagaciously', 'satisfaction', 'satisfactory', 'selfishness', 'sensibility', 'separations', 'shrubberies', 'significancy', 'significant', 'significantly', 'slightingly', 'solicitation', 'solicitations', 'speculation', 'speculative', 'spontaneous', 'strangeness', 'strengthened', 'strengthening', 'subservient', 'successfully', 'successively', 'sufficiently', 'superannuated', 'superintend', 'superiority', 'supplication', 'supposition', 'surrounding', 'sympathised', 'tediousness', 'temporizing', 'termination', 'thoughtfully', 'thoughtfulness', 'thoughtless', 'threatening', 'thunderbolt', 'tranquility', 'tranquilize', 'tranquillity', 'transgressed', 'transparency', 'transporting', 'triumphantly', 'troublesome', 'twelvemonth', 'unaccountable', 'unaccountably', 'unacknowledged', 'unaffectedly', 'unanswerable', 'unavoidable', 'unavoidably', 'unblemished', 'uncertainty', 'uncomfortable', 'unconcerned', 'unconnected', 'unconquerable', 'unconscious', 'undeceiving', 'understanding', 'undertaking', 'undervalued', 'undeserving', 'undesignedly', 'undesirable', 'undiscerning', 'undoubtedly', 'undoubtingly', 'unembarrassed', 'unequivocal', 'unexhilarating', 'unexpectedly', 'unexpressed', 'unfashionable', 'unfathomable', 'unfavourable', 'unfortunate', 'unfortunately', 'unfulfilled', 'ungraciously', 'unhappiness', 'uninfluenced', 'unintelligible', 'unintentional', 'uninteresting', 'universally', 'unjustifiable', 'unknowingly', 'unnecessary', 'unobtrusive', 'unobtrusiveness', 'unpardonable', 'unpleasantest', 'unpleasantness', 'unpremeditated', 'unprincipled', 'unpromising', 'unreasonable', 'unreasonably', 'unremitting', 'unrestrained', 'unsolicited', 'unspeakable', 'unsuitableness', 'unsuspected', 'unwillingly', 'unwillingness', 'unworthiness', 'vindication', 'violoncello', 'voluntarily', 'watchfulness', 'willingness', 'wretchedness']\n",
      "724\n"
     ]
    }
   ],
   "execution_count": 98
  },
  {
   "metadata": {
    "ExecuteTime": {
     "end_time": "2025-02-13T12:28:53.232424Z",
     "start_time": "2025-02-13T12:28:53.207520Z"
    }
   },
   "cell_type": "code",
   "source": [
    "t4_text = set(text4)\n",
    "long_t4 = [w4 for w4 in t4_text if len(w4) > 15]\n",
    "sorted_long_t4 = sorted(long_t4)\n",
    "print(sorted_long_t4)"
   ],
   "id": "c91654477d70b957",
   "outputs": [
    {
     "name": "stdout",
     "output_type": "stream",
     "text": [
      "['RESPONSIBILITIES', 'antiphilosophists', 'constitutionally', 'contradistinction', 'discountenancing', 'disqualification', 'enthusiastically', 'instrumentalities', 'internationality', 'irresponsibility', 'misappropriation', 'misrepresentation', 'misunderstanding', 'responsibilities', 'sentimentalizing', 'transcontinental', 'uncharitableness', 'unconstitutional']\n"
     ]
    }
   ],
   "execution_count": 102
  },
  {
   "metadata": {
    "ExecuteTime": {
     "end_time": "2025-02-13T12:27:53.849884Z",
     "start_time": "2025-02-13T12:27:53.840088Z"
    }
   },
   "cell_type": "code",
   "source": [
    "t5_text = set(text5)\n",
    "long_t5 = [w5 for w5 in t5_text if len(w5) > 15]\n",
    "sorted_long_t5 = sorted(long_t5)\n",
    "print(sorted_long_t5)"
   ],
   "id": "5bf2722c0566f53a",
   "outputs": [
    {
     "name": "stdout",
     "output_type": "stream",
     "text": [
      "['!!!!!!!!!!!!!!!!', '!!!!!!!!!!!!!!!!!!!!!!', '!!!!!!!!!!!!!!!!!!!!!!!', '!!!!!!!!!!!!!!!!!!!!!!!!!!!', '!!!!!!!!!!!!!!!!!!!!!!!!!!!!', '!!!!!!!!!!!!!!!!!!!!!!!!!!!!!!!!!!!!!!!!!!!!!!!!!!!!!!', '#talkcity_adults', '(((((((((((((((((', '((((((((((((((((((', '((((((((((((((((((((', '(((((((((((((((((((((', '(((((((((((((((((((((((', '((((((((((((((((((((((((', '(((((((((((((((((((((((((', '((((((((((((((((((((((((((', ')))))))))))))))))', ')))))))))))))))))))', ')))))))))))))))))))))', '))))))))))))))))))))))', '))))))))))))))))))))))))))))', ')))))))))))))))))))))))))))))))', '--------------------', '.(..(.vMp3 v1.7.4.).)', '.(..(.vMp3 vi.p.t.)..).', '................', '..................', '...................', '....................', '........................', '..............................', '.A.n.a.c.?.n.?.a.', '//www.wunderground.com/cgi-bin/findweather/getForecast?query=95953#FIR', '<3333333333333333', '<33333333333333333', 'BAAAAALLLLLLLLIIIIIIINNNNNNNNNNN', 'Bloooooooooooood', 'HHEEYYYYYYYYYYYYYYYYYYYYYYYYYYYYYYYYYYYYYYYYYYYYYYY', 'HolocaustYourMom', 'Mooooooooooooooooooooooooooo', 'Nooooooooooooooo', 'WEEEEEEEEEEEEEEEEEE', '[[[[[[[[[[[[[[[[[[', ']]]]]]]]]]]]]]]]]]]]]', 'aaaaaaaaaaaaaaaaa', 'agurlwithbigguns', 'aiiiiiiiiiiiiiiiiiiiiiiii', 'anyyyyyyyyyyyyyyyyy', 'backfrontsidewaysandallaroundtheworld', 'bbbbbyyyyyyyeeeeeeeee', 'boooooooooooglyyyyyy', 'bwahahahahahahahahahaha', 'cooooooooookiiiiiiiiiiiieeeeeeeeeeee', 'eeeeeeeeewwwwwwww', 'grrrrrrrrrrrrrrrrr', 'hahahahahahahahahahahahahahahaha', 'heeheeheeheeheehee', 'heyyyyyyyyyyyyyy', 'http://forums.talkcity.com/tc-adults/start ', 'http://www.shadowbots.com', 'huuuuuuuuuuuuuuuuuuuuuuuuuuuuuuuuuuugZ', 'iamahotniplickme', 'iamahotnipwithhotnippics', 'iamahotnipwithpics', 'lllllllliiiiiiiiiikeee', 'llloooozzzzeeerrrrzzzzzzzzzzzzzzzzzzzzzzzzzzzzzzzzzzzzzzzzzzzzzzzzz', 'miiiiiiiiiiiiinnnnnnnnnnneeeeeeeeee', 'miiiiiinnnnnnnnnneeeeeeee', 'mikeeeeeeeeeeeeeeeeeeeeeeeeee', 'mmmmmmmmiiiiiiiiinnnnnnnnneeeeeeee', 'muahssssssssssssssss', 'muahsssssssssssssssssss', 'niteeeeeeeeeeeeeeeeeee', 'ohhhhhhhhhhhhhhhh', 'oooooooooooglyyyyyyyy', 'oooooooooooooonnnnnnnnnnnneeeeeeeeeeeeeeesssssssss', 'raaaaaaaaaaaaaaaaaaaaaaaaaaaaa', 'tatatatnanaantatat', 'weeeeeeeeeeeeeeee', 'weeeeeeeeeeeeeeeeeeeeeeeeed', 'wheeeeeeeeeeeeeeeeeeeeeeeeeeeeeeeeee', 'woooooooooaaaahhhhhhhhhhhh', 'wooooooooooooohoooooooooooooooo', 'www.Wunderground.com', 'yuuuuuuuuuuuummmmmmmmmmmm']\n"
     ]
    }
   ],
   "execution_count": 101
  },
  {
   "metadata": {
    "ExecuteTime": {
     "end_time": "2025-02-13T12:30:34.252698Z",
     "start_time": "2025-02-13T12:30:34.233496Z"
    }
   },
   "cell_type": "code",
   "source": [
    "fdist5 = FreqDist(text5)\n",
    "sorted_list = sorted(w for w in fdist5 if len(w) > 7 and fdist5[w] > 7)\n",
    "print(sorted_list)\n",
    "\n",
    "# This piece of code is useful because it processes thousands of words which are both frequently-occurring and content-bearing due to both conditions being used"
   ],
   "id": "679b513d1a8e1d13",
   "outputs": [
    {
     "name": "stdout",
     "output_type": "stream",
     "text": [
      "['#14-19teens', '#talkcity_adults', '((((((((((', '........', 'Question', 'actually', 'anything', 'computer', 'cute.-ass', 'everyone', 'football', 'innocent', 'listening', 'remember', 'seriously', 'something', 'together', 'tomorrow', 'watching']\n"
     ]
    }
   ],
   "execution_count": 103
  },
  {
   "metadata": {},
   "cell_type": "markdown",
   "source": "3.3 -> Collections and Bigrams",
   "id": "56080e59a891be60"
  },
  {
   "metadata": {},
   "cell_type": "code",
   "outputs": [],
   "execution_count": null,
   "source": "",
   "id": "19a5f5f52e54cecc"
  }
 ],
 "metadata": {
  "kernelspec": {
   "display_name": "Python 3",
   "language": "python",
   "name": "python3"
  },
  "language_info": {
   "codemirror_mode": {
    "name": "ipython",
    "version": 2
   },
   "file_extension": ".py",
   "mimetype": "text/x-python",
   "name": "python",
   "nbconvert_exporter": "python",
   "pygments_lexer": "ipython2",
   "version": "2.7.6"
  }
 },
 "nbformat": 4,
 "nbformat_minor": 5
}
