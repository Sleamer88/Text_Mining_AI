{
 "cells": [
  {
   "cell_type": "markdown",
   "metadata": {},
   "source": [
    "# Lab1-Assignment\n",
    "\n",
    "Copyright: Vrije Universiteit Amsterdam, Faculty of Humanities, CLTL\n",
    "\n",
    "This notebook describes the assignment for Lab 1 of the text mining course. \n",
    "\n",
    "**Points**: each exercise is prefixed with the number of points you can obtain for the exercise.\n",
    "\n",
    "We assume you have worked through the following notebooks:\n",
    "* **Lab1.1-introduction**\n",
    "* **Lab1.2-introduction-to-NLTK**\n",
    "* **Lab1.3-introduction-to-spaCy** \n",
    "\n",
    "In this assignment, you will process an English text (**Lab1-apple-samsung-example.txt**) with both NLTK and spaCy and discuss the similarities and differences."
   ]
  },
  {
   "cell_type": "markdown",
   "metadata": {},
   "source": [
    "## Credits\n",
    "The notebooks in this block have been originally created by [Marten Postma](https://martenpostma.github.io). Adaptations were made by [Filip Ilievski](http://ilievski.nl)."
   ]
  },
  {
   "cell_type": "markdown",
   "metadata": {},
   "source": [
    "## Tip: how to read a file from disk\n",
    "Let's open the file **Lab1-apple-samsung-example.txt** from disk."
   ]
  },
  {
   "cell_type": "code",
   "metadata": {
    "ExecuteTime": {
     "end_time": "2025-02-16T12:35:03.265667Z",
     "start_time": "2025-02-16T12:35:03.262602Z"
    }
   },
   "source": [
    "from pathlib import Path"
   ],
   "outputs": [],
   "execution_count": 69
  },
  {
   "cell_type": "code",
   "metadata": {
    "ExecuteTime": {
     "end_time": "2025-02-16T12:35:03.996579Z",
     "start_time": "2025-02-16T12:35:03.993796Z"
    }
   },
   "source": [
    "cur_dir = Path().resolve() # this should provide you with the folder in which this notebook is placed\n",
    "path_to_file = Path.joinpath(cur_dir, 'Lab1-apple-samsung-example.txt')\n",
    "print(path_to_file)\n",
    "print('does path exist? ->', Path.exists(path_to_file))"
   ],
   "outputs": [
    {
     "name": "stdout",
     "output_type": "stream",
     "text": [
      "/Users/robertostoica/Desktop/University_files_(year_3)_extra/period_4/Text Mining for AI/Assignments/Lab_Assignments/Lab_1/Lab1-apple-samsung-example.txt\n",
      "does path exist? -> True\n"
     ]
    }
   ],
   "execution_count": 70
  },
  {
   "cell_type": "markdown",
   "metadata": {},
   "source": [
    "If the output from the code cell above states that **does path exist? -> False**, please check that the file **Lab1-apple-samsung-example.txt** is in the same directory as this notebook."
   ]
  },
  {
   "cell_type": "code",
   "metadata": {
    "ExecuteTime": {
     "end_time": "2025-02-16T12:35:05.331678Z",
     "start_time": "2025-02-16T12:35:05.327507Z"
    }
   },
   "source": [
    "with open(path_to_file) as infile:\n",
    "    text = infile.read()\n",
    "\n",
    "print('number of characters', len(text))"
   ],
   "outputs": [
    {
     "name": "stdout",
     "output_type": "stream",
     "text": [
      "number of characters 1139\n"
     ]
    }
   ],
   "execution_count": 71
  },
  {
   "cell_type": "markdown",
   "metadata": {},
   "source": [
    "## [total points: 4] Exercise 1: NLTK\n",
    "In this exercise, we use NLTK to apply **Part-of-speech (POS) tagging**, **Named Entity Recognition (NER)**, and **Constituency parsing**. The following code snippet already performs sentence splitting and tokenization. "
   ]
  },
  {
   "cell_type": "code",
   "metadata": {
    "ExecuteTime": {
     "end_time": "2025-02-16T12:35:06.350604Z",
     "start_time": "2025-02-16T12:35:06.348642Z"
    }
   },
   "source": [
    "import nltk\n",
    "from nltk.tokenize import sent_tokenize\n",
    "from nltk import word_tokenize"
   ],
   "outputs": [],
   "execution_count": 72
  },
  {
   "cell_type": "code",
   "metadata": {
    "ExecuteTime": {
     "end_time": "2025-02-16T12:35:07.004396Z",
     "start_time": "2025-02-16T12:35:07.002395Z"
    }
   },
   "source": "sentences_nltk = sent_tokenize(text)",
   "outputs": [],
   "execution_count": 73
  },
  {
   "cell_type": "code",
   "metadata": {
    "ExecuteTime": {
     "end_time": "2025-02-16T12:35:07.900568Z",
     "start_time": "2025-02-16T12:35:07.896329Z"
    }
   },
   "source": [
    "tokens_per_sentence = []\n",
    "for sentence_nltk in sentences_nltk:\n",
    "    sent_tokens = word_tokenize(sentence_nltk)\n",
    "    tokens_per_sentence.append(sent_tokens)"
   ],
   "outputs": [],
   "execution_count": 74
  },
  {
   "cell_type": "markdown",
   "metadata": {},
   "source": [
    "We will use lists to keep track of the output of the NLP tasks. We can hence inspect the output for each task using the index of the sentence."
   ]
  },
  {
   "cell_type": "code",
   "metadata": {
    "ExecuteTime": {
     "end_time": "2025-02-16T12:35:08.839673Z",
     "start_time": "2025-02-16T12:35:08.837387Z"
    }
   },
   "source": [
    "sent_id = 1\n",
    "print('SENTENCE', sentences_nltk[sent_id])\n",
    "print('TOKENS', tokens_per_sentence[sent_id])"
   ],
   "outputs": [
    {
     "name": "stdout",
     "output_type": "stream",
     "text": [
      "SENTENCE The six phones and tablets affected are the Galaxy S III, running the new Jelly Bean system, the Galaxy Tab 8.9 Wifi tablet, the Galaxy Tab 2 10.1, Galaxy Rugby Pro and Galaxy S III mini.\n",
      "TOKENS ['The', 'six', 'phones', 'and', 'tablets', 'affected', 'are', 'the', 'Galaxy', 'S', 'III', ',', 'running', 'the', 'new', 'Jelly', 'Bean', 'system', ',', 'the', 'Galaxy', 'Tab', '8.9', 'Wifi', 'tablet', ',', 'the', 'Galaxy', 'Tab', '2', '10.1', ',', 'Galaxy', 'Rugby', 'Pro', 'and', 'Galaxy', 'S', 'III', 'mini', '.']\n"
     ]
    }
   ],
   "execution_count": 75
  },
  {
   "cell_type": "markdown",
   "metadata": {},
   "source": [
    "### [point: 1] Exercise 1a: Part-of-speech (POS) tagging\n",
    "Use `nltk.pos_tag` to perform part-of-speech tagging on each sentence.\n",
    "\n",
    "Use `print` to **show** the output in the notebook (and hence also in the exported PDF!)."
   ]
  },
  {
   "cell_type": "code",
   "metadata": {
    "ExecuteTime": {
     "end_time": "2025-02-16T12:35:10.093836Z",
     "start_time": "2025-02-16T12:35:10.078161Z"
    }
   },
   "source": [
    "pos_tags_per_sentence = []\n",
    "for tokens in tokens_per_sentence:\n",
    "    tagged = nltk.pos_tag(tokens)\n",
    "    pos_tags_per_sentence.append(tagged)"
   ],
   "outputs": [],
   "execution_count": 76
  },
  {
   "cell_type": "code",
   "metadata": {
    "ExecuteTime": {
     "end_time": "2025-02-16T12:35:10.764254Z",
     "start_time": "2025-02-16T12:35:10.761742Z"
    }
   },
   "source": "print(pos_tags_per_sentence)",
   "outputs": [
    {
     "name": "stdout",
     "output_type": "stream",
     "text": [
      "[[('https', 'NN'), (':', ':'), ('//www.telegraph.co.uk/technology/apple/9702716/Apple-Samsung-lawsuit-six-more-products-under-scrutiny.html', 'JJ'), ('Documents', 'NNS'), ('filed', 'VBN'), ('to', 'TO'), ('the', 'DT'), ('San', 'NNP'), ('Jose', 'NNP'), ('federal', 'JJ'), ('court', 'NN'), ('in', 'IN'), ('California', 'NNP'), ('on', 'IN'), ('November', 'NNP'), ('23', 'CD'), ('list', 'NN'), ('six', 'CD'), ('Samsung', 'NNP'), ('products', 'NNS'), ('running', 'VBG'), ('the', 'DT'), ('``', '``'), ('Jelly', 'RB'), ('Bean', 'NNP'), (\"''\", \"''\"), ('and', 'CC'), ('``', '``'), ('Ice', 'NNP'), ('Cream', 'NNP'), ('Sandwich', 'NNP'), (\"''\", \"''\"), ('operating', 'VBG'), ('systems', 'NNS'), (',', ','), ('which', 'WDT'), ('Apple', 'NNP'), ('claims', 'VBZ'), ('infringe', 'VB'), ('its', 'PRP$'), ('patents', 'NNS'), ('.', '.')], [('The', 'DT'), ('six', 'CD'), ('phones', 'NNS'), ('and', 'CC'), ('tablets', 'NNS'), ('affected', 'VBN'), ('are', 'VBP'), ('the', 'DT'), ('Galaxy', 'NNP'), ('S', 'NNP'), ('III', 'NNP'), (',', ','), ('running', 'VBG'), ('the', 'DT'), ('new', 'JJ'), ('Jelly', 'NNP'), ('Bean', 'NNP'), ('system', 'NN'), (',', ','), ('the', 'DT'), ('Galaxy', 'NNP'), ('Tab', 'NNP'), ('8.9', 'CD'), ('Wifi', 'NNP'), ('tablet', 'NN'), (',', ','), ('the', 'DT'), ('Galaxy', 'NNP'), ('Tab', 'NNP'), ('2', 'CD'), ('10.1', 'CD'), (',', ','), ('Galaxy', 'NNP'), ('Rugby', 'NNP'), ('Pro', 'NNP'), ('and', 'CC'), ('Galaxy', 'NNP'), ('S', 'NNP'), ('III', 'NNP'), ('mini', 'NN'), ('.', '.')], [('Apple', 'NNP'), ('stated', 'VBD'), ('it', 'PRP'), ('had', 'VBD'), ('“', 'NNP'), ('acted', 'VBD'), ('quickly', 'RB'), ('and', 'CC'), ('diligently', 'RB'), (\"''\", \"''\"), ('in', 'IN'), ('order', 'NN'), ('to', 'TO'), ('``', '``'), ('determine', 'VB'), ('that', 'IN'), ('these', 'DT'), ('newly', 'RB'), ('released', 'VBN'), ('products', 'NNS'), ('do', 'VBP'), ('infringe', 'VB'), ('many', 'JJ'), ('of', 'IN'), ('the', 'DT'), ('same', 'JJ'), ('claims', 'NNS'), ('already', 'RB'), ('asserted', 'VBN'), ('by', 'IN'), ('Apple', 'NNP'), ('.', '.'), (\"''\", \"''\")], [('In', 'IN'), ('August', 'NNP'), (',', ','), ('Samsung', 'NNP'), ('lost', 'VBD'), ('a', 'DT'), ('US', 'NNP'), ('patent', 'NN'), ('case', 'NN'), ('to', 'TO'), ('Apple', 'NNP'), ('and', 'CC'), ('was', 'VBD'), ('ordered', 'VBN'), ('to', 'TO'), ('pay', 'VB'), ('its', 'PRP$'), ('rival', 'JJ'), ('$', '$'), ('1.05bn', 'CD'), ('(', '('), ('£0.66bn', 'NN'), (')', ')'), ('in', 'IN'), ('damages', 'NNS'), ('for', 'IN'), ('copying', 'VBG'), ('features', 'NNS'), ('of', 'IN'), ('the', 'DT'), ('iPad', 'NN'), ('and', 'CC'), ('iPhone', 'NN'), ('in', 'IN'), ('its', 'PRP$'), ('Galaxy', 'NNP'), ('range', 'NN'), ('of', 'IN'), ('devices', 'NNS'), ('.', '.')], [('Samsung', 'NNP'), (',', ','), ('which', 'WDT'), ('is', 'VBZ'), ('the', 'DT'), ('world', 'NN'), (\"'s\", 'POS'), ('top', 'JJ'), ('mobile', 'NN'), ('phone', 'NN'), ('maker', 'NN'), (',', ','), ('is', 'VBZ'), ('appealing', 'VBG'), ('the', 'DT'), ('ruling', 'NN'), ('.', '.')], [('A', 'DT'), ('similar', 'JJ'), ('case', 'NN'), ('in', 'IN'), ('the', 'DT'), ('UK', 'NNP'), ('found', 'VBD'), ('in', 'IN'), ('Samsung', 'NNP'), (\"'s\", 'POS'), ('favour', 'NN'), ('and', 'CC'), ('ordered', 'VBD'), ('Apple', 'NNP'), ('to', 'TO'), ('publish', 'VB'), ('an', 'DT'), ('apology', 'NN'), ('making', 'VBG'), ('clear', 'JJ'), ('that', 'IN'), ('the', 'DT'), ('South', 'JJ'), ('Korean', 'JJ'), ('firm', 'NN'), ('had', 'VBD'), ('not', 'RB'), ('copied', 'VBN'), ('its', 'PRP$'), ('iPad', 'NN'), ('when', 'WRB'), ('designing', 'VBG'), ('its', 'PRP$'), ('own', 'JJ'), ('devices', 'NNS'), ('.', '.')]]\n"
     ]
    }
   ],
   "execution_count": 77
  },
  {
   "cell_type": "markdown",
   "metadata": {},
   "source": [
    "### [point: 1] Exercise 1b: Named Entity Recognition (NER)\n",
    "Use `nltk.chunk.ne_chunk` to perform Named Entity Recognition (NER) on each sentence.\n",
    "\n",
    "Use `print` to **show** the output in the notebook (and hence also in the exported PDF!)."
   ]
  },
  {
   "cell_type": "code",
   "metadata": {
    "ExecuteTime": {
     "end_time": "2025-02-16T12:35:13.218971Z",
     "start_time": "2025-02-16T12:35:12.129020Z"
    }
   },
   "source": [
    "ner_tags_per_sentence = []\n",
    "\n",
    "for sentence in sentences_nltk:\n",
    "    \n",
    "    tokens = nltk.word_tokenize(sentence)\n",
    "    tokens_pos_tagged = nltk.pos_tag(tokens)\n",
    "    tokens_pos_tagged_and_named_entities = nltk.ne_chunk(tokens_pos_tagged)\n",
    "    ner_tags_per_sentence.append(tokens_pos_tagged_and_named_entities)\n",
    "    "
   ],
   "outputs": [],
   "execution_count": 78
  },
  {
   "cell_type": "code",
   "metadata": {
    "ExecuteTime": {
     "end_time": "2025-02-16T12:35:13.221831Z",
     "start_time": "2025-02-16T12:35:13.219964Z"
    }
   },
   "source": "print(ner_tags_per_sentence)",
   "outputs": [
    {
     "name": "stdout",
     "output_type": "stream",
     "text": [
      "[Tree('S', [('https', 'NN'), (':', ':'), ('//www.telegraph.co.uk/technology/apple/9702716/Apple-Samsung-lawsuit-six-more-products-under-scrutiny.html', 'JJ'), ('Documents', 'NNS'), ('filed', 'VBN'), ('to', 'TO'), ('the', 'DT'), Tree('ORGANIZATION', [('San', 'NNP'), ('Jose', 'NNP')]), ('federal', 'JJ'), ('court', 'NN'), ('in', 'IN'), Tree('GPE', [('California', 'NNP')]), ('on', 'IN'), ('November', 'NNP'), ('23', 'CD'), ('list', 'NN'), ('six', 'CD'), Tree('ORGANIZATION', [('Samsung', 'NNP')]), ('products', 'NNS'), ('running', 'VBG'), ('the', 'DT'), ('``', '``'), ('Jelly', 'RB'), Tree('GPE', [('Bean', 'NNP')]), (\"''\", \"''\"), ('and', 'CC'), ('``', '``'), ('Ice', 'NNP'), ('Cream', 'NNP'), ('Sandwich', 'NNP'), (\"''\", \"''\"), ('operating', 'VBG'), ('systems', 'NNS'), (',', ','), ('which', 'WDT'), Tree('PERSON', [('Apple', 'NNP')]), ('claims', 'VBZ'), ('infringe', 'VB'), ('its', 'PRP$'), ('patents', 'NNS'), ('.', '.')]), Tree('S', [('The', 'DT'), ('six', 'CD'), ('phones', 'NNS'), ('and', 'CC'), ('tablets', 'NNS'), ('affected', 'VBN'), ('are', 'VBP'), ('the', 'DT'), Tree('ORGANIZATION', [('Galaxy', 'NNP')]), ('S', 'NNP'), ('III', 'NNP'), (',', ','), ('running', 'VBG'), ('the', 'DT'), ('new', 'JJ'), Tree('PERSON', [('Jelly', 'NNP'), ('Bean', 'NNP')]), ('system', 'NN'), (',', ','), ('the', 'DT'), Tree('ORGANIZATION', [('Galaxy', 'NNP')]), ('Tab', 'NNP'), ('8.9', 'CD'), ('Wifi', 'NNP'), ('tablet', 'NN'), (',', ','), ('the', 'DT'), Tree('ORGANIZATION', [('Galaxy', 'NNP')]), ('Tab', 'NNP'), ('2', 'CD'), ('10.1', 'CD'), (',', ','), Tree('PERSON', [('Galaxy', 'NNP'), ('Rugby', 'NNP'), ('Pro', 'NNP')]), ('and', 'CC'), Tree('PERSON', [('Galaxy', 'NNP'), ('S', 'NNP')]), ('III', 'NNP'), ('mini', 'NN'), ('.', '.')]), Tree('S', [Tree('PERSON', [('Apple', 'NNP')]), ('stated', 'VBD'), ('it', 'PRP'), ('had', 'VBD'), ('“', 'NNP'), ('acted', 'VBD'), ('quickly', 'RB'), ('and', 'CC'), ('diligently', 'RB'), (\"''\", \"''\"), ('in', 'IN'), ('order', 'NN'), ('to', 'TO'), ('``', '``'), ('determine', 'VB'), ('that', 'IN'), ('these', 'DT'), ('newly', 'RB'), ('released', 'VBN'), ('products', 'NNS'), ('do', 'VBP'), ('infringe', 'VB'), ('many', 'JJ'), ('of', 'IN'), ('the', 'DT'), ('same', 'JJ'), ('claims', 'NNS'), ('already', 'RB'), ('asserted', 'VBN'), ('by', 'IN'), Tree('PERSON', [('Apple', 'NNP')]), ('.', '.'), (\"''\", \"''\")]), Tree('S', [('In', 'IN'), Tree('GPE', [('August', 'NNP')]), (',', ','), Tree('PERSON', [('Samsung', 'NNP')]), ('lost', 'VBD'), ('a', 'DT'), Tree('GSP', [('US', 'NNP')]), ('patent', 'NN'), ('case', 'NN'), ('to', 'TO'), Tree('GPE', [('Apple', 'NNP')]), ('and', 'CC'), ('was', 'VBD'), ('ordered', 'VBN'), ('to', 'TO'), ('pay', 'VB'), ('its', 'PRP$'), ('rival', 'JJ'), ('$', '$'), ('1.05bn', 'CD'), ('(', '('), ('£0.66bn', 'NN'), (')', ')'), ('in', 'IN'), ('damages', 'NNS'), ('for', 'IN'), ('copying', 'VBG'), ('features', 'NNS'), ('of', 'IN'), ('the', 'DT'), Tree('ORGANIZATION', [('iPad', 'NN')]), ('and', 'CC'), Tree('ORGANIZATION', [('iPhone', 'NN')]), ('in', 'IN'), ('its', 'PRP$'), Tree('GPE', [('Galaxy', 'NNP')]), ('range', 'NN'), ('of', 'IN'), ('devices', 'NNS'), ('.', '.')]), Tree('S', [Tree('GPE', [('Samsung', 'NNP')]), (',', ','), ('which', 'WDT'), ('is', 'VBZ'), ('the', 'DT'), ('world', 'NN'), (\"'s\", 'POS'), ('top', 'JJ'), ('mobile', 'NN'), ('phone', 'NN'), ('maker', 'NN'), (',', ','), ('is', 'VBZ'), ('appealing', 'VBG'), ('the', 'DT'), ('ruling', 'NN'), ('.', '.')]), Tree('S', [('A', 'DT'), ('similar', 'JJ'), ('case', 'NN'), ('in', 'IN'), ('the', 'DT'), Tree('ORGANIZATION', [('UK', 'NNP')]), ('found', 'VBD'), ('in', 'IN'), Tree('GPE', [('Samsung', 'NNP')]), (\"'s\", 'POS'), ('favour', 'NN'), ('and', 'CC'), ('ordered', 'VBD'), Tree('PERSON', [('Apple', 'NNP')]), ('to', 'TO'), ('publish', 'VB'), ('an', 'DT'), ('apology', 'NN'), ('making', 'VBG'), ('clear', 'JJ'), ('that', 'IN'), ('the', 'DT'), Tree('LOCATION', [('South', 'JJ'), ('Korean', 'JJ')]), ('firm', 'NN'), ('had', 'VBD'), ('not', 'RB'), ('copied', 'VBN'), ('its', 'PRP$'), ('iPad', 'NN'), ('when', 'WRB'), ('designing', 'VBG'), ('its', 'PRP$'), ('own', 'JJ'), ('devices', 'NNS'), ('.', '.')])]\n"
     ]
    }
   ],
   "execution_count": 79
  },
  {
   "metadata": {},
   "cell_type": "markdown",
   "source": [
    "Please observe that for textual mentions such as **August** and **Samsung**, a named entity label is assigned.\n",
    "The most frequently used named entity labels are:\n",
    "* ORGANIZATION (e.g., Georgia-Pacific Corp.)\n",
    "* PERSON (e.g., Eddy Bonte, President Obama)\n",
    "* LOCATION (e.g., Murray River, Mount Everest)\n",
    "* DATE (e.g., June, 2008-06-29)\n",
    "* TIME (e.g., two fifty a m, 1:30 p.m.)\n",
    "* MONEY (e.g., 175 million Canadian Dollars, GBP 10.40)\n",
    "* PERCENT (e.g., twenty pct, 18.75 %)\n",
    "* FACILITY (e.g., Washington Monument, Stonehenge)\n",
    "* GPE (=Geo-Political Entity, e.g., South East Asia, Midlothian)"
   ]
  },
  {
   "cell_type": "markdown",
   "metadata": {},
   "source": [
    "### [points: 2] Exercise 1c: Constituency parsing\n",
    "Use the `nltk.RegexpParser` to perform constituency parsing on each sentence.\n",
    "\n",
    "Use `print` to **show** the output in the notebook (and hence also in the exported PDF!)."
   ]
  },
  {
   "cell_type": "code",
   "metadata": {
    "ExecuteTime": {
     "end_time": "2025-02-16T12:35:15.798316Z",
     "start_time": "2025-02-16T12:35:15.794967Z"
    }
   },
   "source": [
    "constituent_parser = nltk.RegexpParser('''\n",
    "NP: {<DT>? <JJ>* <NN>*} # NP\n",
    "P: {<IN>}           # Preposition\n",
    "V: {<V.*>}          # Verb\n",
    "PP: {<P> <NP>}      # PP -> P NP\n",
    "VP: {<V> <NP|PP>*}  # VP -> V (NP|PP)*''')"
   ],
   "outputs": [],
   "execution_count": 80
  },
  {
   "cell_type": "code",
   "metadata": {
    "ExecuteTime": {
     "end_time": "2025-02-16T12:35:16.458638Z",
     "start_time": "2025-02-16T12:35:16.455453Z"
    }
   },
   "source": [
    "constituency_output_per_sentence = []\n",
    "for tags in pos_tags_per_sentence:\n",
    "    constituent_structure = constituent_parser.parse(tags)\n",
    "    constituency_output_per_sentence.append(constituent_structure)"
   ],
   "outputs": [],
   "execution_count": 81
  },
  {
   "cell_type": "code",
   "metadata": {
    "ExecuteTime": {
     "end_time": "2025-02-16T12:35:17.306632Z",
     "start_time": "2025-02-16T12:35:17.303133Z"
    }
   },
   "source": [
    "print(constituency_output_per_sentence)"
   ],
   "outputs": [
    {
     "name": "stdout",
     "output_type": "stream",
     "text": [
      "[Tree('S', [Tree('NP', [('https', 'NN')]), (':', ':'), Tree('NP', [('//www.telegraph.co.uk/technology/apple/9702716/Apple-Samsung-lawsuit-six-more-products-under-scrutiny.html', 'JJ')]), ('Documents', 'NNS'), Tree('VP', [Tree('V', [('filed', 'VBN')])]), ('to', 'TO'), Tree('NP', [('the', 'DT')]), ('San', 'NNP'), ('Jose', 'NNP'), Tree('NP', [('federal', 'JJ'), ('court', 'NN')]), Tree('P', [('in', 'IN')]), ('California', 'NNP'), Tree('P', [('on', 'IN')]), ('November', 'NNP'), ('23', 'CD'), Tree('NP', [('list', 'NN')]), ('six', 'CD'), ('Samsung', 'NNP'), ('products', 'NNS'), Tree('VP', [Tree('V', [('running', 'VBG')]), Tree('NP', [('the', 'DT')])]), ('``', '``'), ('Jelly', 'RB'), ('Bean', 'NNP'), (\"''\", \"''\"), ('and', 'CC'), ('``', '``'), ('Ice', 'NNP'), ('Cream', 'NNP'), ('Sandwich', 'NNP'), (\"''\", \"''\"), Tree('VP', [Tree('V', [('operating', 'VBG')])]), ('systems', 'NNS'), (',', ','), ('which', 'WDT'), ('Apple', 'NNP'), Tree('VP', [Tree('V', [('claims', 'VBZ')])]), Tree('VP', [Tree('V', [('infringe', 'VB')])]), ('its', 'PRP$'), ('patents', 'NNS'), ('.', '.')]), Tree('S', [Tree('NP', [('The', 'DT')]), ('six', 'CD'), ('phones', 'NNS'), ('and', 'CC'), ('tablets', 'NNS'), Tree('VP', [Tree('V', [('affected', 'VBN')])]), Tree('VP', [Tree('V', [('are', 'VBP')]), Tree('NP', [('the', 'DT')])]), ('Galaxy', 'NNP'), ('S', 'NNP'), ('III', 'NNP'), (',', ','), Tree('VP', [Tree('V', [('running', 'VBG')]), Tree('NP', [('the', 'DT'), ('new', 'JJ')])]), ('Jelly', 'NNP'), ('Bean', 'NNP'), Tree('NP', [('system', 'NN')]), (',', ','), Tree('NP', [('the', 'DT')]), ('Galaxy', 'NNP'), ('Tab', 'NNP'), ('8.9', 'CD'), ('Wifi', 'NNP'), Tree('NP', [('tablet', 'NN')]), (',', ','), Tree('NP', [('the', 'DT')]), ('Galaxy', 'NNP'), ('Tab', 'NNP'), ('2', 'CD'), ('10.1', 'CD'), (',', ','), ('Galaxy', 'NNP'), ('Rugby', 'NNP'), ('Pro', 'NNP'), ('and', 'CC'), ('Galaxy', 'NNP'), ('S', 'NNP'), ('III', 'NNP'), Tree('NP', [('mini', 'NN')]), ('.', '.')]), Tree('S', [('Apple', 'NNP'), Tree('VP', [Tree('V', [('stated', 'VBD')])]), ('it', 'PRP'), Tree('VP', [Tree('V', [('had', 'VBD')])]), ('“', 'NNP'), Tree('VP', [Tree('V', [('acted', 'VBD')])]), ('quickly', 'RB'), ('and', 'CC'), ('diligently', 'RB'), (\"''\", \"''\"), Tree('PP', [Tree('P', [('in', 'IN')]), Tree('NP', [('order', 'NN')])]), ('to', 'TO'), ('``', '``'), Tree('VP', [Tree('V', [('determine', 'VB')]), Tree('PP', [Tree('P', [('that', 'IN')]), Tree('NP', [('these', 'DT')])])]), ('newly', 'RB'), Tree('VP', [Tree('V', [('released', 'VBN')])]), ('products', 'NNS'), Tree('VP', [Tree('V', [('do', 'VBP')])]), Tree('VP', [Tree('V', [('infringe', 'VB')]), Tree('NP', [('many', 'JJ')]), Tree('PP', [Tree('P', [('of', 'IN')]), Tree('NP', [('the', 'DT'), ('same', 'JJ')])])]), ('claims', 'NNS'), ('already', 'RB'), Tree('VP', [Tree('V', [('asserted', 'VBN')])]), Tree('P', [('by', 'IN')]), ('Apple', 'NNP'), ('.', '.'), (\"''\", \"''\")]), Tree('S', [Tree('P', [('In', 'IN')]), ('August', 'NNP'), (',', ','), ('Samsung', 'NNP'), Tree('VP', [Tree('V', [('lost', 'VBD')]), Tree('NP', [('a', 'DT')])]), ('US', 'NNP'), Tree('NP', [('patent', 'NN'), ('case', 'NN')]), ('to', 'TO'), ('Apple', 'NNP'), ('and', 'CC'), Tree('VP', [Tree('V', [('was', 'VBD')])]), Tree('VP', [Tree('V', [('ordered', 'VBN')])]), ('to', 'TO'), Tree('VP', [Tree('V', [('pay', 'VB')])]), ('its', 'PRP$'), Tree('NP', [('rival', 'JJ')]), ('$', '$'), ('1.05bn', 'CD'), ('(', '('), Tree('NP', [('£0.66bn', 'NN')]), (')', ')'), Tree('P', [('in', 'IN')]), ('damages', 'NNS'), Tree('P', [('for', 'IN')]), Tree('VP', [Tree('V', [('copying', 'VBG')])]), ('features', 'NNS'), Tree('PP', [Tree('P', [('of', 'IN')]), Tree('NP', [('the', 'DT'), ('iPad', 'NN')])]), ('and', 'CC'), Tree('NP', [('iPhone', 'NN')]), Tree('P', [('in', 'IN')]), ('its', 'PRP$'), ('Galaxy', 'NNP'), Tree('NP', [('range', 'NN')]), Tree('P', [('of', 'IN')]), ('devices', 'NNS'), ('.', '.')]), Tree('S', [('Samsung', 'NNP'), (',', ','), ('which', 'WDT'), Tree('VP', [Tree('V', [('is', 'VBZ')]), Tree('NP', [('the', 'DT'), ('world', 'NN')])]), (\"'s\", 'POS'), Tree('NP', [('top', 'JJ'), ('mobile', 'NN'), ('phone', 'NN'), ('maker', 'NN')]), (',', ','), Tree('VP', [Tree('V', [('is', 'VBZ')])]), Tree('VP', [Tree('V', [('appealing', 'VBG')]), Tree('NP', [('the', 'DT'), ('ruling', 'NN')])]), ('.', '.')]), Tree('S', [Tree('NP', [('A', 'DT'), ('similar', 'JJ'), ('case', 'NN')]), Tree('PP', [Tree('P', [('in', 'IN')]), Tree('NP', [('the', 'DT')])]), ('UK', 'NNP'), Tree('VP', [Tree('V', [('found', 'VBD')])]), Tree('P', [('in', 'IN')]), ('Samsung', 'NNP'), (\"'s\", 'POS'), Tree('NP', [('favour', 'NN')]), ('and', 'CC'), Tree('VP', [Tree('V', [('ordered', 'VBD')])]), ('Apple', 'NNP'), ('to', 'TO'), Tree('VP', [Tree('V', [('publish', 'VB')]), Tree('NP', [('an', 'DT'), ('apology', 'NN')])]), Tree('VP', [Tree('V', [('making', 'VBG')]), Tree('NP', [('clear', 'JJ')]), Tree('PP', [Tree('P', [('that', 'IN')]), Tree('NP', [('the', 'DT'), ('South', 'JJ'), ('Korean', 'JJ'), ('firm', 'NN')])])]), Tree('VP', [Tree('V', [('had', 'VBD')])]), ('not', 'RB'), Tree('VP', [Tree('V', [('copied', 'VBN')])]), ('its', 'PRP$'), Tree('NP', [('iPad', 'NN')]), ('when', 'WRB'), Tree('VP', [Tree('V', [('designing', 'VBG')])]), ('its', 'PRP$'), Tree('NP', [('own', 'JJ')]), ('devices', 'NNS'), ('.', '.')])]\n"
     ]
    }
   ],
   "execution_count": 82
  },
  {
   "metadata": {
    "ExecuteTime": {
     "end_time": "2025-02-16T14:52:02.484540Z",
     "start_time": "2025-02-16T14:51:31.476759Z"
    }
   },
   "cell_type": "code",
   "source": [
    "for elem in constituency_output_per_sentence:\n",
    "    elem.draw()\n",
    "    \n",
    "# I added some visualization of the tree structures, it may be the case that many windows will open after each other as there are many sentences"
   ],
   "outputs": [],
   "execution_count": 150
  },
  {
   "cell_type": "markdown",
   "metadata": {},
   "source": [
    "Augment the RegexpParser so that it also detects Named Entity Phrases (NEP), e.g., that it detects *Galaxy S III* and *Ice Cream Sandwich*"
   ]
  },
  {
   "cell_type": "code",
   "metadata": {
    "ExecuteTime": {
     "end_time": "2025-02-16T12:35:20.194829Z",
     "start_time": "2025-02-16T12:35:20.191565Z"
    }
   },
   "source": [
    "constituent_parser_v2 = nltk.RegexpParser('''\n",
    "NP: {<DT>? <JJ>* <NN>*} # NP\n",
    "P: {<IN>}           # Preposition\n",
    "V: {<V.*>}          # Verb\n",
    "PP: {<P> <NP>}      # PP -> P NP\n",
    "VP: {<V> <NP|PP>*}  # VP -> V (NP|PP)*\n",
    "NEP: {<JJ>* <NNP>+} # Named Entity Phrase (NEP)''')\n",
    "\n",
    "# In the parser <JJ>* means -> Optional adjectives before an entity (e.g. 'Big Apple')\n",
    "#<NNP>+ means -> 1 or more consecutive proper nouns (e.g. 'Galaxy S III', 'Ice Cream Sandwich')"
   ],
   "outputs": [],
   "execution_count": 83
  },
  {
   "metadata": {
    "ExecuteTime": {
     "end_time": "2025-02-16T12:35:21.722024Z",
     "start_time": "2025-02-16T12:35:21.717499Z"
    }
   },
   "cell_type": "code",
   "source": [
    "# Testing the code above to see if it works on the provided example\n",
    "\n",
    "text_ = \"I love my Galaxy S III and Ice Cream Sandwich.\"\n",
    "\n",
    "tokens = word_tokenize(text_)\n",
    "pos_tags = nltk.pos_tag(tokens)\n",
    "tree = constituent_parser_v2.parse(pos_tags)\n",
    "print(tree)"
   ],
   "outputs": [
    {
     "name": "stdout",
     "output_type": "stream",
     "text": [
      "(S\n",
      "  I/PRP\n",
      "  (VP (V love/VBP))\n",
      "  my/PRP$\n",
      "  (NEP Galaxy/NNP S/NNP III/NNP)\n",
      "  and/CC\n",
      "  (NEP Ice/NNP Cream/NNP Sandwich/NNP)\n",
      "  ./.)\n"
     ]
    }
   ],
   "execution_count": 84
  },
  {
   "cell_type": "code",
   "metadata": {
    "ExecuteTime": {
     "end_time": "2025-02-16T12:35:24.460994Z",
     "start_time": "2025-02-16T12:35:24.455262Z"
    }
   },
   "source": [
    "constituency_v2_output_per_sentence = []\n",
    "for tags_v2 in pos_tags_per_sentence:\n",
    "    constituent_structure_v2 = constituent_parser_v2.parse(tags_v2)\n",
    "    constituency_v2_output_per_sentence.append(constituent_structure_v2)"
   ],
   "outputs": [],
   "execution_count": 85
  },
  {
   "cell_type": "code",
   "metadata": {
    "ExecuteTime": {
     "end_time": "2025-02-16T12:35:25.363938Z",
     "start_time": "2025-02-16T12:35:25.360509Z"
    }
   },
   "source": "print(constituency_v2_output_per_sentence)",
   "outputs": [
    {
     "name": "stdout",
     "output_type": "stream",
     "text": [
      "[Tree('S', [Tree('NP', [('https', 'NN')]), (':', ':'), Tree('NP', [('//www.telegraph.co.uk/technology/apple/9702716/Apple-Samsung-lawsuit-six-more-products-under-scrutiny.html', 'JJ')]), ('Documents', 'NNS'), Tree('VP', [Tree('V', [('filed', 'VBN')])]), ('to', 'TO'), Tree('NP', [('the', 'DT')]), Tree('NEP', [('San', 'NNP'), ('Jose', 'NNP')]), Tree('NP', [('federal', 'JJ'), ('court', 'NN')]), Tree('P', [('in', 'IN')]), Tree('NEP', [('California', 'NNP')]), Tree('P', [('on', 'IN')]), Tree('NEP', [('November', 'NNP')]), ('23', 'CD'), Tree('NP', [('list', 'NN')]), ('six', 'CD'), Tree('NEP', [('Samsung', 'NNP')]), ('products', 'NNS'), Tree('VP', [Tree('V', [('running', 'VBG')]), Tree('NP', [('the', 'DT')])]), ('``', '``'), ('Jelly', 'RB'), Tree('NEP', [('Bean', 'NNP')]), (\"''\", \"''\"), ('and', 'CC'), ('``', '``'), Tree('NEP', [('Ice', 'NNP'), ('Cream', 'NNP'), ('Sandwich', 'NNP')]), (\"''\", \"''\"), Tree('VP', [Tree('V', [('operating', 'VBG')])]), ('systems', 'NNS'), (',', ','), ('which', 'WDT'), Tree('NEP', [('Apple', 'NNP')]), Tree('VP', [Tree('V', [('claims', 'VBZ')])]), Tree('VP', [Tree('V', [('infringe', 'VB')])]), ('its', 'PRP$'), ('patents', 'NNS'), ('.', '.')]), Tree('S', [Tree('NP', [('The', 'DT')]), ('six', 'CD'), ('phones', 'NNS'), ('and', 'CC'), ('tablets', 'NNS'), Tree('VP', [Tree('V', [('affected', 'VBN')])]), Tree('VP', [Tree('V', [('are', 'VBP')]), Tree('NP', [('the', 'DT')])]), Tree('NEP', [('Galaxy', 'NNP'), ('S', 'NNP'), ('III', 'NNP')]), (',', ','), Tree('VP', [Tree('V', [('running', 'VBG')]), Tree('NP', [('the', 'DT'), ('new', 'JJ')])]), Tree('NEP', [('Jelly', 'NNP'), ('Bean', 'NNP')]), Tree('NP', [('system', 'NN')]), (',', ','), Tree('NP', [('the', 'DT')]), Tree('NEP', [('Galaxy', 'NNP'), ('Tab', 'NNP')]), ('8.9', 'CD'), Tree('NEP', [('Wifi', 'NNP')]), Tree('NP', [('tablet', 'NN')]), (',', ','), Tree('NP', [('the', 'DT')]), Tree('NEP', [('Galaxy', 'NNP'), ('Tab', 'NNP')]), ('2', 'CD'), ('10.1', 'CD'), (',', ','), Tree('NEP', [('Galaxy', 'NNP'), ('Rugby', 'NNP'), ('Pro', 'NNP')]), ('and', 'CC'), Tree('NEP', [('Galaxy', 'NNP'), ('S', 'NNP'), ('III', 'NNP')]), Tree('NP', [('mini', 'NN')]), ('.', '.')]), Tree('S', [Tree('NEP', [('Apple', 'NNP')]), Tree('VP', [Tree('V', [('stated', 'VBD')])]), ('it', 'PRP'), Tree('VP', [Tree('V', [('had', 'VBD')])]), Tree('NEP', [('“', 'NNP')]), Tree('VP', [Tree('V', [('acted', 'VBD')])]), ('quickly', 'RB'), ('and', 'CC'), ('diligently', 'RB'), (\"''\", \"''\"), Tree('PP', [Tree('P', [('in', 'IN')]), Tree('NP', [('order', 'NN')])]), ('to', 'TO'), ('``', '``'), Tree('VP', [Tree('V', [('determine', 'VB')]), Tree('PP', [Tree('P', [('that', 'IN')]), Tree('NP', [('these', 'DT')])])]), ('newly', 'RB'), Tree('VP', [Tree('V', [('released', 'VBN')])]), ('products', 'NNS'), Tree('VP', [Tree('V', [('do', 'VBP')])]), Tree('VP', [Tree('V', [('infringe', 'VB')]), Tree('NP', [('many', 'JJ')]), Tree('PP', [Tree('P', [('of', 'IN')]), Tree('NP', [('the', 'DT'), ('same', 'JJ')])])]), ('claims', 'NNS'), ('already', 'RB'), Tree('VP', [Tree('V', [('asserted', 'VBN')])]), Tree('P', [('by', 'IN')]), Tree('NEP', [('Apple', 'NNP')]), ('.', '.'), (\"''\", \"''\")]), Tree('S', [Tree('P', [('In', 'IN')]), Tree('NEP', [('August', 'NNP')]), (',', ','), Tree('NEP', [('Samsung', 'NNP')]), Tree('VP', [Tree('V', [('lost', 'VBD')]), Tree('NP', [('a', 'DT')])]), Tree('NEP', [('US', 'NNP')]), Tree('NP', [('patent', 'NN'), ('case', 'NN')]), ('to', 'TO'), Tree('NEP', [('Apple', 'NNP')]), ('and', 'CC'), Tree('VP', [Tree('V', [('was', 'VBD')])]), Tree('VP', [Tree('V', [('ordered', 'VBN')])]), ('to', 'TO'), Tree('VP', [Tree('V', [('pay', 'VB')])]), ('its', 'PRP$'), Tree('NP', [('rival', 'JJ')]), ('$', '$'), ('1.05bn', 'CD'), ('(', '('), Tree('NP', [('£0.66bn', 'NN')]), (')', ')'), Tree('P', [('in', 'IN')]), ('damages', 'NNS'), Tree('P', [('for', 'IN')]), Tree('VP', [Tree('V', [('copying', 'VBG')])]), ('features', 'NNS'), Tree('PP', [Tree('P', [('of', 'IN')]), Tree('NP', [('the', 'DT'), ('iPad', 'NN')])]), ('and', 'CC'), Tree('NP', [('iPhone', 'NN')]), Tree('P', [('in', 'IN')]), ('its', 'PRP$'), Tree('NEP', [('Galaxy', 'NNP')]), Tree('NP', [('range', 'NN')]), Tree('P', [('of', 'IN')]), ('devices', 'NNS'), ('.', '.')]), Tree('S', [Tree('NEP', [('Samsung', 'NNP')]), (',', ','), ('which', 'WDT'), Tree('VP', [Tree('V', [('is', 'VBZ')]), Tree('NP', [('the', 'DT'), ('world', 'NN')])]), (\"'s\", 'POS'), Tree('NP', [('top', 'JJ'), ('mobile', 'NN'), ('phone', 'NN'), ('maker', 'NN')]), (',', ','), Tree('VP', [Tree('V', [('is', 'VBZ')])]), Tree('VP', [Tree('V', [('appealing', 'VBG')]), Tree('NP', [('the', 'DT'), ('ruling', 'NN')])]), ('.', '.')]), Tree('S', [Tree('NP', [('A', 'DT'), ('similar', 'JJ'), ('case', 'NN')]), Tree('PP', [Tree('P', [('in', 'IN')]), Tree('NP', [('the', 'DT')])]), Tree('NEP', [('UK', 'NNP')]), Tree('VP', [Tree('V', [('found', 'VBD')])]), Tree('P', [('in', 'IN')]), Tree('NEP', [('Samsung', 'NNP')]), (\"'s\", 'POS'), Tree('NP', [('favour', 'NN')]), ('and', 'CC'), Tree('VP', [Tree('V', [('ordered', 'VBD')])]), Tree('NEP', [('Apple', 'NNP')]), ('to', 'TO'), Tree('VP', [Tree('V', [('publish', 'VB')]), Tree('NP', [('an', 'DT'), ('apology', 'NN')])]), Tree('VP', [Tree('V', [('making', 'VBG')]), Tree('NP', [('clear', 'JJ')]), Tree('PP', [Tree('P', [('that', 'IN')]), Tree('NP', [('the', 'DT'), ('South', 'JJ'), ('Korean', 'JJ'), ('firm', 'NN')])])]), Tree('VP', [Tree('V', [('had', 'VBD')])]), ('not', 'RB'), Tree('VP', [Tree('V', [('copied', 'VBN')])]), ('its', 'PRP$'), Tree('NP', [('iPad', 'NN')]), ('when', 'WRB'), Tree('VP', [Tree('V', [('designing', 'VBG')])]), ('its', 'PRP$'), Tree('NP', [('own', 'JJ')]), ('devices', 'NNS'), ('.', '.')])]\n"
     ]
    }
   ],
   "execution_count": 86
  },
  {
   "metadata": {},
   "cell_type": "code",
   "outputs": [],
   "execution_count": null,
   "source": [
    "for elem_v2 in constituency_v2_output_per_sentence:\n",
    "    elem_v2.draw()"
   ]
  },
  {
   "cell_type": "markdown",
   "metadata": {},
   "source": [
    "## [total points: 1] Exercise 2: spaCy\n",
    "Use Spacy to process the same text as you analyzed with NLTK."
   ]
  },
  {
   "metadata": {},
   "cell_type": "markdown",
   "source": "pos tagging, named entity recognition, constituency parsing"
  },
  {
   "cell_type": "code",
   "metadata": {
    "ExecuteTime": {
     "end_time": "2025-02-16T12:36:16.578413Z",
     "start_time": "2025-02-16T12:36:16.244693Z"
    }
   },
   "source": [
    "import spacy\n",
    "nlp = spacy.load('en_core_web_sm')"
   ],
   "outputs": [],
   "execution_count": 89
  },
  {
   "cell_type": "code",
   "metadata": {
    "ExecuteTime": {
     "end_time": "2025-02-16T13:07:48.216306Z",
     "start_time": "2025-02-16T13:07:48.178492Z"
    }
   },
   "source": [
    "doc = nlp(text)\n",
    "sentences = list(doc.sents)\n",
    "\n",
    "# Sentence splitting and tokenization\n",
    "\n",
    "pos_tags_spacy = []\n",
    "constituency_parsing_spaCy = []\n",
    "\n",
    "for sentence in sentences:\n",
    "    for token in sentence:\n",
    "        print(\"word token:\", token.text)\n",
    "        # pos tagging\n",
    "        print(\"pos tag:\", token.pos_)\n",
    "        print()\n",
    "        pos_tags_spacy.append((token.text, token.pos_))\n",
    "        constituency_parsing_spaCy.append((token.head, token.dep_, token.text))\n",
    "        "
   ],
   "outputs": [
    {
     "name": "stdout",
     "output_type": "stream",
     "text": [
      "word token: https://www.telegraph.co.uk/technology/apple/9702716/Apple-Samsung-lawsuit-six-more-products-under-scrutiny.html\n",
      "pos tag: PROPN\n",
      "\n",
      "word token: \n",
      "\n",
      "\n",
      "pos tag: SPACE\n",
      "\n",
      "word token: Documents\n",
      "pos tag: PROPN\n",
      "\n",
      "word token: filed\n",
      "pos tag: VERB\n",
      "\n",
      "word token: to\n",
      "pos tag: ADP\n",
      "\n",
      "word token: the\n",
      "pos tag: DET\n",
      "\n",
      "word token: San\n",
      "pos tag: PROPN\n",
      "\n",
      "word token: Jose\n",
      "pos tag: PROPN\n",
      "\n",
      "word token: federal\n",
      "pos tag: ADJ\n",
      "\n",
      "word token: court\n",
      "pos tag: NOUN\n",
      "\n",
      "word token: in\n",
      "pos tag: ADP\n",
      "\n",
      "word token: California\n",
      "pos tag: PROPN\n",
      "\n",
      "word token: on\n",
      "pos tag: ADP\n",
      "\n",
      "word token: November\n",
      "pos tag: PROPN\n",
      "\n",
      "word token: 23\n",
      "pos tag: NUM\n",
      "\n",
      "word token: list\n",
      "pos tag: NOUN\n",
      "\n",
      "word token: six\n",
      "pos tag: NUM\n",
      "\n",
      "word token: Samsung\n",
      "pos tag: PROPN\n",
      "\n",
      "word token: products\n",
      "pos tag: NOUN\n",
      "\n",
      "word token: running\n",
      "pos tag: VERB\n",
      "\n",
      "word token: the\n",
      "pos tag: DET\n",
      "\n",
      "word token: \"\n",
      "pos tag: PUNCT\n",
      "\n",
      "word token: Jelly\n",
      "pos tag: PROPN\n",
      "\n",
      "word token: Bean\n",
      "pos tag: PROPN\n",
      "\n",
      "word token: \"\n",
      "pos tag: PUNCT\n",
      "\n",
      "word token: and\n",
      "pos tag: CCONJ\n",
      "\n",
      "word token: \"\n",
      "pos tag: PUNCT\n",
      "\n",
      "word token: Ice\n",
      "pos tag: PROPN\n",
      "\n",
      "word token: Cream\n",
      "pos tag: PROPN\n",
      "\n",
      "word token: Sandwich\n",
      "pos tag: PROPN\n",
      "\n",
      "word token: \"\n",
      "pos tag: PUNCT\n",
      "\n",
      "word token: operating\n",
      "pos tag: NOUN\n",
      "\n",
      "word token: systems\n",
      "pos tag: NOUN\n",
      "\n",
      "word token: ,\n",
      "pos tag: PUNCT\n",
      "\n",
      "word token: which\n",
      "pos tag: PRON\n",
      "\n",
      "word token: Apple\n",
      "pos tag: PROPN\n",
      "\n",
      "word token: claims\n",
      "pos tag: VERB\n",
      "\n",
      "word token: infringe\n",
      "pos tag: VERB\n",
      "\n",
      "word token: its\n",
      "pos tag: PRON\n",
      "\n",
      "word token: patents\n",
      "pos tag: NOUN\n",
      "\n",
      "word token: .\n",
      "pos tag: PUNCT\n",
      "\n",
      "word token: \n",
      "\n",
      "pos tag: SPACE\n",
      "\n",
      "word token: The\n",
      "pos tag: DET\n",
      "\n",
      "word token: six\n",
      "pos tag: NUM\n",
      "\n",
      "word token: phones\n",
      "pos tag: NOUN\n",
      "\n",
      "word token: and\n",
      "pos tag: CCONJ\n",
      "\n",
      "word token: tablets\n",
      "pos tag: NOUN\n",
      "\n",
      "word token: affected\n",
      "pos tag: VERB\n",
      "\n",
      "word token: are\n",
      "pos tag: AUX\n",
      "\n",
      "word token: the\n",
      "pos tag: DET\n",
      "\n",
      "word token: Galaxy\n",
      "pos tag: PROPN\n",
      "\n",
      "word token: S\n",
      "pos tag: PROPN\n",
      "\n",
      "word token: III\n",
      "pos tag: PROPN\n",
      "\n",
      "word token: ,\n",
      "pos tag: PUNCT\n",
      "\n",
      "word token: running\n",
      "pos tag: VERB\n",
      "\n",
      "word token: the\n",
      "pos tag: DET\n",
      "\n",
      "word token: new\n",
      "pos tag: ADJ\n",
      "\n",
      "word token: Jelly\n",
      "pos tag: PROPN\n",
      "\n",
      "word token: Bean\n",
      "pos tag: PROPN\n",
      "\n",
      "word token: system\n",
      "pos tag: NOUN\n",
      "\n",
      "word token: ,\n",
      "pos tag: PUNCT\n",
      "\n",
      "word token: the\n",
      "pos tag: DET\n",
      "\n",
      "word token: Galaxy\n",
      "pos tag: PROPN\n",
      "\n",
      "word token: Tab\n",
      "pos tag: PROPN\n",
      "\n",
      "word token: 8.9\n",
      "pos tag: NUM\n",
      "\n",
      "word token: Wifi\n",
      "pos tag: PROPN\n",
      "\n",
      "word token: tablet\n",
      "pos tag: NOUN\n",
      "\n",
      "word token: ,\n",
      "pos tag: PUNCT\n",
      "\n",
      "word token: the\n",
      "pos tag: DET\n",
      "\n",
      "word token: Galaxy\n",
      "pos tag: PROPN\n",
      "\n",
      "word token: Tab\n",
      "pos tag: PROPN\n",
      "\n",
      "word token: 2\n",
      "pos tag: NUM\n",
      "\n",
      "word token: 10.1\n",
      "pos tag: NUM\n",
      "\n",
      "word token: ,\n",
      "pos tag: PUNCT\n",
      "\n",
      "word token: Galaxy\n",
      "pos tag: PROPN\n",
      "\n",
      "word token: Rugby\n",
      "pos tag: PROPN\n",
      "\n",
      "word token: Pro\n",
      "pos tag: PROPN\n",
      "\n",
      "word token: and\n",
      "pos tag: CCONJ\n",
      "\n",
      "word token: Galaxy\n",
      "pos tag: PROPN\n",
      "\n",
      "word token: S\n",
      "pos tag: PROPN\n",
      "\n",
      "word token: III\n",
      "pos tag: PROPN\n",
      "\n",
      "word token: mini\n",
      "pos tag: NOUN\n",
      "\n",
      "word token: .\n",
      "pos tag: PUNCT\n",
      "\n",
      "word token: \n",
      "\n",
      "pos tag: SPACE\n",
      "\n",
      "word token: Apple\n",
      "pos tag: PROPN\n",
      "\n",
      "word token: stated\n",
      "pos tag: VERB\n",
      "\n",
      "word token: it\n",
      "pos tag: PRON\n",
      "\n",
      "word token: had\n",
      "pos tag: AUX\n",
      "\n",
      "word token: “\n",
      "pos tag: PUNCT\n",
      "\n",
      "word token: acted\n",
      "pos tag: VERB\n",
      "\n",
      "word token: quickly\n",
      "pos tag: ADV\n",
      "\n",
      "word token: and\n",
      "pos tag: CCONJ\n",
      "\n",
      "word token: diligently\n",
      "pos tag: ADV\n",
      "\n",
      "word token: \"\n",
      "pos tag: PUNCT\n",
      "\n",
      "word token: in\n",
      "pos tag: ADP\n",
      "\n",
      "word token: order\n",
      "pos tag: NOUN\n",
      "\n",
      "word token: to\n",
      "pos tag: PART\n",
      "\n",
      "word token: \"\n",
      "pos tag: PUNCT\n",
      "\n",
      "word token: determine\n",
      "pos tag: VERB\n",
      "\n",
      "word token: that\n",
      "pos tag: SCONJ\n",
      "\n",
      "word token: these\n",
      "pos tag: DET\n",
      "\n",
      "word token: newly\n",
      "pos tag: ADV\n",
      "\n",
      "word token: released\n",
      "pos tag: VERB\n",
      "\n",
      "word token: products\n",
      "pos tag: NOUN\n",
      "\n",
      "word token: do\n",
      "pos tag: AUX\n",
      "\n",
      "word token: infringe\n",
      "pos tag: VERB\n",
      "\n",
      "word token: many\n",
      "pos tag: ADJ\n",
      "\n",
      "word token: of\n",
      "pos tag: ADP\n",
      "\n",
      "word token: the\n",
      "pos tag: DET\n",
      "\n",
      "word token: same\n",
      "pos tag: ADJ\n",
      "\n",
      "word token: claims\n",
      "pos tag: NOUN\n",
      "\n",
      "word token: already\n",
      "pos tag: ADV\n",
      "\n",
      "word token: asserted\n",
      "pos tag: VERB\n",
      "\n",
      "word token: by\n",
      "pos tag: ADP\n",
      "\n",
      "word token: Apple\n",
      "pos tag: PROPN\n",
      "\n",
      "word token: .\n",
      "pos tag: PUNCT\n",
      "\n",
      "word token: \"\n",
      "pos tag: PUNCT\n",
      "\n",
      "word token: \n",
      "\n",
      "pos tag: SPACE\n",
      "\n",
      "word token: In\n",
      "pos tag: ADP\n",
      "\n",
      "word token: August\n",
      "pos tag: PROPN\n",
      "\n",
      "word token: ,\n",
      "pos tag: PUNCT\n",
      "\n",
      "word token: Samsung\n",
      "pos tag: PROPN\n",
      "\n",
      "word token: lost\n",
      "pos tag: VERB\n",
      "\n",
      "word token: a\n",
      "pos tag: DET\n",
      "\n",
      "word token: US\n",
      "pos tag: PROPN\n",
      "\n",
      "word token: patent\n",
      "pos tag: NOUN\n",
      "\n",
      "word token: case\n",
      "pos tag: NOUN\n",
      "\n",
      "word token: to\n",
      "pos tag: ADP\n",
      "\n",
      "word token: Apple\n",
      "pos tag: PROPN\n",
      "\n",
      "word token: and\n",
      "pos tag: CCONJ\n",
      "\n",
      "word token: was\n",
      "pos tag: AUX\n",
      "\n",
      "word token: ordered\n",
      "pos tag: VERB\n",
      "\n",
      "word token: to\n",
      "pos tag: PART\n",
      "\n",
      "word token: pay\n",
      "pos tag: VERB\n",
      "\n",
      "word token: its\n",
      "pos tag: PRON\n",
      "\n",
      "word token: rival\n",
      "pos tag: ADJ\n",
      "\n",
      "word token: $\n",
      "pos tag: SYM\n",
      "\n",
      "word token: 1.05bn\n",
      "pos tag: NUM\n",
      "\n",
      "word token: (\n",
      "pos tag: PUNCT\n",
      "\n",
      "word token: £\n",
      "pos tag: SYM\n",
      "\n",
      "word token: 0.66bn\n",
      "pos tag: NUM\n",
      "\n",
      "word token: )\n",
      "pos tag: PUNCT\n",
      "\n",
      "word token: in\n",
      "pos tag: ADP\n",
      "\n",
      "word token: damages\n",
      "pos tag: NOUN\n",
      "\n",
      "word token: for\n",
      "pos tag: ADP\n",
      "\n",
      "word token: copying\n",
      "pos tag: VERB\n",
      "\n",
      "word token: features\n",
      "pos tag: NOUN\n",
      "\n",
      "word token: of\n",
      "pos tag: ADP\n",
      "\n",
      "word token: the\n",
      "pos tag: DET\n",
      "\n",
      "word token: iPad\n",
      "pos tag: PROPN\n",
      "\n",
      "word token: and\n",
      "pos tag: CCONJ\n",
      "\n",
      "word token: iPhone\n",
      "pos tag: PROPN\n",
      "\n",
      "word token: in\n",
      "pos tag: ADP\n",
      "\n",
      "word token: its\n",
      "pos tag: PRON\n",
      "\n",
      "word token: Galaxy\n",
      "pos tag: PROPN\n",
      "\n",
      "word token: range\n",
      "pos tag: NOUN\n",
      "\n",
      "word token: of\n",
      "pos tag: ADP\n",
      "\n",
      "word token: devices\n",
      "pos tag: NOUN\n",
      "\n",
      "word token: .\n",
      "pos tag: PUNCT\n",
      "\n",
      "word token: Samsung\n",
      "pos tag: PROPN\n",
      "\n",
      "word token: ,\n",
      "pos tag: PUNCT\n",
      "\n",
      "word token: which\n",
      "pos tag: PRON\n",
      "\n",
      "word token: is\n",
      "pos tag: AUX\n",
      "\n",
      "word token: the\n",
      "pos tag: DET\n",
      "\n",
      "word token: world\n",
      "pos tag: NOUN\n",
      "\n",
      "word token: 's\n",
      "pos tag: PART\n",
      "\n",
      "word token: top\n",
      "pos tag: ADJ\n",
      "\n",
      "word token: mobile\n",
      "pos tag: ADJ\n",
      "\n",
      "word token: phone\n",
      "pos tag: NOUN\n",
      "\n",
      "word token: maker\n",
      "pos tag: NOUN\n",
      "\n",
      "word token: ,\n",
      "pos tag: PUNCT\n",
      "\n",
      "word token: is\n",
      "pos tag: AUX\n",
      "\n",
      "word token: appealing\n",
      "pos tag: VERB\n",
      "\n",
      "word token: the\n",
      "pos tag: DET\n",
      "\n",
      "word token: ruling\n",
      "pos tag: NOUN\n",
      "\n",
      "word token: .\n",
      "pos tag: PUNCT\n",
      "\n",
      "word token: \n",
      "\n",
      "pos tag: SPACE\n",
      "\n",
      "word token: A\n",
      "pos tag: DET\n",
      "\n",
      "word token: similar\n",
      "pos tag: ADJ\n",
      "\n",
      "word token: case\n",
      "pos tag: NOUN\n",
      "\n",
      "word token: in\n",
      "pos tag: ADP\n",
      "\n",
      "word token: the\n",
      "pos tag: DET\n",
      "\n",
      "word token: UK\n",
      "pos tag: PROPN\n",
      "\n",
      "word token: found\n",
      "pos tag: VERB\n",
      "\n",
      "word token: in\n",
      "pos tag: ADP\n",
      "\n",
      "word token: Samsung\n",
      "pos tag: PROPN\n",
      "\n",
      "word token: 's\n",
      "pos tag: PART\n",
      "\n",
      "word token: favour\n",
      "pos tag: NOUN\n",
      "\n",
      "word token: and\n",
      "pos tag: CCONJ\n",
      "\n",
      "word token: ordered\n",
      "pos tag: VERB\n",
      "\n",
      "word token: Apple\n",
      "pos tag: PROPN\n",
      "\n",
      "word token: to\n",
      "pos tag: PART\n",
      "\n",
      "word token: publish\n",
      "pos tag: VERB\n",
      "\n",
      "word token: an\n",
      "pos tag: DET\n",
      "\n",
      "word token: apology\n",
      "pos tag: NOUN\n",
      "\n",
      "word token: making\n",
      "pos tag: NOUN\n",
      "\n",
      "word token: clear\n",
      "pos tag: ADJ\n",
      "\n",
      "word token: that\n",
      "pos tag: SCONJ\n",
      "\n",
      "word token: the\n",
      "pos tag: DET\n",
      "\n",
      "word token: South\n",
      "pos tag: ADJ\n",
      "\n",
      "word token: Korean\n",
      "pos tag: ADJ\n",
      "\n",
      "word token: firm\n",
      "pos tag: NOUN\n",
      "\n",
      "word token: had\n",
      "pos tag: AUX\n",
      "\n",
      "word token: not\n",
      "pos tag: PART\n",
      "\n",
      "word token: copied\n",
      "pos tag: VERB\n",
      "\n",
      "word token: its\n",
      "pos tag: PRON\n",
      "\n",
      "word token: iPad\n",
      "pos tag: PROPN\n",
      "\n",
      "word token: when\n",
      "pos tag: SCONJ\n",
      "\n",
      "word token: designing\n",
      "pos tag: VERB\n",
      "\n",
      "word token: its\n",
      "pos tag: PRON\n",
      "\n",
      "word token: own\n",
      "pos tag: ADJ\n",
      "\n",
      "word token: devices\n",
      "pos tag: NOUN\n",
      "\n",
      "word token: .\n",
      "pos tag: PUNCT\n",
      "\n"
     ]
    }
   ],
   "execution_count": 138
  },
  {
   "metadata": {
    "ExecuteTime": {
     "end_time": "2025-02-16T13:07:49.626121Z",
     "start_time": "2025-02-16T13:07:49.624082Z"
    }
   },
   "cell_type": "code",
   "source": "print(pos_tags_spacy)",
   "outputs": [
    {
     "name": "stdout",
     "output_type": "stream",
     "text": [
      "[('https://www.telegraph.co.uk/technology/apple/9702716/Apple-Samsung-lawsuit-six-more-products-under-scrutiny.html', 'PROPN'), ('\\n\\n', 'SPACE'), ('Documents', 'PROPN'), ('filed', 'VERB'), ('to', 'ADP'), ('the', 'DET'), ('San', 'PROPN'), ('Jose', 'PROPN'), ('federal', 'ADJ'), ('court', 'NOUN'), ('in', 'ADP'), ('California', 'PROPN'), ('on', 'ADP'), ('November', 'PROPN'), ('23', 'NUM'), ('list', 'NOUN'), ('six', 'NUM'), ('Samsung', 'PROPN'), ('products', 'NOUN'), ('running', 'VERB'), ('the', 'DET'), ('\"', 'PUNCT'), ('Jelly', 'PROPN'), ('Bean', 'PROPN'), ('\"', 'PUNCT'), ('and', 'CCONJ'), ('\"', 'PUNCT'), ('Ice', 'PROPN'), ('Cream', 'PROPN'), ('Sandwich', 'PROPN'), ('\"', 'PUNCT'), ('operating', 'NOUN'), ('systems', 'NOUN'), (',', 'PUNCT'), ('which', 'PRON'), ('Apple', 'PROPN'), ('claims', 'VERB'), ('infringe', 'VERB'), ('its', 'PRON'), ('patents', 'NOUN'), ('.', 'PUNCT'), ('\\n', 'SPACE'), ('The', 'DET'), ('six', 'NUM'), ('phones', 'NOUN'), ('and', 'CCONJ'), ('tablets', 'NOUN'), ('affected', 'VERB'), ('are', 'AUX'), ('the', 'DET'), ('Galaxy', 'PROPN'), ('S', 'PROPN'), ('III', 'PROPN'), (',', 'PUNCT'), ('running', 'VERB'), ('the', 'DET'), ('new', 'ADJ'), ('Jelly', 'PROPN'), ('Bean', 'PROPN'), ('system', 'NOUN'), (',', 'PUNCT'), ('the', 'DET'), ('Galaxy', 'PROPN'), ('Tab', 'PROPN'), ('8.9', 'NUM'), ('Wifi', 'PROPN'), ('tablet', 'NOUN'), (',', 'PUNCT'), ('the', 'DET'), ('Galaxy', 'PROPN'), ('Tab', 'PROPN'), ('2', 'NUM'), ('10.1', 'NUM'), (',', 'PUNCT'), ('Galaxy', 'PROPN'), ('Rugby', 'PROPN'), ('Pro', 'PROPN'), ('and', 'CCONJ'), ('Galaxy', 'PROPN'), ('S', 'PROPN'), ('III', 'PROPN'), ('mini', 'NOUN'), ('.', 'PUNCT'), ('\\n', 'SPACE'), ('Apple', 'PROPN'), ('stated', 'VERB'), ('it', 'PRON'), ('had', 'AUX'), ('“', 'PUNCT'), ('acted', 'VERB'), ('quickly', 'ADV'), ('and', 'CCONJ'), ('diligently', 'ADV'), ('\"', 'PUNCT'), ('in', 'ADP'), ('order', 'NOUN'), ('to', 'PART'), ('\"', 'PUNCT'), ('determine', 'VERB'), ('that', 'SCONJ'), ('these', 'DET'), ('newly', 'ADV'), ('released', 'VERB'), ('products', 'NOUN'), ('do', 'AUX'), ('infringe', 'VERB'), ('many', 'ADJ'), ('of', 'ADP'), ('the', 'DET'), ('same', 'ADJ'), ('claims', 'NOUN'), ('already', 'ADV'), ('asserted', 'VERB'), ('by', 'ADP'), ('Apple', 'PROPN'), ('.', 'PUNCT'), ('\"', 'PUNCT'), ('\\n', 'SPACE'), ('In', 'ADP'), ('August', 'PROPN'), (',', 'PUNCT'), ('Samsung', 'PROPN'), ('lost', 'VERB'), ('a', 'DET'), ('US', 'PROPN'), ('patent', 'NOUN'), ('case', 'NOUN'), ('to', 'ADP'), ('Apple', 'PROPN'), ('and', 'CCONJ'), ('was', 'AUX'), ('ordered', 'VERB'), ('to', 'PART'), ('pay', 'VERB'), ('its', 'PRON'), ('rival', 'ADJ'), ('$', 'SYM'), ('1.05bn', 'NUM'), ('(', 'PUNCT'), ('£', 'SYM'), ('0.66bn', 'NUM'), (')', 'PUNCT'), ('in', 'ADP'), ('damages', 'NOUN'), ('for', 'ADP'), ('copying', 'VERB'), ('features', 'NOUN'), ('of', 'ADP'), ('the', 'DET'), ('iPad', 'PROPN'), ('and', 'CCONJ'), ('iPhone', 'PROPN'), ('in', 'ADP'), ('its', 'PRON'), ('Galaxy', 'PROPN'), ('range', 'NOUN'), ('of', 'ADP'), ('devices', 'NOUN'), ('.', 'PUNCT'), ('Samsung', 'PROPN'), (',', 'PUNCT'), ('which', 'PRON'), ('is', 'AUX'), ('the', 'DET'), ('world', 'NOUN'), (\"'s\", 'PART'), ('top', 'ADJ'), ('mobile', 'ADJ'), ('phone', 'NOUN'), ('maker', 'NOUN'), (',', 'PUNCT'), ('is', 'AUX'), ('appealing', 'VERB'), ('the', 'DET'), ('ruling', 'NOUN'), ('.', 'PUNCT'), ('\\n', 'SPACE'), ('A', 'DET'), ('similar', 'ADJ'), ('case', 'NOUN'), ('in', 'ADP'), ('the', 'DET'), ('UK', 'PROPN'), ('found', 'VERB'), ('in', 'ADP'), ('Samsung', 'PROPN'), (\"'s\", 'PART'), ('favour', 'NOUN'), ('and', 'CCONJ'), ('ordered', 'VERB'), ('Apple', 'PROPN'), ('to', 'PART'), ('publish', 'VERB'), ('an', 'DET'), ('apology', 'NOUN'), ('making', 'NOUN'), ('clear', 'ADJ'), ('that', 'SCONJ'), ('the', 'DET'), ('South', 'ADJ'), ('Korean', 'ADJ'), ('firm', 'NOUN'), ('had', 'AUX'), ('not', 'PART'), ('copied', 'VERB'), ('its', 'PRON'), ('iPad', 'PROPN'), ('when', 'SCONJ'), ('designing', 'VERB'), ('its', 'PRON'), ('own', 'ADJ'), ('devices', 'NOUN'), ('.', 'PUNCT')]\n"
     ]
    }
   ],
   "execution_count": 139
  },
  {
   "metadata": {
    "ExecuteTime": {
     "end_time": "2025-02-16T13:07:51.781810Z",
     "start_time": "2025-02-16T13:07:51.778559Z"
    }
   },
   "cell_type": "code",
   "source": "print(constituency_parsing_spaCy)",
   "outputs": [
    {
     "name": "stdout",
     "output_type": "stream",
     "text": [
      "[(Documents, 'compound', 'https://www.telegraph.co.uk/technology/apple/9702716/Apple-Samsung-lawsuit-six-more-products-under-scrutiny.html'), (https://www.telegraph.co.uk/technology/apple/9702716/Apple-Samsung-lawsuit-six-more-products-under-scrutiny.html, 'dep', '\\n\\n'), (filed, 'nsubj', 'Documents'), (filed, 'ROOT', 'filed'), (filed, 'prep', 'to'), (court, 'det', 'the'), (Jose, 'compound', 'San'), (court, 'nmod', 'Jose'), (court, 'amod', 'federal'), (to, 'pobj', 'court'), (court, 'prep', 'in'), (in, 'pobj', 'California'), (filed, 'prep', 'on'), (on, 'pobj', 'November'), (November, 'nummod', '23'), (filed, 'npadvmod', 'list'), (products, 'nummod', 'six'), (products, 'compound', 'Samsung'), (list, 'appos', 'products'), (products, 'acl', 'running'), (Bean, 'det', 'the'), (Bean, 'punct', '\"'), (Bean, 'compound', 'Jelly'), (running, 'dobj', 'Bean'), (Bean, 'punct', '\"'), (Bean, 'cc', 'and'), (Sandwich, 'punct', '\"'), (Cream, 'compound', 'Ice'), (Sandwich, 'compound', 'Cream'), (systems, 'nmod', 'Sandwich'), (Sandwich, 'punct', '\"'), (systems, 'compound', 'operating'), (Bean, 'conj', 'systems'), (systems, 'punct', ','), (claims, 'nsubj', 'which'), (claims, 'nsubj', 'Apple'), (systems, 'relcl', 'claims'), (claims, 'xcomp', 'infringe'), (patents, 'poss', 'its'), (infringe, 'dobj', 'patents'), (filed, 'punct', '.'), (., 'dep', '\\n'), (phones, 'det', 'The'), (phones, 'nummod', 'six'), (are, 'nsubj', 'phones'), (phones, 'cc', 'and'), (phones, 'conj', 'tablets'), (phones, 'acl', 'affected'), (are, 'ROOT', 'are'), (III, 'det', 'the'), (III, 'compound', 'Galaxy'), (III, 'compound', 'S'), (are, 'attr', 'III'), (are, 'punct', ','), (are, 'advcl', 'running'), (system, 'det', 'the'), (system, 'amod', 'new'), (Bean, 'compound', 'Jelly'), (system, 'compound', 'Bean'), (running, 'dobj', 'system'), (running, 'punct', ','), (tablet, 'det', 'the'), (Tab, 'compound', 'Galaxy'), (tablet, 'nmod', 'Tab'), (Tab, 'nummod', '8.9'), (tablet, 'compound', 'Wifi'), (are, 'dep', 'tablet'), (tablet, 'punct', ','), (Tab, 'det', 'the'), (Tab, 'compound', 'Galaxy'), (tablet, 'appos', 'Tab'), (10.1, 'nummod', '2'), (Tab, 'appos', '10.1'), (tablet, 'punct', ','), (Pro, 'compound', 'Galaxy'), (Pro, 'compound', 'Rugby'), (tablet, 'appos', 'Pro'), (Pro, 'cc', 'and'), (S, 'compound', 'Galaxy'), (III, 'compound', 'S'), (Pro, 'conj', 'III'), (Pro, 'conj', 'mini'), (are, 'punct', '.'), (., 'dep', '\\n'), (stated, 'nsubj', 'Apple'), (stated, 'ROOT', 'stated'), (acted, 'nsubj', 'it'), (acted, 'aux', 'had'), (acted, 'punct', '“'), (stated, 'ccomp', 'acted'), (acted, 'advmod', 'quickly'), (quickly, 'cc', 'and'), (quickly, 'conj', 'diligently'), (acted, 'punct', '\"'), (acted, 'prep', 'in'), (in, 'pobj', 'order'), (determine, 'aux', 'to'), (determine, 'punct', '\"'), (order, 'acl', 'determine'), (infringe, 'mark', 'that'), (products, 'det', 'these'), (released, 'advmod', 'newly'), (products, 'amod', 'released'), (infringe, 'nsubj', 'products'), (infringe, 'aux', 'do'), (determine, 'ccomp', 'infringe'), (infringe, 'dobj', 'many'), (many, 'prep', 'of'), (claims, 'det', 'the'), (claims, 'amod', 'same'), (of, 'pobj', 'claims'), (asserted, 'advmod', 'already'), (claims, 'acl', 'asserted'), (asserted, 'agent', 'by'), (by, 'pobj', 'Apple'), (stated, 'punct', '.'), (lost, 'punct', '\"'), (\", 'dep', '\\n'), (lost, 'prep', 'In'), (In, 'pobj', 'August'), (lost, 'punct', ','), (lost, 'nsubj', 'Samsung'), (lost, 'ROOT', 'lost'), (case, 'det', 'a'), (case, 'compound', 'US'), (case, 'compound', 'patent'), (lost, 'dobj', 'case'), (lost, 'prep', 'to'), (to, 'pobj', 'Apple'), (lost, 'cc', 'and'), (ordered, 'auxpass', 'was'), (lost, 'conj', 'ordered'), (pay, 'aux', 'to'), (ordered, 'xcomp', 'pay'), (rival, 'poss', 'its'), (pay, 'dobj', 'rival'), (1.05bn, 'nmod', '$'), (rival, 'appos', '1.05bn'), (1.05bn, 'punct', '('), (0.66bn, 'nmod', '£'), (1.05bn, 'appos', '0.66bn'), (1.05bn, 'punct', ')'), (pay, 'prep', 'in'), (in, 'pobj', 'damages'), (damages, 'prep', 'for'), (for, 'pcomp', 'copying'), (copying, 'dobj', 'features'), (features, 'prep', 'of'), (iPad, 'det', 'the'), (of, 'pobj', 'iPad'), (iPad, 'cc', 'and'), (iPad, 'conj', 'iPhone'), (copying, 'prep', 'in'), (range, 'poss', 'its'), (range, 'compound', 'Galaxy'), (in, 'pobj', 'range'), (range, 'prep', 'of'), (of, 'pobj', 'devices'), (lost, 'punct', '.'), (appealing, 'nsubj', 'Samsung'), (Samsung, 'punct', ','), (is, 'nsubj', 'which'), (Samsung, 'relcl', 'is'), (world, 'det', 'the'), (maker, 'poss', 'world'), (world, 'case', \"'s\"), (maker, 'amod', 'top'), (phone, 'amod', 'mobile'), (maker, 'compound', 'phone'), (is, 'attr', 'maker'), (Samsung, 'punct', ','), (appealing, 'aux', 'is'), (appealing, 'ROOT', 'appealing'), (ruling, 'det', 'the'), (appealing, 'dobj', 'ruling'), (appealing, 'punct', '.'), (., 'dep', '\\n'), (case, 'det', 'A'), (case, 'amod', 'similar'), (case, 'ROOT', 'case'), (case, 'prep', 'in'), (UK, 'det', 'the'), (in, 'pobj', 'UK'), (case, 'acl', 'found'), (found, 'prep', 'in'), (favour, 'poss', 'Samsung'), (Samsung, 'case', \"'s\"), (in, 'pobj', 'favour'), (found, 'cc', 'and'), (found, 'conj', 'ordered'), (ordered, 'dobj', 'Apple'), (publish, 'aux', 'to'), (ordered, 'xcomp', 'publish'), (making, 'det', 'an'), (making, 'compound', 'apology'), (publish, 'dobj', 'making'), (making, 'amod', 'clear'), (copied, 'mark', 'that'), (firm, 'det', 'the'), (Korean, 'amod', 'South'), (firm, 'amod', 'Korean'), (copied, 'nsubj', 'firm'), (copied, 'aux', 'had'), (copied, 'neg', 'not'), (ordered, 'ccomp', 'copied'), (iPad, 'poss', 'its'), (copied, 'dobj', 'iPad'), (designing, 'advmod', 'when'), (copied, 'advcl', 'designing'), (devices, 'poss', 'its'), (devices, 'amod', 'own'), (designing, 'dobj', 'devices'), (case, 'punct', '.')]\n"
     ]
    }
   ],
   "execution_count": 140
  },
  {
   "metadata": {
    "ExecuteTime": {
     "end_time": "2025-02-16T13:10:50.112980Z",
     "start_time": "2025-02-16T13:10:50.090685Z"
    }
   },
   "cell_type": "code",
   "source": [
    "from spacy import displacy\n",
    "\n",
    "tree_structure = displacy.render(doc, jupyter=False, style='dep')\n",
    "\n",
    "output_path = \"spaCy_tree_Lab1.svg\"\n",
    "with open(output_path, \"w\") as text_file:\n",
    "    text_file.write(tree_structure)"
   ],
   "outputs": [],
   "execution_count": 142
  },
  {
   "metadata": {
    "ExecuteTime": {
     "end_time": "2025-02-16T13:15:02.189319Z",
     "start_time": "2025-02-16T13:15:02.183419Z"
    }
   },
   "cell_type": "code",
   "source": [
    "# named entity recognition\n",
    "\n",
    "entities_spaCy = []\n",
    "\n",
    "displacy.render(doc, jupyter=True, style='ent')\n",
    "\n",
    "print(\"-------------------------------------------------------------------------------------------------\")\n",
    "\n",
    "for ent in doc.ents:\n",
    "    entities_spaCy.append((ent.text, ent.label_))\n",
    "    \n",
    "print(entities_spaCy)"
   ],
   "outputs": [
    {
     "data": {
      "text/plain": [
       "<IPython.core.display.HTML object>"
      ],
      "text/html": [
       "<span class=\"tex2jax_ignore\"><div class=\"entities\" style=\"line-height: 2.5; direction: ltr\">https://www.telegraph.co.uk/technology/apple/9702716/Apple-Samsung-lawsuit-six-more-products-under-scrutiny.html<br><br>Documents filed to the \n",
       "<mark class=\"entity\" style=\"background: #feca74; padding: 0.45em 0.6em; margin: 0 0.25em; line-height: 1; border-radius: 0.35em;\">\n",
       "    San Jose\n",
       "    <span style=\"font-size: 0.8em; font-weight: bold; line-height: 1; border-radius: 0.35em; vertical-align: middle; margin-left: 0.5rem\">GPE</span>\n",
       "</mark>\n",
       " federal court in \n",
       "<mark class=\"entity\" style=\"background: #feca74; padding: 0.45em 0.6em; margin: 0 0.25em; line-height: 1; border-radius: 0.35em;\">\n",
       "    California\n",
       "    <span style=\"font-size: 0.8em; font-weight: bold; line-height: 1; border-radius: 0.35em; vertical-align: middle; margin-left: 0.5rem\">GPE</span>\n",
       "</mark>\n",
       " on \n",
       "<mark class=\"entity\" style=\"background: #bfe1d9; padding: 0.45em 0.6em; margin: 0 0.25em; line-height: 1; border-radius: 0.35em;\">\n",
       "    November 23\n",
       "    <span style=\"font-size: 0.8em; font-weight: bold; line-height: 1; border-radius: 0.35em; vertical-align: middle; margin-left: 0.5rem\">DATE</span>\n",
       "</mark>\n",
       " list \n",
       "<mark class=\"entity\" style=\"background: #e4e7d2; padding: 0.45em 0.6em; margin: 0 0.25em; line-height: 1; border-radius: 0.35em;\">\n",
       "    six\n",
       "    <span style=\"font-size: 0.8em; font-weight: bold; line-height: 1; border-radius: 0.35em; vertical-align: middle; margin-left: 0.5rem\">CARDINAL</span>\n",
       "</mark>\n",
       " \n",
       "<mark class=\"entity\" style=\"background: #7aecec; padding: 0.45em 0.6em; margin: 0 0.25em; line-height: 1; border-radius: 0.35em;\">\n",
       "    Samsung\n",
       "    <span style=\"font-size: 0.8em; font-weight: bold; line-height: 1; border-radius: 0.35em; vertical-align: middle; margin-left: 0.5rem\">ORG</span>\n",
       "</mark>\n",
       " products running the &quot;\n",
       "<mark class=\"entity\" style=\"background: #f0d0ff; padding: 0.45em 0.6em; margin: 0 0.25em; line-height: 1; border-radius: 0.35em;\">\n",
       "    Jelly Bean\n",
       "    <span style=\"font-size: 0.8em; font-weight: bold; line-height: 1; border-radius: 0.35em; vertical-align: middle; margin-left: 0.5rem\">WORK_OF_ART</span>\n",
       "</mark>\n",
       "&quot; and &quot;Ice Cream Sandwich&quot; operating systems, which \n",
       "<mark class=\"entity\" style=\"background: #7aecec; padding: 0.45em 0.6em; margin: 0 0.25em; line-height: 1; border-radius: 0.35em;\">\n",
       "    Apple\n",
       "    <span style=\"font-size: 0.8em; font-weight: bold; line-height: 1; border-radius: 0.35em; vertical-align: middle; margin-left: 0.5rem\">ORG</span>\n",
       "</mark>\n",
       " claims infringe its patents.<br>The \n",
       "<mark class=\"entity\" style=\"background: #e4e7d2; padding: 0.45em 0.6em; margin: 0 0.25em; line-height: 1; border-radius: 0.35em;\">\n",
       "    six\n",
       "    <span style=\"font-size: 0.8em; font-weight: bold; line-height: 1; border-radius: 0.35em; vertical-align: middle; margin-left: 0.5rem\">CARDINAL</span>\n",
       "</mark>\n",
       " phones and tablets affected are \n",
       "<mark class=\"entity\" style=\"background: #aa9cfc; padding: 0.45em 0.6em; margin: 0 0.25em; line-height: 1; border-radius: 0.35em;\">\n",
       "    the Galaxy S III\n",
       "    <span style=\"font-size: 0.8em; font-weight: bold; line-height: 1; border-radius: 0.35em; vertical-align: middle; margin-left: 0.5rem\">PERSON</span>\n",
       "</mark>\n",
       ", running the new \n",
       "<mark class=\"entity\" style=\"background: #7aecec; padding: 0.45em 0.6em; margin: 0 0.25em; line-height: 1; border-radius: 0.35em;\">\n",
       "    Jelly Bean\n",
       "    <span style=\"font-size: 0.8em; font-weight: bold; line-height: 1; border-radius: 0.35em; vertical-align: middle; margin-left: 0.5rem\">ORG</span>\n",
       "</mark>\n",
       " system, the \n",
       "<mark class=\"entity\" style=\"background: #aa9cfc; padding: 0.45em 0.6em; margin: 0 0.25em; line-height: 1; border-radius: 0.35em;\">\n",
       "    Galaxy Tab 8.9 Wifi\n",
       "    <span style=\"font-size: 0.8em; font-weight: bold; line-height: 1; border-radius: 0.35em; vertical-align: middle; margin-left: 0.5rem\">PERSON</span>\n",
       "</mark>\n",
       " tablet, the \n",
       "<mark class=\"entity\" style=\"background: #aa9cfc; padding: 0.45em 0.6em; margin: 0 0.25em; line-height: 1; border-radius: 0.35em;\">\n",
       "    Galaxy Tab 2 10.1\n",
       "    <span style=\"font-size: 0.8em; font-weight: bold; line-height: 1; border-radius: 0.35em; vertical-align: middle; margin-left: 0.5rem\">PERSON</span>\n",
       "</mark>\n",
       ", Galaxy Rugby Pro and Galaxy S III mini.<br>\n",
       "<mark class=\"entity\" style=\"background: #7aecec; padding: 0.45em 0.6em; margin: 0 0.25em; line-height: 1; border-radius: 0.35em;\">\n",
       "    Apple\n",
       "    <span style=\"font-size: 0.8em; font-weight: bold; line-height: 1; border-radius: 0.35em; vertical-align: middle; margin-left: 0.5rem\">ORG</span>\n",
       "</mark>\n",
       " stated it had “acted quickly and diligently&quot; in order to &quot;determine that these newly released products do infringe many of the same claims already asserted by \n",
       "<mark class=\"entity\" style=\"background: #7aecec; padding: 0.45em 0.6em; margin: 0 0.25em; line-height: 1; border-radius: 0.35em;\">\n",
       "    Apple\n",
       "    <span style=\"font-size: 0.8em; font-weight: bold; line-height: 1; border-radius: 0.35em; vertical-align: middle; margin-left: 0.5rem\">ORG</span>\n",
       "</mark>\n",
       ".&quot;<br>In \n",
       "<mark class=\"entity\" style=\"background: #bfe1d9; padding: 0.45em 0.6em; margin: 0 0.25em; line-height: 1; border-radius: 0.35em;\">\n",
       "    August\n",
       "    <span style=\"font-size: 0.8em; font-weight: bold; line-height: 1; border-radius: 0.35em; vertical-align: middle; margin-left: 0.5rem\">DATE</span>\n",
       "</mark>\n",
       ", \n",
       "<mark class=\"entity\" style=\"background: #7aecec; padding: 0.45em 0.6em; margin: 0 0.25em; line-height: 1; border-radius: 0.35em;\">\n",
       "    Samsung\n",
       "    <span style=\"font-size: 0.8em; font-weight: bold; line-height: 1; border-radius: 0.35em; vertical-align: middle; margin-left: 0.5rem\">ORG</span>\n",
       "</mark>\n",
       " lost a \n",
       "<mark class=\"entity\" style=\"background: #feca74; padding: 0.45em 0.6em; margin: 0 0.25em; line-height: 1; border-radius: 0.35em;\">\n",
       "    US\n",
       "    <span style=\"font-size: 0.8em; font-weight: bold; line-height: 1; border-radius: 0.35em; vertical-align: middle; margin-left: 0.5rem\">GPE</span>\n",
       "</mark>\n",
       " patent case to \n",
       "<mark class=\"entity\" style=\"background: #7aecec; padding: 0.45em 0.6em; margin: 0 0.25em; line-height: 1; border-radius: 0.35em;\">\n",
       "    Apple\n",
       "    <span style=\"font-size: 0.8em; font-weight: bold; line-height: 1; border-radius: 0.35em; vertical-align: middle; margin-left: 0.5rem\">ORG</span>\n",
       "</mark>\n",
       " and was ordered to pay its rival $\n",
       "<mark class=\"entity\" style=\"background: #e4e7d2; padding: 0.45em 0.6em; margin: 0 0.25em; line-height: 1; border-radius: 0.35em;\">\n",
       "    1.05bn\n",
       "    <span style=\"font-size: 0.8em; font-weight: bold; line-height: 1; border-radius: 0.35em; vertical-align: middle; margin-left: 0.5rem\">MONEY</span>\n",
       "</mark>\n",
       " (£\n",
       "<mark class=\"entity\" style=\"background: #e4e7d2; padding: 0.45em 0.6em; margin: 0 0.25em; line-height: 1; border-radius: 0.35em;\">\n",
       "    0.66bn\n",
       "    <span style=\"font-size: 0.8em; font-weight: bold; line-height: 1; border-radius: 0.35em; vertical-align: middle; margin-left: 0.5rem\">MONEY</span>\n",
       "</mark>\n",
       ") in damages for copying features of the \n",
       "<mark class=\"entity\" style=\"background: #7aecec; padding: 0.45em 0.6em; margin: 0 0.25em; line-height: 1; border-radius: 0.35em;\">\n",
       "    iPad\n",
       "    <span style=\"font-size: 0.8em; font-weight: bold; line-height: 1; border-radius: 0.35em; vertical-align: middle; margin-left: 0.5rem\">ORG</span>\n",
       "</mark>\n",
       " and \n",
       "<mark class=\"entity\" style=\"background: #7aecec; padding: 0.45em 0.6em; margin: 0 0.25em; line-height: 1; border-radius: 0.35em;\">\n",
       "    iPhone\n",
       "    <span style=\"font-size: 0.8em; font-weight: bold; line-height: 1; border-radius: 0.35em; vertical-align: middle; margin-left: 0.5rem\">ORG</span>\n",
       "</mark>\n",
       " in its Galaxy range of devices. \n",
       "<mark class=\"entity\" style=\"background: #7aecec; padding: 0.45em 0.6em; margin: 0 0.25em; line-height: 1; border-radius: 0.35em;\">\n",
       "    Samsung\n",
       "    <span style=\"font-size: 0.8em; font-weight: bold; line-height: 1; border-radius: 0.35em; vertical-align: middle; margin-left: 0.5rem\">ORG</span>\n",
       "</mark>\n",
       ", which is the world's top mobile phone maker, is appealing the ruling.<br>A similar case in the \n",
       "<mark class=\"entity\" style=\"background: #feca74; padding: 0.45em 0.6em; margin: 0 0.25em; line-height: 1; border-radius: 0.35em;\">\n",
       "    UK\n",
       "    <span style=\"font-size: 0.8em; font-weight: bold; line-height: 1; border-radius: 0.35em; vertical-align: middle; margin-left: 0.5rem\">GPE</span>\n",
       "</mark>\n",
       " found in \n",
       "<mark class=\"entity\" style=\"background: #7aecec; padding: 0.45em 0.6em; margin: 0 0.25em; line-height: 1; border-radius: 0.35em;\">\n",
       "    Samsung\n",
       "    <span style=\"font-size: 0.8em; font-weight: bold; line-height: 1; border-radius: 0.35em; vertical-align: middle; margin-left: 0.5rem\">ORG</span>\n",
       "</mark>\n",
       "'s favour and ordered \n",
       "<mark class=\"entity\" style=\"background: #7aecec; padding: 0.45em 0.6em; margin: 0 0.25em; line-height: 1; border-radius: 0.35em;\">\n",
       "    Apple\n",
       "    <span style=\"font-size: 0.8em; font-weight: bold; line-height: 1; border-radius: 0.35em; vertical-align: middle; margin-left: 0.5rem\">ORG</span>\n",
       "</mark>\n",
       " to publish an apology making clear that the \n",
       "<mark class=\"entity\" style=\"background: #c887fb; padding: 0.45em 0.6em; margin: 0 0.25em; line-height: 1; border-radius: 0.35em;\">\n",
       "    South Korean\n",
       "    <span style=\"font-size: 0.8em; font-weight: bold; line-height: 1; border-radius: 0.35em; vertical-align: middle; margin-left: 0.5rem\">NORP</span>\n",
       "</mark>\n",
       " firm had not copied its \n",
       "<mark class=\"entity\" style=\"background: #7aecec; padding: 0.45em 0.6em; margin: 0 0.25em; line-height: 1; border-radius: 0.35em;\">\n",
       "    iPad\n",
       "    <span style=\"font-size: 0.8em; font-weight: bold; line-height: 1; border-radius: 0.35em; vertical-align: middle; margin-left: 0.5rem\">ORG</span>\n",
       "</mark>\n",
       " when designing its own devices.</div></span>"
      ]
     },
     "metadata": {},
     "output_type": "display_data"
    },
    {
     "name": "stdout",
     "output_type": "stream",
     "text": [
      "-------------------------------------------------------------------------------------------------\n",
      "[('San Jose', 'GPE'), ('California', 'GPE'), ('November 23', 'DATE'), ('six', 'CARDINAL'), ('Samsung', 'ORG'), ('Jelly Bean', 'WORK_OF_ART'), ('Apple', 'ORG'), ('six', 'CARDINAL'), ('the Galaxy S III', 'PERSON'), ('Jelly Bean', 'ORG'), ('Galaxy Tab 8.9 Wifi', 'PERSON'), ('Galaxy Tab 2 10.1', 'PERSON'), ('Apple', 'ORG'), ('Apple', 'ORG'), ('August', 'DATE'), ('Samsung', 'ORG'), ('US', 'GPE'), ('Apple', 'ORG'), ('1.05bn', 'MONEY'), ('0.66bn', 'MONEY'), ('iPad', 'ORG'), ('iPhone', 'ORG'), ('Samsung', 'ORG'), ('UK', 'GPE'), ('Samsung', 'ORG'), ('Apple', 'ORG'), ('South Korean', 'NORP'), ('iPad', 'ORG')]\n"
     ]
    }
   ],
   "execution_count": 149
  },
  {
   "metadata": {},
   "cell_type": "markdown",
   "source": [
    "Please observe that for textual mentions such as **August** and **Samsung**, a named entity label is assigned.\n",
    "The most frequently used named entity labels are:\n",
    "* ORGANIZATION (e.g., Georgia-Pacific Corp.)\n",
    "* PERSON (e.g., Eddy Bonte, President Obama)\n",
    "* LOCATION (e.g., Murray River, Mount Everest)\n",
    "* DATE (e.g., June, 2008-06-29)\n",
    "* TIME (e.g., two fifty a m, 1:30 p.m.)\n",
    "* MONEY (e.g., 175 million Canadian Dollars, GBP 10.40)\n",
    "* PERCENT (e.g., twenty pct, 18.75 %)\n",
    "* FACILITY (e.g., Washington Monument, Stonehenge)\n",
    "* GPE (=Geo-Political Entity, e.g., South East Asia, Midlothian)"
   ]
  },
  {
   "metadata": {
    "ExecuteTime": {
     "end_time": "2025-02-16T12:55:01.540765Z",
     "start_time": "2025-02-16T12:55:01.537954Z"
    }
   },
   "cell_type": "code",
   "source": "print(sentences[5])",
   "outputs": [
    {
     "name": "stdout",
     "output_type": "stream",
     "text": [
      "A similar case in the UK found in Samsung's favour and ordered Apple to publish an apology making clear that the South Korean firm had not copied its iPad when designing its own devices.\n"
     ]
    }
   ],
   "execution_count": 134
  },
  {
   "cell_type": "markdown",
   "metadata": {},
   "source": [
    "small tip: You can use **sents = list(doc.sents)** to be able to use the index to access a sentence like **sents[2]** for the third sentence.\n"
   ]
  },
  {
   "cell_type": "markdown",
   "metadata": {},
   "source": [
    "## [total points: 7] Exercise 3: Comparison NLTK and spaCy\n",
    "We will now compare the output of NLTK and spaCy, i.e., in what do they differ?"
   ]
  },
  {
   "cell_type": "markdown",
   "metadata": {},
   "source": [
    "### [points: 3] Exercise 3a: Part of speech tagging\n",
    "Compare the output from NLTK and spaCy regarding part of speech tagging.\n",
    "\n",
    "* To compare, you probably would like to compare sentence per sentence. Describe if the sentence splitting is different for NLTK than for spaCy. If not, where do they differ?\n",
    "\n",
    "\n",
    "* After checking the sentence splitting, select a sentence for which you expect interesting results and perhaps differences. Motivate your choice.\n",
    "\n",
    "\n",
    "* Compare the output in `token.tag` from spaCy to the part of speech tagging from NLTK for each token in your selected sentence. Are there any differences? This is not a trick question; it is possible that there are no differences.\n",
    "\n"
   ]
  },
  {
   "cell_type": "markdown",
   "metadata": {},
   "source": [
    "### [points: 2] Exercise 3b: Named Entity Recognition (NER)\n",
    "* Describe differences between the output from NLTK and spaCy for Named Entity Recognition. Which one do you think performs better?\n",
    "\n"
   ]
  },
  {
   "cell_type": "markdown",
   "metadata": {},
   "source": [
    "### [points: 2] Exercise 3c: Constituency/dependency parsing\n",
    "Choose one sentence from the text and run constituency parsing using NLTK and dependency parsing using spaCy.\n",
    "* describe briefly the difference between constituency parsing and dependency parsing\n",
    "* describe differences between the output from NLTK and spaCy."
   ]
  },
  {
   "cell_type": "markdown",
   "metadata": {},
   "source": [
    "# End of this notebook"
   ]
  }
 ],
 "metadata": {
  "kernelspec": {
   "display_name": "Python 3",
   "language": "python",
   "name": "python3"
  },
  "language_info": {
   "codemirror_mode": {
    "name": "ipython",
    "version": 3
   },
   "file_extension": ".py",
   "mimetype": "text/x-python",
   "name": "python",
   "nbconvert_exporter": "python",
   "pygments_lexer": "ipython3",
   "version": "3.7.4"
  }
 },
 "nbformat": 4,
 "nbformat_minor": 4
}
