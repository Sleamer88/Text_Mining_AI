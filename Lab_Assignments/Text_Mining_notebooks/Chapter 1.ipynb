{
 "cells": [
  {
   "metadata": {},
   "cell_type": "markdown",
   "source": "Source: https://www.nltk.org/book/ch01.html",
   "id": "fc25aa57ce78f19b"
  },
  {
   "metadata": {},
   "cell_type": "markdown",
   "source": "1 -> Computing with Language: Texts and Words",
   "id": "f2a78abea7e411a3"
  },
  {
   "metadata": {},
   "cell_type": "markdown",
   "source": "1.1 -> Getting Started with Python",
   "id": "12ae2cf012a49274"
  },
  {
   "metadata": {},
   "cell_type": "code",
   "outputs": [
    {
     "data": {
      "text/plain": [
       "8"
      ]
     },
     "execution_count": 1,
     "metadata": {},
     "output_type": "execute_result"
    }
   ],
   "execution_count": 1,
   "source": "1 + 5 * 2 - 3",
   "id": "initial_id"
  },
  {
   "metadata": {
    "ExecuteTime": {
     "end_time": "2025-02-13T11:08:16.743989Z",
     "start_time": "2025-02-13T11:08:16.742067Z"
    }
   },
   "cell_type": "code",
   "source": "1 + ",
   "id": "764d491497a03043",
   "outputs": [
    {
     "ename": "SyntaxError",
     "evalue": "invalid syntax (359974965.py, line 1)",
     "output_type": "error",
     "traceback": [
      "\u001B[0;36m  Cell \u001B[0;32mIn[2], line 1\u001B[0;36m\u001B[0m\n\u001B[0;31m    1 +\u001B[0m\n\u001B[0m        ^\u001B[0m\n\u001B[0;31mSyntaxError\u001B[0m\u001B[0;31m:\u001B[0m invalid syntax\n"
     ]
    }
   ],
   "execution_count": 2
  },
  {
   "metadata": {},
   "cell_type": "markdown",
   "source": "1.2 -> Getting Started with NLTK",
   "id": "8f056f9c009500f1"
  },
  {
   "metadata": {
    "ExecuteTime": {
     "end_time": "2025-02-13T11:08:21.959488Z",
     "start_time": "2025-02-13T11:08:16.753998Z"
    }
   },
   "cell_type": "code",
   "source": [
    "import nltk\n",
    "nltk.download()"
   ],
   "id": "2b5879960161e5b7",
   "outputs": [
    {
     "name": "stdout",
     "output_type": "stream",
     "text": [
      "showing info https://raw.githubusercontent.com/nltk/nltk_data/gh-pages/index.xml\n"
     ]
    },
    {
     "data": {
      "text/plain": [
       "True"
      ]
     },
     "execution_count": 3,
     "metadata": {},
     "output_type": "execute_result"
    }
   ],
   "execution_count": 3
  },
  {
   "metadata": {
    "ExecuteTime": {
     "end_time": "2025-02-13T11:08:23.757859Z",
     "start_time": "2025-02-13T11:08:21.960400Z"
    }
   },
   "cell_type": "code",
   "source": "from nltk.book import *",
   "id": "86bd90c00c9ea73",
   "outputs": [
    {
     "name": "stdout",
     "output_type": "stream",
     "text": [
      "*** Introductory Examples for the NLTK Book ***\n",
      "Loading text1, ..., text9 and sent1, ..., sent9\n",
      "Type the name of the text or sentence to view it.\n",
      "Type: 'texts()' or 'sents()' to list the materials.\n",
      "text1: Moby Dick by Herman Melville 1851\n",
      "text2: Sense and Sensibility by Jane Austen 1811\n",
      "text3: The Book of Genesis\n",
      "text4: Inaugural Address Corpus\n",
      "text5: Chat Corpus\n",
      "text6: Monty Python and the Holy Grail\n",
      "text7: Wall Street Journal\n",
      "text8: Personals Corpus\n",
      "text9: The Man Who Was Thursday by G . K . Chesterton 1908\n"
     ]
    }
   ],
   "execution_count": 4
  },
  {
   "metadata": {
    "ExecuteTime": {
     "end_time": "2025-02-13T11:08:23.760839Z",
     "start_time": "2025-02-13T11:08:23.758492Z"
    }
   },
   "cell_type": "code",
   "source": [
    "print(text1)\n",
    "text2"
   ],
   "id": "acd5109abe240e93",
   "outputs": [
    {
     "name": "stdout",
     "output_type": "stream",
     "text": [
      "<Text: Moby Dick by Herman Melville 1851>\n"
     ]
    },
    {
     "data": {
      "text/plain": [
       "<Text: Sense and Sensibility by Jane Austen 1811>"
      ]
     },
     "execution_count": 5,
     "metadata": {},
     "output_type": "execute_result"
    }
   ],
   "execution_count": 5
  },
  {
   "metadata": {},
   "cell_type": "markdown",
   "source": "1.3 -> Searching Text",
   "id": "31b0a7154b8fc8"
  },
  {
   "metadata": {
    "ExecuteTime": {
     "end_time": "2025-02-13T11:08:23.797220Z",
     "start_time": "2025-02-13T11:08:23.762069Z"
    }
   },
   "cell_type": "code",
   "source": "text1.concordance(\"monstrous\")",
   "id": "7483cecda1752884",
   "outputs": [
    {
     "name": "stdout",
     "output_type": "stream",
     "text": [
      "Displaying 11 of 11 matches:\n",
      "ong the former , one was of a most monstrous size . ... This came towards us , \n",
      "ON OF THE PSALMS . \" Touching that monstrous bulk of the whale or ork we have r\n",
      "ll over with a heathenish array of monstrous clubs and spears . Some were thick\n",
      "d as you gazed , and wondered what monstrous cannibal and savage could ever hav\n",
      "that has survived the flood ; most monstrous and most mountainous ! That Himmal\n",
      "they might scout at Moby Dick as a monstrous fable , or still worse and more de\n",
      "th of Radney .'\" CHAPTER 55 Of the Monstrous Pictures of Whales . I shall ere l\n",
      "ing Scenes . In connexion with the monstrous pictures of whales , I am strongly\n",
      "ere to enter upon those still more monstrous stories of them which are to be fo\n",
      "ght have been rummaged out of this monstrous cabinet there is no telling . But \n",
      "of Whale - Bones ; for Whales of a monstrous size are oftentimes cast up dead u\n"
     ]
    }
   ],
   "execution_count": 6
  },
  {
   "metadata": {
    "ExecuteTime": {
     "end_time": "2025-02-13T11:08:23.848717Z",
     "start_time": "2025-02-13T11:08:23.797932Z"
    }
   },
   "cell_type": "code",
   "source": "text2.concordance(\"affection\")",
   "id": "aee3843e2508ead3",
   "outputs": [
    {
     "name": "stdout",
     "output_type": "stream",
     "text": [
      "Displaying 25 of 79 matches:\n",
      ", however , and , as a mark of his affection for the three girls , he left them\n",
      "t . It was very well known that no affection was ever supposed to exist between\n",
      "deration of politeness or maternal affection on the side of the former , the tw\n",
      "d the suspicion -- the hope of his affection for me may warrant , without impru\n",
      "hich forbade the indulgence of his affection . She knew that his mother neither\n",
      "rd she gave one with still greater affection . Though her late conversation wit\n",
      " can never hope to feel or inspire affection again , and if her home be uncomfo\n",
      "m of the sense , elegance , mutual affection , and domestic comfort of the fami\n",
      ", and which recommended him to her affection beyond every thing else . His soci\n",
      "ween the parties might forward the affection of Mr . Willoughby , an equally st\n",
      " the most pointed assurance of her affection . Elinor could not be surprised at\n",
      "he natural consequence of a strong affection in a young and ardent mind . This \n",
      " opinion . But by an appeal to her affection for her mother , by representing t\n",
      " every alteration of a place which affection had established as perfect with hi\n",
      "e will always have one claim of my affection , which no other can possibly shar\n",
      "f the evening declared at once his affection and happiness . \" Shall we see you\n",
      "ause he took leave of us with less affection than his usual behaviour has shewn\n",
      "ness .\" \" I want no proof of their affection ,\" said Elinor ; \" but of their en\n",
      "onths , without telling her of his affection ;-- that they should part without \n",
      "ould be the natural result of your affection for her . She used to be all unres\n",
      "distinguished Elinor by no mark of affection . Marianne saw and listened with i\n",
      "th no inclination for expense , no affection for strangers , no profession , an\n",
      "till distinguished her by the same affection which once she had felt no doubt o\n",
      "al of her confidence in Edward ' s affection , to the remembrance of every mark\n",
      " was made ? Had he never owned his affection to yourself ?\" \" Oh , no ; but if \n"
     ]
    }
   ],
   "execution_count": 7
  },
  {
   "metadata": {
    "ExecuteTime": {
     "end_time": "2025-02-13T11:08:23.857221Z",
     "start_time": "2025-02-13T11:08:23.849426Z"
    }
   },
   "cell_type": "code",
   "source": [
    "print(text3)\n",
    "print()\n",
    "text3.concordance(\"lived\")"
   ],
   "id": "a40f0780c0710079",
   "outputs": [
    {
     "name": "stdout",
     "output_type": "stream",
     "text": [
      "<Text: The Book of Genesis>\n",
      "\n",
      "Displaying 25 of 38 matches:\n",
      "ay when they were created . And Adam lived an hundred and thirty years , and be\n",
      "ughters : And all the days that Adam lived were nine hundred and thirty yea and\n",
      "nd thirty yea and he died . And Seth lived an hundred and five years , and bega\n",
      "ve years , and begat Enos : And Seth lived after he begat Enos eight hundred an\n",
      "welve years : and he died . And Enos lived ninety years , and begat Cainan : An\n",
      " years , and begat Cainan : And Enos lived after he begat Cainan eight hundred \n",
      "ive years : and he died . And Cainan lived seventy years and begat Mahalaleel :\n",
      "rs and begat Mahalaleel : And Cainan lived after he begat Mahalaleel eight hund\n",
      "years : and he died . And Mahalaleel lived sixty and five years , and begat Jar\n",
      "s , and begat Jared : And Mahalaleel lived after he begat Jared eight hundred a\n",
      "and five yea and he died . And Jared lived an hundred sixty and two years , and\n",
      "o years , and he begat Eno And Jared lived after he begat Enoch eight hundred y\n",
      " and two yea and he died . And Enoch lived sixty and five years , and begat Met\n",
      " ; for God took him . And Methuselah lived an hundred eighty and seven years , \n",
      " , and begat Lamech . And Methuselah lived after he begat Lamech seven hundred \n",
      "nd nine yea and he died . And Lamech lived an hundred eighty and two years , an\n",
      "ch the LORD hath cursed . And Lamech lived after he begat Noah five hundred nin\n",
      "naan shall be his servant . And Noah lived after the flood three hundred and fi\n",
      "xad two years after the flo And Shem lived after he begat Arphaxad five hundred\n",
      "at sons and daughters . And Arphaxad lived five and thirty years , and begat Sa\n",
      "ars , and begat Salah : And Arphaxad lived after he begat Salah four hundred an\n",
      "begat sons and daughters . And Salah lived thirty years , and begat Eber : And \n",
      "y years , and begat Eber : And Salah lived after he begat Eber four hundred and\n",
      " begat sons and daughters . And Eber lived four and thirty years , and begat Pe\n",
      "y years , and begat Peleg : And Eber lived after he begat Peleg four hundred an\n"
     ]
    }
   ],
   "execution_count": 8
  },
  {
   "metadata": {
    "ExecuteTime": {
     "end_time": "2025-02-13T11:08:23.879823Z",
     "start_time": "2025-02-13T11:08:23.857870Z"
    }
   },
   "cell_type": "code",
   "source": [
    "print(text4)\n",
    "print()\n",
    "text4.concordance(\"nation\")"
   ],
   "id": "2b1123bd9ebf9dad",
   "outputs": [
    {
     "name": "stdout",
     "output_type": "stream",
     "text": [
      "<Text: Inaugural Address Corpus>\n",
      "\n",
      "Displaying 25 of 330 matches:\n",
      " to the character of an independent nation seems to have been distinguished by\n",
      "f Heaven can never be expected on a nation that disregards the eternal rules o\n",
      "first , the representatives of this nation , then consisting of little more th\n",
      ", situation , and relations of this nation and country than any which had ever\n",
      ", prosperity , and happiness of the nation I have acquired an habitual attachm\n",
      "an be no spectacle presented by any nation more pleasing , more noble , majest\n",
      "party for its own ends , not of the nation for the national good . If that sol\n",
      "tures and the people throughout the nation . On this subject it might become m\n",
      "if a personal esteem for the French nation , formed in a residence of seven ye\n",
      "f our fellow - citizens by whatever nation , and if success can not be obtaine\n",
      "y , continue His blessing upon this nation and its Government and give it all \n",
      "powers so justly inspire . A rising nation , spread over a wide and fruitful l\n",
      "ing now decided by the voice of the nation , announced according to the rules \n",
      "ars witness to the fact that a just nation is trusted on its word when recours\n",
      "e union of opinion which gives to a nation the blessing of harmony and the ben\n",
      "uil suffrage of a free and virtuous nation , would under any circumstances hav\n",
      "d spirit and united councils of the nation will be safeguards to its honor and\n",
      "iction that the war with a powerful nation , which forms so prominent a featur\n",
      "out breaking down the spirit of the nation , destroying all confidence in itse\n",
      "ed on the military resources of the nation . These resources are amply suffici\n",
      "the war to an honorable issue . Our nation is in number more than half that of\n",
      "ndividually have been happy and the nation prosperous . Under this Constitutio\n",
      "rights , and is able to protect the nation against injustice from foreign powe\n",
      " great agricultural interest of the nation prospers under its protection . Loc\n",
      "ak our Union , and demolish us as a nation . Our distance from Europe and the \n"
     ]
    }
   ],
   "execution_count": 9
  },
  {
   "metadata": {
    "ExecuteTime": {
     "end_time": "2025-02-13T11:08:23.882062Z",
     "start_time": "2025-02-13T11:08:23.880429Z"
    }
   },
   "cell_type": "code",
   "source": "text4.concordance(\"terror\")",
   "id": "83a5a17d1683b7bd",
   "outputs": [
    {
     "name": "stdout",
     "output_type": "stream",
     "text": [
      "Displaying 8 of 8 matches:\n",
      "menaces , by fraud or violence , by terror , intrigue , or venality , the Gove\n",
      "ameless , unreasoning , unjustified terror which paralyzes needed efforts to c\n",
      "ublic seemed frozen by a fatalistic terror , we proved that this is not true .\n",
      " to alter that uncertain balance of terror that stays the hand of mankind ' s \n",
      "eans freeing all Americans from the terror of runaway living costs . All must \n",
      "still . They fuel the fanaticism of terror . And they torment the lives of mil\n",
      "d maintain a strong defense against terror and destruction . Our children will\n",
      "k to advance their aims by inducing terror and slaughtering innocents , we say\n"
     ]
    }
   ],
   "execution_count": 10
  },
  {
   "metadata": {
    "ExecuteTime": {
     "end_time": "2025-02-13T11:08:23.890945Z",
     "start_time": "2025-02-13T11:08:23.882730Z"
    }
   },
   "cell_type": "code",
   "source": [
    "print(text5)\n",
    "print()\n",
    "text5.concordance(\"im\")"
   ],
   "id": "773d8736acb7d6fc",
   "outputs": [
    {
     "name": "stdout",
     "output_type": "stream",
     "text": [
      "<Text: Chat Corpus>\n",
      "\n",
      "Displaying 25 of 149 matches:\n",
      "                                  now im left with this gay name :P PART hey e\n",
      "what did you but on e-bay i feel like im in the wrong room yeee haw U30 im con\n",
      "ike im in the wrong room yeee haw U30 im considering changing my nickname to \"\n",
      " the hell outta my freaking PM box .. Im with my fiance !!!!!!!!!!!!!!!! answe\n",
      "m impressed . PART hiya room lmao !!! im doin alright thanks omg Finger .. Dee\n",
      "th lol JOIN so read it . thanks U7 .. Im happy to have my fiance here !! forwa\n",
      "i didnt me phone you . . . sheesh now im that phone perv guy lets hope not U12\n",
      "to spain ? i need to go this summer . im a HUGE phone perv ok seriously who wa\n",
      "an ... . ACTION video tapes . hey U20 Im blind now . ACTION has left the room \n",
      "T u got that right , i dont do shit , im the supervisor Hello U165 . hey U165 \n",
      " him in the \" untouchable \" list U115 im good U6 lmao U7 how r u U128 hehe how\n",
      "can I ask where ya all are from ..... im here in kentucky as I said ... too wi\n",
      "ic but had to resize and stuff U37 no im an equal oppertunity hater LOL Hi , U\n",
      "he cover weeeeeeeee thanks U19 ! PART im out in cal now U3 looking at some new\n",
      " :) hi U58 lol wb U29 hi U29 U13 .... im down to time now PART Hello U24 , wel\n",
      ", I 'd never kick you outta my box hi im good thanks U16 yerself ?? PART inter\n",
      "ke wth . . who are you even ty U34 yw Im glad he 's back . awwww U16 i like ps\n",
      " ha U23 !!! wow ... are you the U39 ? Im talkin about all yer typin . . It 's \n",
      "... you ??? Apparently , I 'm not U41 im good U23 dear . How are you U23 ~wink\n",
      "~ U35 ... I love that 5 am phone call im good ... me and eric r back together \n",
      " , I am happy . You know i LuverZ YOU im the same busy busy oh ok then U1 nm l\n",
      "))) . ACTION stretches . ty U19 Ugh , Im so sore ! Repeatedly , with a big sti\n",
      "'m a size queen U41 Why U45 ? naw U23 im cheating on you with Jayse hes hawt t\n",
      "oeer is sum1 gonna ghet fuked up ? :) im always hungry yeah U45 .. i believe i\n",
      "without first asking permission . U35 im sorry U35 i tried to refrain me too U\n"
     ]
    }
   ],
   "execution_count": 11
  },
  {
   "metadata": {
    "ExecuteTime": {
     "end_time": "2025-02-13T11:08:23.901201Z",
     "start_time": "2025-02-13T11:08:23.892964Z"
    }
   },
   "cell_type": "code",
   "source": [
    "print(text5)\n",
    "print()\n",
    "text5.concordance(\"lol\")"
   ],
   "id": "72afc4f7ac2d2a25",
   "outputs": [
    {
     "name": "stdout",
     "output_type": "stream",
     "text": [
      "<Text: Chat Corpus>\n",
      "\n",
      "Displaying 25 of 822 matches:\n",
      "ast PART 24 / m boo . 26 / m and sexy lol U115 boo . JOIN PART he drew a girl w\n",
      "ope he didnt draw a penis PART ewwwww lol & a head between her legs JOIN JOIN s\n",
      "a bowl i got a blunt an a bong ...... lol JOIN well , glad it worked out my cha\n",
      "e \" PART Hi U121 in ny . ACTION would lol @ U121 . . . but appearently she does\n",
      "30 make sure u buy a nice ring for U6 lol U7 Hi U115 . ACTION isnt falling for \n",
      " didnt ya hear !!!! PART JOIN geeshhh lol U6 PART hes deaf ppl here dont get it\n",
      "es nobody here i wanna misbeahve with lol JOIN so read it . thanks U7 .. Im hap\n",
      "ies want to chat can i talk to him !! lol U121 !!! forwards too lol JOIN ALL PE\n",
      "k to him !! lol U121 !!! forwards too lol JOIN ALL PErvs ... redirect to U121 '\n",
      " loves ME the most i love myself JOIN lol U44 how do u know that what ? jerkett\n",
      "ng wrong ... i can see it in his eyes lol U20 = fiance Jerketts lmao wtf yah I \n",
      "cooler by the minute what 'd I miss ? lol noo there too much work ! why not ?? \n",
      " that mean I want you ? U6 hello room lol U83 and this .. has been the grammar \n",
      " the rule he 's in PM land now though lol ah ok i wont bug em then someone wann\n",
      "flight to hell :) lmao bbl maybe PART LOL lol U7 it was me , U83 hahah U83 ! 80\n",
      "ht to hell :) lmao bbl maybe PART LOL lol U7 it was me , U83 hahah U83 ! 808265\n",
      "082653953 K-Fed got his ass kicked .. Lol . ACTION laughs . i got a first class\n",
      " . i got a first class ticket to hell lol U7 JOIN any texas girls in here ? any\n",
      " . whats up U155 i was only kidding . lol he 's a douchebag . Poor U121 i 'm bo\n",
      " ??? sits with U30 Cum to my shower . lol U121 . ACTION U1370 watches his nads \n",
      " ur nad with a stick . ca u U23 ewwww lol *sniffs* ewwwwww PART U115 ! owww spl\n",
      "ACTION is resisting . ur female right lol U115 beeeeehave Remember the LAst tim\n",
      "pm's me . charge that is 1.99 / min . lol @ innocent hahah lol .... yeah LOLOLO\n",
      " is 1.99 / min . lol @ innocent hahah lol .... yeah LOLOLOLLL U12 thats not nic\n",
      "s . lmao no U115 Check my record . :) Lol lick em U7 U23 how old r u lol Way to\n"
     ]
    }
   ],
   "execution_count": 12
  },
  {
   "metadata": {
    "ExecuteTime": {
     "end_time": "2025-02-13T11:08:23.903434Z",
     "start_time": "2025-02-13T11:08:23.901798Z"
    }
   },
   "cell_type": "code",
   "source": [
    "print(text5)\n",
    "print()\n",
    "text5.concordance(\"ur\")"
   ],
   "id": "822d25bdd774a128",
   "outputs": [
    {
     "name": "stdout",
     "output_type": "stream",
     "text": [
      "<Text: Chat Corpus>\n",
      "\n",
      "Displaying 21 of 21 matches:\n",
      "k up PART no i dont want daughters !! ur annoying . ACTION Now Playing - Cradl\n",
      "ooo U92 !!!!!! . ACTION U1370 watches ur nad with a stick . ca u U23 ewwww lol\n",
      "er lip . Meep . ACTION is resisting . ur female right lol U115 beeeeehave Reme\n",
      " geeshh ... two kids fighting ! whats ur major i probably sucks in summer too \n",
      "II Men scorpions rock ... lol what is ur job me too U11 hehe went to manhattan\n",
      "e no one i like to say if u have done ur time then that is that U42 Ok U37 , i\n",
      "hat a ride JOIN ty ty cheers babes .. ur the first to follow up with the pseud\n",
      " charger \\ty LoL yeah ;-) well i hope ur doing ok .. i 'm dojn fine babe . . g\n",
      " gonna rock up soojn and rob u of all ur ' candy ' :) as long as you are happy\n",
      "genital warts ? LoL moped U28 ?.. ohh ur a real man i had a moped once yup heh\n",
      "b-day is in 5 days =( PART LOL U35 no ur nawt yup your gay lmao U37 dang come \n",
      " people talk to me anymore oh because ur gay . PART PART . ACTION = U58 . Man \n",
      " om hi U73 heya U7 ! h shit i get all ur money now fawker ok girl lol JOIN ed \n",
      "hat tired huh U66 ? lol U75 ... bring ur pillow get comfy U70 yep , off to bed\n",
      "talked to hi sean . ACTION whispers : ur a douche . who PART . ACTION whispers\n",
      "ew england usa ? U7 .. it adds wax to ur clothes .. u think cottons breathe ?.\n",
      "ver knew what flavor to get specially ur towels lol U31 < whistles > U34 U39 I\n",
      "cks out U7 s pic JOIN PART U41 Hi U41 ur gettin pretty savvy there U39 ahhh ..\n",
      "om ? brb U30 a week .. heck a day and ur problem there , U30 ??? Hi U34 hartfo\n",
      " JOIN U57 Whats really good room JOIN ur telllin me hey any uk girls her ? JOI\n",
      "JOIN PART JOIN JOIN yea guitar rocker ur kool u lil guitar rocker PART whats e\n"
     ]
    }
   ],
   "execution_count": 13
  },
  {
   "metadata": {
    "ExecuteTime": {
     "end_time": "2025-02-13T11:08:24.503424Z",
     "start_time": "2025-02-13T11:08:23.903886Z"
    }
   },
   "cell_type": "code",
   "source": [
    "print(text1)\n",
    "print()\n",
    "text1.similar(\"monstrous\")"
   ],
   "id": "159cfc6d1c39bb43",
   "outputs": [
    {
     "name": "stdout",
     "output_type": "stream",
     "text": [
      "<Text: Moby Dick by Herman Melville 1851>\n",
      "\n",
      "true contemptible christian abundant few part mean careful puzzled\n",
      "mystifying passing curious loving wise doleful gamesome singular\n",
      "delightfully perilous fearless\n"
     ]
    }
   ],
   "execution_count": 14
  },
  {
   "metadata": {
    "ExecuteTime": {
     "end_time": "2025-02-13T11:08:24.824291Z",
     "start_time": "2025-02-13T11:08:24.504158Z"
    }
   },
   "cell_type": "code",
   "source": [
    "print(text2)\n",
    "print()\n",
    "print(text2.similar(\"monstrous\"))\n",
    "print()\n",
    "print(text2.similar(\"very\"))"
   ],
   "id": "11e2bcad74f8582a",
   "outputs": [
    {
     "name": "stdout",
     "output_type": "stream",
     "text": [
      "<Text: Sense and Sensibility by Jane Austen 1811>\n",
      "\n",
      "very so exceedingly heartily a as good great extremely remarkably\n",
      "sweet vast amazingly\n",
      "None\n",
      "\n",
      "so as too a not monstrous the was more most how last exceedingly her\n",
      "it only first will perfectly cottage\n",
      "None\n"
     ]
    }
   ],
   "execution_count": 15
  },
  {
   "metadata": {
    "ExecuteTime": {
     "end_time": "2025-02-13T11:08:24.826935Z",
     "start_time": "2025-02-13T11:08:24.825085Z"
    }
   },
   "cell_type": "code",
   "source": "text2.common_contexts([\"monstrous\", \"very\"])",
   "id": "ee78b879f2a914ca",
   "outputs": [
    {
     "name": "stdout",
     "output_type": "stream",
     "text": [
      "am_glad a_pretty a_lucky is_pretty be_glad\n"
     ]
    }
   ],
   "execution_count": 16
  },
  {
   "metadata": {
    "ExecuteTime": {
     "end_time": "2025-02-13T11:08:24.829069Z",
     "start_time": "2025-02-13T11:08:24.827540Z"
    }
   },
   "cell_type": "code",
   "source": "text2.common_contexts([\"affection\",\"assurance\"])",
   "id": "480707a83ccc07d9",
   "outputs": [
    {
     "name": "stdout",
     "output_type": "stream",
     "text": [
      "the_of\n"
     ]
    }
   ],
   "execution_count": 17
  },
  {
   "metadata": {
    "ExecuteTime": {
     "end_time": "2025-02-13T11:08:24.831273Z",
     "start_time": "2025-02-13T11:08:24.829656Z"
    }
   },
   "cell_type": "code",
   "source": "text2.common_contexts([\"sisters\",\"family\"])",
   "id": "bb6c0961de847352",
   "outputs": [
    {
     "name": "stdout",
     "output_type": "stream",
     "text": [
      "her_had her_were his_for his_and your_in her_in your_i own_she\n",
      "the_were their_and\n"
     ]
    }
   ],
   "execution_count": 18
  },
  {
   "metadata": {
    "ExecuteTime": {
     "end_time": "2025-02-13T11:08:24.836310Z",
     "start_time": "2025-02-13T11:08:24.831811Z"
    }
   },
   "cell_type": "code",
   "source": "text2.tokens",
   "id": "cefd28e0c423f18d",
   "outputs": [
    {
     "data": {
      "text/plain": [
       "['[',\n",
       " 'Sense',\n",
       " 'and',\n",
       " 'Sensibility',\n",
       " 'by',\n",
       " 'Jane',\n",
       " 'Austen',\n",
       " '1811',\n",
       " ']',\n",
       " 'CHAPTER',\n",
       " '1',\n",
       " 'The',\n",
       " 'family',\n",
       " 'of',\n",
       " 'Dashwood',\n",
       " 'had',\n",
       " 'long',\n",
       " 'been',\n",
       " 'settled',\n",
       " 'in',\n",
       " 'Sussex',\n",
       " '.',\n",
       " 'Their',\n",
       " 'estate',\n",
       " 'was',\n",
       " 'large',\n",
       " ',',\n",
       " 'and',\n",
       " 'their',\n",
       " 'residence',\n",
       " 'was',\n",
       " 'at',\n",
       " 'Norland',\n",
       " 'Park',\n",
       " ',',\n",
       " 'in',\n",
       " 'the',\n",
       " 'centre',\n",
       " 'of',\n",
       " 'their',\n",
       " 'property',\n",
       " ',',\n",
       " 'where',\n",
       " ',',\n",
       " 'for',\n",
       " 'many',\n",
       " 'generations',\n",
       " ',',\n",
       " 'they',\n",
       " 'had',\n",
       " 'lived',\n",
       " 'in',\n",
       " 'so',\n",
       " 'respectable',\n",
       " 'a',\n",
       " 'manner',\n",
       " 'as',\n",
       " 'to',\n",
       " 'engage',\n",
       " 'the',\n",
       " 'general',\n",
       " 'good',\n",
       " 'opinion',\n",
       " 'of',\n",
       " 'their',\n",
       " 'surrounding',\n",
       " 'acquaintance',\n",
       " '.',\n",
       " 'The',\n",
       " 'late',\n",
       " 'owner',\n",
       " 'of',\n",
       " 'this',\n",
       " 'estate',\n",
       " 'was',\n",
       " 'a',\n",
       " 'single',\n",
       " 'man',\n",
       " ',',\n",
       " 'who',\n",
       " 'lived',\n",
       " 'to',\n",
       " 'a',\n",
       " 'very',\n",
       " 'advanced',\n",
       " 'age',\n",
       " ',',\n",
       " 'and',\n",
       " 'who',\n",
       " 'for',\n",
       " 'many',\n",
       " 'years',\n",
       " 'of',\n",
       " 'his',\n",
       " 'life',\n",
       " ',',\n",
       " 'had',\n",
       " 'a',\n",
       " 'constant',\n",
       " 'companion',\n",
       " 'and',\n",
       " 'housekeeper',\n",
       " 'in',\n",
       " 'his',\n",
       " 'sister',\n",
       " '.',\n",
       " 'But',\n",
       " 'her',\n",
       " 'death',\n",
       " ',',\n",
       " 'which',\n",
       " 'happened',\n",
       " 'ten',\n",
       " 'years',\n",
       " 'before',\n",
       " 'his',\n",
       " 'own',\n",
       " ',',\n",
       " 'produced',\n",
       " 'a',\n",
       " 'great',\n",
       " 'alteration',\n",
       " 'in',\n",
       " 'his',\n",
       " 'home',\n",
       " ';',\n",
       " 'for',\n",
       " 'to',\n",
       " 'supply',\n",
       " 'her',\n",
       " 'loss',\n",
       " ',',\n",
       " 'he',\n",
       " 'invited',\n",
       " 'and',\n",
       " 'received',\n",
       " 'into',\n",
       " 'his',\n",
       " 'house',\n",
       " 'the',\n",
       " 'family',\n",
       " 'of',\n",
       " 'his',\n",
       " 'nephew',\n",
       " 'Mr',\n",
       " '.',\n",
       " 'Henry',\n",
       " 'Dashwood',\n",
       " ',',\n",
       " 'the',\n",
       " 'legal',\n",
       " 'inheritor',\n",
       " 'of',\n",
       " 'the',\n",
       " 'Norland',\n",
       " 'estate',\n",
       " ',',\n",
       " 'and',\n",
       " 'the',\n",
       " 'person',\n",
       " 'to',\n",
       " 'whom',\n",
       " 'he',\n",
       " 'intended',\n",
       " 'to',\n",
       " 'bequeath',\n",
       " 'it',\n",
       " '.',\n",
       " 'In',\n",
       " 'the',\n",
       " 'society',\n",
       " 'of',\n",
       " 'his',\n",
       " 'nephew',\n",
       " 'and',\n",
       " 'niece',\n",
       " ',',\n",
       " 'and',\n",
       " 'their',\n",
       " 'children',\n",
       " ',',\n",
       " 'the',\n",
       " 'old',\n",
       " 'Gentleman',\n",
       " \"'\",\n",
       " 's',\n",
       " 'days',\n",
       " 'were',\n",
       " 'comfortably',\n",
       " 'spent',\n",
       " '.',\n",
       " 'His',\n",
       " 'attachment',\n",
       " 'to',\n",
       " 'them',\n",
       " 'all',\n",
       " 'increased',\n",
       " '.',\n",
       " 'The',\n",
       " 'constant',\n",
       " 'attention',\n",
       " 'of',\n",
       " 'Mr',\n",
       " '.',\n",
       " 'and',\n",
       " 'Mrs',\n",
       " '.',\n",
       " 'Henry',\n",
       " 'Dashwood',\n",
       " 'to',\n",
       " 'his',\n",
       " 'wishes',\n",
       " ',',\n",
       " 'which',\n",
       " 'proceeded',\n",
       " 'not',\n",
       " 'merely',\n",
       " 'from',\n",
       " 'interest',\n",
       " ',',\n",
       " 'but',\n",
       " 'from',\n",
       " 'goodness',\n",
       " 'of',\n",
       " 'heart',\n",
       " ',',\n",
       " 'gave',\n",
       " 'him',\n",
       " 'every',\n",
       " 'degree',\n",
       " 'of',\n",
       " 'solid',\n",
       " 'comfort',\n",
       " 'which',\n",
       " 'his',\n",
       " 'age',\n",
       " 'could',\n",
       " 'receive',\n",
       " ';',\n",
       " 'and',\n",
       " 'the',\n",
       " 'cheerfulness',\n",
       " 'of',\n",
       " 'the',\n",
       " 'children',\n",
       " 'added',\n",
       " 'a',\n",
       " 'relish',\n",
       " 'to',\n",
       " 'his',\n",
       " 'existence',\n",
       " '.',\n",
       " 'By',\n",
       " 'a',\n",
       " 'former',\n",
       " 'marriage',\n",
       " ',',\n",
       " 'Mr',\n",
       " '.',\n",
       " 'Henry',\n",
       " 'Dashwood',\n",
       " 'had',\n",
       " 'one',\n",
       " 'son',\n",
       " ':',\n",
       " 'by',\n",
       " 'his',\n",
       " 'present',\n",
       " 'lady',\n",
       " ',',\n",
       " 'three',\n",
       " 'daughters',\n",
       " '.',\n",
       " 'The',\n",
       " 'son',\n",
       " ',',\n",
       " 'a',\n",
       " 'steady',\n",
       " 'respectable',\n",
       " 'young',\n",
       " 'man',\n",
       " ',',\n",
       " 'was',\n",
       " 'amply',\n",
       " 'provided',\n",
       " 'for',\n",
       " 'by',\n",
       " 'the',\n",
       " 'fortune',\n",
       " 'of',\n",
       " 'his',\n",
       " 'mother',\n",
       " ',',\n",
       " 'which',\n",
       " 'had',\n",
       " 'been',\n",
       " 'large',\n",
       " ',',\n",
       " 'and',\n",
       " 'half',\n",
       " 'of',\n",
       " 'which',\n",
       " 'devolved',\n",
       " 'on',\n",
       " 'him',\n",
       " 'on',\n",
       " 'his',\n",
       " 'coming',\n",
       " 'of',\n",
       " 'age',\n",
       " '.',\n",
       " 'By',\n",
       " 'his',\n",
       " 'own',\n",
       " 'marriage',\n",
       " ',',\n",
       " 'likewise',\n",
       " ',',\n",
       " 'which',\n",
       " 'happened',\n",
       " 'soon',\n",
       " 'afterwards',\n",
       " ',',\n",
       " 'he',\n",
       " 'added',\n",
       " 'to',\n",
       " 'his',\n",
       " 'wealth',\n",
       " '.',\n",
       " 'To',\n",
       " 'him',\n",
       " 'therefore',\n",
       " 'the',\n",
       " 'succession',\n",
       " 'to',\n",
       " 'the',\n",
       " 'Norland',\n",
       " 'estate',\n",
       " 'was',\n",
       " 'not',\n",
       " 'so',\n",
       " 'really',\n",
       " 'important',\n",
       " 'as',\n",
       " 'to',\n",
       " 'his',\n",
       " 'sisters',\n",
       " ';',\n",
       " 'for',\n",
       " 'their',\n",
       " 'fortune',\n",
       " ',',\n",
       " 'independent',\n",
       " 'of',\n",
       " 'what',\n",
       " 'might',\n",
       " 'arise',\n",
       " 'to',\n",
       " 'them',\n",
       " 'from',\n",
       " 'their',\n",
       " 'father',\n",
       " \"'\",\n",
       " 's',\n",
       " 'inheriting',\n",
       " 'that',\n",
       " 'property',\n",
       " ',',\n",
       " 'could',\n",
       " 'be',\n",
       " 'but',\n",
       " 'small',\n",
       " '.',\n",
       " 'Their',\n",
       " 'mother',\n",
       " 'had',\n",
       " 'nothing',\n",
       " ',',\n",
       " 'and',\n",
       " 'their',\n",
       " 'father',\n",
       " 'only',\n",
       " 'seven',\n",
       " 'thousand',\n",
       " 'pounds',\n",
       " 'in',\n",
       " 'his',\n",
       " 'own',\n",
       " 'disposal',\n",
       " ';',\n",
       " 'for',\n",
       " 'the',\n",
       " 'remaining',\n",
       " 'moiety',\n",
       " 'of',\n",
       " 'his',\n",
       " 'first',\n",
       " 'wife',\n",
       " \"'\",\n",
       " 's',\n",
       " 'fortune',\n",
       " 'was',\n",
       " 'also',\n",
       " 'secured',\n",
       " 'to',\n",
       " 'her',\n",
       " 'child',\n",
       " ',',\n",
       " 'and',\n",
       " 'he',\n",
       " 'had',\n",
       " 'only',\n",
       " 'a',\n",
       " 'life',\n",
       " '-',\n",
       " 'interest',\n",
       " 'in',\n",
       " 'it',\n",
       " '.',\n",
       " 'The',\n",
       " 'old',\n",
       " 'gentleman',\n",
       " 'died',\n",
       " ':',\n",
       " 'his',\n",
       " 'will',\n",
       " 'was',\n",
       " 'read',\n",
       " ',',\n",
       " 'and',\n",
       " 'like',\n",
       " 'almost',\n",
       " 'every',\n",
       " 'other',\n",
       " 'will',\n",
       " ',',\n",
       " 'gave',\n",
       " 'as',\n",
       " 'much',\n",
       " 'disappointment',\n",
       " 'as',\n",
       " 'pleasure',\n",
       " '.',\n",
       " 'He',\n",
       " 'was',\n",
       " 'neither',\n",
       " 'so',\n",
       " 'unjust',\n",
       " ',',\n",
       " 'nor',\n",
       " 'so',\n",
       " 'ungrateful',\n",
       " ',',\n",
       " 'as',\n",
       " 'to',\n",
       " 'leave',\n",
       " 'his',\n",
       " 'estate',\n",
       " 'from',\n",
       " 'his',\n",
       " 'nephew',\n",
       " ';--',\n",
       " 'but',\n",
       " 'he',\n",
       " 'left',\n",
       " 'it',\n",
       " 'to',\n",
       " 'him',\n",
       " 'on',\n",
       " 'such',\n",
       " 'terms',\n",
       " 'as',\n",
       " 'destroyed',\n",
       " 'half',\n",
       " 'the',\n",
       " 'value',\n",
       " 'of',\n",
       " 'the',\n",
       " 'bequest',\n",
       " '.',\n",
       " 'Mr',\n",
       " '.',\n",
       " 'Dashwood',\n",
       " 'had',\n",
       " 'wished',\n",
       " 'for',\n",
       " 'it',\n",
       " 'more',\n",
       " 'for',\n",
       " 'the',\n",
       " 'sake',\n",
       " 'of',\n",
       " 'his',\n",
       " 'wife',\n",
       " 'and',\n",
       " 'daughters',\n",
       " 'than',\n",
       " 'for',\n",
       " 'himself',\n",
       " 'or',\n",
       " 'his',\n",
       " 'son',\n",
       " ';--',\n",
       " 'but',\n",
       " 'to',\n",
       " 'his',\n",
       " 'son',\n",
       " ',',\n",
       " 'and',\n",
       " 'his',\n",
       " 'son',\n",
       " \"'\",\n",
       " 's',\n",
       " 'son',\n",
       " ',',\n",
       " 'a',\n",
       " 'child',\n",
       " 'of',\n",
       " 'four',\n",
       " 'years',\n",
       " 'old',\n",
       " ',',\n",
       " 'it',\n",
       " 'was',\n",
       " 'secured',\n",
       " ',',\n",
       " 'in',\n",
       " 'such',\n",
       " 'a',\n",
       " 'way',\n",
       " ',',\n",
       " 'as',\n",
       " 'to',\n",
       " 'leave',\n",
       " 'to',\n",
       " 'himself',\n",
       " 'no',\n",
       " 'power',\n",
       " 'of',\n",
       " 'providing',\n",
       " 'for',\n",
       " 'those',\n",
       " 'who',\n",
       " 'were',\n",
       " 'most',\n",
       " 'dear',\n",
       " 'to',\n",
       " 'him',\n",
       " ',',\n",
       " 'and',\n",
       " 'who',\n",
       " 'most',\n",
       " 'needed',\n",
       " 'a',\n",
       " 'provision',\n",
       " 'by',\n",
       " 'any',\n",
       " 'charge',\n",
       " 'on',\n",
       " 'the',\n",
       " 'estate',\n",
       " ',',\n",
       " 'or',\n",
       " 'by',\n",
       " 'any',\n",
       " 'sale',\n",
       " 'of',\n",
       " 'its',\n",
       " 'valuable',\n",
       " 'woods',\n",
       " '.',\n",
       " 'The',\n",
       " 'whole',\n",
       " 'was',\n",
       " 'tied',\n",
       " 'up',\n",
       " 'for',\n",
       " 'the',\n",
       " 'benefit',\n",
       " 'of',\n",
       " 'this',\n",
       " 'child',\n",
       " ',',\n",
       " 'who',\n",
       " ',',\n",
       " 'in',\n",
       " 'occasional',\n",
       " 'visits',\n",
       " 'with',\n",
       " 'his',\n",
       " 'father',\n",
       " 'and',\n",
       " 'mother',\n",
       " 'at',\n",
       " 'Norland',\n",
       " ',',\n",
       " 'had',\n",
       " 'so',\n",
       " 'far',\n",
       " 'gained',\n",
       " 'on',\n",
       " 'the',\n",
       " 'affections',\n",
       " 'of',\n",
       " 'his',\n",
       " 'uncle',\n",
       " ',',\n",
       " 'by',\n",
       " 'such',\n",
       " 'attractions',\n",
       " 'as',\n",
       " 'are',\n",
       " 'by',\n",
       " 'no',\n",
       " 'means',\n",
       " 'unusual',\n",
       " 'in',\n",
       " 'children',\n",
       " 'of',\n",
       " 'two',\n",
       " 'or',\n",
       " 'three',\n",
       " 'years',\n",
       " 'old',\n",
       " ';',\n",
       " 'an',\n",
       " 'imperfect',\n",
       " 'articulation',\n",
       " ',',\n",
       " 'an',\n",
       " 'earnest',\n",
       " 'desire',\n",
       " 'of',\n",
       " 'having',\n",
       " 'his',\n",
       " 'own',\n",
       " 'way',\n",
       " ',',\n",
       " 'many',\n",
       " 'cunning',\n",
       " 'tricks',\n",
       " ',',\n",
       " 'and',\n",
       " 'a',\n",
       " 'great',\n",
       " 'deal',\n",
       " 'of',\n",
       " 'noise',\n",
       " ',',\n",
       " 'as',\n",
       " 'to',\n",
       " 'outweigh',\n",
       " 'all',\n",
       " 'the',\n",
       " 'value',\n",
       " 'of',\n",
       " 'all',\n",
       " 'the',\n",
       " 'attention',\n",
       " 'which',\n",
       " ',',\n",
       " 'for',\n",
       " 'years',\n",
       " ',',\n",
       " 'he',\n",
       " 'had',\n",
       " 'received',\n",
       " 'from',\n",
       " 'his',\n",
       " 'niece',\n",
       " 'and',\n",
       " 'her',\n",
       " 'daughters',\n",
       " '.',\n",
       " 'He',\n",
       " 'meant',\n",
       " 'not',\n",
       " 'to',\n",
       " 'be',\n",
       " 'unkind',\n",
       " ',',\n",
       " 'however',\n",
       " ',',\n",
       " 'and',\n",
       " ',',\n",
       " 'as',\n",
       " 'a',\n",
       " 'mark',\n",
       " 'of',\n",
       " 'his',\n",
       " 'affection',\n",
       " 'for',\n",
       " 'the',\n",
       " 'three',\n",
       " 'girls',\n",
       " ',',\n",
       " 'he',\n",
       " 'left',\n",
       " 'them',\n",
       " 'a',\n",
       " 'thousand',\n",
       " 'pounds',\n",
       " 'a',\n",
       " '-',\n",
       " 'piece',\n",
       " '.',\n",
       " 'Mr',\n",
       " '.',\n",
       " 'Dashwood',\n",
       " \"'\",\n",
       " 's',\n",
       " 'disappointment',\n",
       " 'was',\n",
       " ',',\n",
       " 'at',\n",
       " 'first',\n",
       " ',',\n",
       " 'severe',\n",
       " ';',\n",
       " 'but',\n",
       " 'his',\n",
       " 'temper',\n",
       " 'was',\n",
       " 'cheerful',\n",
       " 'and',\n",
       " 'sanguine',\n",
       " ';',\n",
       " 'and',\n",
       " 'he',\n",
       " 'might',\n",
       " 'reasonably',\n",
       " 'hope',\n",
       " 'to',\n",
       " 'live',\n",
       " 'many',\n",
       " 'years',\n",
       " ',',\n",
       " 'and',\n",
       " 'by',\n",
       " 'living',\n",
       " 'economically',\n",
       " ',',\n",
       " 'lay',\n",
       " 'by',\n",
       " 'a',\n",
       " 'considerable',\n",
       " 'sum',\n",
       " 'from',\n",
       " 'the',\n",
       " 'produce',\n",
       " 'of',\n",
       " 'an',\n",
       " 'estate',\n",
       " 'already',\n",
       " 'large',\n",
       " ',',\n",
       " 'and',\n",
       " 'capable',\n",
       " 'of',\n",
       " 'almost',\n",
       " 'immediate',\n",
       " 'improvement',\n",
       " '.',\n",
       " 'But',\n",
       " 'the',\n",
       " 'fortune',\n",
       " ',',\n",
       " 'which',\n",
       " 'had',\n",
       " 'been',\n",
       " 'so',\n",
       " 'tardy',\n",
       " 'in',\n",
       " 'coming',\n",
       " ',',\n",
       " 'was',\n",
       " 'his',\n",
       " 'only',\n",
       " 'one',\n",
       " 'twelvemonth',\n",
       " '.',\n",
       " 'He',\n",
       " 'survived',\n",
       " 'his',\n",
       " 'uncle',\n",
       " 'no',\n",
       " 'longer',\n",
       " ';',\n",
       " 'and',\n",
       " 'ten',\n",
       " 'thousand',\n",
       " 'pounds',\n",
       " ',',\n",
       " 'including',\n",
       " 'the',\n",
       " 'late',\n",
       " 'legacies',\n",
       " ',',\n",
       " 'was',\n",
       " 'all',\n",
       " 'that',\n",
       " 'remained',\n",
       " 'for',\n",
       " 'his',\n",
       " 'widow',\n",
       " 'and',\n",
       " 'daughters',\n",
       " '.',\n",
       " 'His',\n",
       " 'son',\n",
       " 'was',\n",
       " 'sent',\n",
       " 'for',\n",
       " 'as',\n",
       " 'soon',\n",
       " 'as',\n",
       " 'his',\n",
       " 'danger',\n",
       " 'was',\n",
       " 'known',\n",
       " ',',\n",
       " 'and',\n",
       " 'to',\n",
       " 'him',\n",
       " 'Mr',\n",
       " '.',\n",
       " 'Dashwood',\n",
       " 'recommended',\n",
       " ',',\n",
       " 'with',\n",
       " 'all',\n",
       " 'the',\n",
       " 'strength',\n",
       " 'and',\n",
       " 'urgency',\n",
       " 'which',\n",
       " 'illness',\n",
       " 'could',\n",
       " 'command',\n",
       " ',',\n",
       " 'the',\n",
       " 'interest',\n",
       " 'of',\n",
       " 'his',\n",
       " 'mother',\n",
       " '-',\n",
       " 'in',\n",
       " '-',\n",
       " 'law',\n",
       " 'and',\n",
       " 'sisters',\n",
       " '.',\n",
       " 'Mr',\n",
       " '.',\n",
       " 'John',\n",
       " 'Dashwood',\n",
       " 'had',\n",
       " 'not',\n",
       " 'the',\n",
       " 'strong',\n",
       " 'feelings',\n",
       " 'of',\n",
       " 'the',\n",
       " 'rest',\n",
       " 'of',\n",
       " 'the',\n",
       " 'family',\n",
       " ';',\n",
       " 'but',\n",
       " 'he',\n",
       " 'was',\n",
       " 'affected',\n",
       " 'by',\n",
       " 'a',\n",
       " 'recommendation',\n",
       " 'of',\n",
       " 'such',\n",
       " 'a',\n",
       " 'nature',\n",
       " 'at',\n",
       " 'such',\n",
       " 'a',\n",
       " 'time',\n",
       " ',',\n",
       " 'and',\n",
       " 'he',\n",
       " 'promised',\n",
       " 'to',\n",
       " 'do',\n",
       " 'every',\n",
       " 'thing',\n",
       " 'in',\n",
       " 'his',\n",
       " 'power',\n",
       " 'to',\n",
       " 'make',\n",
       " 'them',\n",
       " 'comfortable',\n",
       " '.',\n",
       " 'His',\n",
       " 'father',\n",
       " 'was',\n",
       " 'rendered',\n",
       " 'easy',\n",
       " 'by',\n",
       " 'such',\n",
       " 'an',\n",
       " 'assurance',\n",
       " ',',\n",
       " 'and',\n",
       " 'Mr',\n",
       " '.',\n",
       " 'John',\n",
       " 'Dashwood',\n",
       " 'had',\n",
       " 'then',\n",
       " 'leisure',\n",
       " 'to',\n",
       " 'consider',\n",
       " 'how',\n",
       " 'much',\n",
       " 'there',\n",
       " 'might',\n",
       " 'prudently',\n",
       " 'be',\n",
       " 'in',\n",
       " 'his',\n",
       " 'power',\n",
       " 'to',\n",
       " 'do',\n",
       " 'for',\n",
       " 'them',\n",
       " '.',\n",
       " 'He',\n",
       " 'was',\n",
       " 'not',\n",
       " 'an',\n",
       " 'ill',\n",
       " '-',\n",
       " 'disposed',\n",
       " 'young',\n",
       " 'man',\n",
       " ',',\n",
       " 'unless',\n",
       " 'to',\n",
       " 'be',\n",
       " 'rather',\n",
       " 'cold',\n",
       " 'hearted',\n",
       " 'and',\n",
       " 'rather',\n",
       " 'selfish',\n",
       " 'is',\n",
       " 'to',\n",
       " 'be',\n",
       " 'ill',\n",
       " '-',\n",
       " 'disposed',\n",
       " ':',\n",
       " 'but',\n",
       " 'he',\n",
       " 'was',\n",
       " ',',\n",
       " 'in',\n",
       " 'general',\n",
       " ',',\n",
       " 'well',\n",
       " 'respected',\n",
       " ';',\n",
       " 'for',\n",
       " 'he',\n",
       " 'conducted',\n",
       " 'himself',\n",
       " 'with',\n",
       " 'propriety',\n",
       " 'in',\n",
       " 'the',\n",
       " 'discharge',\n",
       " 'of',\n",
       " 'his',\n",
       " 'ordinary',\n",
       " 'duties',\n",
       " '.',\n",
       " 'Had',\n",
       " 'he',\n",
       " 'married',\n",
       " 'a',\n",
       " 'more',\n",
       " 'amiable',\n",
       " 'woman',\n",
       " ',',\n",
       " 'he',\n",
       " 'might',\n",
       " 'have',\n",
       " 'been',\n",
       " 'made',\n",
       " 'still',\n",
       " 'more',\n",
       " 'respectable',\n",
       " 'than',\n",
       " ...]"
      ]
     },
     "execution_count": 19,
     "metadata": {},
     "output_type": "execute_result"
    }
   ],
   "execution_count": 19
  },
  {
   "metadata": {
    "ExecuteTime": {
     "end_time": "2025-02-13T11:08:25.133936Z",
     "start_time": "2025-02-13T11:08:24.836924Z"
    }
   },
   "cell_type": "code",
   "source": [
    "print(text4)\n",
    "print()\n",
    "text4.dispersion_plot([\"citizens\", \"democracy\", \"freedom\", \"duties\", \"America\"])"
   ],
   "id": "25f889fa618fda46",
   "outputs": [
    {
     "name": "stdout",
     "output_type": "stream",
     "text": [
      "<Text: Inaugural Address Corpus>\n",
      "\n"
     ]
    },
    {
     "data": {
      "text/plain": [
       "<Figure size 640x480 with 1 Axes>"
      ],
      "image/png": "[encoded data removed]"
     },
     "metadata": {},
     "output_type": "display_data"
    }
   ],
   "execution_count": 20
  },
  {
   "metadata": {
    "ExecuteTime": {
     "end_time": "2025-02-13T11:08:25.189728Z",
     "start_time": "2025-02-13T11:08:25.134577Z"
    }
   },
   "cell_type": "code",
   "source": [
    "print(text2)\n",
    "print()\n",
    "text2.dispersion_plot([\"family\", \"love\", \"desire\"])"
   ],
   "id": "17f455c1e2b86f89",
   "outputs": [
    {
     "name": "stdout",
     "output_type": "stream",
     "text": [
      "<Text: Sense and Sensibility by Jane Austen 1811>\n",
      "\n"
     ]
    },
    {
     "data": {
      "text/plain": [
       "<Figure size 640x480 with 1 Axes>"
      ],
      "image/png": "[encoded data removed]"
     },
     "metadata": {},
     "output_type": "display_data"
    }
   ],
   "execution_count": 21
  },
  {
   "metadata": {
    "ExecuteTime": {
     "end_time": "2025-02-13T11:08:25.519389Z",
     "start_time": "2025-02-13T11:08:25.190571Z"
    }
   },
   "cell_type": "code",
   "source": "text3.generate()",
   "id": "66f8dcfb45aeedc7",
   "outputs": [
    {
     "name": "stderr",
     "output_type": "stream",
     "text": [
      "Building ngram index...\n"
     ]
    },
    {
     "name": "stdout",
     "output_type": "stream",
     "text": [
      "laid by her , and said unto Cain , Where art thou , and said , Go to ,\n",
      "I will not do it for ten ' s sons ; we dreamed each man according to\n",
      "their generatio the firstborn said unto Laban , Because I said , Nay ,\n",
      "but Sarah shall her name be . , duke Elah , duke Shobal , and Akan .\n",
      "and looked upon my affliction . Bashemath Ishmael ' s blood , but Isra\n",
      "for as a prince hast thou found of all the cattle in the valley , and\n",
      "the wo The\n"
     ]
    },
    {
     "data": {
      "text/plain": [
       "\"laid by her , and said unto Cain , Where art thou , and said , Go to ,\\nI will not do it for ten ' s sons ; we dreamed each man according to\\ntheir generatio the firstborn said unto Laban , Because I said , Nay ,\\nbut Sarah shall her name be . , duke Elah , duke Shobal , and Akan .\\nand looked upon my affliction . Bashemath Ishmael ' s blood , but Isra\\nfor as a prince hast thou found of all the cattle in the valley , and\\nthe wo The\""
      ]
     },
     "execution_count": 22,
     "metadata": {},
     "output_type": "execute_result"
    }
   ],
   "execution_count": 22
  },
  {
   "metadata": {},
   "cell_type": "markdown",
   "source": "1.4 -> Counting Vocabulary",
   "id": "8954e01ab33a4a82"
  },
  {
   "metadata": {
    "ExecuteTime": {
     "end_time": "2025-02-13T11:08:25.521819Z",
     "start_time": "2025-02-13T11:08:25.519966Z"
    }
   },
   "cell_type": "code",
   "source": [
    "print(text3)\n",
    "print(f\"The length of the text above is: {len(text3):,d} characters\")"
   ],
   "id": "294c500f154cf6f2",
   "outputs": [
    {
     "name": "stdout",
     "output_type": "stream",
     "text": [
      "<Text: The Book of Genesis>\n",
      "The length of the text above is: 44,764 characters\n"
     ]
    }
   ],
   "execution_count": 23
  },
  {
   "metadata": {
    "ExecuteTime": {
     "end_time": "2025-02-13T11:08:25.531656Z",
     "start_time": "2025-02-13T11:08:25.522559Z"
    }
   },
   "cell_type": "code",
   "source": [
    "print(sorted(set(text3)))\n",
    "print()\n",
    "len(set(text3))"
   ],
   "id": "e0387a8e539ad08e",
   "outputs": [
    {
     "name": "stdout",
     "output_type": "stream",
     "text": [
      "['!', \"'\", '(', ')', ',', ',)', '.', '.)', ':', ';', ';)', '?', '?)', 'A', 'Abel', 'Abelmizraim', 'Abidah', 'Abide', 'Abimael', 'Abimelech', 'Abr', 'Abrah', 'Abraham', 'Abram', 'Accad', 'Achbor', 'Adah', 'Adam', 'Adbeel', 'Admah', 'Adullamite', 'After', 'Aholibamah', 'Ahuzzath', 'Ajah', 'Akan', 'All', 'Allonbachuth', 'Almighty', 'Almodad', 'Also', 'Alvah', 'Alvan', 'Am', 'Amal', 'Amalek', 'Amalekites', 'Ammon', 'Amorite', 'Amorites', 'Amraphel', 'An', 'Anah', 'Anamim', 'And', 'Aner', 'Angel', 'Appoint', 'Aram', 'Aran', 'Ararat', 'Arbah', 'Ard', 'Are', 'Areli', 'Arioch', 'Arise', 'Arkite', 'Arodi', 'Arphaxad', 'Art', 'Arvadite', 'As', 'Asenath', 'Ashbel', 'Asher', 'Ashkenaz', 'Ashteroth', 'Ask', 'Asshur', 'Asshurim', 'Assyr', 'Assyria', 'At', 'Atad', 'Avith', 'Baalhanan', 'Babel', 'Bashemath', 'Be', 'Because', 'Becher', 'Bedad', 'Beeri', 'Beerlahairoi', 'Beersheba', 'Behold', 'Bela', 'Belah', 'Benam', 'Benjamin', 'Beno', 'Beor', 'Bera', 'Bered', 'Beriah', 'Bethel', 'Bethlehem', 'Bethuel', 'Beware', 'Bilhah', 'Bilhan', 'Binding', 'Birsha', 'Bless', 'Blessed', 'Both', 'Bow', 'Bozrah', 'Bring', 'But', 'Buz', 'By', 'Cain', 'Cainan', 'Calah', 'Calneh', 'Can', 'Cana', 'Canaan', 'Canaanite', 'Canaanites', 'Canaanitish', 'Caphtorim', 'Carmi', 'Casluhim', 'Cast', 'Cause', 'Chaldees', 'Chedorlaomer', 'Cheran', 'Cherubims', 'Chesed', 'Chezib', 'Come', 'Cursed', 'Cush', 'Damascus', 'Dan', 'Day', 'Deborah', 'Dedan', 'Deliver', 'Diklah', 'Din', 'Dinah', 'Dinhabah', 'Discern', 'Dishan', 'Dishon', 'Do', 'Dodanim', 'Dothan', 'Drink', 'Duke', 'Dumah', 'Earth', 'Ebal', 'Eber', 'Edar', 'Eden', 'Edom', 'Edomites', 'Egy', 'Egypt', 'Egyptia', 'Egyptian', 'Egyptians', 'Ehi', 'Elah', 'Elam', 'Elbethel', 'Eldaah', 'EleloheIsrael', 'Eliezer', 'Eliphaz', 'Elishah', 'Ellasar', 'Elon', 'Elparan', 'Emins', 'En', 'Enmishpat', 'Eno', 'Enoch', 'Enos', 'Ephah', 'Epher', 'Ephra', 'Ephraim', 'Ephrath', 'Ephron', 'Er', 'Erech', 'Eri', 'Es', 'Esau', 'Escape', 'Esek', 'Eshban', 'Eshcol', 'Ethiopia', 'Euphrat', 'Euphrates', 'Eve', 'Even', 'Every', 'Except', 'Ezbon', 'Ezer', 'Fear', 'Feed', 'Fifteen', 'Fill', 'For', 'Forasmuch', 'Forgive', 'From', 'Fulfil', 'G', 'Gad', 'Gaham', 'Galeed', 'Gatam', 'Gather', 'Gaza', 'Gentiles', 'Gera', 'Gerar', 'Gershon', 'Get', 'Gether', 'Gihon', 'Gilead', 'Girgashites', 'Girgasite', 'Give', 'Go', 'God', 'Gomer', 'Gomorrah', 'Goshen', 'Guni', 'Hadad', 'Hadar', 'Hadoram', 'Hagar', 'Haggi', 'Hai', 'Ham', 'Hamathite', 'Hamor', 'Hamul', 'Hanoch', 'Happy', 'Haran', 'Hast', 'Haste', 'Have', 'Havilah', 'Hazarmaveth', 'Hazezontamar', 'Hazo', 'He', 'Hear', 'Heaven', 'Heber', 'Hebrew', 'Hebrews', 'Hebron', 'Hemam', 'Hemdan', 'Here', 'Hereby', 'Heth', 'Hezron', 'Hiddekel', 'Hinder', 'Hirah', 'His', 'Hitti', 'Hittite', 'Hittites', 'Hivite', 'Hobah', 'Hori', 'Horite', 'Horites', 'How', 'Hul', 'Huppim', 'Husham', 'Hushim', 'Huz', 'I', 'If', 'In', 'Irad', 'Iram', 'Is', 'Isa', 'Isaac', 'Iscah', 'Ishbak', 'Ishmael', 'Ishmeelites', 'Ishuah', 'Isra', 'Israel', 'Issachar', 'Isui', 'It', 'Ithran', 'Jaalam', 'Jabal', 'Jabbok', 'Jac', 'Jachin', 'Jacob', 'Jahleel', 'Jahzeel', 'Jamin', 'Japhe', 'Japheth', 'Jared', 'Javan', 'Jebusite', 'Jebusites', 'Jegarsahadutha', 'Jehovahjireh', 'Jemuel', 'Jerah', 'Jetheth', 'Jetur', 'Jeush', 'Jezer', 'Jidlaph', 'Jimnah', 'Job', 'Jobab', 'Jokshan', 'Joktan', 'Jordan', 'Joseph', 'Jubal', 'Judah', 'Judge', 'Judith', 'Kadesh', 'Kadmonites', 'Karnaim', 'Kedar', 'Kedemah', 'Kemuel', 'Kenaz', 'Kenites', 'Kenizzites', 'Keturah', 'Kiriathaim', 'Kirjatharba', 'Kittim', 'Know', 'Kohath', 'Kor', 'Korah', 'LO', 'LORD', 'Laban', 'Lahairoi', 'Lamech', 'Lasha', 'Lay', 'Leah', 'Lehabim', 'Lest', 'Let', 'Letushim', 'Leummim', 'Levi', 'Lie', 'Lift', 'Lo', 'Look', 'Lot', 'Lotan', 'Lud', 'Ludim', 'Luz', 'Maachah', 'Machir', 'Machpelah', 'Madai', 'Magdiel', 'Magog', 'Mahalaleel', 'Mahalath', 'Mahanaim', 'Make', 'Malchiel', 'Male', 'Mam', 'Mamre', 'Man', 'Manahath', 'Manass', 'Manasseh', 'Mash', 'Masrekah', 'Massa', 'Matred', 'Me', 'Medan', 'Mehetabel', 'Mehujael', 'Melchizedek', 'Merari', 'Mesha', 'Meshech', 'Mesopotamia', 'Methusa', 'Methusael', 'Methuselah', 'Mezahab', 'Mibsam', 'Mibzar', 'Midian', 'Midianites', 'Milcah', 'Mishma', 'Mizpah', 'Mizraim', 'Mizz', 'Moab', 'Moabites', 'Moreh', 'Moreover', 'Moriah', 'Muppim', 'My', 'Naamah', 'Naaman', 'Nahath', 'Nahor', 'Naphish', 'Naphtali', 'Naphtuhim', 'Nay', 'Nebajoth', 'Neither', 'Night', 'Nimrod', 'Nineveh', 'Noah', 'Nod', 'Not', 'Now', 'O', 'Obal', 'Of', 'Oh', 'Ohad', 'Omar', 'On', 'Onam', 'Onan', 'Only', 'Ophir', 'Our', 'Out', 'Padan', 'Padanaram', 'Paran', 'Pass', 'Pathrusim', 'Pau', 'Peace', 'Peleg', 'Peniel', 'Penuel', 'Peradventure', 'Perizzit', 'Perizzite', 'Perizzites', 'Phallu', 'Phara', 'Pharaoh', 'Pharez', 'Phichol', 'Philistim', 'Philistines', 'Phut', 'Phuvah', 'Pildash', 'Pinon', 'Pison', 'Potiphar', 'Potipherah', 'Put', 'Raamah', 'Rachel', 'Rameses', 'Rebek', 'Rebekah', 'Rehoboth', 'Remain', 'Rephaims', 'Resen', 'Return', 'Reu', 'Reub', 'Reuben', 'Reuel', 'Reumah', 'Riphath', 'Rosh', 'Sabtah', 'Sabtech', 'Said', 'Salah', 'Salem', 'Samlah', 'Sarah', 'Sarai', 'Saul', 'Save', 'Say', 'Se', 'Seba', 'See', 'Seeing', 'Seir', 'Sell', 'Send', 'Sephar', 'Serah', 'Sered', 'Serug', 'Set', 'Seth', 'Shalem', 'Shall', 'Shalt', 'Shammah', 'Shaul', 'Shaveh', 'She', 'Sheba', 'Shebah', 'Shechem', 'Shed', 'Shel', 'Shelah', 'Sheleph', 'Shem', 'Shemeber', 'Shepho', 'Shillem', 'Shiloh', 'Shimron', 'Shinab', 'Shinar', 'Shobal', 'Should', 'Shuah', 'Shuni', 'Shur', 'Sichem', 'Siddim', 'Sidon', 'Simeon', 'Sinite', 'Sitnah', 'Slay', 'So', 'Sod', 'Sodom', 'Sojourn', 'Some', 'Spake', 'Speak', 'Spirit', 'Stand', 'Succoth', 'Surely', 'Swear', 'Syrian', 'Take', 'Tamar', 'Tarshish', 'Tebah', 'Tell', 'Tema', 'Teman', 'Temani', 'Terah', 'Thahash', 'That', 'The', 'Then', 'There', 'Therefore', 'These', 'They', 'Thirty', 'This', 'Thorns', 'Thou', 'Thus', 'Thy', 'Tidal', 'Timna', 'Timnah', 'Timnath', 'Tiras', 'To', 'Togarmah', 'Tola', 'Tubal', 'Tubalcain', 'Twelve', 'Two', 'Unstable', 'Until', 'Unto', 'Up', 'Upon', 'Ur', 'Uz', 'Uzal', 'We', 'What', 'When', 'Whence', 'Where', 'Whereas', 'Wherefore', 'Which', 'While', 'Who', 'Whose', 'Whoso', 'Why', 'Wilt', 'With', 'Woman', 'Ye', 'Yea', 'Yet', 'Zaavan', 'Zaphnathpaaneah', 'Zar', 'Zarah', 'Zeboiim', 'Zeboim', 'Zebul', 'Zebulun', 'Zemarite', 'Zepho', 'Zerah', 'Zibeon', 'Zidon', 'Zillah', 'Zilpah', 'Zimran', 'Ziphion', 'Zo', 'Zoar', 'Zohar', 'Zuzims', 'a', 'abated', 'abide', 'able', 'abode', 'abomination', 'about', 'above', 'abroad', 'absent', 'abundantly', 'accept', 'accepted', 'according', 'acknowledged', 'activity', 'add', 'adder', 'afar', 'afflict', 'affliction', 'afraid', 'after', 'afterward', 'afterwards', 'aga', 'again', 'against', 'age', 'aileth', 'air', 'al', 'alive', 'all', 'almon', 'alo', 'alone', 'aloud', 'also', 'altar', 'altogether', 'always', 'am', 'among', 'amongst', 'an', 'and', 'angel', 'angels', 'anger', 'angry', 'anguish', 'anointedst', 'anoth', 'another', 'answer', 'answered', 'any', 'anything', 'appe', 'appear', 'appeared', 'appease', 'appoint', 'appointed', 'aprons', 'archer', 'archers', 'are', 'arise', 'ark', 'armed', 'arms', 'army', 'arose', 'arrayed', 'art', 'artificer', 'as', 'ascending', 'ash', 'ashamed', 'ask', 'asked', 'asketh', 'ass', 'assembly', 'asses', 'assigned', 'asswaged', 'at', 'attained', 'audience', 'avenged', 'aw', 'awaked', 'away', 'awoke', 'back', 'backward', 'bad', 'bade', 'badest', 'badne', 'bak', 'bake', 'bakemeats', 'baker', 'bakers', 'balm', 'bands', 'bank', 'bare', 'barr', 'barren', 'basket', 'baskets', 'battle', 'bdellium', 'be', 'bear', 'beari', 'bearing', 'beast', 'beasts', 'beautiful', 'became', 'because', 'become', 'bed', 'been', 'befall', 'befell', 'before', 'began', 'begat', 'beget', 'begettest', 'begin', 'beginning', 'begotten', 'beguiled', 'beheld', 'behind', 'behold', 'being', 'believed', 'belly', 'belong', 'beneath', 'bereaved', 'beside', 'besides', 'besought', 'best', 'betimes', 'better', 'between', 'betwixt', 'beyond', 'binding', 'bird', 'birds', 'birthday', 'birthright', 'biteth', 'bitter', 'blame', 'blameless', 'blasted', 'bless', 'blessed', 'blesseth', 'blessi', 'blessing', 'blessings', 'blindness', 'blood', 'blossoms', 'bodies', 'boldly', 'bondman', 'bondmen', 'bondwoman', 'bone', 'bones', 'book', 'booths', 'border', 'borders', 'born', 'bosom', 'both', 'bottle', 'bou', 'boug', 'bough', 'bought', 'bound', 'bow', 'bowed', 'bowels', 'bowing', 'boys', 'bracelets', 'branches', 'brass', 'bre', 'breach', 'bread', 'breadth', 'break', 'breaketh', 'breaking', 'breasts', 'breath', 'breathed', 'breed', 'brethren', 'brick', 'brimstone', 'bring', 'brink', 'broken', 'brook', 'broth', 'brother', 'brought', 'brown', 'bruise', 'budded', 'build', 'builded', 'built', 'bulls', 'bundle', 'bundles', 'burdens', 'buried', 'burn', 'burning', 'burnt', 'bury', 'buryingplace', 'business', 'but', 'butler', 'butlers', 'butlership', 'butter', 'buy', 'by', 'cakes', 'calf', 'call', 'called', 'came', 'camel', 'camels', 'camest', 'can', 'cannot', 'canst', 'captain', 'captive', 'captives', 'carcases', 'carried', 'carry', 'cast', 'castles', 'catt', 'cattle', 'caught', 'cause', 'caused', 'cave', 'cease', 'ceased', 'certain', 'certainly', 'chain', 'chamber', 'change', 'changed', 'changes', 'charge', 'charged', 'chariot', 'chariots', 'chesnut', 'chi', 'chief', 'child', 'childless', 'childr', 'children', 'chode', 'choice', 'chose', 'circumcis', 'circumcise', 'circumcised', 'citi', 'cities', 'city', 'clave', 'clean', 'clear', 'cleave', 'clo', 'closed', 'clothed', 'clothes', 'cloud', 'clusters', 'co', 'coat', 'coats', 'coffin', 'cold', 'colours', 'colt', 'colts', 'come', 'comest', 'cometh', 'comfort', 'comforted', 'comi', 'coming', 'command', 'commanded', 'commanding', 'commandment', 'commandments', 'commended', 'committed', 'commune', 'communed', 'communing', 'company', 'compassed', 'compasseth', 'conceal', 'conceive', 'conceived', 'conception', 'concerning', 'concubi', 'concubine', 'concubines', 'confederate', 'confound', 'consent', 'conspired', 'consume', 'consumed', 'content', 'continually', 'continued', 'cool', 'corn', 'corrupt', 'corrupted', 'couch', 'couched', 'couching', 'could', 'counted', 'countenance', 'countries', 'country', 'covenant', 'covered', 'covering', 'created', 'creature', 'creepeth', 'creeping', 'cried', 'crieth', 'crown', 'cru', 'cruelty', 'cry', 'cubit', 'cubits', 'cunning', 'cup', 'current', 'curse', 'cursed', 'curseth', 'custom', 'cut', 'd', 'da', 'dainties', 'dale', 'damsel', 'damsels', 'dark', 'darkne', 'darkness', 'daughers', 'daught', 'daughte', 'daughter', 'daughters', 'day', 'days', 'dea', 'dead', 'deal', 'dealt', 'dearth', 'death', 'deceitfully', 'deceived', 'deceiver', 'declare', 'decreased', 'deed', 'deeds', 'deep', 'deferred', 'defiled', 'defiledst', 'delight', 'deliver', 'deliverance', 'delivered', 'denied', 'depart', 'departed', 'departing', 'deprived', 'descending', 'desire', 'desired', 'desolate', 'despised', 'destitute', 'destroy', 'destroyed', 'devour', 'devoured', 'dew', 'did', 'didst', 'die', 'died', 'digged', 'dignity', 'dim', 'dine', 'dipped', 'direct', 'discern', 'discerned', 'discreet', 'displease', 'displeased', 'distress', 'distressed', 'divide', 'divided', 'divine', 'divineth', 'do', 'doe', 'doer', 'doest', 'doeth', 'doing', 'dominion', 'done', 'door', 'dost', 'doth', 'double', 'doubled', 'doubt', 'dove', 'down', 'dowry', 'drank', 'draw', 'dread', 'dreadful', 'dream', 'dreamed', 'dreamer', 'dreams', 'dress', 'dressed', 'drew', 'dried', 'drink', 'drinketh', 'drinking', 'driven', 'drought', 'drove', 'droves', 'drunken', 'dry', 'duke', 'dukes', 'dunge', 'dungeon', 'dust', 'dwe', 'dwell', 'dwelled', 'dwelling', 'dwelt', 'e', 'ea', 'each', 'ear', 'earing', 'early', 'earring', 'earrings', 'ears', 'earth', 'east', 'eastward', 'eat', 'eaten', 'eatest', 'edge', 'eight', 'eighteen', 'eighty', 'either', 'elder', 'elders', 'eldest', 'eleven', 'else', 'embalm', 'embalmed', 'embraced', 'emptied', 'empty', 'end', 'ended', 'endued', 'endure', 'enemies', 'enlarge', 'enmity', 'enough', 'enquire', 'enter', 'entered', 'entreated', 'envied', 'erected', 'errand', 'escape', 'escaped', 'espied', 'establish', 'established', 'ev', 'even', 'evening', 'eventide', 'ever', 'everlasting', 'every', 'evil', 'ewe', 'ewes', 'exceeding', 'exceedingly', 'excel', 'excellency', 'except', 'exchange', 'experience', 'ey', 'eyed', 'eyes', 'fa', 'face', 'faces', 'fai', 'fail', 'failed', 'faileth', 'fainted', 'fair', 'fall', 'fallen', 'falsely', 'fame', 'families', 'famine', 'famished', 'far', 'fashion', 'fast', 'fat', 'fatfleshed', 'fath', 'fathe', 'father', 'fathers', 'fatness', 'faults', 'favour', 'favoured', 'fear', 'feared', 'fearest', 'feast', 'fed', 'feeble', 'feebler', 'feed', 'feeding', 'feel', 'feet', 'fell', 'fellow', 'felt', 'fema', 'female', 'fetch', 'fetched', 'fetcht', 'few', 'fie', 'field', 'fierce', 'fifteen', 'fifth', 'fifty', 'fig', 'fill', 'filled', 'find', 'findest', 'findeth', 'finding', 'fine', 'finish', 'finished', 'fir', 'fire', 'firmame', 'firmament', 'first', 'firstborn', 'firstlings', 'fish', 'fishes', 'five', 'flaming', 'fle', 'fled', 'fleddest', 'flee', 'flesh', 'flo', 'floc', 'flock', 'flocks', 'flood', 'floor', 'fly', 'fo', 'foal', 'foals', 'folk', 'follow', 'followed', 'following', 'folly', 'food', 'foolishly', 'foot', 'for', 'forbid', 'force', 'ford', 'foremost', 'foreskin', 'forgat', 'forget', 'forgive', 'forgotten', 'form', 'formed', 'former', 'forth', 'forty', 'forward', 'fou', 'found', 'fountain', 'fountains', 'four', 'fourscore', 'fourteen', 'fourteenth', 'fourth', 'fowl', 'fowls', 'freely', 'friend', 'friends', 'fro', 'from', 'frost', 'fruit', 'fruitful', 'fruits', 'fugitive', 'fulfilled', 'full', 'furnace', 'furniture', 'fury', 'gard', 'garden', 'garmen', 'garment', 'garments', 'gat', 'gate', 'gather', 'gathered', 'gathering', 'gave', 'gavest', 'generatio', 'generation', 'generations', 'get', 'getting', 'ghost', 'giants', 'gift', 'gifts', 'give', 'given', 'giveth', 'giving', 'glory', 'go', 'goa', 'goat', 'goats', 'gods', 'goest', 'goeth', 'going', 'gold', 'golden', 'gone', 'good', 'goodly', 'goods', 'gopher', 'got', 'gotten', 'governor', 'gr', 'grace', 'gracious', 'graciously', 'grap', 'grapes', 'grass', 'grave', 'gray', 'gre', 'great', 'greater', 'greatly', 'green', 'grew', 'grief', 'grieved', 'grievous', 'grisl', 'grisled', 'gro', 'ground', 'grove', 'grow', 'grown', 'guard', 'guiding', 'guiltiness', 'guilty', 'gutters', 'h', 'ha', 'habitations', 'had', 'hadst', 'hairs', 'hairy', 'half', 'halted', 'han', 'hand', 'handfuls', 'handle', 'handmaid', 'handmaidens', 'handmaids', 'hands', 'hang', 'hanged', 'hard', 'hardly', 'harlot', 'harm', 'harp', 'harvest', 'hast', 'haste', 'hasted', 'hastened', 'hastily', 'hate', 'hated', 'hath', 'have', 'haven', 'having', 'hazel', 'he', 'head', 'heads', 'healed', 'health', 'heap', 'hear', 'heard', 'hearken', 'hearkened', 'heart', 'hearth', 'hearts', 'heat', 'heav', 'heaven', 'heavens', 'heed', 'heel', 'heels', 'heifer', 'height', 'heir', 'held', 'help', 'hence', 'henceforth', 'her', 'herb', 'herd', 'herdmen', 'herds', 'here', 'herein', 'herself', 'hid', 'hide', 'high', 'hil', 'hills', 'him', 'himself', 'hind', 'hindermost', 'hire', 'hired', 'his', 'hith', 'hither', 'hold', 'hollow', 'home', 'honey', 'honour', 'honourable', 'hor', 'horror', 'horse', 'horsemen', 'horses', 'host', 'hotly', 'hou', 'hous', 'house', 'household', 'households', 'how', 'hundred', 'hundredfo', 'hundredth', 'hunt', 'hunter', 'hunting', 'hurt', 'husba', 'husband', 'husbandman', 'if', 'ill', 'image', 'images', 'imagination', 'imagined', 'in', 'increase', 'increased', 'indeed', 'inhabitants', 'inhabited', 'inherit', 'inheritance', 'iniquity', 'inn', 'innocency', 'instead', 'instructor', 'instruments', 'integrity', 'interpret', 'interpretation', 'interpretations', 'interpreted', 'interpreter', 'into', 'intreat', 'intreated', 'ir', 'is', 'isles', 'issue', 'it', 'itself', 'jewels', 'joined', 'joint', 'journey', 'journeyed', 'journeys', 'jud', 'judge', 'judged', 'judgment', 'just', 'justice', 'keep', 'keeper', 'kept', 'ki', 'kid', 'kids', 'kill', 'killed', 'kind', 'kindled', 'kindly', 'kindness', 'kindred', 'kinds', 'kine', 'king', 'kingdom', 'kings', 'kiss', 'kissed', 'kn', 'knead', 'kneel', 'knees', 'knew', 'knife', 'know', 'knowest', 'knoweth', 'knowing', 'knowledge', 'known', 'la', 'labour', 'lack', 'lad', 'ladder', 'lade', 'laded', 'laden', 'lads', 'laid', 'lamb', 'lambs', 'lamentati', 'lamp', 'lan', 'land', 'lands', 'language', 'large', 'last', 'laugh', 'laughed', 'law', 'lawgiver', 'laws', 'lay', 'lead', 'leaf', 'lean', 'leanfleshed', 'leap', 'leaped', 'learned', 'least', 'leave', 'leaves', 'led', 'left', 'length', 'lentiles', 'lesser', 'lest', 'let', 'li', 'lie', 'lien', 'liest', 'lieth', 'life', 'lift', 'lifted', 'light', 'lighted', 'lightly', 'lights', 'like', 'likene', 'likeness', 'linen', 'lingered', 'lion', 'little', 'live', 'lived', 'lives', 'liveth', 'living', 'lo', 'lodge', 'lodged', 'loins', 'long', 'longedst', 'longeth', 'look', 'looked', 'loose', 'lord', 'lords', 'loss', 'loud', 'love', 'loved', 'lovest', 'loveth', 'lower', 'lying', 'm', 'ma', 'made', 'magicians', 'magnified', 'maid', 'maiden', 'maidservants', 'make', 'male', 'males', 'man', 'mandrakes', 'manner', 'many', 'mark', 'marriages', 'married', 'marry', 'marvelled', 'mast', 'master', 'matter', 'may', 'mayest', 'me', 'mead', 'meadow', 'meal', 'mean', 'meanest', 'meant', 'measures', 'meat', 'meditate', 'meet', 'meeteth', 'men', 'menservants', 'mention', 'merchant', 'merchantmen', 'mercies', 'merciful', 'mercy', 'merry', 'mess', 'messenger', 'messengers', 'messes', 'met', 'mi', 'midst', 'midwife', 'might', 'mightier', 'mighty', 'milch', 'milk', 'millions', 'mind', 'mine', 'mirth', 'mischief', 'mist', 'mistress', 'mock', 'mocked', 'mocking', 'money', 'month', 'months', 'moon', 'more', 'moreover', 'morever', 'morning', 'morrow', 'morsel', 'morter', 'most', 'mother', 'mou', 'mount', 'mountain', 'mountains', 'mourn', 'mourned', 'mourning', 'mouth', 'mouths', 'moved', 'moveth', 'moving', 'much', 'mules', 'multiplied', 'multiply', 'multiplying', 'multitude', 'must', 'my', 'myrrh', 'myself', 'n', 'na', 'naked', 'nakedness', 'name', 'named', 'names', 'nati', 'natio', 'nation', 'nations', 'nativity', 'ne', 'near', 'neck', 'needeth', 'needs', 'neither', 'never', 'next', 'nig', 'nigh', 'night', 'nights', 'nine', 'nineteen', 'ninety', 'no', 'none', 'noon', 'nor', 'north', 'northward', 'nostrils', 'not', 'nothing', 'nought', 'nourish', 'nourished', 'now', 'number', 'numbered', 'numbering', 'nurse', 'nuts', 'o', 'oa', 'oak', 'oath', 'obeisance', 'obey', 'obeyed', 'observed', 'obtain', 'occasion', 'occupation', 'of', 'off', 'offended', 'offer', 'offered', 'offeri', 'offering', 'offerings', 'office', 'officer', 'officers', 'oil', 'old', 'olive', 'on', 'one', 'ones', 'only', 'onyx', 'open', 'opened', 'openly', 'or', 'order', 'organ', 'oth', 'other', 'ou', 'ought', 'our', 'ours', 'ourselves', 'out', 'over', 'overcome', 'overdrive', 'overseer', 'oversig', 'overspread', 'overtake', 'overthrew', 'overthrow', 'overtook', 'own', 'oxen', 'parcel', 'part', 'parted', 'parts', 'pass', 'passed', 'past', 'pasture', 'path', 'pea', 'peace', 'peaceable', 'peaceably', 'peop', 'people', 'peradventure', 'perceived', 'perfect', 'perform', 'perish', 'perpetual', 'person', 'persons', 'physicians', 'piece', 'pieces', 'pigeon', 'pilgrimage', 'pillar', 'pilled', 'pillows', 'pit', 'pitch', 'pitched', 'pitcher', 'pla', 'place', 'placed', 'places', 'plagued', 'plagues', 'plain', 'plains', 'plant', 'planted', 'played', 'pleasant', 'pleased', 'pleaseth', 'pleasure', 'pledge', 'plenteous', 'plenteousness', 'plenty', 'pluckt', 'point', 'poor', 'poplar', 'portion', 'possess', 'possessi', 'possession', 'possessions', 'possessor', 'posterity', 'pottage', 'poured', 'poverty', 'pow', 'power', 'praise', 'pray', 'prayed', 'precious', 'prepared', 'presence', 'present', 'presented', 'preserve', 'preserved', 'pressed', 'prevail', 'prevailed', 'prey', 'priest', 'priests', 'prince', 'princes', 'pris', 'prison', 'prisoners', 'proceedeth', 'process', 'profit', 'progenitors', 'prophet', 'prosper', 'prospered', 'prosperous', 'protest', 'proved', 'provender', 'provide', 'provision', 'pulled', 'punishment', 'purchase', 'purchased', 'purposing', 'pursue', 'pursued', 'put', 'putting', 'quart', 'quickly', 'quite', 'quiver', 'raiment', 'rain', 'rained', 'raise', 'ram', 'rams', 'ran', 'rank', 'raven', 'ravin', 'reach', 'reached', 'ready', 'reason', 'rebelled', 'rebuked', 'receive', 'received', 'red', 'redeemed', 'refrain', 'refrained', 'refused', 'regard', 'reign', 'reigned', 'remained', 'remaineth', 'remember', 'remembered', 'remove', 'removed', 'removing', 'renown', 'rent', 'repented', 'repenteth', 'replenish', 'report', 'reproa', 'reproach', 'reproved', 'require', 'required', 'requite', 'reserved', 'respect', 'rest', 'rested', 'restore', 'restored', 'restrained', 'return', 'returned', 'reviv', 'reward', 'rewarded', 'ri', 'rib', 'ribs', 'rich', 'riches', 'rid', 'ride', 'rider', 'right', 'righteous', 'righteousness', 'rightly', 'ring', 'ringstraked', 'ripe', 'rise', 'risen', 'riv', 'river', 'rode', 'rods', 'roll', 'rolled', 'roof', 'room', 'rooms', 'rose', 'roughly', 'round', 'rouse', 'royal', 'rul', 'rule', 'ruled', 'ruler', 'rulers', 'run', 's', 'sa', 'sac', 'sack', 'sackcloth', 'sacks', 'sacrifice', 'sacrifices', 'sad', 'saddled', 'sadly', 'said', 'saidst', 'saith', 'sake', 'sakes', 'salt', 'salvation', 'same', 'sanctified', 'sand', 'sat', 'save', 'saved', 'saving', 'savour', 'savoury', 'saw', 'sawest', 'say', 'saying', 'scarce', 'scarlet', 'scatter', 'scattered', 'sceptre', 'sea', 'searched', 'seas', 'season', 'seasons', 'second', 'secret', 'secretly', 'see', 'seed', 'seedtime', 'seeing', 'seek', 'seekest', 'seem', 'seemed', 'seen', 'seest', 'seeth', 'selfsame', 'selfwill', 'sell', 'send', 'sent', 'separate', 'separated', 'sepulchre', 'sepulchres', 'serpent', 'serva', 'servan', 'servant', 'servants', 'serve', 'served', 'service', 'set', 'seven', 'sevenfold', 'sevens', 'seventeen', 'seventeenth', 'seventh', 'seventy', 'sewed', 'sh', 'shadow', 'shall', 'shalt', 'shamed', 'shaved', 'she', 'sheaf', 'shear', 'sheaves', 'shed', 'sheddeth', 'sheep', 'sheepshearers', 'shekel', 'shekels', 'shepherd', 'shepherds', 'shew', 'shewed', 'sheweth', 'shield', 'ships', 'shoelatchet', 'shore', 'shortly', 'shot', 'should', 'shoulder', 'shoulders', 'shouldest', 'shrank', 'shrubs', 'shut', 'si', 'side', 'sight', 'signet', 'signs', 'silv', 'silver', 'sin', 'since', 'sinew', 'sinners', 'sinning', 'sir', 'sist', 'sister', 'sit', 'six', 'sixteen', 'sixth', 'sixty', 'skins', 'slain', 'slaughter', 'slay', 'slayeth', 'sle', 'sleep', 'slept', 'slew', 'slime', 'slimepits', 'small', 'smell', 'smelled', 'smite', 'smoke', 'smoking', 'smooth', 'smote', 'so', 'sod', 'softly', 'sojourn', 'sojourned', 'sojourner', 'sold', 'sole', 'solemnly', 'some', 'son', 'songs', 'sons', 'soon', 'sore', 'sorely', 'sorrow', 'sort', 'sou', 'sought', 'soul', 'souls', 'south', 'southward', 'sow', 'sowed', 'space', 'spake', 'spare', 'spe', 'speak', 'speaketh', 'speaking', 'speckl', 'speckled', 'spee', 'speech', 'speed', 'speedily', 'spent', 'spi', 'spicery', 'spices', 'spies', 'spilled', 'spirit', 'spoil', 'spoiled', 'spoken', 'sporting', 'spotted', 'spread', 'springing', 'sprung', 'staff', 'stalk', 'stand', 'standest', 'stars', 'state', 'statutes', 'stay', 'stayed', 'ste', 'stead', 'steal', 'steward', 'still', 'stink', 'sto', 'stole', 'stolen', 'stone', 'stones', 'stood', 'stooped', 'stopped', 'store', 'storehouses', 'stories', 'straitly', 'strakes', 'strange', 'stranger', 'strangers', 'straw', 'street', 'strength', 'strengthened', 'stretched', 'stricken', 'strife', 'stript', 'strive', 'strong', 'stronger', 'strove', 'struggled', 'stuff', 'subdue', 'submit', 'substance', 'subtil', 'subtilty', 'such', 'suck', 'suffered', 'summer', 'sun', 'supplanted', 'sure', 'surely', 'surety', 'sustained', 'sware', 'swear', 'sweat', 'sweet', 'sword', 'sworn', 'tabret', 'tak', 'take', 'taken', 'talked', 'talking', 'tar', 'tarried', 'tarry', 'teeth', 'tell', 'tempt', 'ten', 'tender', 'tenor', 'tent', 'tenth', 'tents', 'terror', 'th', 'than', 'that', 'the', 'thee', 'their', 'them', 'themselv', 'themselves', 'then', 'thence', 'there', 'thereby', 'therefore', 'therein', 'thereof', 'thereon', 'these', 'they', 'thi', 'thicket', 'thigh', 'thin', 'thine', 'thing', 'things', 'think', 'third', 'thirteen', 'thirteenth', 'thirty', 'this', 'thistles', 'thither', 'thoroughly', 'those', 'thou', 'though', 'thought', 'thoughts', 'thousand', 'thousands', 'thread', 'three', 'threescore', 'threshingfloor', 'throne', 'through', 'throughout', 'thus', 'thy', 'thyself', 'tidings', 'till', 'tiller', 'tillest', 'tim', 'time', 'times', 'tithes', 'to', 'togeth', 'together', 'toil', 'token', 'told', 'tongue', 'tongues', 'too', 'took', 'top', 'tops', 'torn', 'touch', 'touched', 'toucheth', 'touching', 'toward', 'tower', 'towns', 'tr', 'trade', 'traffick', 'trained', 'travail', 'travailed', 'treasure', 'tree', 'trees', 'trembled', 'trespass', 'tribes', 'tribute', 'troop', 'troubled', 'trough', 'troughs', 'tru', 'true', 'truly', 'truth', 'turn', 'turned', 'turtledove', 'twel', 'twelve', 'twentieth', 'twenty', 'twice', 'twins', 'two', 'unawares', 'uncircumcised', 'uncovered', 'under', 'understand', 'understood', 'ungirded', 'unit', 'unleavened', 'until', 'unto', 'up', 'upon', 'uppermost', 'upright', 'upward', 'urged', 'us', 'utmost', 'vagabond', 'vail', 'vale', 'valley', 'vengeance', 'venison', 'verified', 'verily', 'very', 'vessels', 'vestures', 'victuals', 'vine', 'vineyard', 'violence', 'violently', 'virgin', 'vision', 'visions', 'visit', 'visited', 'voi', 'voice', 'void', 'vow', 'vowed', 'vowedst', 'w', 'wa', 'wages', 'wagons', 'waited', 'walk', 'walked', 'walketh', 'walking', 'wall', 'wander', 'wandered', 'wandering', 'war', 'ward', 'was', 'wash', 'washed', 'wast', 'wat', 'watch', 'water', 'watered', 'watering', 'waters', 'waxed', 'waxen', 'way', 'ways', 'we', 'wealth', 'weaned', 'weapons', 'wearied', 'weary', 'week', 'weep', 'weig', 'weighed', 'weight', 'welfare', 'well', 'wells', 'went', 'wentest', 'wept', 'were', 'west', 'westwa', 'whales', 'what', 'whatsoever', 'wheat', 'whelp', 'when', 'whence', 'whensoever', 'where', 'whereby', 'wherefore', 'wherein', 'whereof', 'whereon', 'wherewith', 'whether', 'which', 'while', 'white', 'whither', 'who', 'whole', 'whom', 'whomsoever', 'whoredom', 'whose', 'whosoever', 'why', 'wi', 'wick', 'wicked', 'wickedly', 'wickedness', 'widow', 'widowhood', 'wife', 'wild', 'wilderness', 'will', 'willing', 'wilt', 'wind', 'window', 'windows', 'wine', 'winged', 'winter', 'wise', 'wit', 'with', 'withered', 'withheld', 'withhold', 'within', 'without', 'witness', 'wittingly', 'wiv', 'wives', 'wo', 'wolf', 'woman', 'womb', 'wombs', 'women', 'womenservan', 'womenservants', 'wondering', 'wood', 'wor', 'word', 'words', 'work', 'worse', 'worship', 'worshipped', 'worth', 'worthy', 'wot', 'wotteth', 'would', 'wouldest', 'wounding', 'wrapped', 'wrath', 'wrestled', 'wrestlings', 'wrong', 'wroth', 'wrought', 'y', 'ye', 'yea', 'year', 'yearn', 'years', 'yesternight', 'yet', 'yield', 'yielded', 'yielding', 'yoke', 'yonder', 'you', 'young', 'younge', 'younger', 'youngest', 'your', 'yourselves', 'youth']\n",
      "\n"
     ]
    },
    {
     "data": {
      "text/plain": [
       "2789"
      ]
     },
     "execution_count": 24,
     "metadata": {},
     "output_type": "execute_result"
    }
   ],
   "execution_count": 24
  },
  {
   "metadata": {
    "ExecuteTime": {
     "end_time": "2025-02-13T11:08:25.537077Z",
     "start_time": "2025-02-13T11:08:25.532295Z"
    }
   },
   "cell_type": "code",
   "source": [
    "perc: float = len(set(text3)) / len(text3)\n",
    "print(perc)\n",
    "print(f\"About {(perc * 100):.2f}% of the words in the text are unique\")"
   ],
   "id": "1818bad2fc7d5e61",
   "outputs": [
    {
     "name": "stdout",
     "output_type": "stream",
     "text": [
      "0.06230453042623537\n",
      "About 6.23% of the words in the text are unique\n"
     ]
    }
   ],
   "execution_count": 25
  },
  {
   "metadata": {
    "ExecuteTime": {
     "end_time": "2025-02-13T11:08:25.540500Z",
     "start_time": "2025-02-13T11:08:25.537546Z"
    }
   },
   "cell_type": "code",
   "source": [
    "print(text3.count(\"smote\"))\n",
    "print(100 * text4.count(\"a\") / len(text4))"
   ],
   "id": "87b82ef33222d6ac",
   "outputs": [
    {
     "name": "stdout",
     "output_type": "stream",
     "text": [
      "5\n",
      "1.457806031353621\n"
     ]
    }
   ],
   "execution_count": 26
  },
  {
   "metadata": {
    "ExecuteTime": {
     "end_time": "2025-02-13T11:08:25.543394Z",
     "start_time": "2025-02-13T11:08:25.541027Z"
    }
   },
   "cell_type": "code",
   "source": [
    "print(text5.count(\"lol\"))\n",
    "print(100 * text5.count(\"lol\") / len(text5))"
   ],
   "id": "3898ebe4014f1449",
   "outputs": [
    {
     "name": "stdout",
     "output_type": "stream",
     "text": [
      "704\n",
      "1.5640968673628082\n"
     ]
    }
   ],
   "execution_count": 27
  },
  {
   "metadata": {
    "ExecuteTime": {
     "end_time": "2025-02-13T11:08:25.545250Z",
     "start_time": "2025-02-13T11:08:25.543826Z"
    }
   },
   "cell_type": "code",
   "source": [
    "def lexical_diversity(text):\n",
    "    return len(set(text)) / len(text)\n",
    "\n",
    "def percentage(count, total):\n",
    "    return 100 * count / total"
   ],
   "id": "7fc617510596da0e",
   "outputs": [],
   "execution_count": 28
  },
  {
   "metadata": {
    "ExecuteTime": {
     "end_time": "2025-02-13T11:08:25.568689Z",
     "start_time": "2025-02-13T11:08:25.559633Z"
    }
   },
   "cell_type": "code",
   "source": [
    "print(lexical_diversity(text3))\n",
    "print(lexical_diversity(text5))\n",
    "print(percentage(4, 5))\n",
    "print(percentage(text4.count(\"a\"), len(text4)))"
   ],
   "id": "84997d9014ce52e7",
   "outputs": [
    {
     "name": "stdout",
     "output_type": "stream",
     "text": [
      "0.06230453042623537\n",
      "0.13477005109975562\n",
      "80.0\n",
      "1.457806031353621\n"
     ]
    }
   ],
   "execution_count": 30
  },
  {
   "metadata": {},
   "cell_type": "markdown",
   "source": "2 -> A Closer Look at Python: Texts as Lists of Words",
   "id": "c91db2d5dfaaf9e9"
  },
  {
   "metadata": {},
   "cell_type": "markdown",
   "source": "2.1 -> Lists",
   "id": "55afb9447e27ba3b"
  },
  {
   "metadata": {
    "ExecuteTime": {
     "end_time": "2025-02-13T11:19:08.248942Z",
     "start_time": "2025-02-13T11:19:08.246514Z"
    }
   },
   "cell_type": "code",
   "source": [
    "sent1 = ['Call', 'me', 'Ishmael', '.']\n",
    "print(sent1)\n",
    "print(len(sent1))\n",
    "print(lexical_diversity(sent1))"
   ],
   "id": "cb751f5749485e39",
   "outputs": [
    {
     "name": "stdout",
     "output_type": "stream",
     "text": [
      "['Call', 'me', 'Ishmael', '.']\n",
      "4\n",
      "1.0\n"
     ]
    }
   ],
   "execution_count": 32
  },
  {
   "metadata": {
    "ExecuteTime": {
     "end_time": "2025-02-13T11:20:14.322163Z",
     "start_time": "2025-02-13T11:20:14.319555Z"
    }
   },
   "cell_type": "code",
   "source": [
    "print(sent2)\n",
    "print(\"----------------------------------------------------------------------------------------\")\n",
    "print(sent3)"
   ],
   "id": "f524c1f9dc00bd2f",
   "outputs": [
    {
     "name": "stdout",
     "output_type": "stream",
     "text": [
      "['The', 'family', 'of', 'Dashwood', 'had', 'long', 'been', 'settled', 'in', 'Sussex', '.']\n",
      "----------------------------------------------------------------------------------------\n",
      "['In', 'the', 'beginning', 'God', 'created', 'the', 'heaven', 'and', 'the', 'earth', '.']\n"
     ]
    }
   ],
   "execution_count": 37
  },
  {
   "metadata": {
    "ExecuteTime": {
     "end_time": "2025-02-13T11:23:11.102493Z",
     "start_time": "2025-02-13T11:23:11.099758Z"
    }
   },
   "cell_type": "code",
   "source": [
    "ex1 = [\"Monty\", \"Python\", \"and\", \"the\", \"Holy\", \"Grail\"]\n",
    "print(ex1)\n",
    "print(sorted(ex1)) # First sorts the capitalized words in order then the lower-case words\n",
    "print(len(set(ex1))) # Counts unique words (tokens)\n",
    "print(ex1.count(\"the\"))"
   ],
   "id": "1779a7c196b30644",
   "outputs": [
    {
     "name": "stdout",
     "output_type": "stream",
     "text": [
      "['Monty', 'Python', 'and', 'the', 'Holy', 'Grail']\n",
      "['Grail', 'Holy', 'Monty', 'Python', 'and', 'the']\n",
      "6\n",
      "1\n"
     ]
    }
   ],
   "execution_count": 42
  },
  {
   "metadata": {
    "ExecuteTime": {
     "end_time": "2025-02-13T11:24:08.548439Z",
     "start_time": "2025-02-13T11:24:08.544392Z"
    }
   },
   "cell_type": "code",
   "source": "[\"Monty\", \"Python\"] + [\"and\", \"the\", \"Holy\", \"Grail\"]",
   "id": "d6bfc7c1cc5427c1",
   "outputs": [
    {
     "data": {
      "text/plain": [
       "['Monty', 'Python', 'and', 'the', 'Holy', 'Grail']"
      ]
     },
     "execution_count": 43,
     "metadata": {},
     "output_type": "execute_result"
    }
   ],
   "execution_count": 43
  },
  {
   "metadata": {
    "ExecuteTime": {
     "end_time": "2025-02-13T11:24:37.421952Z",
     "start_time": "2025-02-13T11:24:37.419367Z"
    }
   },
   "cell_type": "code",
   "source": "print(sent4 + sent1)",
   "id": "b598ff9b511d5ac1",
   "outputs": [
    {
     "name": "stdout",
     "output_type": "stream",
     "text": [
      "['Fellow', '-', 'Citizens', 'of', 'the', 'Senate', 'and', 'of', 'the', 'House', 'of', 'Representatives', ':', 'Call', 'me', 'Ishmael', '.']\n"
     ]
    }
   ],
   "execution_count": 45
  },
  {
   "metadata": {
    "ExecuteTime": {
     "end_time": "2025-02-13T11:25:29.519662Z",
     "start_time": "2025-02-13T11:25:29.516892Z"
    }
   },
   "cell_type": "code",
   "source": [
    "sent1.append(\"Some\")\n",
    "print(sent1)"
   ],
   "id": "2e42a2b83b62d9ba",
   "outputs": [
    {
     "name": "stdout",
     "output_type": "stream",
     "text": [
      "['Call', 'me', 'Ishmael', '.', 'Some']\n"
     ]
    }
   ],
   "execution_count": 52
  },
  {
   "metadata": {},
   "cell_type": "markdown",
   "source": "2.2 -> Indexing Lists",
   "id": "57390418abb2450d"
  },
  {
   "metadata": {
    "ExecuteTime": {
     "end_time": "2025-02-13T11:26:43.362562Z",
     "start_time": "2025-02-13T11:26:43.359361Z"
    }
   },
   "cell_type": "code",
   "source": "text4[173]",
   "id": "a3bcb584e4a509a1",
   "outputs": [
    {
     "data": {
      "text/plain": [
       "'awaken'"
      ]
     },
     "execution_count": 53,
     "metadata": {},
     "output_type": "execute_result"
    }
   ],
   "execution_count": 53
  },
  {
   "metadata": {
    "ExecuteTime": {
     "end_time": "2025-02-13T11:26:56.112074Z",
     "start_time": "2025-02-13T11:26:56.108324Z"
    }
   },
   "cell_type": "code",
   "source": "text4.index(\"awaken\")",
   "id": "d07469f5e3658441",
   "outputs": [
    {
     "data": {
      "text/plain": [
       "173"
      ]
     },
     "execution_count": 54,
     "metadata": {},
     "output_type": "execute_result"
    }
   ],
   "execution_count": 54
  },
  {
   "metadata": {
    "ExecuteTime": {
     "end_time": "2025-02-13T11:27:35.001377Z",
     "start_time": "2025-02-13T11:27:34.999303Z"
    }
   },
   "cell_type": "code",
   "source": "print(text5[16715:16735])",
   "id": "fc1d01e6f668f9b3",
   "outputs": [
    {
     "name": "stdout",
     "output_type": "stream",
     "text": [
      "['U86', 'thats', 'why', 'something', 'like', 'gamefly', 'is', 'so', 'good', 'because', 'you', 'can', 'actually', 'play', 'a', 'full', 'game', 'without', 'buying', 'it']\n"
     ]
    }
   ],
   "execution_count": 56
  },
  {
   "metadata": {
    "ExecuteTime": {
     "end_time": "2025-02-13T11:27:59.547057Z",
     "start_time": "2025-02-13T11:27:59.544412Z"
    }
   },
   "cell_type": "code",
   "source": "print(text6[1600:1625])",
   "id": "f54513ddfe13bbea",
   "outputs": [
    {
     "name": "stdout",
     "output_type": "stream",
     "text": [
      "['We', \"'\", 're', 'an', 'anarcho', '-', 'syndicalist', 'commune', '.', 'We', 'take', 'it', 'in', 'turns', 'to', 'act', 'as', 'a', 'sort', 'of', 'executive', 'officer', 'for', 'the', 'week']\n"
     ]
    }
   ],
   "execution_count": 57
  },
  {
   "metadata": {
    "ExecuteTime": {
     "end_time": "2025-02-13T11:29:12.813457Z",
     "start_time": "2025-02-13T11:29:12.811043Z"
    }
   },
   "cell_type": "code",
   "source": [
    "sent = [\"word1\", \"word2\", \"word3\", \"word4\", \"word5\", \"word6\", \"word7\", \"word8\", \"word9\", \"word10\"]\n",
    "print(sent[0])\n",
    "print(sent[9])"
   ],
   "id": "68ed3314e10d3018",
   "outputs": [
    {
     "name": "stdout",
     "output_type": "stream",
     "text": [
      "word1\n",
      "word10\n"
     ]
    }
   ],
   "execution_count": 58
  },
  {
   "metadata": {
    "ExecuteTime": {
     "end_time": "2025-02-13T11:30:07.448490Z",
     "start_time": "2025-02-13T11:30:07.223408Z"
    }
   },
   "cell_type": "code",
   "source": "print(sent[10])",
   "id": "c3787e3aac253756",
   "outputs": [
    {
     "ename": "IndexError",
     "evalue": "list index out of range",
     "output_type": "error",
     "traceback": [
      "\u001B[0;31m---------------------------------------------------------------------------\u001B[0m",
      "\u001B[0;31mIndexError\u001B[0m                                Traceback (most recent call last)",
      "Cell \u001B[0;32mIn[59], line 1\u001B[0m\n\u001B[0;32m----> 1\u001B[0m \u001B[38;5;28mprint\u001B[39m(sent[\u001B[38;5;241m10\u001B[39m])\n",
      "\u001B[0;31mIndexError\u001B[0m: list index out of range"
     ]
    }
   ],
   "execution_count": 59
  },
  {
   "metadata": {
    "ExecuteTime": {
     "end_time": "2025-02-13T11:31:03.762105Z",
     "start_time": "2025-02-13T11:31:03.759260Z"
    }
   },
   "cell_type": "code",
   "source": [
    "print(sent[5:8]) # list[inclusive:exclusive]\n",
    "print(sent[5])\n",
    "print(sent[6])\n",
    "print(sent[7])"
   ],
   "id": "ed16433ff5dc2d65",
   "outputs": [
    {
     "name": "stdout",
     "output_type": "stream",
     "text": [
      "['word6', 'word7', 'word8']\n",
      "word6\n",
      "word7\n",
      "word8\n"
     ]
    }
   ],
   "execution_count": 62
  },
  {
   "metadata": {},
   "cell_type": "code",
   "outputs": [],
   "execution_count": null,
   "source": "",
   "id": "82a70aa41d49228"
  }
 ],
 "metadata": {
  "kernelspec": {
   "display_name": "Python 3",
   "language": "python",
   "name": "python3"
  },
  "language_info": {
   "codemirror_mode": {
    "name": "ipython",
    "version": 2
   },
   "file_extension": ".py",
   "mimetype": "text/x-python",
   "name": "python",
   "nbconvert_exporter": "python",
   "pygments_lexer": "ipython2",
   "version": "2.7.6"
  }
 },
 "nbformat": 4,
 "nbformat_minor": 5
}
